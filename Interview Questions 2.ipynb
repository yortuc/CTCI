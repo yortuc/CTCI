{
 "cells": [
  {
   "cell_type": "code",
   "execution_count": 1,
   "metadata": {},
   "outputs": [],
   "source": [
    "# Best Time to Buy and Sell Stock\n",
    "# Input: [7,1,5,3,6,4]\n",
    "# Output: 5\n",
    "# Explanation: Buy on day 2 (price = 1) and sell on day 5 (price = 6), profit = 6-1 = 5.\n",
    "# \n",
    "# 1. two fingers all i,j combinations -> n2, j>i \n",
    "# 2. One pass. keep min item, check each item "
   ]
  },
  {
   "cell_type": "code",
   "execution_count": 4,
   "metadata": {},
   "outputs": [],
   "source": [
    "def btbs(arr):\n",
    "    n = len(arr)\n",
    "    min_itm = float('Inf')\n",
    "    max_profit = 0\n",
    "    \n",
    "    for i in range(n):\n",
    "        if arr[i] < min_itm:\n",
    "            min_itm = arr[i]\n",
    "        elif arr[i] - min_itm > max_profit:\n",
    "            max_profit = arr[i] - min_itm\n",
    "    return max_profit"
   ]
  },
  {
   "cell_type": "code",
   "execution_count": 5,
   "metadata": {},
   "outputs": [
    {
     "data": {
      "text/plain": [
       "5"
      ]
     },
     "execution_count": 5,
     "metadata": {},
     "output_type": "execute_result"
    }
   ],
   "source": [
    "btbs([7,1,5,3,6,4])"
   ]
  },
  {
   "cell_type": "code",
   "execution_count": 6,
   "metadata": {},
   "outputs": [],
   "source": [
    "# Coin change\n",
    "# use fewest number of coins\n",
    "# coins = [1,2,5], amount=11,  11 = 5 + 5 + 1\n",
    "# \n",
    "# P(s) = P(s-coin) + 1\n",
    "# P(11) = P(6) + 1 = P(5) + 2 = P(0) + 3 => 3"
   ]
  },
  {
   "cell_type": "code",
   "execution_count": 34,
   "metadata": {},
   "outputs": [],
   "source": [
    "def coin_change(coins, s, steps):\n",
    "    if s == 0:\n",
    "        return steps\n",
    "    for i in range(len(coins)):\n",
    "        if s >= coins[i]:\n",
    "            return coin_change(coins, s-coins[i], steps+1)\n",
    "    return -1\n",
    "    \n",
    "def get_cc(coins, s):\n",
    "    coins_s = sorted(coins, reverse=True)\n",
    "    return coin_change(coins_s, s, 0)"
   ]
  },
  {
   "cell_type": "code",
   "execution_count": 35,
   "metadata": {},
   "outputs": [
    {
     "data": {
      "text/plain": [
       "3"
      ]
     },
     "execution_count": 35,
     "metadata": {},
     "output_type": "execute_result"
    }
   ],
   "source": [
    "get_cc([1,2,5], 11)"
   ]
  },
  {
   "cell_type": "code",
   "execution_count": 36,
   "metadata": {},
   "outputs": [
    {
     "data": {
      "text/plain": [
       "-1"
      ]
     },
     "execution_count": 36,
     "metadata": {},
     "output_type": "execute_result"
    }
   ],
   "source": [
    "get_cc([2], 3)"
   ]
  },
  {
   "cell_type": "code",
   "execution_count": 37,
   "metadata": {},
   "outputs": [
    {
     "data": {
      "text/plain": [
       "1"
      ]
     },
     "execution_count": 37,
     "metadata": {},
     "output_type": "execute_result"
    }
   ],
   "source": [
    "get_cc([1], 1)"
   ]
  },
  {
   "cell_type": "code",
   "execution_count": 38,
   "metadata": {},
   "outputs": [
    {
     "data": {
      "text/plain": [
       "-1"
      ]
     },
     "execution_count": 38,
     "metadata": {},
     "output_type": "execute_result"
    }
   ],
   "source": [
    "get_cc([186,419,83,408], 6249)"
   ]
  },
  {
   "cell_type": "code",
   "execution_count": 39,
   "metadata": {},
   "outputs": [
    {
     "data": {
      "text/plain": [
       "[419, 408, 186, 83]"
      ]
     },
     "execution_count": 39,
     "metadata": {},
     "output_type": "execute_result"
    }
   ],
   "source": [
    "sorted([186,419,83,408], reverse=True)"
   ]
  },
  {
   "cell_type": "code",
   "execution_count": 70,
   "metadata": {},
   "outputs": [],
   "source": [
    "from collections import deque\n",
    "\n",
    "class MovingAverage:\n",
    "    def __init__(self, size):\n",
    "        self.size = size\n",
    "        self.q = deque()\n",
    "        self.last_avg = float(0.0)\n",
    "        \n",
    "    def next(self, val: int) -> float:\n",
    "        prev_length = len(self.q)\n",
    "        \n",
    "        if len(self.q) == self.size:\n",
    "            itm = self.q.popleft()\n",
    "        else:\n",
    "            itm = 0\n",
    "        \n",
    "        self.q.append(val)\n",
    "        cur_length = len(self.q)\n",
    "        self.last_avg = ((self.last_avg * prev_length) - itm + val) / cur_length\n",
    "        return self.last_avg"
   ]
  },
  {
   "cell_type": "code",
   "execution_count": 71,
   "metadata": {},
   "outputs": [
    {
     "data": {
      "text/plain": [
       "6.0"
      ]
     },
     "execution_count": 71,
     "metadata": {},
     "output_type": "execute_result"
    }
   ],
   "source": [
    "m = MovingAverage(3)\n",
    "m.next(1) #= 1\n",
    "m.next(10) #= (1 + 10) / 2\n",
    "m.next(3) #= (1 + 10 + 3) / 3\n",
    "m.next(5) #= (10 + 3 + 5) / 3"
   ]
  },
  {
   "cell_type": "code",
   "execution_count": 48,
   "metadata": {},
   "outputs": [],
   "source": [
    "from typing import List\n",
    "\n",
    "def longestLine(M: List[List[int]]) -> int:\n",
    "    memo = {0: set(), 1: set(), 2: set(), 3:set()} # memo by directions\n",
    "    max_count = 0\n",
    "\n",
    "    # direction 0 right, 1 right-down, 2-down, 3 left-down\n",
    "    def get_neighbors(j, i, d):\n",
    "        def get(y,x):\n",
    "            if 0<=x<len(M[0]) and 0<=y<len(M) and M[y][x] == 1 and (y,x) not in memo[d]:\n",
    "                return (y, x)\n",
    "            else:\n",
    "                return None\n",
    "        ret = [(j, i+1), (j+1, i+1), (j+1, i), (j+1, i-1)]\n",
    "        j, i = ret[d]\n",
    "        return get(j, i)\n",
    "\n",
    "    def dfs(j, i, d, count):\n",
    "        nonlocal max_count\n",
    "        neighbor = get_neighbors(j, i, d)\n",
    "        if neighbor is None:\n",
    "            max_count = max(count, max_count)\n",
    "        else:\n",
    "            memo[d].add(neighbor)\n",
    "            n_j, n_i = neighbor\n",
    "            dfs(n_j, n_i, d, count+1)\n",
    "\n",
    "    # iterate over matrix\n",
    "    for j in range(len(M)):\n",
    "        for i in range(len(M[0])):\n",
    "            if M[j][i] == 1:\n",
    "                # try 3 directions\n",
    "                dfs(j, i, 0, 1)\n",
    "                dfs(j, i, 1, 1)\n",
    "                dfs(j, i, 2, 1)\n",
    "                dfs(j, i, 3, 1)\n",
    "    return max_count"
   ]
  },
  {
   "cell_type": "code",
   "execution_count": 49,
   "metadata": {},
   "outputs": [
    {
     "data": {
      "text/plain": [
       "4"
      ]
     },
     "execution_count": 49,
     "metadata": {},
     "output_type": "execute_result"
    }
   ],
   "source": [
    "longestLine([[0,1,1,0],\n",
    "             [0,1,1,0],\n",
    "             [0,0,0,1],\n",
    "             [0,0,0,1],\n",
    "             [0,0,0,1],\n",
    "             [0,0,0,1]])"
   ]
  },
  {
   "cell_type": "code",
   "execution_count": 50,
   "metadata": {},
   "outputs": [
    {
     "data": {
      "text/plain": [
       "9"
      ]
     },
     "execution_count": 50,
     "metadata": {},
     "output_type": "execute_result"
    }
   ],
   "source": [
    "rr = [\n",
    "    [1,1,0,0,1,0,0,1,1,0],\n",
    "    [1,0,0,1,0,1,1,1,1,1],\n",
    "    [1,1,1,0,0,1,1,1,1,0],\n",
    "    [0,1,1,1,0,1,1,1,1,1],\n",
    "    [0,0,1,1,1,1,1,1,1,0],\n",
    "    [1,1,1,1,1,1,0,1,1,1],\n",
    "    [0,1,1,1,1,1,1,0,0,1],\n",
    "    [1,1,1,1,1,0,0,1,1,1],\n",
    "    [0,1,0,1,1,0,1,1,1,1],\n",
    "    [1,1,1,0,1,0,1,1,1,1]\n",
    "]\n",
    "longestLine(rr)"
   ]
  },
  {
   "cell_type": "code",
   "execution_count": 108,
   "metadata": {},
   "outputs": [],
   "source": [
    "# Given inclusive range, sorted array, return missing ranges\n",
    "# Input: nums = c, lower = 0 and upper = 99,\n",
    "# Output: [\"2\", \"4->49\", \"51->74\", \"76->99\"]\n",
    "    \n",
    "def findMissingRanges(nums, lower, upper):\n",
    "    ret = []\n",
    "    \n",
    "    if len(nums) == 0:\n",
    "        if upper - lower > 1:\n",
    "            ret.append(f'{lower}->{upper}')\n",
    "        else:\n",
    "            ret.append(str(lower))\n",
    "        return ret\n",
    "    \n",
    "    # beginning\n",
    "    if nums[0] != lower:\n",
    "        if nums[0] - lower == 1:\n",
    "            ret.append(str(lower))\n",
    "        else:\n",
    "            ret.append(f'{lower}->{nums[0]-1}')\n",
    "    \n",
    "    for i in range(1, len(nums)): \n",
    "        diff = nums[i] - nums[i-1]\n",
    "        if diff == 1:\n",
    "            continue\n",
    "        elif diff == 2:\n",
    "            ret.append(str(nums[i-1]+1))\n",
    "        elif diff > 2:\n",
    "            ret.append(f'{nums[i-1]+1}->{nums[i]-1}')\n",
    "\n",
    "    # end\n",
    "    if nums[-1] != upper:\n",
    "        if nums[-1] - upper == 1:\n",
    "            ret.append(str(upper))\n",
    "        else:\n",
    "            ret.append(f'{nums[-1]+1}->{upper}')\n",
    "            \n",
    "    return ret"
   ]
  },
  {
   "cell_type": "code",
   "execution_count": 109,
   "metadata": {},
   "outputs": [
    {
     "data": {
      "text/plain": [
       "['2', '4->49', '51->74', '76->99']"
      ]
     },
     "execution_count": 109,
     "metadata": {},
     "output_type": "execute_result"
    }
   ],
   "source": [
    "findMissingRanges([0, 1, 3, 50, 75], 0, 99)"
   ]
  },
  {
   "cell_type": "code",
   "execution_count": 110,
   "metadata": {},
   "outputs": [
    {
     "data": {
      "text/plain": [
       "['1']"
      ]
     },
     "execution_count": 110,
     "metadata": {},
     "output_type": "execute_result"
    }
   ],
   "source": [
    "findMissingRanges([], 1, 1)"
   ]
  },
  {
   "cell_type": "code",
   "execution_count": null,
   "metadata": {},
   "outputs": [],
   "source": []
  }
 ],
 "metadata": {
  "kernelspec": {
   "display_name": "Python 3",
   "language": "python",
   "name": "python3"
  },
  "language_info": {
   "codemirror_mode": {
    "name": "ipython",
    "version": 3
   },
   "file_extension": ".py",
   "mimetype": "text/x-python",
   "name": "python",
   "nbconvert_exporter": "python",
   "pygments_lexer": "ipython3",
   "version": "3.7.2"
  }
 },
 "nbformat": 4,
 "nbformat_minor": 2
}
