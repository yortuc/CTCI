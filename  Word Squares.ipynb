{
 "cells": [
  {
   "cell_type": "markdown",
   "metadata": {},
   "source": [
    "Given a set of words (without duplicates), find all word squares you can build from them.\n",
    "\n",
    "A sequence of words forms a valid word square if the kth row and column read the exact same string, where 0 ≤ k < max(numRows, numColumns).\n",
    "\n",
    "For example, the word sequence `[\"area\",\"lead\",\"wall\",\"lady\",\"ball\"]` forms a word square because each word reads the same both horizontally and vertically.\n",
    "\n",
    "```\n",
    "b a l l\n",
    "a r e a\n",
    "l e a d\n",
    "l a d y\n",
    "```"
   ]
  },
  {
   "cell_type": "code",
   "execution_count": 64,
   "metadata": {},
   "outputs": [],
   "source": [
    "# set of words\n",
    "#    lady, ball, lead, area\n",
    "# \n",
    "# naive approach:\n",
    "#    find permutations of these words (a,b,c,d), (a,c,b,d) ...\n",
    "#    check each one if it's a square word\n",
    "# \n",
    "\n",
    "from collections import deque\n",
    "\n",
    "def perm(arr):\n",
    "    if len(arr) == 1:\n",
    "        return [arr[0]]\n",
    "    elif len(arr) == 2:\n",
    "        return [[arr[0], arr[1]], [arr[1], arr[0]]]\n",
    "    \n",
    "    ret=[]\n",
    "    first_elm = arr[0]\n",
    "    for k in perm(arr[1:]):\n",
    "        for t in range(len(k)+1):\n",
    "            ret.append(k[:t] + [first_elm] + k[t:])\n",
    "    return ret"
   ]
  },
  {
   "cell_type": "code",
   "execution_count": 96,
   "metadata": {},
   "outputs": [],
   "source": [
    "def perm_n(arr, n):\n",
    "    perms = perm(arr)\n",
    "    ret=[]\n",
    "    for p in perms:\n",
    "        ret.append(p[0:n])\n",
    "    return ret"
   ]
  },
  {
   "cell_type": "code",
   "execution_count": 97,
   "metadata": {},
   "outputs": [
    {
     "data": {
      "text/plain": [
       "[['a', 'b'], ['b', 'a'], ['b', 'c'], ['a', 'c'], ['c', 'a'], ['c', 'b']]"
      ]
     },
     "execution_count": 97,
     "metadata": {},
     "output_type": "execute_result"
    }
   ],
   "source": [
    "# 1-> a, b, c\n",
    "# 2-> b, c\n",
    "\n",
    "perm_n(['a', 'b', 'c'],2)"
   ]
  },
  {
   "cell_type": "code",
   "execution_count": 110,
   "metadata": {},
   "outputs": [],
   "source": [
    "# [\n",
    "#  [a,b,c]\n",
    "#  [b,x,y]\n",
    "#  [c,y,z]\n",
    "# ]\n",
    "#    for all i,j -> arr[j][i] == arr[i][j]\n",
    "# \n",
    "def is_square(arr):\n",
    "    if len(arr) != len(arr[0]):\n",
    "        return False\n",
    "    for j in range(len(arr)):\n",
    "        for i in range(len(arr[0])):\n",
    "            if arr[j][i] != arr[i][j]:\n",
    "                return False\n",
    "    return True"
   ]
  },
  {
   "cell_type": "code",
   "execution_count": 117,
   "metadata": {},
   "outputs": [],
   "source": [
    "def get_square_words(arr):\n",
    "    ret=[]\n",
    "    w_len = len(arr[0])\n",
    "    perms=perm_n(arr,w_len)\n",
    "    print(perms)\n",
    "    \n",
    "    for p in perms:\n",
    "        if is_square(p):\n",
    "            ret.append(p)\n",
    "    return ret"
   ]
  },
  {
   "cell_type": "code",
   "execution_count": 113,
   "metadata": {},
   "outputs": [
    {
     "data": {
      "text/plain": [
       "[['ball', 'area', 'lead', 'lady']]"
      ]
     },
     "execution_count": 113,
     "metadata": {},
     "output_type": "execute_result"
    }
   ],
   "source": [
    "get_square_words([\"ball\",\"area\",\"lead\",\"lady\"])"
   ]
  },
  {
   "cell_type": "code",
   "execution_count": 114,
   "metadata": {},
   "outputs": [
    {
     "data": {
      "text/plain": [
       "[['wall', 'area', 'lead', 'lady'], ['ball', 'area', 'lead', 'lady']]"
      ]
     },
     "execution_count": 114,
     "metadata": {},
     "output_type": "execute_result"
    }
   ],
   "source": [
    "get_square_words([\"area\",\"lead\",\"wall\",\"lady\",\"ball\"])"
   ]
  },
  {
   "cell_type": "code",
   "execution_count": 115,
   "metadata": {},
   "outputs": [
    {
     "data": {
      "text/plain": [
       "[]"
      ]
     },
     "execution_count": 115,
     "metadata": {},
     "output_type": "execute_result"
    }
   ],
   "source": [
    "get_square_words([\"baba\",\"abab\"])"
   ]
  },
  {
   "cell_type": "code",
   "execution_count": 118,
   "metadata": {},
   "outputs": [
    {
     "name": "stdout",
     "output_type": "stream",
     "text": [
      "[['abat', 'baba', 'atan', 'atal'], ['baba', 'abat', 'atan', 'atal'], ['baba', 'atan', 'abat', 'atal'], ['baba', 'atan', 'atal', 'abat'], ['abat', 'atan', 'baba', 'atal'], ['atan', 'abat', 'baba', 'atal'], ['atan', 'baba', 'abat', 'atal'], ['atan', 'baba', 'atal', 'abat'], ['abat', 'atan', 'atal', 'baba'], ['atan', 'abat', 'atal', 'baba'], ['atan', 'atal', 'abat', 'baba'], ['atan', 'atal', 'baba', 'abat'], ['abat', 'baba', 'atal', 'atan'], ['baba', 'abat', 'atal', 'atan'], ['baba', 'atal', 'abat', 'atan'], ['baba', 'atal', 'atan', 'abat'], ['abat', 'atal', 'baba', 'atan'], ['atal', 'abat', 'baba', 'atan'], ['atal', 'baba', 'abat', 'atan'], ['atal', 'baba', 'atan', 'abat'], ['abat', 'atal', 'atan', 'baba'], ['atal', 'abat', 'atan', 'baba'], ['atal', 'atan', 'abat', 'baba'], ['atal', 'atan', 'baba', 'abat']]\n"
     ]
    },
    {
     "data": {
      "text/plain": [
       "[]"
      ]
     },
     "execution_count": 118,
     "metadata": {},
     "output_type": "execute_result"
    }
   ],
   "source": [
    "get_square_words([\"abat\",\"baba\",\"atan\",\"atal\"])"
   ]
  },
  {
   "cell_type": "code",
   "execution_count": 119,
   "metadata": {},
   "outputs": [],
   "source": [
    "## It turned out that I can use the same word multiple times.\n",
    "#  so, trying permutations does not solve the problem."
   ]
  },
  {
   "cell_type": "code",
   "execution_count": null,
   "metadata": {},
   "outputs": [],
   "source": [
    "def get_s(arr):\n",
    "    "
   ]
  }
 ],
 "metadata": {
  "kernelspec": {
   "display_name": "Python 3",
   "language": "python",
   "name": "python3"
  },
  "language_info": {
   "codemirror_mode": {
    "name": "ipython",
    "version": 3
   },
   "file_extension": ".py",
   "mimetype": "text/x-python",
   "name": "python",
   "nbconvert_exporter": "python",
   "pygments_lexer": "ipython3",
   "version": "3.7.2"
  }
 },
 "nbformat": 4,
 "nbformat_minor": 2
}
