{
 "cells": [
  {
   "cell_type": "markdown",
   "metadata": {},
   "source": [
    "Input: nums is [1, 1, 1, 1, 1], S is 3. \n",
    "Output: 5\n",
    "Explanation: \n",
    "    \n",
    "```\n",
    "-1+1+1+1+1 = 3\n",
    "+1-1+1+1+1 = 3\n",
    "+1+1-1+1+1 = 3\n",
    "+1+1+1-1+1 = 3\n",
    "+1+1+1+1-1 = 3\n",
    "```\n",
    "\n",
    "There are 5 ways to assign symbols to make the sum of nums be target 3."
   ]
  },
  {
   "cell_type": "code",
   "execution_count": 202,
   "metadata": {},
   "outputs": [],
   "source": [
    "# start from arr[0]\n",
    "# each step branch out + and - for arr[index]\n",
    "# if index == len(arr)-1  \n",
    "#    if sum is target, return true\n",
    "#    else return false\n",
    "\n",
    "from collections import namedtuple\n",
    "\n",
    "def get_sum(arr, index, target, memo):\n",
    "    if index == len(arr): # we are at the end\n",
    "        return 1 if target == 0 else 0\n",
    "\n",
    "    key = f'{index},{target}'\n",
    "    if key not in memo:\n",
    "        pos = get_sum(arr, index+1, target-arr[index], memo)\n",
    "        neg = get_sum(arr, index+1, target+arr[index], memo)\n",
    "        memo[key] = pos + neg\n",
    "\n",
    "    return memo[key]"
   ]
  },
  {
   "cell_type": "code",
   "execution_count": 205,
   "metadata": {},
   "outputs": [
    {
     "data": {
      "text/plain": [
       "5"
      ]
     },
     "execution_count": 205,
     "metadata": {},
     "output_type": "execute_result"
    }
   ],
   "source": [
    "get_sum([1,1,1,1,1], 0, 3, {})"
   ]
  },
  {
   "cell_type": "code",
   "execution_count": 207,
   "metadata": {},
   "outputs": [
    {
     "data": {
      "text/plain": [
       "0"
      ]
     },
     "execution_count": 207,
     "metadata": {},
     "output_type": "execute_result"
    }
   ],
   "source": [
    "get_sum([27,22,39,22,40,32,44,45,46,8,8,21,27,8,11,29,16,15,41,0],0, 10, {})"
   ]
  }
 ],
 "metadata": {
  "kernelspec": {
   "display_name": "Python 3",
   "language": "python",
   "name": "python3"
  },
  "language_info": {
   "codemirror_mode": {
    "name": "ipython",
    "version": 3
   },
   "file_extension": ".py",
   "mimetype": "text/x-python",
   "name": "python",
   "nbconvert_exporter": "python",
   "pygments_lexer": "ipython3",
   "version": "3.7.2"
  }
 },
 "nbformat": 4,
 "nbformat_minor": 2
}
