{
 "cells": [
  {
   "cell_type": "code",
   "execution_count": 1,
   "metadata": {},
   "outputs": [],
   "source": [
    "# 1. Divide and Conquer\n",
    "# 2. Backtracking\n",
    "# 3. master theorem"
   ]
  },
  {
   "cell_type": "code",
   "execution_count": 23,
   "metadata": {},
   "outputs": [],
   "source": [
    "# implement merge-sort \n",
    "# divide given list into smaller lists\n",
    "# sort each small list\n",
    "# combine sorted small lists\n",
    "# \n",
    "\n",
    "def merge_sort(lst):\n",
    "    if len(lst) <= 1:\n",
    "        return lst\n",
    "    \n",
    "    if len(lst) == 2: # base case (I invented this :D)\n",
    "        if lst[0] < lst[1]:\n",
    "            return lst\n",
    "        else:\n",
    "            return [lst[1], lst[0]]\n",
    "\n",
    "    mid_index = len(lst)//2\n",
    "    left = merge_sort(lst[:mid_index])\n",
    "    right = merge_sort(lst[mid_index:])\n",
    "    \n",
    "    # merge two sorted lists\n",
    "    i=0\n",
    "    j=0\n",
    "    ret = []\n",
    "    while i<len(left) and j<len(right):\n",
    "        if left[i] < right[j]:\n",
    "            ret.append(left[i])\n",
    "            i = i+1\n",
    "        else:\n",
    "            ret.append(right[j])\n",
    "            j = j+1\n",
    "    \n",
    "    ret = ret + left[i:]\n",
    "    ret = ret + right[j:]\n",
    "    return ret"
   ]
  },
  {
   "cell_type": "code",
   "execution_count": 24,
   "metadata": {},
   "outputs": [
    {
     "data": {
      "text/plain": [
       "[3, 4, 4, 7, 9, 22]"
      ]
     },
     "execution_count": 24,
     "metadata": {},
     "output_type": "execute_result"
    }
   ],
   "source": [
    "merge_sort([4,7,3,9,22,4])"
   ]
  },
  {
   "cell_type": "code",
   "execution_count": 35,
   "metadata": {},
   "outputs": [],
   "source": [
    "# bottom-up merge sort\n",
    "# \n",
    "# divide given list into 1-element lists (they are already sorted)\n",
    "# merge in pairs until only one sub-list remain\n",
    "# return the sublist\n",
    "# \n",
    "\n",
    "def merge_in_pairs(lists):\n",
    "    if len(lists) == 1: # lists = [[1], [2], [3], [4], [5]]\n",
    "        return lists[0]\n",
    "    \n",
    "    # merge first two lists\n",
    "    i=j=0\n",
    "    r1 = lists[0]\n",
    "    r2 = lists[1]\n",
    "    merged = []\n",
    "    while i<len(r1) and j<len(r2):\n",
    "        if r1[i] < r2[j]:\n",
    "            merged.append(r1[i])\n",
    "            i=i+1\n",
    "        else:\n",
    "            merged.append(r2[j])\n",
    "            j=j+1\n",
    "    merged = merged + r1[i:]\n",
    "    merged = merged + r2[j:]\n",
    "    lists.append(merged)\n",
    "    \n",
    "    return merge_in_pairs(lists[2:])\n",
    "    \n",
    "def merge_sort_bu(lst):\n",
    "    lists = [[i] for i in lst]\n",
    "    return merge_in_pairs(lists)"
   ]
  },
  {
   "cell_type": "code",
   "execution_count": 36,
   "metadata": {},
   "outputs": [
    {
     "data": {
      "text/plain": [
       "[1, 3, 5, 5, 8, 9, 45]"
      ]
     },
     "execution_count": 36,
     "metadata": {},
     "output_type": "execute_result"
    }
   ],
   "source": [
    "merge_sort_bu([5,3,8,1,9,45,5])"
   ]
  },
  {
   "cell_type": "code",
   "execution_count": 37,
   "metadata": {},
   "outputs": [],
   "source": [
    "# Validate binary search tree\n",
    "# - The left subtree of a node contains only nodes with keys less than the node's key.\n",
    "# - The right subtree of a node contains only nodes with keys greater than the node's key.\n",
    "# - Both the left and right subtrees must also be binary search trees.\n",
    "\n"
   ]
  },
  {
   "cell_type": "code",
   "execution_count": 12,
   "metadata": {},
   "outputs": [],
   "source": [
    "class Node:\n",
    "    def __init__(self, val, left=None, right=None):\n",
    "        self.val = val\n",
    "        self.left = left\n",
    "        self.right = right"
   ]
  },
  {
   "cell_type": "code",
   "execution_count": 97,
   "metadata": {},
   "outputs": [],
   "source": [
    "def is_valid_bt(root, lower=float('-inf'), upper=float('inf')):\n",
    "    if root is None:\n",
    "        return True\n",
    "    \n",
    "    val = root.val\n",
    "    if val <= upper or val >= upper:\n",
    "        return False\n",
    "    \n",
    "    return is_valid_bt(root.left, lower, val) and is_valid_bt(root.right, val, upper)"
   ]
  },
  {
   "cell_type": "code",
   "execution_count": 98,
   "metadata": {},
   "outputs": [],
   "source": [
    "root_false = Node(5, \n",
    "                  Node(1),\n",
    "                  Node(4,\n",
    "                      Node(3),\n",
    "                      Node(6)))"
   ]
  },
  {
   "cell_type": "code",
   "execution_count": 99,
   "metadata": {},
   "outputs": [
    {
     "data": {
      "text/plain": [
       "False"
      ]
     },
     "execution_count": 99,
     "metadata": {},
     "output_type": "execute_result"
    }
   ],
   "source": [
    "is_valid_bt(root_false)"
   ]
  },
  {
   "cell_type": "code",
   "execution_count": 100,
   "metadata": {},
   "outputs": [
    {
     "data": {
      "text/plain": [
       "False"
      ]
     },
     "execution_count": 100,
     "metadata": {},
     "output_type": "execute_result"
    }
   ],
   "source": [
    "is_valid_bt(Node(2, \n",
    "                 Node(1),\n",
    "                 Node(3)))"
   ]
  },
  {
   "cell_type": "code",
   "execution_count": 101,
   "metadata": {},
   "outputs": [],
   "source": [
    "# this fails [10,5,15,null,null,6,20] is False\n",
    "# [10,5,15,null,null,6,20]\n",
    "root_w = Node(10,\n",
    "             Node(5),\n",
    "             Node(15,\n",
    "                 Node(6),\n",
    "                 Node(20)))"
   ]
  },
  {
   "cell_type": "code",
   "execution_count": 102,
   "metadata": {},
   "outputs": [
    {
     "data": {
      "text/plain": [
       "False"
      ]
     },
     "execution_count": 102,
     "metadata": {},
     "output_type": "execute_result"
    }
   ],
   "source": [
    "is_valid_bt(root_w)"
   ]
  },
  {
   "cell_type": "code",
   "execution_count": 194,
   "metadata": {},
   "outputs": [],
   "source": [
    "#  Search a 2D Matrix II\n",
    "#  select a pivot 0<p<len \n",
    "\n",
    "arr = [[1,   4,  7, 11, 15],\n",
    "       [2,   5,  8, 12, 19],\n",
    "       [3,   6,  9, 16, 22],\n",
    "       [10, 13, 14, 17, 24],\n",
    "       [18, 21, 23, 26, 30]]\n",
    "\n",
    "def find_2d(arr, target):\n",
    "    if len(arr) == 0:\n",
    "        return False\n",
    "    if len(arr[0]) == 0:\n",
    "        return False\n",
    "    \n",
    "    if len(arr) == 1 and len(arr[0]) == 1:\n",
    "        return arr[0][0] == target\n",
    "    else:\n",
    "        i = len(arr[0])//2\n",
    "        j = len(arr)//2\n",
    "    \n",
    "        row1 = arr[:j]\n",
    "        row2 = arr[j:]\n",
    "\n",
    "        part1 = [r[:i] for r in row1] # constructing new lists every call, too much call stack usage\n",
    "        part2 = [r[i:] for r in row1] # can be carried only indexes?\n",
    "        part3 = [r[:i] for r in row2]\n",
    "        part4 = [r[i:] for r in row2]\n",
    "\n",
    "        return find_2d(part1, target) or find_2d(part2, target) or find_2d(part3, target) or find_2d(part4, target)"
   ]
  },
  {
   "cell_type": "code",
   "execution_count": 195,
   "metadata": {},
   "outputs": [
    {
     "data": {
      "text/plain": [
       "False"
      ]
     },
     "execution_count": 195,
     "metadata": {},
     "output_type": "execute_result"
    }
   ],
   "source": [
    "arr = [[1,   4,  7, 11, 15],\n",
    "       [2,   5,  8, 12, 19],\n",
    "       [3,   6,  9, 16, 22],\n",
    "       [10, 13, 14, 17, 24],\n",
    "       [18, 21, 23, 26, 30]]\n",
    "\n",
    "find_2d(arr, 45)"
   ]
  },
  {
   "cell_type": "code",
   "execution_count": 193,
   "metadata": {},
   "outputs": [
    {
     "data": {
      "text/plain": [
       "True"
      ]
     },
     "execution_count": 193,
     "metadata": {},
     "output_type": "execute_result"
    }
   ],
   "source": [
    "find_2d(arr, 13)"
   ]
  },
  {
   "cell_type": "code",
   "execution_count": 243,
   "metadata": {},
   "outputs": [],
   "source": [
    "# Implement quick sort\n",
    "    \n",
    "def quick_sort(lst):\n",
    "    if len(lst) <= 1:\n",
    "        return lst\n",
    "    \n",
    "    # take the middle item in the list as pivot\n",
    "    pivot_index = len(lst)//2\n",
    "    pivot = lst[pivot_index]\n",
    "    left = [t for t in lst[:pi] + lst[pivot_index+1:] if t<pivot]\n",
    "    right = [t for t in lst[:pi] + lst[pivot_index+1:] if t>=pivot]\n",
    "        \n",
    "    return quick_sort(left) + [pivot] + quick_sort(right)"
   ]
  },
  {
   "cell_type": "code",
   "execution_count": 244,
   "metadata": {},
   "outputs": [
    {
     "data": {
      "text/plain": [
       "[1, 2, 3, 9, 12]"
      ]
     },
     "execution_count": 244,
     "metadata": {},
     "output_type": "execute_result"
    }
   ],
   "source": [
    "quick_sort([1,5,7,3,2,12,9])"
   ]
  },
  {
   "cell_type": "code",
   "execution_count": 296,
   "metadata": {},
   "outputs": [],
   "source": [
    "# solve n-queens problem\n",
    "# example: Input = 4 Output = 2 \n",
    "#  \n",
    "\n",
    "def is_under_attack(j, i, queens, n):\n",
    "    # check if the location (j, i) is under attack of any queen\n",
    "    for qj, qi in queens:\n",
    "        if qj == j or qi == i:    # same row or col\n",
    "            return True\n",
    "        for x in range(n):\n",
    "            if qj-x == j and qi-x == i:  # top-left\n",
    "                return True\n",
    "            if qj-x == j and qi+x == i:  # top-right\n",
    "                return True\n",
    "            if qj+x == j and qi-x == i:  # bottom left\n",
    "                return True\n",
    "            if qj+x == j and qi+x == i:  # bottom-right\n",
    "                return True\n",
    "    return False"
   ]
  },
  {
   "cell_type": "code",
   "execution_count": 324,
   "metadata": {},
   "outputs": [],
   "source": [
    "def place_queen(j, i, queens):\n",
    "    queens.append((j,i))\n",
    "    \n",
    "def remove_queen(j, i, queens):\n",
    "    return queens.remove((j,i))"
   ]
  },
  {
   "cell_type": "code",
   "execution_count": 328,
   "metadata": {},
   "outputs": [],
   "source": [
    "def nqueen(queens, row, n, count):\n",
    "    for col in range(n):\n",
    "        # place is under attack\n",
    "        if not is_under_attack(row, col, queens, n): \n",
    "            place_queen(row, col, queens)\n",
    "\n",
    "            if row+1 == n:\n",
    "                count = count + 1\n",
    "            else:\n",
    "                # continue\n",
    "                count = nqueen(queens, row+1, n, count)\n",
    "                \n",
    "            # backtrack, remove the queen\n",
    "            remove_queen(row, col, queens)\n",
    "    return count"
   ]
  },
  {
   "cell_type": "code",
   "execution_count": 329,
   "metadata": {},
   "outputs": [
    {
     "data": {
      "text/plain": [
       "2"
      ]
     },
     "execution_count": 329,
     "metadata": {},
     "output_type": "execute_result"
    }
   ],
   "source": [
    "nqueen([], 0, 4, 0)"
   ]
  },
  {
   "cell_type": "code",
   "execution_count": 415,
   "metadata": {},
   "outputs": [],
   "source": [
    "# robot room cleaner\n",
    "\n",
    "class Robot:\n",
    "    def __init__(self, room, pos):\n",
    "        self.room = room\n",
    "        self.heading = (0, -1)\n",
    "        self.pos = (0, 0)\n",
    "        \n",
    "    def move(self):\n",
    "        \"\"\"\n",
    "        Returns true if the cell in front is open and robot moves into the cell.\n",
    "        Returns false if the cell in front is blocked and robot stays in the current cell.\n",
    "        :rtype bool\n",
    "        \"\"\"\n",
    "        i, j = self.pos\n",
    "        if self.heading[0] == 1:\n",
    "            if i<len(self.room[0])-1 and self.room[j][i+1] == 1:\n",
    "                self.pos = (self.heading[0] + i, self.heading[1] + j)\n",
    "                return True\n",
    "            else:\n",
    "                return False\n",
    "        if self.heading[0] == -1:\n",
    "            if i>0 and self.room[j][i-1] == 1:\n",
    "                self.pos = (self.heading[0] + i, self.heading[1] + j)\n",
    "                return True\n",
    "            else:\n",
    "                return False\n",
    "        if self.heading[1] == 1:\n",
    "            if j<len(self.room)-1 and self.room[j+1][i] == 1:\n",
    "                self.pos = (self.heading[0] + i, self.heading[1] + j)\n",
    "                return True\n",
    "            else:\n",
    "                return False\n",
    "        if self.heading[1] == -1:\n",
    "            if j>0 and self.room[j-1][i] == 1:\n",
    "                self.pos = (self.heading[0] + i, self.heading[1] + j)\n",
    "                return True\n",
    "            else:\n",
    "                return False\n",
    "        \n",
    "    def turnLeft(self):\n",
    "        \"\"\"\n",
    "        Robot will stay in the same cell after calling turnLeft/turnRight.\n",
    "        Each turn will be 90 degrees.\n",
    "        :rtype void\n",
    "        \"\"\"\n",
    "        i, j = self.heading\n",
    "        if i == 1:\n",
    "            self.heading = (0, -1)\n",
    "        if i == -1:\n",
    "            print('asdasdasd')\n",
    "            self.heading = (0, 1)\n",
    "        if j == 1:\n",
    "            self.heading = (-1, 0)\n",
    "        if j == -1:\n",
    "            self.heading = (1, 0)\n",
    "\n",
    "    def turnRight(self):\n",
    "        \"\"\"\n",
    "        Robot will stay in the same cell after calling turnLeft/turnRight.\n",
    "        Each turn will be 90 degrees.\n",
    "        :rtype void\n",
    "        \"\"\"\n",
    "        pass\n",
    "\n",
    "    def clean(self):\n",
    "        \"\"\"\n",
    "        Clean the current cell.\n",
    "        :rtype void\n",
    "        \"\"\"\n",
    "        self.room[self.pos[1]][self.pos[0]] == 'X'"
   ]
  },
  {
   "cell_type": "code",
   "execution_count": 419,
   "metadata": {},
   "outputs": [
    {
     "data": {
      "text/plain": [
       "[[1, 1, 1]]"
      ]
     },
     "execution_count": 419,
     "metadata": {},
     "output_type": "execute_result"
    }
   ],
   "source": [
    "robot = Robot([[1,1,1]], (0,0))\n",
    "clean_room((0,0))\n",
    "robot.room"
   ]
  },
  {
   "cell_type": "code",
   "execution_count": null,
   "metadata": {},
   "outputs": [],
   "source": []
  },
  {
   "cell_type": "code",
   "execution_count": 421,
   "metadata": {},
   "outputs": [],
   "source": [
    "heading = (0, 1) # i, j\n",
    "visited = set()\n",
    "\n",
    "def remove_robot():  # go back to prev position\n",
    "    left()\n",
    "    left()\n",
    "    robot.move()\n",
    "    left() # go back to prev direction\n",
    "    left()\n",
    "    \n",
    "def turn_heading_left():\n",
    "    global heading\n",
    "    i, j = heading\n",
    "    if i == 1:\n",
    "        heading = (0, -1)\n",
    "    if i == -1:\n",
    "        heading = (0, 1)\n",
    "    if j == 1:\n",
    "        heading = (-1, 0)\n",
    "    if j == -1:\n",
    "        heading = (1, 0)\n",
    "\n",
    "def left():\n",
    "    robot.turnLeft()\n",
    "    turn_heading_left()\n",
    "\n",
    "def clean_room(pos):\n",
    "    global visited\n",
    "    visited.add(pos)\n",
    "    robot.clean()\n",
    "    \n",
    "    for _ in range(4): # try to move the robot with current heading\n",
    "        new_pos = (pos[0]+heading[0], pos[1]+heading[1])\n",
    "        \n",
    "        if new_pos not in visited and robot.move():    \n",
    "            clean_room(new_pos)\n",
    "            remove_robot()\n",
    "        else:\n",
    "            left()"
   ]
  },
  {
   "cell_type": "code",
   "execution_count": 355,
   "metadata": {},
   "outputs": [],
   "source": [
    "room = [[1,1,1,1,1,0,1,1],\n",
    "        [1,1,1,1,1,0,1,1],\n",
    "        [1,0,1,1,1,1,1,1],\n",
    "        [0,0,0,1,0,0,0,0],\n",
    "        [1,1,1,1,1,1,1,1]]\n",
    "\n",
    "robot = Robot([[1,1,1,1,1,1]])"
   ]
  },
  {
   "cell_type": "code",
   "execution_count": 422,
   "metadata": {},
   "outputs": [],
   "source": [
    "# clean_room((0, 0))"
   ]
  },
  {
   "cell_type": "code",
   "execution_count": 423,
   "metadata": {},
   "outputs": [],
   "source": [
    "# sudoku solver\n",
    "#   first solve 3x3\n",
    "#   then generalize for 9x9"
   ]
  },
  {
   "cell_type": "code",
   "execution_count": 435,
   "metadata": {},
   "outputs": [],
   "source": [
    "def is_valid_cand(arr):\n",
    "    # no duplicates rows and cols\n",
    "    col_sets = [set() for t in arr[0]]\n",
    "    for j in range(len(arr)):\n",
    "        row_set = set()\n",
    "        for i in range(len(arr[j])):\n",
    "            cur = arr[j][i]\n",
    "            if cur == '.':\n",
    "                continue\n",
    "            if cur in row_set:\n",
    "                return False\n",
    "            else:\n",
    "                row_set.add(cur)\n",
    "            if cur in col_sets[i]:\n",
    "                return False\n",
    "            else:\n",
    "                col_sets[i].add(cur)\n",
    "    return True"
   ]
  },
  {
   "cell_type": "code",
   "execution_count": 440,
   "metadata": {},
   "outputs": [
    {
     "data": {
      "text/plain": [
       "True"
      ]
     },
     "execution_count": 440,
     "metadata": {},
     "output_type": "execute_result"
    }
   ],
   "source": [
    "is_valid_cand(\n",
    "      [[1,'.',3], \n",
    "       ['.','.','.'],\n",
    "       [3, 1, 2]]\n",
    ")"
   ]
  },
  {
   "cell_type": "code",
   "execution_count": 477,
   "metadata": {},
   "outputs": [],
   "source": [
    "def is_solution(arr):\n",
    "    if is_valid_cand(arr) == False:\n",
    "        return False\n",
    "    for i in range(len(arr)):\n",
    "        for j in range(len(arr)):\n",
    "            if arr[j][i] == '.':\n",
    "                return False\n",
    "    return True"
   ]
  },
  {
   "cell_type": "code",
   "execution_count": 525,
   "metadata": {},
   "outputs": [],
   "source": [
    "def can_be_paced(arr, j, i, c):\n",
    "    row = arr[j]\n",
    "    col = [row[i] for row in arr]\n",
    "    if c in row or c in col:\n",
    "        return False\n",
    "    else:\n",
    "        return True"
   ]
  },
  {
   "cell_type": "code",
   "execution_count": 557,
   "metadata": {},
   "outputs": [],
   "source": [
    "def sudoku_solve(arr, row, whole, last_pos=(0,0)):    \n",
    "    for j in range(len(arr[row])):\n",
    "        if arr[row][j] != '.':  # get non empty\n",
    "            continue\n",
    "        \n",
    "        cands = whole - set([t for t in arr[row][j:] if r != '.'])\n",
    "        \n",
    "        for c in cands:\n",
    "            if can_be_paced(arr, row, j, c):\n",
    "                arr[row][j] = c # place candidate\n",
    "                last_pos = (row, j)\n",
    "                if is_valid_cand(arr):\n",
    "                    return sudoku_solve(arr, row, whole, last_pos)\n",
    "                arr[last_pos[0]][last_pos[1]] = '.'\n",
    "    \n",
    "    if row < len(arr)-1:\n",
    "        return sudoku_solve(arr, row+1, whole, last_pos)\n",
    "    \n",
    "    # solved\n",
    "    if is_solution(arr):\n",
    "        return arr\n",
    "    else:\n",
    "        print('Cannot be solved')"
   ]
  },
  {
   "cell_type": "code",
   "execution_count": 558,
   "metadata": {},
   "outputs": [
    {
     "data": {
      "text/plain": [
       "[[3, 2, 1], [1, 3, 2], [2, 1, 3]]"
      ]
     },
     "execution_count": 558,
     "metadata": {},
     "output_type": "execute_result"
    }
   ],
   "source": [
    "_ = '.'\n",
    "tarr = [[_,2,_],\n",
    "       [1,_,_],\n",
    "       [_,_,3]]\n",
    "\n",
    "sudoku_solve(tarr, 0, set([1,2,3]), (0,0))"
   ]
  },
  {
   "cell_type": "code",
   "execution_count": 559,
   "metadata": {},
   "outputs": [
    {
     "name": "stdout",
     "output_type": "stream",
     "text": [
      "Cannot be solved\n"
     ]
    }
   ],
   "source": [
    "_ = '.'\n",
    "parr = [[5,3,_,_,7,_,_,_,_],\n",
    "        [6,_,_,1,9,5,_,_,_],\n",
    "        [_,9,8,_,_,_,_,6,_],\n",
    "        [8,_,_,_,6,_,_,_,3],\n",
    "        [4,_,_,8,_,3,_,_,1],\n",
    "        [7,_,_,_,2,_,_,_,6],\n",
    "        [_,6,_,_,_,_,2,8,_],\n",
    "        [_,_,_,4,1,9,_,_,5],\n",
    "        [_,_,_,_,8,_,_,7,9]]\n",
    "\n",
    "sudoku_solve(parr, 0, set([1,2,3,4,5,6,7,8,9]), (0,0))"
   ]
  },
  {
   "cell_type": "code",
   "execution_count": 560,
   "metadata": {},
   "outputs": [],
   "source": [
    "# Recursion to iteration"
   ]
  },
  {
   "cell_type": "code",
   "execution_count": 561,
   "metadata": {},
   "outputs": [],
   "source": [
    "# check if two binary trees are the same"
   ]
  },
  {
   "cell_type": "code",
   "execution_count": 568,
   "metadata": {},
   "outputs": [],
   "source": [
    "def is_same(p, q):\n",
    "    if not p and not q:\n",
    "        return True\n",
    "    if not p and q:\n",
    "        return False\n",
    "    if not q and p:\n",
    "        return False\n",
    "    if p.val != q.val:\n",
    "        return False\n",
    "    \n",
    "    return is_same(p.left, q.left) and is_same(p.right, q.right)"
   ]
  },
  {
   "cell_type": "code",
   "execution_count": 570,
   "metadata": {},
   "outputs": [
    {
     "data": {
      "text/plain": [
       "False"
      ]
     },
     "execution_count": 570,
     "metadata": {},
     "output_type": "execute_result"
    }
   ],
   "source": [
    "p = Node(1, Node(2, Node(3)))\n",
    "q = Node(1, Node(2, Node(None)))\n",
    "is_same(p,q)"
   ]
  },
  {
   "cell_type": "code",
   "execution_count": 572,
   "metadata": {},
   "outputs": [],
   "source": [
    "# if trees are so big, recursion can cause stackoverflow.\n",
    "# to overcome this, we need to convert recursion into iteration (unfold the recursion).\n",
    "# we will use eighter stack or queue to simulate callstack in recursion"
   ]
  },
  {
   "cell_type": "code",
   "execution_count": 575,
   "metadata": {},
   "outputs": [],
   "source": [
    "from collections import deque\n",
    "\n",
    "def is_same_it(p, q):\n",
    "    stack = deque([p, q])\n",
    "    \n",
    "    while stack:\n",
    "        itm2 = stack.pop()\n",
    "        itm1 = stack.pop()\n",
    "        \n",
    "        if not itm1 and not itm2:\n",
    "            continue\n",
    "        if not itm1 and itm2:\n",
    "            return False\n",
    "        if not itm2 and itm1:\n",
    "            return False\n",
    "        if itm1.val != itm2.val:\n",
    "            return False\n",
    "        \n",
    "        stack.append(itm1.left)\n",
    "        stack.append(itm2.left)\n",
    "        stack.append(itm1.right)\n",
    "        stack.append(itm2.right)\n",
    "\n",
    "    return True"
   ]
  },
  {
   "cell_type": "code",
   "execution_count": 578,
   "metadata": {},
   "outputs": [
    {
     "data": {
      "text/plain": [
       "True"
      ]
     },
     "execution_count": 578,
     "metadata": {},
     "output_type": "execute_result"
    }
   ],
   "source": [
    "is_same_it(\n",
    "    Node(1, Node(2, Node(3))),\n",
    "    Node(1, Node(2, Node(3))))"
   ]
  },
  {
   "cell_type": "code",
   "execution_count": 579,
   "metadata": {},
   "outputs": [
    {
     "data": {
      "text/plain": [
       "False"
      ]
     },
     "execution_count": 579,
     "metadata": {},
     "output_type": "execute_result"
    }
   ],
   "source": [
    "is_same_it(\n",
    "    Node(1, Node(2, Node(3))),\n",
    "    Node(1, Node(2, Node(2))))"
   ]
  },
  {
   "cell_type": "code",
   "execution_count": 580,
   "metadata": {},
   "outputs": [],
   "source": [
    "# generate parantheses"
   ]
  },
  {
   "cell_type": "code",
   "execution_count": 589,
   "metadata": {},
   "outputs": [],
   "source": [
    "def parans(n):\n",
    "    if n == 1:\n",
    "        return ['()']\n",
    "    if n == 2:\n",
    "        return ['(())', '()()']\n",
    "    \n",
    "    ret = set()\n",
    "    prev = parans(n-1)\n",
    "    for p in prev:\n",
    "        ret.add(f'({p})')\n",
    "        for i in range(len(p)):\n",
    "            ret.add(p[:i] + '()' + p[i:])\n",
    "    return ret"
   ]
  },
  {
   "cell_type": "code",
   "execution_count": 593,
   "metadata": {},
   "outputs": [
    {
     "data": {
      "text/plain": [
       "['(())()', '()(())', '()()()', '(()())', '((()))']"
      ]
     },
     "execution_count": 593,
     "metadata": {},
     "output_type": "execute_result"
    }
   ],
   "source": [
    "list(parans(3))"
   ]
  },
  {
   "cell_type": "code",
   "execution_count": 635,
   "metadata": {},
   "outputs": [],
   "source": [
    "# backtracking approach\n",
    "\n",
    "\n",
    "n = 2, left = 2\n",
    "( ( (  \n"
   ]
  },
  {
   "cell_type": "code",
   "execution_count": 631,
   "metadata": {},
   "outputs": [],
   "source": [
    "def parans2(n):\n",
    "    ret = []\n",
    "    def backtrack(s='', left=0, right=0): # \n",
    "        if len(s) == 2 * n:\n",
    "            ret.append(s)\n",
    "            return\n",
    "        if left < n:\n",
    "            backtrack(s+'(', left+1, right)\n",
    "        if right < left:\n",
    "            backtrack(s+')', left, right+1)\n",
    "    backtrack()\n",
    "    return ret"
   ]
  },
  {
   "cell_type": "code",
   "execution_count": 633,
   "metadata": {},
   "outputs": [
    {
     "data": {
      "text/plain": [
       "['((()))', '(()())', '(())()', '()(())', '()()()']"
      ]
     },
     "execution_count": 633,
     "metadata": {},
     "output_type": "execute_result"
    }
   ],
   "source": [
    "parans2(3)"
   ]
  },
  {
   "cell_type": "code",
   "execution_count": null,
   "metadata": {},
   "outputs": [],
   "source": []
  }
 ],
 "metadata": {
  "kernelspec": {
   "display_name": "Python 3",
   "language": "python",
   "name": "python3"
  },
  "language_info": {
   "codemirror_mode": {
    "name": "ipython",
    "version": 3
   },
   "file_extension": ".py",
   "mimetype": "text/x-python",
   "name": "python",
   "nbconvert_exporter": "python",
   "pygments_lexer": "ipython3",
   "version": "3.7.2"
  }
 },
 "nbformat": 4,
 "nbformat_minor": 2
}
