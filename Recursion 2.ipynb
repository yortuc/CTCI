{
 "cells": [
  {
   "cell_type": "code",
   "execution_count": 1,
   "metadata": {},
   "outputs": [],
   "source": [
    "# 1. Divide and Conquer\n",
    "# 2. Backtracking\n",
    "# 3. master theorem"
   ]
  },
  {
   "cell_type": "code",
   "execution_count": 6,
   "metadata": {},
   "outputs": [],
   "source": [
    "# implement merge-sort \n",
    "# divide given list into smaller lists\n",
    "# sort each small list\n",
    "# combine sorted small lists\n",
    "# \n",
    "\n",
    "def merge_sort(lst):\n",
    "    if len(lst) == 2: # base case\n",
    "        if lst[0] < lst[1]:\n",
    "            return lst\n",
    "        else:\n",
    "            return [lst[1], lst[0]]\n",
    "\n",
    "    mid_index = len(lst)//2\n",
    "    left = merge_sort(lst[:mid_index])\n",
    "    right = merge_sort(lst[mid_index:])\n",
    "    \n",
    "    # merge two sorted lists\n",
    "    i=0\n",
    "    j=0\n",
    "    ret = []\n",
    "    while i<len(left) and j<len(right):\n",
    "        if left[i] < right[j]:\n",
    "            ret.append(left[i])\n",
    "            i = i+1\n",
    "        else:\n",
    "            ret.append(right[j])\n",
    "            j = j+1\n",
    "    \n",
    "    if i == len(left): # left finished first\n",
    "        for k in range(j, len(right)):\n",
    "            ret.append(right[k])\n",
    "    if j == len(right):\n",
    "        for k in range(i, len(left)):\n",
    "            ret.append(left[k])\n",
    "    return ret"
   ]
  },
  {
   "cell_type": "code",
   "execution_count": 7,
   "metadata": {},
   "outputs": [
    {
     "data": {
      "text/plain": [
       "[4, 4, 4, 4, 5, 5, 5, 5, 6, 6, 6, 6, 8, 8, 8, 8]"
      ]
     },
     "execution_count": 7,
     "metadata": {},
     "output_type": "execute_result"
    }
   ],
   "source": [
    "merge_sort([5,4,8,6,5,4,8,6,5,4,8,6,5,4,8,6])"
   ]
  },
  {
   "cell_type": "code",
   "execution_count": null,
   "metadata": {},
   "outputs": [],
   "source": []
  }
 ],
 "metadata": {
  "kernelspec": {
   "display_name": "Python 3",
   "language": "python",
   "name": "python3"
  },
  "language_info": {
   "codemirror_mode": {
    "name": "ipython",
    "version": 3
   },
   "file_extension": ".py",
   "mimetype": "text/x-python",
   "name": "python",
   "nbconvert_exporter": "python",
   "pygments_lexer": "ipython3",
   "version": "3.7.2"
  }
 },
 "nbformat": 4,
 "nbformat_minor": 2
}
