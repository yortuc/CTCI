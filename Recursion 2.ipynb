{
 "cells": [
  {
   "cell_type": "code",
   "execution_count": 1,
   "metadata": {},
   "outputs": [],
   "source": [
    "# 1. Divide and Conquer\n",
    "# 2. Backtracking\n",
    "# 3. master theorem"
   ]
  },
  {
   "cell_type": "code",
   "execution_count": 23,
   "metadata": {},
   "outputs": [],
   "source": [
    "# implement merge-sort \n",
    "# divide given list into smaller lists\n",
    "# sort each small list\n",
    "# combine sorted small lists\n",
    "# \n",
    "\n",
    "def merge_sort(lst):\n",
    "    if len(lst) <= 1:\n",
    "        return lst\n",
    "    \n",
    "    if len(lst) == 2: # base case (I invented this :D)\n",
    "        if lst[0] < lst[1]:\n",
    "            return lst\n",
    "        else:\n",
    "            return [lst[1], lst[0]]\n",
    "\n",
    "    mid_index = len(lst)//2\n",
    "    left = merge_sort(lst[:mid_index])\n",
    "    right = merge_sort(lst[mid_index:])\n",
    "    \n",
    "    # merge two sorted lists\n",
    "    i=0\n",
    "    j=0\n",
    "    ret = []\n",
    "    while i<len(left) and j<len(right):\n",
    "        if left[i] < right[j]:\n",
    "            ret.append(left[i])\n",
    "            i = i+1\n",
    "        else:\n",
    "            ret.append(right[j])\n",
    "            j = j+1\n",
    "    \n",
    "    ret = ret + left[i:]\n",
    "    ret = ret + right[j:]\n",
    "    return ret"
   ]
  },
  {
   "cell_type": "code",
   "execution_count": 24,
   "metadata": {},
   "outputs": [
    {
     "data": {
      "text/plain": [
       "[3, 4, 4, 7, 9, 22]"
      ]
     },
     "execution_count": 24,
     "metadata": {},
     "output_type": "execute_result"
    }
   ],
   "source": [
    "merge_sort([4,7,3,9,22,4])"
   ]
  },
  {
   "cell_type": "code",
   "execution_count": 35,
   "metadata": {},
   "outputs": [],
   "source": [
    "# bottom-up merge sort\n",
    "# \n",
    "# divide given list into 1-element lists (they are already sorted)\n",
    "# merge in pairs until only one sub-list remain\n",
    "# return the sublist\n",
    "# \n",
    "\n",
    "def merge_in_pairs(lists):\n",
    "    if len(lists) == 1: # lists = [[1], [2], [3], [4], [5]]\n",
    "        return lists[0]\n",
    "    \n",
    "    # merge first two lists\n",
    "    i=j=0\n",
    "    r1 = lists[0]\n",
    "    r2 = lists[1]\n",
    "    merged = []\n",
    "    while i<len(r1) and j<len(r2):\n",
    "        if r1[i] < r2[j]:\n",
    "            merged.append(r1[i])\n",
    "            i=i+1\n",
    "        else:\n",
    "            merged.append(r2[j])\n",
    "            j=j+1\n",
    "    merged = merged + r1[i:]\n",
    "    merged = merged + r2[j:]\n",
    "    lists.append(merged)\n",
    "    \n",
    "    return merge_in_pairs(lists[2:])\n",
    "    \n",
    "def merge_sort_bu(lst):\n",
    "    lists = [[i] for i in lst]\n",
    "    return merge_in_pairs(lists)"
   ]
  },
  {
   "cell_type": "code",
   "execution_count": 36,
   "metadata": {},
   "outputs": [
    {
     "data": {
      "text/plain": [
       "[1, 3, 5, 5, 8, 9, 45]"
      ]
     },
     "execution_count": 36,
     "metadata": {},
     "output_type": "execute_result"
    }
   ],
   "source": [
    "merge_sort_bu([5,3,8,1,9,45,5])"
   ]
  },
  {
   "cell_type": "code",
   "execution_count": 37,
   "metadata": {},
   "outputs": [],
   "source": [
    "# Validate binary search tree\n",
    "# - The left subtree of a node contains only nodes with keys less than the node's key.\n",
    "# - The right subtree of a node contains only nodes with keys greater than the node's key.\n",
    "# - Both the left and right subtrees must also be binary search trees.\n",
    "\n"
   ]
  },
  {
   "cell_type": "code",
   "execution_count": 12,
   "metadata": {},
   "outputs": [],
   "source": [
    "class Node:\n",
    "    def __init__(self, val, left=None, right=None):\n",
    "        self.val = val\n",
    "        self.left = left\n",
    "        self.right = right"
   ]
  },
  {
   "cell_type": "code",
   "execution_count": 97,
   "metadata": {},
   "outputs": [],
   "source": [
    "def is_valid_bt(root, lower=float('-inf'), upper=float('inf')):\n",
    "    if root is None:\n",
    "        return True\n",
    "    \n",
    "    val = root.val\n",
    "    if val <= upper or val >= upper:\n",
    "        return False\n",
    "    \n",
    "    return is_valid_bt(root.left, lower, val) and is_valid_bt(root.right, val, upper)"
   ]
  },
  {
   "cell_type": "code",
   "execution_count": 98,
   "metadata": {},
   "outputs": [],
   "source": [
    "root_false = Node(5, \n",
    "                  Node(1),\n",
    "                  Node(4,\n",
    "                      Node(3),\n",
    "                      Node(6)))"
   ]
  },
  {
   "cell_type": "code",
   "execution_count": 99,
   "metadata": {},
   "outputs": [
    {
     "data": {
      "text/plain": [
       "False"
      ]
     },
     "execution_count": 99,
     "metadata": {},
     "output_type": "execute_result"
    }
   ],
   "source": [
    "is_valid_bt(root_false)"
   ]
  },
  {
   "cell_type": "code",
   "execution_count": 100,
   "metadata": {},
   "outputs": [
    {
     "data": {
      "text/plain": [
       "False"
      ]
     },
     "execution_count": 100,
     "metadata": {},
     "output_type": "execute_result"
    }
   ],
   "source": [
    "is_valid_bt(Node(2, \n",
    "                 Node(1),\n",
    "                 Node(3)))"
   ]
  },
  {
   "cell_type": "code",
   "execution_count": 101,
   "metadata": {},
   "outputs": [],
   "source": [
    "# this fails [10,5,15,null,null,6,20] is False\n",
    "# [10,5,15,null,null,6,20]\n",
    "root_w = Node(10,\n",
    "             Node(5),\n",
    "             Node(15,\n",
    "                 Node(6),\n",
    "                 Node(20)))"
   ]
  },
  {
   "cell_type": "code",
   "execution_count": 102,
   "metadata": {},
   "outputs": [
    {
     "data": {
      "text/plain": [
       "False"
      ]
     },
     "execution_count": 102,
     "metadata": {},
     "output_type": "execute_result"
    }
   ],
   "source": [
    "is_valid_bt(root_w)"
   ]
  },
  {
   "cell_type": "code",
   "execution_count": 194,
   "metadata": {},
   "outputs": [],
   "source": [
    "#  Search a 2D Matrix II\n",
    "#  select a pivot 0<p<len \n",
    "\n",
    "arr = [[1,   4,  7, 11, 15],\n",
    "       [2,   5,  8, 12, 19],\n",
    "       [3,   6,  9, 16, 22],\n",
    "       [10, 13, 14, 17, 24],\n",
    "       [18, 21, 23, 26, 30]]\n",
    "\n",
    "def find_2d(arr, target):\n",
    "    if len(arr) == 0:\n",
    "        return False\n",
    "    if len(arr[0]) == 0:\n",
    "        return False\n",
    "    \n",
    "    if len(arr) == 1 and len(arr[0]) == 1:\n",
    "        return arr[0][0] == target\n",
    "    else:\n",
    "        i = len(arr[0])//2\n",
    "        j = len(arr)//2\n",
    "    \n",
    "        row1 = arr[:j]\n",
    "        row2 = arr[j:]\n",
    "\n",
    "        part1 = [r[:i] for r in row1] # constructing new lists every call, too much call stack usage\n",
    "        part2 = [r[i:] for r in row1] # can be carried only indexes?\n",
    "        part3 = [r[:i] for r in row2]\n",
    "        part4 = [r[i:] for r in row2]\n",
    "\n",
    "        return find_2d(part1, target) or find_2d(part2, target) or find_2d(part3, target) or find_2d(part4, target)"
   ]
  },
  {
   "cell_type": "code",
   "execution_count": 195,
   "metadata": {},
   "outputs": [
    {
     "data": {
      "text/plain": [
       "False"
      ]
     },
     "execution_count": 195,
     "metadata": {},
     "output_type": "execute_result"
    }
   ],
   "source": [
    "arr = [[1,   4,  7, 11, 15],\n",
    "       [2,   5,  8, 12, 19],\n",
    "       [3,   6,  9, 16, 22],\n",
    "       [10, 13, 14, 17, 24],\n",
    "       [18, 21, 23, 26, 30]]\n",
    "\n",
    "find_2d(arr, 45)"
   ]
  },
  {
   "cell_type": "code",
   "execution_count": 193,
   "metadata": {},
   "outputs": [
    {
     "data": {
      "text/plain": [
       "True"
      ]
     },
     "execution_count": 193,
     "metadata": {},
     "output_type": "execute_result"
    }
   ],
   "source": [
    "find_2d(arr, 13)"
   ]
  },
  {
   "cell_type": "code",
   "execution_count": 243,
   "metadata": {},
   "outputs": [],
   "source": [
    "# Implement quick sort\n",
    "    \n",
    "def quick_sort(lst):\n",
    "    if len(lst) <= 1:\n",
    "        return lst\n",
    "    \n",
    "    # take the middle item in the list as pivot\n",
    "    pivot_index = len(lst)//2\n",
    "    pivot = lst[pivot_index]\n",
    "    left = [t for t in lst[:pi] + lst[pivot_index+1:] if t<pivot]\n",
    "    right = [t for t in lst[:pi] + lst[pivot_index+1:] if t>=pivot]\n",
    "        \n",
    "    return quick_sort(left) + [pivot] + quick_sort(right)"
   ]
  },
  {
   "cell_type": "code",
   "execution_count": 244,
   "metadata": {},
   "outputs": [
    {
     "data": {
      "text/plain": [
       "[1, 2, 3, 9, 12]"
      ]
     },
     "execution_count": 244,
     "metadata": {},
     "output_type": "execute_result"
    }
   ],
   "source": [
    "quick_sort([1,5,7,3,2,12,9])"
   ]
  },
  {
   "cell_type": "code",
   "execution_count": 296,
   "metadata": {},
   "outputs": [],
   "source": [
    "# solve n-queens problem\n",
    "# example: Input = 4 Output = 2 \n",
    "#  \n",
    "\n",
    "def is_under_attack(j, i, queens, n):\n",
    "    # check if the location (j, i) is under attack of any queen\n",
    "    for qj, qi in queens:\n",
    "        if qj == j or qi == i:    # same row or col\n",
    "            return True\n",
    "        for x in range(n):\n",
    "            if qj-x == j and qi-x == i:  # top-left\n",
    "                return True\n",
    "            if qj-x == j and qi+x == i:  # top-right\n",
    "                return True\n",
    "            if qj+x == j and qi-x == i:  # bottom left\n",
    "                return True\n",
    "            if qj+x == j and qi+x == i:  # bottom-right\n",
    "                return True\n",
    "    return False"
   ]
  },
  {
   "cell_type": "code",
   "execution_count": 324,
   "metadata": {},
   "outputs": [],
   "source": [
    "def place_queen(j, i, queens):\n",
    "    queens.append((j,i))\n",
    "    \n",
    "def remove_queen(j, i, queens):\n",
    "    return queens.remove((j,i))"
   ]
  },
  {
   "cell_type": "code",
   "execution_count": 328,
   "metadata": {},
   "outputs": [],
   "source": [
    "def nqueen(queens, row, n, count):\n",
    "    for col in range(n):\n",
    "        # place is under attack\n",
    "        if not is_under_attack(row, col, queens, n): \n",
    "            place_queen(row, col, queens)\n",
    "\n",
    "            if row+1 == n:\n",
    "                count = count + 1\n",
    "            else:\n",
    "                # continue\n",
    "                count = nqueen(queens, row+1, n, count)\n",
    "                \n",
    "            # backtrack, remove the queen\n",
    "            remove_queen(row, col, queens)\n",
    "    return count"
   ]
  },
  {
   "cell_type": "code",
   "execution_count": 329,
   "metadata": {},
   "outputs": [
    {
     "data": {
      "text/plain": [
       "2"
      ]
     },
     "execution_count": 329,
     "metadata": {},
     "output_type": "execute_result"
    }
   ],
   "source": [
    "nqueen([], 0, 4, 0)"
   ]
  },
  {
   "cell_type": "code",
   "execution_count": 415,
   "metadata": {},
   "outputs": [],
   "source": [
    "# robot room cleaner\n",
    "\n",
    "class Robot:\n",
    "    def __init__(self, room, pos):\n",
    "        self.room = room\n",
    "        self.heading = (0, -1)\n",
    "        self.pos = (0, 0)\n",
    "        \n",
    "    def move(self):\n",
    "        \"\"\"\n",
    "        Returns true if the cell in front is open and robot moves into the cell.\n",
    "        Returns false if the cell in front is blocked and robot stays in the current cell.\n",
    "        :rtype bool\n",
    "        \"\"\"\n",
    "        i, j = self.pos\n",
    "        if self.heading[0] == 1:\n",
    "            if i<len(self.room[0])-1 and self.room[j][i+1] == 1:\n",
    "                self.pos = (self.heading[0] + i, self.heading[1] + j)\n",
    "                return True\n",
    "            else:\n",
    "                return False\n",
    "        if self.heading[0] == -1:\n",
    "            if i>0 and self.room[j][i-1] == 1:\n",
    "                self.pos = (self.heading[0] + i, self.heading[1] + j)\n",
    "                return True\n",
    "            else:\n",
    "                return False\n",
    "        if self.heading[1] == 1:\n",
    "            if j<len(self.room)-1 and self.room[j+1][i] == 1:\n",
    "                self.pos = (self.heading[0] + i, self.heading[1] + j)\n",
    "                return True\n",
    "            else:\n",
    "                return False\n",
    "        if self.heading[1] == -1:\n",
    "            if j>0 and self.room[j-1][i] == 1:\n",
    "                self.pos = (self.heading[0] + i, self.heading[1] + j)\n",
    "                return True\n",
    "            else:\n",
    "                return False\n",
    "        \n",
    "    def turnLeft(self):\n",
    "        \"\"\"\n",
    "        Robot will stay in the same cell after calling turnLeft/turnRight.\n",
    "        Each turn will be 90 degrees.\n",
    "        :rtype void\n",
    "        \"\"\"\n",
    "        i, j = self.heading\n",
    "        if i == 1:\n",
    "            self.heading = (0, -1)\n",
    "        if i == -1:\n",
    "            print('asdasdasd')\n",
    "            self.heading = (0, 1)\n",
    "        if j == 1:\n",
    "            self.heading = (-1, 0)\n",
    "        if j == -1:\n",
    "            self.heading = (1, 0)\n",
    "\n",
    "    def turnRight(self):\n",
    "        \"\"\"\n",
    "        Robot will stay in the same cell after calling turnLeft/turnRight.\n",
    "        Each turn will be 90 degrees.\n",
    "        :rtype void\n",
    "        \"\"\"\n",
    "        pass\n",
    "\n",
    "    def clean(self):\n",
    "        \"\"\"\n",
    "        Clean the current cell.\n",
    "        :rtype void\n",
    "        \"\"\"\n",
    "        self.room[self.pos[1]][self.pos[0]] == 'X'"
   ]
  },
  {
   "cell_type": "code",
   "execution_count": 419,
   "metadata": {},
   "outputs": [
    {
     "data": {
      "text/plain": [
       "[[1, 1, 1]]"
      ]
     },
     "execution_count": 419,
     "metadata": {},
     "output_type": "execute_result"
    }
   ],
   "source": [
    "robot = Robot([[1,1,1]], (0,0))\n",
    "clean_room((0,0))\n",
    "robot.room"
   ]
  },
  {
   "cell_type": "code",
   "execution_count": null,
   "metadata": {},
   "outputs": [],
   "source": []
  },
  {
   "cell_type": "code",
   "execution_count": null,
   "metadata": {},
   "outputs": [],
   "source": []
  },
  {
   "cell_type": "code",
   "execution_count": 351,
   "metadata": {},
   "outputs": [],
   "source": [
    "room = [(0,0)]\n",
    "heading = (0, 1) # i, j\n",
    "\n",
    "def is_solution(pos): # if we are back the position where we start\n",
    "    return len(room)>1 and pos == room[0]\n",
    "\n",
    "def place_robot(pos):\n",
    "    room.append(pos)\n",
    "\n",
    "def remove_robot():  # go back to prev position\n",
    "    left()\n",
    "    left()\n",
    "    robot.move()\n",
    "    \n",
    "def turn_heading_left():\n",
    "    global heading\n",
    "    i, j = heading\n",
    "    if i == 1:\n",
    "        heading = (0, -1)\n",
    "    if i == -1:\n",
    "        heading = (0, 1)\n",
    "    if j == 1:\n",
    "        heading = (-1, 0)\n",
    "    if j == -1:\n",
    "        heading = (1, 0)\n",
    "\n",
    "def left():\n",
    "    robot.turnLeft()\n",
    "    turn_heading_left()\n",
    "\n",
    "def clean_room(pos):\n",
    "    if is_solution(pos):\n",
    "        return # no need to return anything\n",
    "    \n",
    "    for _ in range(4): # try to move the robot with current heading\n",
    "        if robot.move():\n",
    "            new_pos = (pos[0]+heading[0], pos[1]+heading[1])\n",
    "            place_robot(new_pos)\n",
    "            robot.clean()\n",
    "            clean_room(new_pos)\n",
    "            remove_robot()\n",
    "        else:\n",
    "            left()"
   ]
  },
  {
   "cell_type": "code",
   "execution_count": 355,
   "metadata": {},
   "outputs": [],
   "source": [
    "room = [[1,1,1,1,1,0,1,1],\n",
    "        [1,1,1,1,1,0,1,1],\n",
    "        [1,0,1,1,1,1,1,1],\n",
    "        [0,0,0,1,0,0,0,0],\n",
    "        [1,1,1,1,1,1,1,1]]\n",
    "\n",
    "robot = Robot([[1,1,1,1,1,1]])"
   ]
  },
  {
   "cell_type": "code",
   "execution_count": 356,
   "metadata": {},
   "outputs": [
    {
     "ename": "RecursionError",
     "evalue": "maximum recursion depth exceeded while calling a Python object",
     "output_type": "error",
     "traceback": [
      "\u001b[0;31m---------------------------------------------------------------------------\u001b[0m",
      "\u001b[0;31mRecursionError\u001b[0m                            Traceback (most recent call last)",
      "\u001b[0;32m<ipython-input-356-071e77c3315d>\u001b[0m in \u001b[0;36m<module>\u001b[0;34m\u001b[0m\n\u001b[0;32m----> 1\u001b[0;31m \u001b[0mclean_room\u001b[0m\u001b[0;34m(\u001b[0m\u001b[0;34m(\u001b[0m\u001b[0;36m0\u001b[0m\u001b[0;34m,\u001b[0m \u001b[0;36m0\u001b[0m\u001b[0;34m)\u001b[0m\u001b[0;34m)\u001b[0m\u001b[0;34m\u001b[0m\u001b[0;34m\u001b[0m\u001b[0m\n\u001b[0m",
      "\u001b[0;32m<ipython-input-351-f095bff5f069>\u001b[0m in \u001b[0;36mclean_room\u001b[0;34m(pos)\u001b[0m\n\u001b[1;32m     38\u001b[0m             \u001b[0mplace_robot\u001b[0m\u001b[0;34m(\u001b[0m\u001b[0mnew_pos\u001b[0m\u001b[0;34m)\u001b[0m\u001b[0;34m\u001b[0m\u001b[0;34m\u001b[0m\u001b[0m\n\u001b[1;32m     39\u001b[0m             \u001b[0mrobot\u001b[0m\u001b[0;34m.\u001b[0m\u001b[0mclean\u001b[0m\u001b[0;34m(\u001b[0m\u001b[0;34m)\u001b[0m\u001b[0;34m\u001b[0m\u001b[0;34m\u001b[0m\u001b[0m\n\u001b[0;32m---> 40\u001b[0;31m             \u001b[0mclean_room\u001b[0m\u001b[0;34m(\u001b[0m\u001b[0mnew_pos\u001b[0m\u001b[0;34m)\u001b[0m\u001b[0;34m\u001b[0m\u001b[0;34m\u001b[0m\u001b[0m\n\u001b[0m\u001b[1;32m     41\u001b[0m             \u001b[0mremove_robot\u001b[0m\u001b[0;34m(\u001b[0m\u001b[0;34m)\u001b[0m\u001b[0;34m\u001b[0m\u001b[0;34m\u001b[0m\u001b[0m\n\u001b[1;32m     42\u001b[0m         \u001b[0;32melse\u001b[0m\u001b[0;34m:\u001b[0m\u001b[0;34m\u001b[0m\u001b[0;34m\u001b[0m\u001b[0m\n",
      "... last 1 frames repeated, from the frame below ...\n",
      "\u001b[0;32m<ipython-input-351-f095bff5f069>\u001b[0m in \u001b[0;36mclean_room\u001b[0;34m(pos)\u001b[0m\n\u001b[1;32m     38\u001b[0m             \u001b[0mplace_robot\u001b[0m\u001b[0;34m(\u001b[0m\u001b[0mnew_pos\u001b[0m\u001b[0;34m)\u001b[0m\u001b[0;34m\u001b[0m\u001b[0;34m\u001b[0m\u001b[0m\n\u001b[1;32m     39\u001b[0m             \u001b[0mrobot\u001b[0m\u001b[0;34m.\u001b[0m\u001b[0mclean\u001b[0m\u001b[0;34m(\u001b[0m\u001b[0;34m)\u001b[0m\u001b[0;34m\u001b[0m\u001b[0;34m\u001b[0m\u001b[0m\n\u001b[0;32m---> 40\u001b[0;31m             \u001b[0mclean_room\u001b[0m\u001b[0;34m(\u001b[0m\u001b[0mnew_pos\u001b[0m\u001b[0;34m)\u001b[0m\u001b[0;34m\u001b[0m\u001b[0;34m\u001b[0m\u001b[0m\n\u001b[0m\u001b[1;32m     41\u001b[0m             \u001b[0mremove_robot\u001b[0m\u001b[0;34m(\u001b[0m\u001b[0;34m)\u001b[0m\u001b[0;34m\u001b[0m\u001b[0;34m\u001b[0m\u001b[0m\n\u001b[1;32m     42\u001b[0m         \u001b[0;32melse\u001b[0m\u001b[0;34m:\u001b[0m\u001b[0;34m\u001b[0m\u001b[0;34m\u001b[0m\u001b[0m\n",
      "\u001b[0;31mRecursionError\u001b[0m: maximum recursion depth exceeded while calling a Python object"
     ]
    }
   ],
   "source": [
    "clean_room((0, 0))"
   ]
  },
  {
   "cell_type": "code",
   "execution_count": null,
   "metadata": {},
   "outputs": [],
   "source": []
  }
 ],
 "metadata": {
  "kernelspec": {
   "display_name": "Python 3",
   "language": "python",
   "name": "python3"
  },
  "language_info": {
   "codemirror_mode": {
    "name": "ipython",
    "version": 3
   },
   "file_extension": ".py",
   "mimetype": "text/x-python",
   "name": "python",
   "nbconvert_exporter": "python",
   "pygments_lexer": "ipython3",
   "version": "3.7.2"
  }
 },
 "nbformat": 4,
 "nbformat_minor": 2
}
