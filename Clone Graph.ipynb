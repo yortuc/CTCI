{
 "cells": [
  {
   "cell_type": "markdown",
   "metadata": {},
   "source": [
    "Given a reference of a node in a connected undirected graph, return a deep copy (clone) of the graph. Each node in the graph contains a val `(int)` and a list (`List[Node]`) of its neighbors."
   ]
  },
  {
   "cell_type": "code",
   "execution_count": 51,
   "metadata": {},
   "outputs": [],
   "source": [
    "class Node:\n",
    "    def __init__(self, val, neighbors):\n",
    "        self.val = val\n",
    "        self.neighbors = neighbors\n",
    "        \n",
    "    def __str__(self):\n",
    "        return f'value is {self.val}, and it has neighbors {[n.val for n in self.neighbors]}'"
   ]
  },
  {
   "cell_type": "code",
   "execution_count": 69,
   "metadata": {},
   "outputs": [],
   "source": [
    "def clone_node(node, visited):\n",
    "    if node in visited:\n",
    "        return visited[node]\n",
    "    \n",
    "    new_node = Node(node.val, neighbors=[])\n",
    "    visited[node] = new_node\n",
    "    \n",
    "    \n",
    "    for n in node.neighbors:\n",
    "        new_node.neighbors.append(clone_node(n, visited))\n",
    "\n",
    "    return new_node\n",
    "        \n",
    "def clone_g(node):\n",
    "    return clone_node(node, {})"
   ]
  },
  {
   "cell_type": "code",
   "execution_count": 70,
   "metadata": {},
   "outputs": [
    {
     "name": "stdout",
     "output_type": "stream",
     "text": [
      "value is 1, and it has neighbors [2, 4]\n",
      "value is 2, and it has neighbors [1, 3]\n",
      "value is 3, and it has neighbors [2, 4]\n",
      "value is 4, and it has neighbors [1, 3]\n"
     ]
    }
   ],
   "source": [
    "#  1 ---- 2\n",
    "#  \\       \\\n",
    "#   4 ----- 3\n",
    "\n",
    "n1 = Node(1, [])\n",
    "n2 = Node(2, [])\n",
    "n3 = Node(3, [])\n",
    "n4 = Node(4, [])\n",
    "\n",
    "n1.neighbors = [n2, n4]\n",
    "n2.neighbors = [n1, n3]\n",
    "n3.neighbors = [n2, n4]\n",
    "n4.neighbors = [n1, n3]\n",
    "\n",
    "print(n1)\n",
    "print(n2)\n",
    "print(n3)\n",
    "print(n4)"
   ]
  },
  {
   "cell_type": "code",
   "execution_count": 71,
   "metadata": {},
   "outputs": [],
   "source": [
    "cloned = clone_g(n1)"
   ]
  },
  {
   "cell_type": "code",
   "execution_count": 72,
   "metadata": {},
   "outputs": [
    {
     "name": "stdout",
     "output_type": "stream",
     "text": [
      "value is 1, and it has neighbors [2, 4]\n"
     ]
    }
   ],
   "source": [
    "print(cloned)"
   ]
  },
  {
   "cell_type": "code",
   "execution_count": null,
   "metadata": {},
   "outputs": [],
   "source": []
  }
 ],
 "metadata": {
  "kernelspec": {
   "display_name": "Python 3",
   "language": "python",
   "name": "python3"
  },
  "language_info": {
   "codemirror_mode": {
    "name": "ipython",
    "version": 3
   },
   "file_extension": ".py",
   "mimetype": "text/x-python",
   "name": "python",
   "nbconvert_exporter": "python",
   "pygments_lexer": "ipython3",
   "version": "3.7.2"
  }
 },
 "nbformat": 4,
 "nbformat_minor": 2
}
