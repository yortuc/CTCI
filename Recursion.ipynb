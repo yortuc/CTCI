{
 "cells": [
  {
   "cell_type": "code",
   "execution_count": 1,
   "metadata": {},
   "outputs": [],
   "source": [
    "# reverse a string without using extra space other then system stack"
   ]
  },
  {
   "cell_type": "code",
   "execution_count": 2,
   "metadata": {},
   "outputs": [],
   "source": [
    "# s: List[str]\n",
    "def reverse_str(s, index=0):\n",
    "    if index == len(s)//2:\n",
    "        return\n",
    "    else:\n",
    "        mirr_index = len(s)-index-1\n",
    "        tmp = s[index] \n",
    "        s[index] = s[mirr_index]\n",
    "        s[mirr_index] = tmp\n",
    "        reverse_str(s, index+1)"
   ]
  },
  {
   "cell_type": "code",
   "execution_count": 4,
   "metadata": {},
   "outputs": [
    {
     "name": "stdout",
     "output_type": "stream",
     "text": [
      "['n', 'e', 'r', 'v', 'e']\n"
     ]
    }
   ],
   "source": [
    "s = ['e', 'v', 'r', 'e', 'n']\n",
    "reverse_str(s)\n",
    "print(s)"
   ]
  },
  {
   "cell_type": "code",
   "execution_count": 84,
   "metadata": {},
   "outputs": [],
   "source": [
    "# swap adjacent items in a linked list\n",
    "# 1->2->3->4 return 2->1->4->3\n",
    "class Node:\n",
    "    def __init__(self, val, next=None):\n",
    "        self.val = val\n",
    "        self.next = next\n",
    "    def __str__(self):\n",
    "        return f'{self.val} -> {self.next}'"
   ]
  },
  {
   "cell_type": "code",
   "execution_count": 91,
   "metadata": {},
   "outputs": [],
   "source": [
    "def swap(r):     # 1->2->3->4\n",
    "    if r is not None and r.next is not None:\n",
    "        tmp = r.next.val # 2\n",
    "        r.next.val = r.val\n",
    "        r.val = tmp\n",
    "        swap(r.next.next)\n",
    "    return r"
   ]
  },
  {
   "cell_type": "code",
   "execution_count": 93,
   "metadata": {},
   "outputs": [
    {
     "name": "stdout",
     "output_type": "stream",
     "text": [
      "2 -> 1 -> 4 -> 3 -> None\n"
     ]
    }
   ],
   "source": [
    "lst = Node(1, Node(2, Node(3, Node(4))))\n",
    "print(swap(lst))"
   ]
  },
  {
   "cell_type": "code",
   "execution_count": 127,
   "metadata": {},
   "outputs": [],
   "source": [
    "# generate pascal's triangle up to a given row count\n",
    "#\n",
    "# top-down: n -> 1\n",
    "#    recursion relation:\n",
    "#      P(n+1) = [1] + inner_sum(n) + [1]\n",
    "#      inner_sum([1 2 1]) => [3 3]\n",
    "# \n",
    "\n",
    "p_t = []\n",
    "\n",
    "def inner_sum(arr):\n",
    "    ret = []\n",
    "    for i in range(len(arr)-1):\n",
    "        ret.append(arr[i] + arr[i+1])\n",
    "    p_t.append([1] + ret + [1])\n",
    "    return [1] + ret + [1]\n",
    "\n",
    "def pascal(n):\n",
    "    if n == 1:\n",
    "        return [1]\n",
    "    \n",
    "    return inner_sum(pascal(n-1))"
   ]
  },
  {
   "cell_type": "code",
   "execution_count": 128,
   "metadata": {},
   "outputs": [
    {
     "data": {
      "text/plain": [
       "[1, 4, 6, 4, 1]"
      ]
     },
     "execution_count": 128,
     "metadata": {},
     "output_type": "execute_result"
    }
   ],
   "source": [
    "pascal(5)"
   ]
  },
  {
   "cell_type": "code",
   "execution_count": 129,
   "metadata": {},
   "outputs": [
    {
     "data": {
      "text/plain": [
       "[[1, 1], [1, 2, 1], [1, 3, 3, 1], [1, 4, 6, 4, 1]]"
      ]
     },
     "execution_count": 129,
     "metadata": {},
     "output_type": "execute_result"
    }
   ],
   "source": [
    "p_t"
   ]
  },
  {
   "cell_type": "code",
   "execution_count": 140,
   "metadata": {},
   "outputs": [],
   "source": [
    "# another approach\n",
    "# recursion relation:\n",
    "#    any item in pascals tree at row i and col j\n",
    "#    f(i, j) = f(i-1, j-1) + f(i-1, j)\n",
    "# \n",
    "# base case:\n",
    "#    f(i, j)=1 if j = 1 or j = i\n",
    "#\n",
    "hist = {}   # cache results with 'i,j' key\n",
    "def get_pascal_item(i, j):\n",
    "    if j == 1 or j == i:\n",
    "        return 1\n",
    "    key = f'{i},{j}'\n",
    "    if key in hist:\n",
    "        return hist[key]\n",
    "    ret = get_pascal_item(i-1, j-1) + get_pascal_item(i-1, j)\n",
    "    hist[key] = ret\n",
    "    return ret\n",
    "\n",
    "def get_pascal_triangle(n): \n",
    "    ret = []\n",
    "    for i in range(1, n+1):\n",
    "        cur_row = []\n",
    "        for j in range(1, i+1):\n",
    "            cur_row.append(get_pascal_item(i,j))\n",
    "        ret.append(cur_row)\n",
    "    return ret"
   ]
  },
  {
   "cell_type": "code",
   "execution_count": 141,
   "metadata": {},
   "outputs": [
    {
     "data": {
      "text/plain": [
       "6"
      ]
     },
     "execution_count": 141,
     "metadata": {},
     "output_type": "execute_result"
    }
   ],
   "source": [
    "get_pascal_item(5,3)"
   ]
  },
  {
   "cell_type": "code",
   "execution_count": 145,
   "metadata": {},
   "outputs": [
    {
     "data": {
      "text/plain": [
       "[[1],\n",
       " [1, 1],\n",
       " [1, 2, 1],\n",
       " [1, 3, 3, 1],\n",
       " [1, 4, 6, 4, 1],\n",
       " [1, 5, 10, 10, 5, 1],\n",
       " [1, 6, 15, 20, 15, 6, 1]]"
      ]
     },
     "execution_count": 145,
     "metadata": {},
     "output_type": "execute_result"
    }
   ],
   "source": [
    "get_pascal_triangle(7)"
   ]
  },
  {
   "cell_type": "code",
   "execution_count": 189,
   "metadata": {},
   "outputs": [],
   "source": [
    "# reverse a linked list recursively\n",
    "# 1->2->3  => .  3->2->1\n",
    "# \n",
    "# \n",
    "from collections import deque\n",
    "\n",
    "def push_to_stack(root, stack):\n",
    "    if root is None:\n",
    "        return\n",
    "    else:\n",
    "        stack.append(root.val)\n",
    "        push_to_stack(root.next, stack)"
   ]
  },
  {
   "cell_type": "code",
   "execution_count": 191,
   "metadata": {},
   "outputs": [
    {
     "data": {
      "text/plain": [
       "deque([1, 2, 3])"
      ]
     },
     "execution_count": 191,
     "metadata": {},
     "output_type": "execute_result"
    }
   ],
   "source": [
    "lst_2 = Node(1, Node(2, Node(3)))\n",
    "stck = deque()\n",
    "push_to_stack(lst_2, stck)\n",
    "stck"
   ]
  },
  {
   "cell_type": "code",
   "execution_count": 192,
   "metadata": {},
   "outputs": [],
   "source": [
    "def pull_from_stack(root, stack):\n",
    "    if stack:\n",
    "        root.val = stack.pop()\n",
    "        pull_from_stack(root.next, stack)"
   ]
  },
  {
   "cell_type": "code",
   "execution_count": 193,
   "metadata": {},
   "outputs": [],
   "source": [
    "pull_from_stack(lst_2, stck)"
   ]
  },
  {
   "cell_type": "code",
   "execution_count": 194,
   "metadata": {},
   "outputs": [
    {
     "name": "stdout",
     "output_type": "stream",
     "text": [
      "3 -> 2 -> 1 -> None\n"
     ]
    }
   ],
   "source": [
    "print(lst_2)"
   ]
  },
  {
   "cell_type": "code",
   "execution_count": 210,
   "metadata": {},
   "outputs": [],
   "source": [
    "# # reverse a linked list iteratively\n",
    "#  time compl O(N)\n",
    "#  space compl O(1)\n",
    "# \n",
    "def reverse_it(root):\n",
    "    prev = None\n",
    "    cur = root\n",
    "    \n",
    "    while cur is not None:\n",
    "        tmp = cur.next\n",
    "        cur.next = prev\n",
    "        prev = cur\n",
    "        cur = tmp\n",
    "    return prev"
   ]
  },
  {
   "cell_type": "code",
   "execution_count": 211,
   "metadata": {},
   "outputs": [
    {
     "name": "stdout",
     "output_type": "stream",
     "text": [
      "3 -> 2 -> 1 -> None\n"
     ]
    }
   ],
   "source": [
    "print(reverse_it(Node(1, Node(2, Node(3)))))"
   ]
  },
  {
   "cell_type": "code",
   "execution_count": 220,
   "metadata": {},
   "outputs": [],
   "source": [
    "# Climbing Stairs\n",
    "# You are climbing a stair case. It takes n steps to reach to the top.\n",
    "# Each time you can either climb 1 or 2 steps. In how many distinct ways can you climb to the top?\n",
    "# \n",
    "#  recursive relation:\n",
    "#  P(1) = 1\n",
    "#  P(2) = 2\n",
    "#  P(3) = P(1) + P(2) = 3\n",
    "#  P(4) = P(3) + P(2)\n",
    "\n",
    "cache ={}\n",
    "def stairs(n):\n",
    "    if n < 4:\n",
    "        return n\n",
    "    if n in cache:\n",
    "        return cache[n]\n",
    "    \n",
    "    ret = stairs(n-1) + stairs(n-2)\n",
    "    cache[n] = ret\n",
    "    return ret"
   ]
  },
  {
   "cell_type": "code",
   "execution_count": 224,
   "metadata": {},
   "outputs": [
    {
     "data": {
      "text/plain": [
       "8"
      ]
     },
     "execution_count": 224,
     "metadata": {},
     "output_type": "execute_result"
    }
   ],
   "source": [
    "stairs(5)"
   ]
  },
  {
   "cell_type": "code",
   "execution_count": 226,
   "metadata": {},
   "outputs": [],
   "source": [
    "# maximum depth of a binary tree\n",
    "\n",
    "max_depth = 0\n",
    "def get_max_depth(root, steps):\n",
    "    global max_depth\n",
    "\n",
    "    if root.left is None and root.right is None: # leaf node\n",
    "        max_depth = max(max_depth, steps) \n",
    "    \n",
    "    if root.left:\n",
    "        get_max_depth(root.left, steps+1)\n",
    "    if root.right:\n",
    "        get_max_depth(root.right, steps+1)"
   ]
  },
  {
   "cell_type": "code",
   "execution_count": 1,
   "metadata": {},
   "outputs": [],
   "source": [
    "# can you make it tail recursive?\n",
    "# can you do it iteratively?"
   ]
  },
  {
   "cell_type": "code",
   "execution_count": 2,
   "metadata": {},
   "outputs": [],
   "source": [
    "# implement pow(n, k) = n^k"
   ]
  },
  {
   "cell_type": "code",
   "execution_count": 3,
   "metadata": {},
   "outputs": [],
   "source": [
    "# brute force\n",
    "# O(n) time compl.\n",
    "# O(1) space compl.\n",
    "# Timing out, not performant\n",
    "def pown(n,k):\n",
    "    if k == 0:\n",
    "        return 1\n",
    "    \n",
    "    it = abs(k)\n",
    "    multp = n if k>0 else 1/n\n",
    "    ret = 1\n",
    "    \n",
    "    for _ in range(it):\n",
    "        ret = ret * multp\n",
    "\n",
    "    return ret"
   ]
  },
  {
   "cell_type": "code",
   "execution_count": 4,
   "metadata": {},
   "outputs": [
    {
     "data": {
      "text/plain": [
       "8"
      ]
     },
     "execution_count": 4,
     "metadata": {},
     "output_type": "execute_result"
    }
   ],
   "source": [
    "pown(2, 3)"
   ]
  },
  {
   "cell_type": "code",
   "execution_count": 5,
   "metadata": {},
   "outputs": [
    {
     "data": {
      "text/plain": [
       "0.25"
      ]
     },
     "execution_count": 5,
     "metadata": {},
     "output_type": "execute_result"
    }
   ],
   "source": [
    "pown(2, -2)"
   ]
  },
  {
   "cell_type": "code",
   "execution_count": 7,
   "metadata": {},
   "outputs": [
    {
     "ename": "KeyboardInterrupt",
     "evalue": "",
     "output_type": "error",
     "traceback": [
      "\u001b[0;31m---------------------------------------------------------------------------\u001b[0m",
      "\u001b[0;31mKeyboardInterrupt\u001b[0m                         Traceback (most recent call last)",
      "\u001b[0;32m<ipython-input-7-8b136b9a1c97>\u001b[0m in \u001b[0;36m<module>\u001b[0;34m\u001b[0m\n\u001b[0;32m----> 1\u001b[0;31m \u001b[0mpown\u001b[0m\u001b[0;34m(\u001b[0m\u001b[0;36m0.00001\u001b[0m\u001b[0;34m,\u001b[0m \u001b[0;36m2147483647\u001b[0m\u001b[0;34m)\u001b[0m\u001b[0;34m\u001b[0m\u001b[0;34m\u001b[0m\u001b[0m\n\u001b[0m",
      "\u001b[0;32m<ipython-input-3-e11ac81bbea9>\u001b[0m in \u001b[0;36mpown\u001b[0;34m(n, k)\u001b[0m\n\u001b[1;32m      7\u001b[0m     \u001b[0mret\u001b[0m \u001b[0;34m=\u001b[0m \u001b[0;36m1\u001b[0m\u001b[0;34m\u001b[0m\u001b[0;34m\u001b[0m\u001b[0m\n\u001b[1;32m      8\u001b[0m \u001b[0;34m\u001b[0m\u001b[0m\n\u001b[0;32m----> 9\u001b[0;31m     \u001b[0;32mfor\u001b[0m \u001b[0m_\u001b[0m \u001b[0;32min\u001b[0m \u001b[0mrange\u001b[0m\u001b[0;34m(\u001b[0m\u001b[0mit\u001b[0m\u001b[0;34m)\u001b[0m\u001b[0;34m:\u001b[0m\u001b[0;34m\u001b[0m\u001b[0;34m\u001b[0m\u001b[0m\n\u001b[0m\u001b[1;32m     10\u001b[0m         \u001b[0mret\u001b[0m \u001b[0;34m=\u001b[0m \u001b[0mret\u001b[0m \u001b[0;34m*\u001b[0m \u001b[0mmultp\u001b[0m\u001b[0;34m\u001b[0m\u001b[0;34m\u001b[0m\u001b[0m\n\u001b[1;32m     11\u001b[0m \u001b[0;34m\u001b[0m\u001b[0m\n",
      "\u001b[0;31mKeyboardInterrupt\u001b[0m: "
     ]
    }
   ],
   "source": [
    "# this times out\n",
    "pown(0.00001, 2147483647)"
   ]
  },
  {
   "cell_type": "code",
   "execution_count": 81,
   "metadata": {},
   "outputs": [],
   "source": [
    "# use the fact that x^2n = (x^n)^2\n",
    "import math \n",
    "\n",
    "def pown_sqrt(n, k):\n",
    "    pass"
   ]
  },
  {
   "cell_type": "code",
   "execution_count": 94,
   "metadata": {},
   "outputs": [],
   "source": [
    "# merge two sorted lists\n",
    "# Input: 1->2->4, 1->3->4\n",
    "# Output: 1->1->2->3->4->4\n",
    "#\n",
    "# iterative solution\n",
    "\n",
    "def merge_ll(r1, r2):\n",
    "    c1 = r1\n",
    "    c2 = r2\n",
    "    ret = None\n",
    "    \n",
    "    if c1.val < c2.val:\n",
    "        ret = Node(c1.val)\n",
    "        c1 = c1.next\n",
    "    else:\n",
    "        ret = Node(c2.val)\n",
    "        c2 = c2.next\n",
    "        \n",
    "    cur_head = ret\n",
    "\n",
    "    while c1 and c2:\n",
    "        new_node = None\n",
    "        if c1.val < c2.val:\n",
    "            new_node = Node(c1.val)\n",
    "            c1 = c1.next\n",
    "        else:\n",
    "            new_node = Node(c2.val)\n",
    "            c2 = c2.next\n",
    "        cur_head.next = new_node\n",
    "        cur_head = cur_head.next\n",
    "    \n",
    "    if c1 is None: # first c1 finished, append rest of c2\n",
    "        while c2 is not None:\n",
    "            cur_head.next = Node(c2.val)\n",
    "            cur_head = cur_head.next\n",
    "            c2 = c2.next\n",
    "    elif c2 is None:\n",
    "        while c1 is not None:\n",
    "            cur_head.next = Node(c1.val)\n",
    "            cur_head = cur_head.next\n",
    "            c1 = c1.next\n",
    "    \n",
    "    return ret"
   ]
  },
  {
   "cell_type": "code",
   "execution_count": 95,
   "metadata": {},
   "outputs": [],
   "source": [
    "r1 = Node(1, Node(2, Node(4)))\n",
    "r2 = Node(1, Node(3, Node(4)))"
   ]
  },
  {
   "cell_type": "code",
   "execution_count": 96,
   "metadata": {},
   "outputs": [
    {
     "name": "stdout",
     "output_type": "stream",
     "text": [
      "1 -> 1 -> 2 -> 3 -> 4 -> 4 -> None\n"
     ]
    }
   ],
   "source": [
    "print(merge_ll(r1, r2))"
   ]
  }
 ],
 "metadata": {
  "kernelspec": {
   "display_name": "Python 3",
   "language": "python",
   "name": "python3"
  },
  "language_info": {
   "codemirror_mode": {
    "name": "ipython",
    "version": 3
   },
   "file_extension": ".py",
   "mimetype": "text/x-python",
   "name": "python",
   "nbconvert_exporter": "python",
   "pygments_lexer": "ipython3",
   "version": "3.7.2"
  }
 },
 "nbformat": 4,
 "nbformat_minor": 2
}
