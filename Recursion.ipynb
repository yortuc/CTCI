{
 "cells": [
  {
   "cell_type": "code",
   "execution_count": 1,
   "metadata": {},
   "outputs": [],
   "source": [
    "# reverse a string without using extra space other then system stack"
   ]
  },
  {
   "cell_type": "code",
   "execution_count": 2,
   "metadata": {},
   "outputs": [],
   "source": [
    "# s: List[str]\n",
    "def reverse_str(s, index=0):\n",
    "    if index == len(s)//2:\n",
    "        return\n",
    "    else:\n",
    "        mirr_index = len(s)-index-1\n",
    "        tmp = s[index] \n",
    "        s[index] = s[mirr_index]\n",
    "        s[mirr_index] = tmp\n",
    "        reverse_str(s, index+1)"
   ]
  },
  {
   "cell_type": "code",
   "execution_count": 4,
   "metadata": {},
   "outputs": [
    {
     "name": "stdout",
     "output_type": "stream",
     "text": [
      "['n', 'e', 'r', 'v', 'e']\n"
     ]
    }
   ],
   "source": [
    "s = ['e', 'v', 'r', 'e', 'n']\n",
    "reverse_str(s)\n",
    "print(s)"
   ]
  },
  {
   "cell_type": "code",
   "execution_count": 80,
   "metadata": {},
   "outputs": [],
   "source": [
    "# swap adjacent items in a linked list\n",
    "# 1->2->3->4 return 2->1->4->3\n",
    "class Node:\n",
    "    def __init__(self, val, next=None):\n",
    "        self.val = val\n",
    "        self.next = next\n",
    "    def __str__(self):\n",
    "        return f'{self.val} -> {self.next}'"
   ]
  },
  {
   "cell_type": "code",
   "execution_count": 91,
   "metadata": {},
   "outputs": [],
   "source": [
    "def swap(r):     # 1->2->3->4\n",
    "    if r is not None and r.next is not None:\n",
    "        tmp = r.next.val # 2\n",
    "        r.next.val = r.val\n",
    "        r.val = tmp\n",
    "        swap(r.next.next)\n",
    "    return r"
   ]
  },
  {
   "cell_type": "code",
   "execution_count": 93,
   "metadata": {},
   "outputs": [
    {
     "name": "stdout",
     "output_type": "stream",
     "text": [
      "2 -> 1 -> 4 -> 3 -> None\n"
     ]
    }
   ],
   "source": [
    "lst = Node(1, Node(2, Node(3, Node(4))))\n",
    "print(swap(lst))"
   ]
  },
  {
   "cell_type": "code",
   "execution_count": 127,
   "metadata": {},
   "outputs": [],
   "source": [
    "# generate pascal's triangle up to a given row count\n",
    "#\n",
    "# top-down: n -> 1\n",
    "#    recursion relation:\n",
    "#      P(n+1) = [1] + inner_sum(n) + [1]\n",
    "#      inner_sum([1 2 1]) => [3 3]\n",
    "# \n",
    "\n",
    "p_t = []\n",
    "\n",
    "def inner_sum(arr):\n",
    "    ret = []\n",
    "    for i in range(len(arr)-1):\n",
    "        ret.append(arr[i] + arr[i+1])\n",
    "    p_t.append([1] + ret + [1])\n",
    "    return [1] + ret + [1]\n",
    "\n",
    "def pascal(n):\n",
    "    if n == 1:\n",
    "        return [1]\n",
    "    \n",
    "    return inner_sum(pascal(n-1))"
   ]
  },
  {
   "cell_type": "code",
   "execution_count": 128,
   "metadata": {},
   "outputs": [
    {
     "data": {
      "text/plain": [
       "[1, 4, 6, 4, 1]"
      ]
     },
     "execution_count": 128,
     "metadata": {},
     "output_type": "execute_result"
    }
   ],
   "source": [
    "pascal(5)"
   ]
  },
  {
   "cell_type": "code",
   "execution_count": 129,
   "metadata": {},
   "outputs": [
    {
     "data": {
      "text/plain": [
       "[[1, 1], [1, 2, 1], [1, 3, 3, 1], [1, 4, 6, 4, 1]]"
      ]
     },
     "execution_count": 129,
     "metadata": {},
     "output_type": "execute_result"
    }
   ],
   "source": [
    "p_t"
   ]
  },
  {
   "cell_type": "code",
   "execution_count": 132,
   "metadata": {},
   "outputs": [],
   "source": [
    "# another approach\n",
    "# recursion relation:\n",
    "#    any item in pascals tree at row i and col j\n",
    "#    f(i, j) = f(i-1, j-1) + f(i-1, j)\n",
    "# \n",
    "# base case:\n",
    "#    f(i, j)=1 if j = 1 or j = i\n",
    "#\n",
    "def get_pascal_item(i, j):\n",
    "    if j == 1 or j == i:\n",
    "        return 1\n",
    "    \n",
    "    return get_pascal_item(i-1, j-1) + get_pascal_item(i-1, j)\n",
    "\n",
    "def get_pascal_triangle(n): \n",
    "    ret = []\n",
    "    for i in range(1, n+1):\n",
    "        cur_row = []\n",
    "        for j in range(1, i+1):\n",
    "            cur_row.append(get_pascal_item(i,j))\n",
    "        ret.append(cur_row)\n",
    "    return ret"
   ]
  },
  {
   "cell_type": "code",
   "execution_count": 133,
   "metadata": {},
   "outputs": [
    {
     "data": {
      "text/plain": [
       "6"
      ]
     },
     "execution_count": 133,
     "metadata": {},
     "output_type": "execute_result"
    }
   ],
   "source": [
    "get_pascal_item(5,3)"
   ]
  },
  {
   "cell_type": "code",
   "execution_count": 135,
   "metadata": {},
   "outputs": [
    {
     "data": {
      "text/plain": [
       "[[1], [1, 1], [1, 2, 1], [1, 3, 3, 1], [1, 4, 6, 4, 1]]"
      ]
     },
     "execution_count": 135,
     "metadata": {},
     "output_type": "execute_result"
    }
   ],
   "source": [
    "get_pascal_triangle(5)"
   ]
  },
  {
   "cell_type": "code",
   "execution_count": null,
   "metadata": {},
   "outputs": [],
   "source": []
  }
 ],
 "metadata": {
  "kernelspec": {
   "display_name": "Python 3",
   "language": "python",
   "name": "python3"
  },
  "language_info": {
   "codemirror_mode": {
    "name": "ipython",
    "version": 3
   },
   "file_extension": ".py",
   "mimetype": "text/x-python",
   "name": "python",
   "nbconvert_exporter": "python",
   "pygments_lexer": "ipython3",
   "version": "3.7.2"
  }
 },
 "nbformat": 4,
 "nbformat_minor": 2
}
