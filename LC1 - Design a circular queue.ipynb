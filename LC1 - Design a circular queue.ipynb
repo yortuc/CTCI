{
 "cells": [
  {
   "cell_type": "markdown",
   "metadata": {},
   "source": [
    "# Using Linked List"
   ]
  },
  {
   "cell_type": "code",
   "execution_count": 35,
   "metadata": {},
   "outputs": [],
   "source": [
    "class Node:\n",
    "    def __init__(self, value, next=None):\n",
    "        self.next = next\n",
    "        self.value = value\n",
    "        \n",
    "class MyCircularQueue:\n",
    "    def __init__(self, k: int):\n",
    "        \"\"\"\n",
    "        Initialize your data structure here. Set the size of the queue to be k.\n",
    "        \"\"\"\n",
    "        self.size = k\n",
    "        self.itemsize = 0\n",
    "        self.endnode = None\n",
    "        self.startnode = None\n",
    "        \n",
    "    def enQueue(self, value: int) -> bool:\n",
    "        \"\"\"\n",
    "        Insert an element into the circular queue. Return true if the operation is successful.\n",
    "        \"\"\"\n",
    "        if self.isFull():\n",
    "            return False\n",
    "        else:\n",
    "            node = Node(value)\n",
    "            if self.isEmpty():\n",
    "                self.startnode = node\n",
    "            else:\n",
    "                self.endnode.next = node\n",
    "            self.endnode = node   \n",
    "            self.itemsize += 1\n",
    "            return True\n",
    "\n",
    "    def deQueue(self) -> bool:\n",
    "        \"\"\"\n",
    "        Delete an element from the circular queue. Return true if the operation is successful.\n",
    "        \"\"\"\n",
    "        if self.isEmpty():\n",
    "            return False\n",
    "        else:\n",
    "            self.startnode = self.startnode.next\n",
    "            self.itemsize -= 1\n",
    "            return True\n",
    "\n",
    "    def Front(self) -> int:\n",
    "        \"\"\"\n",
    "        Get the front item from the queue.\n",
    "        \"\"\"\n",
    "        if self.isEmpty():\n",
    "            return -1\n",
    "        else:\n",
    "            return self.startnode.value\n",
    "\n",
    "    def Rear(self) -> int:\n",
    "        \"\"\"\n",
    "        Get the last item from the queue.\n",
    "        \"\"\"\n",
    "        if self.isEmpty():\n",
    "            return -1\n",
    "        else:\n",
    "            return self.endnode.value\n",
    "\n",
    "    def isEmpty(self) -> bool:\n",
    "        \"\"\"\n",
    "        Checks whether the circular queue is empty or not.\n",
    "        \"\"\"\n",
    "        return self.itemsize == 0\n",
    "        \n",
    "\n",
    "    def isFull(self) -> bool:\n",
    "        \"\"\"\n",
    "        Checks whether the circular queue is full or not.\n",
    "        \"\"\"\n",
    "        return self.itemsize == self.size"
   ]
  },
  {
   "cell_type": "code",
   "execution_count": 36,
   "metadata": {},
   "outputs": [
    {
     "name": "stdout",
     "output_type": "stream",
     "text": [
      "False\n",
      "False\n",
      "4\n",
      "3\n"
     ]
    }
   ],
   "source": [
    "# [\"MyCircularQueue\",\"enQueue\",\"Rear\",\"Front\",\"deQueue\",\n",
    "#  \"Front\",\"deQueue\",\"Front\",\"enQueue\",\"enQueue\",\"enQueue\",\"enQueue\"]\n",
    "# [[3],[2],[],[],[],[],[],[],[4],[2],[2],[3]]\n",
    "\n",
    "q = MyCircularQueue(3)\n",
    "q.enQueue(2)\n",
    "q.enQueue(3)\n",
    "q.deQueue()\n",
    "print(q.isFull())\n",
    "q.enQueue(4)\n",
    "print(q.isFull())\n",
    "print(q.Rear())\n",
    "print(q.Front())"
   ]
  },
  {
   "cell_type": "markdown",
   "metadata": {},
   "source": [
    "# Using Array"
   ]
  },
  {
   "cell_type": "code",
   "execution_count": 37,
   "metadata": {},
   "outputs": [],
   "source": [
    "class MyCircularQueue:\n",
    "    def __init__(self, k: int):\n",
    "        \"\"\"\n",
    "        Initialize your data structure here. Set the size of the queue to be k.\n",
    "        \"\"\"\n",
    "        self.size = k\n",
    "        self.arr = [None] * k\n",
    "        self.start = 0\n",
    "        self.end = -1\n",
    "        self.itemsize = 0\n",
    "\n",
    "    def enQueue(self, value: int) -> bool:\n",
    "        \"\"\"\n",
    "        Insert an element into the circular queue. Return true if the operation is successful.\n",
    "        \"\"\"\n",
    "        if self.isFull():\n",
    "            return False\n",
    "        else:\n",
    "            self.itemsize += 1\n",
    "            self.end = self.end + 1\n",
    "            rear_index = self.end % self.size\n",
    "            self.arr[rear_index] = value\n",
    "            return True\n",
    "\n",
    "    def deQueue(self) -> bool:\n",
    "        \"\"\"\n",
    "        Delete an element from the circular queue. Return true if the operation is successful.\n",
    "        \"\"\"\n",
    "        if self.isEmpty():\n",
    "            return False\n",
    "        else:\n",
    "            self.start = self.start + 1\n",
    "            self.itemsize -= 1\n",
    "            return True\n",
    "\n",
    "    def Front(self) -> int:\n",
    "        \"\"\"\n",
    "        Get the front item from the queue.\n",
    "        \"\"\"\n",
    "        if self.isEmpty():\n",
    "            return -1\n",
    "        else:\n",
    "            front_index = self.start % self.size\n",
    "            return self.arr[front_index]\n",
    "\n",
    "    def Rear(self) -> int:\n",
    "        \"\"\"\n",
    "        Get the last item from the queue.\n",
    "        \"\"\"\n",
    "        if self.isEmpty():\n",
    "            return -1\n",
    "        else:\n",
    "            rear_index = self.end % self.size\n",
    "            return self.arr[rear_index]\n",
    "\n",
    "    def isEmpty(self) -> bool:\n",
    "        \"\"\"\n",
    "        Checks whether the circular queue is empty or not.\n",
    "        \"\"\"\n",
    "        return self.itemsize == 0\n",
    "        \n",
    "\n",
    "    def isFull(self) -> bool:\n",
    "        \"\"\"\n",
    "        Checks whether the circular queue is full or not.\n",
    "        \"\"\"\n",
    "        return self.itemsize == self.size"
   ]
  },
  {
   "cell_type": "code",
   "execution_count": 45,
   "metadata": {},
   "outputs": [
    {
     "ename": "AttributeError",
     "evalue": "'collections.deque' object has no attribute 'deque'",
     "output_type": "error",
     "traceback": [
      "\u001b[0;31m---------------------------------------------------------------------------\u001b[0m",
      "\u001b[0;31mAttributeError\u001b[0m                            Traceback (most recent call last)",
      "\u001b[0;32m<ipython-input-45-5743f725a665>\u001b[0m in \u001b[0;36m<module>\u001b[0;34m\u001b[0m\n\u001b[1;32m      4\u001b[0m \u001b[0ma\u001b[0m\u001b[0;34m.\u001b[0m\u001b[0mappend\u001b[0m\u001b[0;34m(\u001b[0m\u001b[0;36m3\u001b[0m\u001b[0;34m)\u001b[0m\u001b[0;34m\u001b[0m\u001b[0;34m\u001b[0m\u001b[0m\n\u001b[1;32m      5\u001b[0m \u001b[0ma\u001b[0m\u001b[0;34m.\u001b[0m\u001b[0mappend\u001b[0m\u001b[0;34m(\u001b[0m\u001b[0;36m2\u001b[0m\u001b[0;34m)\u001b[0m\u001b[0;34m\u001b[0m\u001b[0;34m\u001b[0m\u001b[0m\n\u001b[0;32m----> 6\u001b[0;31m \u001b[0ma\u001b[0m\u001b[0;34m.\u001b[0m\u001b[0mdeque\u001b[0m\u001b[0;34m(\u001b[0m\u001b[0;34m)\u001b[0m\u001b[0;34m\u001b[0m\u001b[0;34m\u001b[0m\u001b[0m\n\u001b[0m",
      "\u001b[0;31mAttributeError\u001b[0m: 'collections.deque' object has no attribute 'deque'"
     ]
    }
   ],
   "source": [
    "from collections import deque\n",
    "a = deque()\n",
    "a.append(5)\n",
    "a.append(3)\n",
    "a.append(2)\n",
    "a."
   ]
  },
  {
   "cell_type": "code",
   "execution_count": null,
   "metadata": {},
   "outputs": [],
   "source": []
  }
 ],
 "metadata": {
  "kernelspec": {
   "display_name": "Python 3",
   "language": "python",
   "name": "python3"
  },
  "language_info": {
   "codemirror_mode": {
    "name": "ipython",
    "version": 3
   },
   "file_extension": ".py",
   "mimetype": "text/x-python",
   "name": "python",
   "nbconvert_exporter": "python",
   "pygments_lexer": "ipython3",
   "version": "3.7.2"
  }
 },
 "nbformat": 4,
 "nbformat_minor": 2
}
