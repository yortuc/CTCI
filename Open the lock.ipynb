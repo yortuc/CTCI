{
 "cells": [
  {
   "cell_type": "markdown",
   "metadata": {},
   "source": [
    "# Open the lock"
   ]
  },
  {
   "cell_type": "markdown",
   "metadata": {},
   "source": [
    "You have a lock in front of you with 4 circular wheels. Each wheel has 10 slots: '0', '1', '2', '3', '4', '5', '6', '7', '8', '9'. The wheels can rotate freely and wrap around: for example we can turn '9' to be '0', or '0' to be '9'. Each move consists of turning one wheel one slot.\n",
    "\n",
    "The lock initially starts at '0000', a string representing the state of the 4 wheels.\n",
    "\n",
    "You are given a list of deadends dead ends, meaning if the lock displays any of these codes, the wheels of the lock will stop turning and you will be unable to open it.\n",
    "\n",
    "Given a target representing the value of the wheels that will unlock the lock, return the minimum total number of turns required to open the lock, or -1 if it is impossible."
   ]
  },
  {
   "cell_type": "markdown",
   "metadata": {},
   "source": [
    "**Example 1:**\n",
    "\n",
    "Input: `deadends = [\"0201\",\"0101\",\"0102\",\"1212\",\"2002\"]` target = `\"0202\"`\n",
    "\n",
    "Output: `6`\n",
    "\n",
    "Explanation:\n",
    "\n",
    "```\n",
    "A sequence of valid moves would be \"0000\" -> \"1000\" -> \"1100\" -> \"1200\" -> \"1201\" -> \"1202\" -> \"0202\".\n",
    "Note that a sequence like \"0000\" -> \"0001\" -> \"0002\" -> \"0102\" -> \"0202\" would be invalid,\n",
    "because the wheels of the lock become stuck after the display becomes the dead end \"0102\".\n",
    "```"
   ]
  },
  {
   "cell_type": "code",
   "execution_count": 66,
   "metadata": {},
   "outputs": [],
   "source": [
    "# start with 0000, create 0001, 0010, 0100, 1000 and push to queue.\n",
    "# pop from stack, do the same for each items in the stack. if it's deadend, return false\n",
    "# hisotry is necessary otherwise we can get into an infinite loop\n",
    "\n",
    "from collections import deque\n",
    "\n",
    "def open_lock(key, dead_ends, target, q, steps, hist):\n",
    "    if key in dead_ends:\n",
    "        return -1\n",
    "    \n",
    "    while len(q) > 0:\n",
    "        lenq = len(q)\n",
    "        for _ in range(lenq):\n",
    "            itm = q.popleft()\n",
    "            if itm == target:\n",
    "                return steps\n",
    "            \n",
    "            # process neighbors\n",
    "            for i in range(4):\n",
    "                frw = itm[:i] + str((int(itm[i:i+1]) + 1)%9) + itm[i+1:]\n",
    "                ngtv = 9 if int(itm[i:i+1]) == 0 else int(itm[i:i+1]) - 1\n",
    "                bck = itm[:i] + str(ngtv) + itm[i+1:]\n",
    "                if frw not in hist and frw not in dead_ends:\n",
    "                    q.append(frw)\n",
    "                    hist.add(frw)\n",
    "                if bck not in hist and bck not in dead_ends:\n",
    "                    q.append(bck)\n",
    "                    hist.add(bck)\n",
    "        steps = steps+1\n",
    "    return -1"
   ]
  },
  {
   "cell_type": "code",
   "execution_count": 67,
   "metadata": {},
   "outputs": [
    {
     "data": {
      "text/plain": [
       "6"
      ]
     },
     "execution_count": 67,
     "metadata": {},
     "output_type": "execute_result"
    }
   ],
   "source": [
    "open_lock(key='0000', \n",
    "          dead_ends=[\"0201\",\"0101\",\"0102\",\"1212\",\"2002\"], \n",
    "          target='0202', \n",
    "          q=deque(['0000']), \n",
    "          steps=0,\n",
    "          hist=set('0000'))"
   ]
  },
  {
   "cell_type": "code",
   "execution_count": 68,
   "metadata": {},
   "outputs": [
    {
     "data": {
      "text/plain": [
       "1"
      ]
     },
     "execution_count": 68,
     "metadata": {},
     "output_type": "execute_result"
    }
   ],
   "source": [
    "# Input: deadends = [\"8888\"], target = \"0009\"\n",
    "# Output: 1\n",
    "# Explanation:\n",
    "# We can turn the last wheel in reverse to move from \"0000\" -> \"0009\".\n",
    "open_lock(key='0000', \n",
    "          dead_ends=[\"8888\"], \n",
    "          target='0009', \n",
    "          q=deque(['0000']), \n",
    "          steps=0,\n",
    "          hist=set('0000'))"
   ]
  },
  {
   "cell_type": "code",
   "execution_count": 69,
   "metadata": {},
   "outputs": [
    {
     "data": {
      "text/plain": [
       "-1"
      ]
     },
     "execution_count": 69,
     "metadata": {},
     "output_type": "execute_result"
    }
   ],
   "source": [
    "# Input: deadends = [\"8887\",\"8889\",\"8878\",\"8898\",\"8788\",\"8988\",\"7888\",\"9888\"], target = \"8888\"\n",
    "# Output: -1\n",
    "# Explanation:\n",
    "# We can't reach the target without getting stuck.\n",
    "open_lock(key='0000', \n",
    "          dead_ends=[\"8887\",\"8889\",\"8878\",\"8898\",\"8788\",\"8988\",\"7888\",\"9888\"], \n",
    "          target='8888', \n",
    "          q=deque(['0000']), \n",
    "          steps=0,\n",
    "          hist=set('0000'))"
   ]
  },
  {
   "cell_type": "code",
   "execution_count": 70,
   "metadata": {},
   "outputs": [
    {
     "data": {
      "text/plain": [
       "-1"
      ]
     },
     "execution_count": 70,
     "metadata": {},
     "output_type": "execute_result"
    }
   ],
   "source": [
    "# Input: deadends = [\"0000\"], target = \"8888\"\n",
    "# Output: -1\n",
    "\n",
    "open_lock(key='0000', \n",
    "          dead_ends=[\"0000\"], \n",
    "          target='8888', \n",
    "          q=deque(['0000']), \n",
    "          steps=0,\n",
    "          hist=set('0000'))"
   ]
  },
  {
   "cell_type": "code",
   "execution_count": null,
   "metadata": {},
   "outputs": [],
   "source": []
  }
 ],
 "metadata": {
  "kernelspec": {
   "display_name": "Python 3",
   "language": "python",
   "name": "python3"
  },
  "language_info": {
   "codemirror_mode": {
    "name": "ipython",
    "version": 3
   },
   "file_extension": ".py",
   "mimetype": "text/x-python",
   "name": "python",
   "nbconvert_exporter": "python",
   "pygments_lexer": "ipython3",
   "version": "3.7.2"
  }
 },
 "nbformat": 4,
 "nbformat_minor": 2
}
