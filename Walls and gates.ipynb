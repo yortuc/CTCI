{
 "cells": [
  {
   "cell_type": "markdown",
   "metadata": {},
   "source": [
    "# Walls and gates "
   ]
  },
  {
   "cell_type": "code",
   "execution_count": 2,
   "metadata": {},
   "outputs": [],
   "source": [
    "from collections import deque\n",
    "INF = 2123412312"
   ]
  },
  {
   "cell_type": "code",
   "execution_count": 3,
   "metadata": {},
   "outputs": [],
   "source": [
    "class Cell:\n",
    "    def __init__(self, j, i):\n",
    "        self.j = j\n",
    "        self.i = i"
   ]
  },
  {
   "cell_type": "code",
   "execution_count": 4,
   "metadata": {},
   "outputs": [],
   "source": [
    "def get_steps(rooms, q):\n",
    "    steps = 0\n",
    "    hist = set()\n",
    "    while len(q)>0:\n",
    "        lenq = len(q)\n",
    "        for m in range(lenq):  # process queue\n",
    "            itm = q.popleft()        \n",
    "            if rooms[itm.j][itm.i] == 0: # gate reached\n",
    "                return steps\n",
    "            if itm.i>0:                 # left\n",
    "                if rooms[itm.j][itm.i-1] >= 0 and (itm.j, itm.i-1) not in hist:\n",
    "                    q.append(Cell(itm.j, itm.i-1))\n",
    "                    hist.add((itm.j, itm.i-1))\n",
    "            if itm.i<len(rooms[0])-1:   # right\n",
    "                if rooms[itm.j][itm.i+1] >= 0 and (itm.j, itm.i+1) not in hist:\n",
    "                    q.append(Cell(itm.j, itm.i+1))\n",
    "                    hist.add((itm.j, itm.i+1))\n",
    "            if itm.j<len(rooms)-1:      # bottom\n",
    "                if rooms[itm.j+1][itm.i] >= 0 and (itm.j+1, itm.i) not in hist:\n",
    "                    q.append(Cell(itm.j+1, itm.i))\n",
    "                    hist.add((itm.j+1, itm.i))\n",
    "            if itm.j>0:      # up\n",
    "                if rooms[itm.j-1][itm.i] >= 0 and (itm.j-1, itm.i) not in hist:\n",
    "                    q.append(Cell(itm.j-1, itm.i))\n",
    "                    hist.add((itm.j-1, itm.i))\n",
    "        steps = steps + 1\n",
    "    return INF"
   ]
  },
  {
   "cell_type": "code",
   "execution_count": 5,
   "metadata": {},
   "outputs": [],
   "source": [
    "def walls(rooms):\n",
    "    for j in range(len(rooms)):\n",
    "        for i in range(len(rooms[j])):\n",
    "            if rooms[j][i]>0:\n",
    "                rooms[j][i] = get_steps(rooms, deque([Cell(j,i)]))"
   ]
  },
  {
   "cell_type": "code",
   "execution_count": 6,
   "metadata": {},
   "outputs": [
    {
     "name": "stdout",
     "output_type": "stream",
     "text": [
      "[2, 1, 0]\n",
      "[-1, 2, 1]\n",
      "[-1, 3, 2]\n"
     ]
    }
   ],
   "source": [
    "inp = [[INF, INF, 0],\n",
    "       [-1, INF, INF],\n",
    "       [-1, INF, INF]]\n",
    "\n",
    "walls(inp)\n",
    "\n",
    "print(inp[0])\n",
    "print(inp[1])\n",
    "print(inp[2])"
   ]
  },
  {
   "cell_type": "markdown",
   "metadata": {},
   "source": [
    "## Faster solution"
   ]
  },
  {
   "cell_type": "code",
   "execution_count": 8,
   "metadata": {},
   "outputs": [],
   "source": [
    "def update_distances(rooms, q):\n",
    "    steps = 0\n",
    "    hist = set()\n",
    "    while len(q)>0:\n",
    "        # process que\n",
    "        lenq = len(q)\n",
    "        for _ in range(lenq):\n",
    "            itm = q.popleft()\n",
    "            if steps < rooms[itm.j][itm.i]: # room\n",
    "                rooms[itm.j][itm.i] = steps\n",
    "            \n",
    "            # add neighbors\n",
    "            if itm.i>0: # left\n",
    "                if (itm.j, itm.i-1) not in hist and rooms[itm.j][itm.i-1]>0:\n",
    "                    q.append(Cell(itm.j,itm.i-1))\n",
    "                    hist.add((itm.j,itm.i-1))\n",
    "            if itm.i<len(rooms[0])-1: # right\n",
    "                if (itm.j, itm.i+1) not in hist and rooms[itm.j][itm.i+1]>0:\n",
    "                    q.append(Cell(itm.j,itm.i+1))\n",
    "                    hist.add((itm.j,itm.i+1))\n",
    "            if itm.j>0: # up\n",
    "                if (itm.j-1, itm.i) not in hist and rooms[itm.j-1][itm.i]>0:\n",
    "                    q.append(Cell(itm.j-1,itm.i))\n",
    "                    hist.add((itm.j-1,itm.i))\n",
    "            if itm.j<len(rooms)-1: # down\n",
    "                if (itm.j+1, itm.i) not in hist and rooms[itm.j+1][itm.i]>0:\n",
    "                    q.append(Cell(itm.j+1,itm.i))\n",
    "                    hist.add((itm.j+1,itm.i))\n",
    "        steps = steps + 1"
   ]
  },
  {
   "cell_type": "code",
   "execution_count": 9,
   "metadata": {},
   "outputs": [],
   "source": [
    "def walls2(rooms):\n",
    "    for j in range(len(rooms)):\n",
    "        for i in range(len(rooms[j])):\n",
    "            if rooms[j][i] == 0:\n",
    "                update_distances(rooms, deque([Cell(j,i)]))"
   ]
  },
  {
   "cell_type": "code",
   "execution_count": 10,
   "metadata": {},
   "outputs": [
    {
     "name": "stdout",
     "output_type": "stream",
     "text": [
      "[2, 1, 0]\n",
      "[-1, 2, 1]\n",
      "[-1, 1, 0]\n"
     ]
    }
   ],
   "source": [
    "inp = [[INF, INF, 0],\n",
    "       [-1, INF, INF],\n",
    "       [-1, INF, 0]]\n",
    "\n",
    "walls2(inp)\n",
    "\n",
    "print(inp[0])\n",
    "print(inp[1])\n",
    "print(inp[2])"
   ]
  },
  {
   "cell_type": "code",
   "execution_count": null,
   "metadata": {},
   "outputs": [],
   "source": []
  }
 ],
 "metadata": {
  "kernelspec": {
   "display_name": "Python 3",
   "language": "python",
   "name": "python3"
  },
  "language_info": {
   "codemirror_mode": {
    "name": "ipython",
    "version": 3
   },
   "file_extension": ".py",
   "mimetype": "text/x-python",
   "name": "python",
   "nbconvert_exporter": "python",
   "pygments_lexer": "ipython3",
   "version": "3.7.3"
  }
 },
 "nbformat": 4,
 "nbformat_minor": 2
}
