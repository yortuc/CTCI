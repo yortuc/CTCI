{
 "cells": [
  {
   "cell_type": "markdown",
   "metadata": {},
   "source": [
    "# Naive implementation\n",
    "#### python list object has amortised O(1) push but O(N) insert at the beginnig."
   ]
  },
  {
   "cell_type": "code",
   "execution_count": 5,
   "metadata": {},
   "outputs": [],
   "source": [
    "class Stack():\n",
    "    def __init__(self):\n",
    "        self.arr = []\n",
    "    \n",
    "    def push(self, item):\n",
    "        self.arr.append(item)\n",
    "    \n",
    "    def pop(self):\n",
    "        return self.arr.pop()\n",
    "    \n",
    "    def peek(self):\n",
    "        return self.arr[-1]"
   ]
  },
  {
   "cell_type": "code",
   "execution_count": 7,
   "metadata": {},
   "outputs": [
    {
     "name": "stdout",
     "output_type": "stream",
     "text": [
      "[1, 2, 3]\n",
      "[1]\n"
     ]
    }
   ],
   "source": [
    "stack = Stack()\n",
    "stack.push(1)\n",
    "stack.push(2)\n",
    "stack.push(3)\n",
    "\n",
    "print(stack.arr)\n",
    "\n",
    "stack.pop()\n",
    "stack.pop()\n",
    "\n",
    "print(stack.arr)"
   ]
  },
  {
   "cell_type": "markdown",
   "metadata": {},
   "source": [
    "# Deque class\n",
    "#### python has deque object which has O(1) adding operation using doubly linked list"
   ]
  },
  {
   "cell_type": "code",
   "execution_count": 6,
   "metadata": {},
   "outputs": [],
   "source": [
    "from collections import deque"
   ]
  },
  {
   "cell_type": "code",
   "execution_count": 84,
   "metadata": {},
   "outputs": [
    {
     "name": "stdout",
     "output_type": "stream",
     "text": [
      "deque(['evren', 'ezgi', 'uzay', 'deniz'])\n",
      "deque(['evren', 'ezgi'])\n"
     ]
    },
    {
     "data": {
      "text/plain": [
       "2"
      ]
     },
     "execution_count": 84,
     "metadata": {},
     "output_type": "execute_result"
    }
   ],
   "source": [
    "q = deque()\n",
    "q.append('evren')\n",
    "q.append('ezgi')\n",
    "q.append('uzay')\n",
    "q.append('deniz')\n",
    "\n",
    "print(q)\n",
    "\n",
    "q.pop()\n",
    "q.pop()\n",
    "\n",
    "print(q)\n",
    "len(q)"
   ]
  },
  {
   "cell_type": "markdown",
   "metadata": {},
   "source": [
    "#### 1. Three in One: Describe how you could use a single array to implement three stacks."
   ]
  },
  {
   "cell_type": "code",
   "execution_count": 17,
   "metadata": {},
   "outputs": [],
   "source": [
    "# we can use left side, right side -> two stacks.\n",
    "# "
   ]
  },
  {
   "cell_type": "markdown",
   "metadata": {},
   "source": [
    "#### 2. Stack Min: How would you design a stack which, in addition to push and pop, \n",
    "#### has a function min which returns the minimum element? Push, pop and min should all operate in 0(1) time."
   ]
  },
  {
   "cell_type": "code",
   "execution_count": 30,
   "metadata": {},
   "outputs": [],
   "source": [
    "class StackMin():\n",
    "    def __init__(self):\n",
    "        self.arr = []\n",
    "        self.min = 9999999\n",
    "        self.mins_history = []\n",
    "    \n",
    "    def push(self, item): # amortized O(1)\n",
    "        self.arr.append(item)\n",
    "        if item < self.min:\n",
    "            self.min = item\n",
    "            self.mins_history.append(item)\n",
    "    \n",
    "    def pop(self): # O(1)\n",
    "        pop_item = self.arr.pop()\n",
    "        if pop_item == self.min:\n",
    "            self.mins_history.pop()\n",
    "            self.min = self.mins_history[-1]"
   ]
  },
  {
   "cell_type": "code",
   "execution_count": 33,
   "metadata": {},
   "outputs": [
    {
     "name": "stdout",
     "output_type": "stream",
     "text": [
      "[5, 15, 1, 35] 1\n",
      "[5, 15] 5\n"
     ]
    }
   ],
   "source": [
    "stack_min = StackMin()\n",
    "\n",
    "stack_min.push(5)\n",
    "stack_min.push(15)\n",
    "stack_min.push(1)\n",
    "stack_min.push(35)\n",
    "\n",
    "print(stack_min.arr, stack_min.min)\n",
    "\n",
    "stack_min.pop()\n",
    "stack_min.pop()\n",
    "print(stack_min.arr, stack_min.min) "
   ]
  },
  {
   "cell_type": "code",
   "execution_count": 75,
   "metadata": {},
   "outputs": [],
   "source": [
    "#### 3. Stack of Plates\n",
    "# implemented with list, amortized O(1) push, O(1) random access for pop_at method\n",
    "# can be implemented with deque, real O(1) push but O(N) random access"
   ]
  },
  {
   "cell_type": "code",
   "execution_count": 76,
   "metadata": {},
   "outputs": [],
   "source": [
    "class StackPlates(): \n",
    "    def __init__(self):\n",
    "        self.stacks = [[]]\n",
    "        self.stack_size = 2\n",
    "        \n",
    "    def push(self, item):\n",
    "        if len(self.stacks) == 0:\n",
    "            self.stacks.append([])\n",
    "        if len(self.stacks[-1]) == self.stack_size:\n",
    "            self.stacks.append([])\n",
    "        self.stacks[-1].append(item)\n",
    "        \n",
    "    def pop(self):\n",
    "        item = self.stacks[-1].pop()\n",
    "        if len(self.stacks[-1]) == 0:\n",
    "            self.stacks.pop()\n",
    "        return item\n",
    "\n",
    "    def pop_at(self, index):\n",
    "        item = self.stacks[index].pop()\n",
    "        if len(self.stacks[index]) == 0:\n",
    "            self.stacks.pop(index)\n",
    "        return item"
   ]
  },
  {
   "cell_type": "code",
   "execution_count": 77,
   "metadata": {},
   "outputs": [
    {
     "name": "stdout",
     "output_type": "stream",
     "text": [
      "[[1, 2]]\n",
      "[[1, 2], [3, 4]]\n",
      "[[1, 2], [3]]\n",
      "[[1, 2]]\n",
      "[]\n"
     ]
    }
   ],
   "source": [
    "sp = StackPlates()\n",
    "sp.push(1)\n",
    "sp.push(2)\n",
    "print(sp.stacks)\n",
    "\n",
    "sp.push(3)\n",
    "sp.push(4)\n",
    "print(sp.stacks)\n",
    "\n",
    "sp.pop()\n",
    "print(sp.stacks)\n",
    "\n",
    "sp.pop()\n",
    "print(sp.stacks)\n",
    "\n",
    "sp.pop()\n",
    "sp.pop()\n",
    "print(sp.stacks)"
   ]
  },
  {
   "cell_type": "code",
   "execution_count": 78,
   "metadata": {},
   "outputs": [
    {
     "name": "stdout",
     "output_type": "stream",
     "text": [
      "[[5, 6], [7, 8], [9]]\n"
     ]
    }
   ],
   "source": [
    "sp.push(5)\n",
    "sp.push(6)\n",
    "sp.push(7)\n",
    "sp.push(8)\n",
    "sp.push(9)\n",
    "print(sp.stacks)"
   ]
  },
  {
   "cell_type": "code",
   "execution_count": 79,
   "metadata": {},
   "outputs": [
    {
     "data": {
      "text/plain": [
       "8"
      ]
     },
     "execution_count": 79,
     "metadata": {},
     "output_type": "execute_result"
    }
   ],
   "source": [
    "sp.pop_at(1)"
   ]
  },
  {
   "cell_type": "code",
   "execution_count": 80,
   "metadata": {},
   "outputs": [
    {
     "data": {
      "text/plain": [
       "9"
      ]
     },
     "execution_count": 80,
     "metadata": {},
     "output_type": "execute_result"
    }
   ],
   "source": [
    "sp.pop_at(2)"
   ]
  },
  {
   "cell_type": "code",
   "execution_count": 81,
   "metadata": {},
   "outputs": [
    {
     "name": "stdout",
     "output_type": "stream",
     "text": [
      "[[5, 6], [7]]\n"
     ]
    }
   ],
   "source": [
    "print(sp.stacks)"
   ]
  },
  {
   "cell_type": "code",
   "execution_count": 96,
   "metadata": {},
   "outputs": [],
   "source": [
    "class StackPlatesOptimized():\n",
    "    def __init__(self):\n",
    "        self.stacks = deque()\n",
    "        self.stack_size = 2\n",
    "    \n",
    "    def push(self, item):\n",
    "        if len(self.stacks) == 0 or len(self.stacks[0]) == self.stack_size:\n",
    "            self.stacks.append(deque())\n",
    "        self.stacks[0].append(item)\n",
    "    \n",
    "    def pop(self):\n",
    "        if len(self.stacks[0]) == 0:\n",
    "            self.stacks.pop()\n",
    "        return self.stacks[0].pop()\n",
    "    "
   ]
  },
  {
   "cell_type": "code",
   "execution_count": 105,
   "metadata": {},
   "outputs": [
    {
     "name": "stdout",
     "output_type": "stream",
     "text": [
      "5 4 3 2 1\n"
     ]
    }
   ],
   "source": [
    "spo = StackPlatesOptimized()\n",
    "spo.push(1)\n",
    "spo.push(2)\n",
    "spo.push(3)\n",
    "spo.push(4)\n",
    "spo.push(5)\n",
    "print(spo.pop(), spo.pop(), spo.pop(),spo.pop(), spo.pop())"
   ]
  },
  {
   "cell_type": "markdown",
   "metadata": {},
   "source": [
    "#### 4. Sort Stack: Write a program to sort a stack such that the smallest items are on the top. \n",
    "You can use an additional temporary stack, but you may not copy the elements into any other data structure \n",
    "(such as an array). The stack supports the following operations: push, pop, peek, and isEmpty"
   ]
  },
  {
   "cell_type": "code",
   "execution_count": 3,
   "metadata": {},
   "outputs": [],
   "source": [
    "# naive impl: \n",
    "#   pop two items, push largest one first and then second one\n",
    "#   pop three items compare third one with the already sorted first 2 items, push accordingly\n",
    "#   pop four items, do the same\n",
    "#   pop n items, compare it with n-1 items\n",
    "#   compare: (like two finger sort but one array has alway 1 item)\n",
    "#   stack1: pop 8, \n",
    "#      var: pop 5  -> push [5, 8]\n",
    "#   stack1: pop 5, 8, \n",
    "#      var: 4      -> push [4, 5, 8] \n",
    "#\n",
    "# O(N2)"
   ]
  },
  {
   "cell_type": "code",
   "execution_count": 102,
   "metadata": {},
   "outputs": [],
   "source": [
    "def sort_stack(stack):\n",
    "    tmp = deque()\n",
    "    cur = deque()\n",
    "    take = 2\n",
    "    \n",
    "    while True:\n",
    "        # read take items from stack push into temp stack\n",
    "        for i in range(take):\n",
    "            if not stack: # if stack becomes empt, means it's already sorted\n",
    "                return tmp\n",
    "            else:\n",
    "                tmp.append(stack.pop())\n",
    "                \n",
    "        # take the last item out from tmp stack, this is cur item to compare\n",
    "        cur.append(tmp.pop())\n",
    "                \n",
    "        # two finger compar tmp stack and cur\n",
    "        while tmp:\n",
    "            if tmp[-1] > cur[0]:\n",
    "                stack.append(tmp.pop())\n",
    "            else:\n",
    "                stack.append(cur.pop())\n",
    "                while tmp:\n",
    "                    stack.append(tmp.pop())\n",
    "        if cur:\n",
    "            stack.append(cur.pop())\n",
    "                \n",
    "        # stack is reordered\n",
    "        take = take + 1\n",
    "        \n",
    "    return stack"
   ]
  },
  {
   "cell_type": "code",
   "execution_count": 107,
   "metadata": {},
   "outputs": [
    {
     "name": "stdout",
     "output_type": "stream",
     "text": [
      "unsorted: deque([5, 9, 8, 3, 7])\n",
      "sorted  : deque([3, 5, 7, 8, 9])\n"
     ]
    }
   ],
   "source": [
    "d = deque()\n",
    "d.append(5)\n",
    "d.append(9)\n",
    "d.append(8)\n",
    "d.append(3)\n",
    "d.append(7)\n",
    "\n",
    "print('unsorted:', d)\n",
    "print('sorted  :', sort_stack(d))"
   ]
  },
  {
   "cell_type": "code",
   "execution_count": 109,
   "metadata": {},
   "outputs": [
    {
     "name": "stdout",
     "output_type": "stream",
     "text": [
      "unsorted: deque([15, 91, 18, 31, 17])\n",
      "sorted  : deque([15, 17, 18, 31, 91])\n"
     ]
    }
   ],
   "source": [
    "d = deque()\n",
    "d.append(15)\n",
    "d.append(91)\n",
    "d.append(18)\n",
    "d.append(31)\n",
    "d.append(17)\n",
    "\n",
    "print('unsorted:', d)\n",
    "print('sorted  :', sort_stack(d))"
   ]
  },
  {
   "cell_type": "markdown",
   "metadata": {},
   "source": [
    "#### 5. Animal Shelter \n",
    "An animal shelter, which holds only dogs and cats, operates on a strictly\"first in, first out\" basis. \n",
    "People must adopt either the\"oldest\" (based on arrival time) of all animals at the shelter,\n",
    "or they can select whether they would prefer a dog or a cat (and will receive the oldest animal of that type).\n",
    "They cannot select which specific animal they would like.\n",
    "\n",
    "Create the data structures to maintain this system and implement operations such as \n",
    "enqueue, dequeueAny, dequeueDog, and dequeueCat. \n",
    "\n",
    "You may use the built-in Linked list data structure."
   ]
  },
  {
   "cell_type": "code",
   "execution_count": 132,
   "metadata": {},
   "outputs": [],
   "source": [
    "# 1. use three queues for cats, dogs and all\n",
    "# for dequeue_any, popleft the all animals queue, \n",
    "# but then requires to remove it from associated queue also which take O(N) time\n",
    "\n",
    "class Shelter():\n",
    "    def __init__(self):\n",
    "        self.cats = deque()\n",
    "        self.dogs = deque()\n",
    "        self.all = deque()\n",
    "        \n",
    "    def enqueue(self, animal):\n",
    "        if animal['type'] == 'cat':\n",
    "            self.cats.append(animal)\n",
    "        else:\n",
    "            self.dogs.append(animal)\n",
    "        self.all.append(animal)\n",
    "    \n",
    "    def dequeue_any(self):\n",
    "        animal = self.all.popleft()\n",
    "        if animal['type'] == 'cat':\n",
    "            self.cats.popleft()\n",
    "        else:\n",
    "            self.dogs.popleft()\n",
    "        return animal\n",
    "\n",
    "    def dequeue_dog(self):\n",
    "        animal = self.dogs.popleft()\n",
    "        self.all.remove(animal) # O(N)\n",
    "        return animal"
   ]
  },
  {
   "cell_type": "code",
   "execution_count": 131,
   "metadata": {},
   "outputs": [
    {
     "name": "stdout",
     "output_type": "stream",
     "text": [
      "{'type': 'cat', 'name': 'cat yellow'}\n",
      "{'type': 'dog', 'name': 'dog white'}\n",
      "{'type': 'dog', 'name': 'dog orange'}\n",
      "{'type': 'cat', 'name': 'cat black'}\n"
     ]
    }
   ],
   "source": [
    "shelter = Shelter()\n",
    "\n",
    "shelter.enqueue({'type': 'cat', 'name': 'cat yellow'})\n",
    "shelter.enqueue({'type': 'dog', 'name': 'dog white'})\n",
    "shelter.enqueue({'type': 'cat', 'name': 'cat black'})\n",
    "shelter.enqueue({'type': 'dog', 'name': 'dog orange'})\n",
    "\n",
    "print(shelter.dequeue_any())\n",
    "print(shelter.dequeue_any())\n",
    "print(shelter.dequeue_dog())\n",
    "print(shelter.dequeue_any())"
   ]
  },
  {
   "cell_type": "code",
   "execution_count": 153,
   "metadata": {},
   "outputs": [],
   "source": [
    "class ShelterOptimised(Shelter):\n",
    "    def __init__(self):\n",
    "        Shelter.__init__(self)\n",
    "        self.counter = 0\n",
    "        \n",
    "    def enqueue(self, animal):\n",
    "        animal['number'] = self.counter\n",
    "        self.counter = self.counter + 1\n",
    "        Shelter.enqueue(self, animal)\n",
    "    \n",
    "    def dequeue_any(self):\n",
    "        cat = self.cats[0]\n",
    "        dog = self.dogs[0]\n",
    "        \n",
    "        if cat['number'] > dog['number']:\n",
    "            self.cats.popleft()\n",
    "            return cat\n",
    "        else:\n",
    "            self.dogs.popleft()\n",
    "            return dog"
   ]
  },
  {
   "cell_type": "code",
   "execution_count": 155,
   "metadata": {},
   "outputs": [
    {
     "name": "stdout",
     "output_type": "stream",
     "text": [
      "{'type': 'dog', 'name': 'dog white', 'number': 1}\n",
      "{'type': 'dog', 'name': 'dog orange', 'number': 3}\n"
     ]
    },
    {
     "ename": "IndexError",
     "evalue": "deque index out of range",
     "output_type": "error",
     "traceback": [
      "\u001b[0;31m---------------------------------------------------------------------------\u001b[0m",
      "\u001b[0;31mIndexError\u001b[0m                                Traceback (most recent call last)",
      "\u001b[0;32m<ipython-input-155-f6a09f945448>\u001b[0m in \u001b[0;36m<module>\u001b[0;34m\u001b[0m\n\u001b[1;32m      7\u001b[0m \u001b[0mprint\u001b[0m\u001b[0;34m(\u001b[0m\u001b[0mso\u001b[0m\u001b[0;34m.\u001b[0m\u001b[0mdequeue_any\u001b[0m\u001b[0;34m(\u001b[0m\u001b[0;34m)\u001b[0m\u001b[0;34m)\u001b[0m\u001b[0;34m\u001b[0m\u001b[0;34m\u001b[0m\u001b[0m\n\u001b[1;32m      8\u001b[0m \u001b[0mprint\u001b[0m\u001b[0;34m(\u001b[0m\u001b[0mso\u001b[0m\u001b[0;34m.\u001b[0m\u001b[0mdequeue_any\u001b[0m\u001b[0;34m(\u001b[0m\u001b[0;34m)\u001b[0m\u001b[0;34m)\u001b[0m\u001b[0;34m\u001b[0m\u001b[0;34m\u001b[0m\u001b[0m\n\u001b[0;32m----> 9\u001b[0;31m \u001b[0mprint\u001b[0m\u001b[0;34m(\u001b[0m\u001b[0mso\u001b[0m\u001b[0;34m.\u001b[0m\u001b[0mdequeue_any\u001b[0m\u001b[0;34m(\u001b[0m\u001b[0;34m)\u001b[0m\u001b[0;34m)\u001b[0m\u001b[0;34m\u001b[0m\u001b[0;34m\u001b[0m\u001b[0m\n\u001b[0m",
      "\u001b[0;32m<ipython-input-153-4f17f13183ee>\u001b[0m in \u001b[0;36mdequeue_any\u001b[0;34m(self)\u001b[0m\n\u001b[1;32m     11\u001b[0m     \u001b[0;32mdef\u001b[0m \u001b[0mdequeue_any\u001b[0m\u001b[0;34m(\u001b[0m\u001b[0mself\u001b[0m\u001b[0;34m)\u001b[0m\u001b[0;34m:\u001b[0m\u001b[0;34m\u001b[0m\u001b[0;34m\u001b[0m\u001b[0m\n\u001b[1;32m     12\u001b[0m         \u001b[0mcat\u001b[0m \u001b[0;34m=\u001b[0m \u001b[0mself\u001b[0m\u001b[0;34m.\u001b[0m\u001b[0mcats\u001b[0m\u001b[0;34m[\u001b[0m\u001b[0;36m0\u001b[0m\u001b[0;34m]\u001b[0m\u001b[0;34m\u001b[0m\u001b[0;34m\u001b[0m\u001b[0m\n\u001b[0;32m---> 13\u001b[0;31m         \u001b[0mdog\u001b[0m \u001b[0;34m=\u001b[0m \u001b[0mself\u001b[0m\u001b[0;34m.\u001b[0m\u001b[0mdogs\u001b[0m\u001b[0;34m[\u001b[0m\u001b[0;36m0\u001b[0m\u001b[0;34m]\u001b[0m\u001b[0;34m\u001b[0m\u001b[0;34m\u001b[0m\u001b[0m\n\u001b[0m\u001b[1;32m     14\u001b[0m \u001b[0;34m\u001b[0m\u001b[0m\n\u001b[1;32m     15\u001b[0m         \u001b[0;32mif\u001b[0m \u001b[0mcat\u001b[0m\u001b[0;34m[\u001b[0m\u001b[0;34m'number'\u001b[0m\u001b[0;34m]\u001b[0m \u001b[0;34m>\u001b[0m \u001b[0mdog\u001b[0m\u001b[0;34m[\u001b[0m\u001b[0;34m'number'\u001b[0m\u001b[0;34m]\u001b[0m\u001b[0;34m:\u001b[0m\u001b[0;34m\u001b[0m\u001b[0;34m\u001b[0m\u001b[0m\n",
      "\u001b[0;31mIndexError\u001b[0m: deque index out of range"
     ]
    }
   ],
   "source": [
    "so = ShelterOptimised()\n",
    "so.enqueue({'type': 'cat', 'name': 'cat yellow'})\n",
    "so.enqueue({'type': 'dog', 'name': 'dog white'})\n",
    "so.enqueue({'type': 'cat', 'name': 'cat black'})\n",
    "so.enqueue({'type': 'dog', 'name': 'dog orange'})\n",
    "\n",
    "print(so.dequeue_any())\n",
    "print(so.dequeue_any())\n",
    "print(so.dequeue_any())"
   ]
  },
  {
   "cell_type": "code",
   "execution_count": null,
   "metadata": {},
   "outputs": [],
   "source": []
  }
 ],
 "metadata": {
  "kernelspec": {
   "display_name": "Python 3",
   "language": "python",
   "name": "python3"
  },
  "language_info": {
   "codemirror_mode": {
    "name": "ipython",
    "version": 3
   },
   "file_extension": ".py",
   "mimetype": "text/x-python",
   "name": "python",
   "nbconvert_exporter": "python",
   "pygments_lexer": "ipython3",
   "version": "3.7.2"
  }
 },
 "nbformat": 4,
 "nbformat_minor": 2
}
