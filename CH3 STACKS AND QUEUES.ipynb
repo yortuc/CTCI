{
 "cells": [
  {
   "cell_type": "markdown",
   "metadata": {},
   "source": [
    "# Naive implementation\n",
    "#### python list object has amortised O(1) push but O(N) insert at the beginnig."
   ]
  },
  {
   "cell_type": "code",
   "execution_count": 5,
   "metadata": {},
   "outputs": [],
   "source": [
    "class Stack():\n",
    "    def __init__(self):\n",
    "        self.arr = []\n",
    "    \n",
    "    def push(self, item):\n",
    "        self.arr.append(item)\n",
    "    \n",
    "    def pop(self):\n",
    "        return self.arr.pop()\n",
    "    \n",
    "    def peek(self):\n",
    "        return self.arr[-1]"
   ]
  },
  {
   "cell_type": "code",
   "execution_count": 7,
   "metadata": {},
   "outputs": [
    {
     "name": "stdout",
     "output_type": "stream",
     "text": [
      "[1, 2, 3]\n",
      "[1]\n"
     ]
    }
   ],
   "source": [
    "stack = Stack()\n",
    "stack.push(1)\n",
    "stack.push(2)\n",
    "stack.push(3)\n",
    "\n",
    "print(stack.arr)\n",
    "\n",
    "stack.pop()\n",
    "stack.pop()\n",
    "\n",
    "print(stack.arr)"
   ]
  },
  {
   "cell_type": "markdown",
   "metadata": {},
   "source": [
    "# Deque class\n",
    "#### python has deque object which has O(1) adding operation using doubly linked list"
   ]
  },
  {
   "cell_type": "code",
   "execution_count": 10,
   "metadata": {},
   "outputs": [],
   "source": [
    "from collections import deque"
   ]
  },
  {
   "cell_type": "code",
   "execution_count": 15,
   "metadata": {},
   "outputs": [
    {
     "name": "stdout",
     "output_type": "stream",
     "text": [
      "deque(['evren', 'ezgi', 'uzay', 'deniz'])\n",
      "deque(['evren', 'ezgi'])\n"
     ]
    }
   ],
   "source": [
    "q = deque()\n",
    "q.append('evren')\n",
    "q.append('ezgi')\n",
    "q.append('uzay')\n",
    "q.append('deniz')\n",
    "\n",
    "print(q)\n",
    "\n",
    "q.pop()\n",
    "q.pop()\n",
    "\n",
    "print(q)"
   ]
  },
  {
   "cell_type": "markdown",
   "metadata": {},
   "source": [
    "#### 1. Three in One: Describe how you could use a single array to implement three stacks."
   ]
  },
  {
   "cell_type": "code",
   "execution_count": 17,
   "metadata": {},
   "outputs": [],
   "source": [
    "# we can use left side, right side -> two stacks.\n",
    "# "
   ]
  },
  {
   "cell_type": "markdown",
   "metadata": {},
   "source": [
    "#### 2. Stack Min: How would you design a stack which, in addition to push and pop, \n",
    "#### has a function min which returns the minimum element? Push, pop and min should all operate in 0(1) time."
   ]
  },
  {
   "cell_type": "code",
   "execution_count": 30,
   "metadata": {},
   "outputs": [],
   "source": [
    "class StackMin():\n",
    "    def __init__(self):\n",
    "        self.arr = []\n",
    "        self.min = 9999999\n",
    "        self.mins_history = []\n",
    "    \n",
    "    def push(self, item): # amortized O(1)\n",
    "        self.arr.append(item)\n",
    "        if item < self.min:\n",
    "            self.min = item\n",
    "            self.mins_history.append(item)\n",
    "    \n",
    "    def pop(self): # O(1)\n",
    "        pop_item = self.arr.pop()\n",
    "        if pop_item == self.min:\n",
    "            self.mins_history.pop()\n",
    "            self.min = self.mins_history[-1]"
   ]
  },
  {
   "cell_type": "code",
   "execution_count": 33,
   "metadata": {},
   "outputs": [
    {
     "name": "stdout",
     "output_type": "stream",
     "text": [
      "[5, 15, 1, 35] 1\n",
      "[5, 15] 5\n"
     ]
    }
   ],
   "source": [
    "stack_min = StackMin()\n",
    "\n",
    "stack_min.push(5)\n",
    "stack_min.push(15)\n",
    "stack_min.push(1)\n",
    "stack_min.push(35)\n",
    "\n",
    "print(stack_min.arr, stack_min.min)\n",
    "\n",
    "stack_min.pop()\n",
    "stack_min.pop()\n",
    "print(stack_min.arr, stack_min.min) "
   ]
  },
  {
   "cell_type": "code",
   "execution_count": 75,
   "metadata": {},
   "outputs": [],
   "source": [
    "#### 3. Stack of Plates\n",
    "# implemented with list, amortized O(1) push, O(1) random access for pop_at method\n",
    "# can be implemented with deque, real O(1) push but O(N) random access"
   ]
  },
  {
   "cell_type": "code",
   "execution_count": 76,
   "metadata": {},
   "outputs": [],
   "source": [
    "class StackPlates(): \n",
    "    def __init__(self):\n",
    "        self.stacks = [[]]\n",
    "        self.stack_size = 2\n",
    "        \n",
    "    def push(self, item):\n",
    "        if len(self.stacks) == 0:\n",
    "            self.stacks.append([])\n",
    "        if len(self.stacks[-1]) == self.stack_size:\n",
    "            self.stacks.append([])\n",
    "        self.stacks[-1].append(item)\n",
    "        \n",
    "    def pop(self):\n",
    "        item = self.stacks[-1].pop()\n",
    "        if len(self.stacks[-1]) == 0:\n",
    "            self.stacks.pop()\n",
    "        return item\n",
    "\n",
    "    def pop_at(self, index):\n",
    "        item = self.stacks[index].pop()\n",
    "        if len(self.stacks[index]) == 0:\n",
    "            self.stacks.pop(index)\n",
    "        return item"
   ]
  },
  {
   "cell_type": "code",
   "execution_count": 77,
   "metadata": {},
   "outputs": [
    {
     "name": "stdout",
     "output_type": "stream",
     "text": [
      "[[1, 2]]\n",
      "[[1, 2], [3, 4]]\n",
      "[[1, 2], [3]]\n",
      "[[1, 2]]\n",
      "[]\n"
     ]
    }
   ],
   "source": [
    "sp = StackPlates()\n",
    "sp.push(1)\n",
    "sp.push(2)\n",
    "print(sp.stacks)\n",
    "\n",
    "sp.push(3)\n",
    "sp.push(4)\n",
    "print(sp.stacks)\n",
    "\n",
    "sp.pop()\n",
    "print(sp.stacks)\n",
    "\n",
    "sp.pop()\n",
    "print(sp.stacks)\n",
    "\n",
    "sp.pop()\n",
    "sp.pop()\n",
    "print(sp.stacks)"
   ]
  },
  {
   "cell_type": "code",
   "execution_count": 78,
   "metadata": {},
   "outputs": [
    {
     "name": "stdout",
     "output_type": "stream",
     "text": [
      "[[5, 6], [7, 8], [9]]\n"
     ]
    }
   ],
   "source": [
    "sp.push(5)\n",
    "sp.push(6)\n",
    "sp.push(7)\n",
    "sp.push(8)\n",
    "sp.push(9)\n",
    "print(sp.stacks)"
   ]
  },
  {
   "cell_type": "code",
   "execution_count": 79,
   "metadata": {},
   "outputs": [
    {
     "data": {
      "text/plain": [
       "8"
      ]
     },
     "execution_count": 79,
     "metadata": {},
     "output_type": "execute_result"
    }
   ],
   "source": [
    "sp.pop_at(1)"
   ]
  },
  {
   "cell_type": "code",
   "execution_count": 80,
   "metadata": {},
   "outputs": [
    {
     "data": {
      "text/plain": [
       "9"
      ]
     },
     "execution_count": 80,
     "metadata": {},
     "output_type": "execute_result"
    }
   ],
   "source": [
    "sp.pop_at(2)"
   ]
  },
  {
   "cell_type": "code",
   "execution_count": 81,
   "metadata": {},
   "outputs": [
    {
     "name": "stdout",
     "output_type": "stream",
     "text": [
      "[[5, 6], [7]]\n"
     ]
    }
   ],
   "source": [
    "print(sp.stacks)"
   ]
  },
  {
   "cell_type": "code",
   "execution_count": null,
   "metadata": {},
   "outputs": [],
   "source": []
  }
 ],
 "metadata": {
  "kernelspec": {
   "display_name": "Python 3",
   "language": "python",
   "name": "python3"
  },
  "language_info": {
   "codemirror_mode": {
    "name": "ipython",
    "version": 3
   },
   "file_extension": ".py",
   "mimetype": "text/x-python",
   "name": "python",
   "nbconvert_exporter": "python",
   "pygments_lexer": "ipython3",
   "version": "3.7.2"
  }
 },
 "nbformat": 4,
 "nbformat_minor": 2
}
