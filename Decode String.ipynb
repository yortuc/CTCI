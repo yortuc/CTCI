{
 "cells": [
  {
   "cell_type": "markdown",
   "metadata": {},
   "source": [
    "The encoding rule is: `k[encoded_string]`, where the encoded_string inside the square brackets is being repeated exactly k times. Note that k is guaranteed to be a positive integer.\n",
    "\n",
    "**Examples:**\n",
    "```python\n",
    "s = \"3[a]2[bc]\", return \"aaabcbc\".\n",
    "s = \"3[a2[c]]\", return \"accaccacc\".\n",
    "s = \"2[abc]3[cd]ef\", return \"abcabccdcdcdef\".\n",
    "```"
   ]
  },
  {
   "cell_type": "code",
   "execution_count": 31,
   "metadata": {},
   "outputs": [],
   "source": [
    "from collections import deque\n",
    "\n",
    "def parse(encoded):\n",
    "    stack = deque()\n",
    "    for c in encoded:\n",
    "        if c == ']':       # do the math\n",
    "            substr = ''\n",
    "            while True:\n",
    "                itm = stack.pop()\n",
    "                if itm == '[':\n",
    "                    k = int(stack.pop())\n",
    "                    stack.append(substr*k)\n",
    "                    break\n",
    "                else:\n",
    "                    substr = itm + substr            \n",
    "        else:\n",
    "            if c == '[': # convert the k collected so far\n",
    "                k_num = ''\n",
    "                while True:\n",
    "                    if len(stack) > 0:\n",
    "                        itm = stack[-1]\n",
    "                        try:\n",
    "                            num = int(itm)\n",
    "                            k_num = stack.pop() + k_num\n",
    "                        except:\n",
    "                            stack.append(int(k_num))\n",
    "                            break\n",
    "                    else:\n",
    "                        stack.append(int(k_num))\n",
    "                        break\n",
    "            stack.append(c)\n",
    "    return ''.join(stack)"
   ]
  },
  {
   "cell_type": "code",
   "execution_count": 32,
   "metadata": {},
   "outputs": [
    {
     "data": {
      "text/plain": [
       "True"
      ]
     },
     "execution_count": 32,
     "metadata": {},
     "output_type": "execute_result"
    }
   ],
   "source": [
    "parse('3[a]2[bc]') == 'aaabcbc'"
   ]
  },
  {
   "cell_type": "code",
   "execution_count": 33,
   "metadata": {},
   "outputs": [
    {
     "data": {
      "text/plain": [
       "True"
      ]
     },
     "execution_count": 33,
     "metadata": {},
     "output_type": "execute_result"
    }
   ],
   "source": [
    "parse('3[a2[c]]') == 'accaccacc'"
   ]
  },
  {
   "cell_type": "code",
   "execution_count": 38,
   "metadata": {},
   "outputs": [
    {
     "data": {
      "text/plain": [
       "True"
      ]
     },
     "execution_count": 38,
     "metadata": {},
     "output_type": "execute_result"
    }
   ],
   "source": [
    "parse('20[aab12[xy]]') == 20 * ('aab' + (12 * 'xy'))"
   ]
  },
  {
   "cell_type": "code",
   "execution_count": null,
   "metadata": {},
   "outputs": [],
   "source": []
  }
 ],
 "metadata": {
  "kernelspec": {
   "display_name": "Python 3",
   "language": "python",
   "name": "python3"
  },
  "language_info": {
   "codemirror_mode": {
    "name": "ipython",
    "version": 3
   },
   "file_extension": ".py",
   "mimetype": "text/x-python",
   "name": "python",
   "nbconvert_exporter": "python",
   "pygments_lexer": "ipython3",
   "version": "3.7.2"
  }
 },
 "nbformat": 4,
 "nbformat_minor": 2
}
