{
 "cells": [
  {
   "cell_type": "code",
   "execution_count": 28,
   "metadata": {},
   "outputs": [],
   "source": [
    "# Toy problem: calculate nth fibonacci number\n",
    "# fib(N) ->     fib(n-1)        +        fib(n-2)\n",
    "#         fib(n-2) + fib(n-3)        fib(n-3) + fib(n-4)\n",
    "# O(2^N)"
   ]
  },
  {
   "cell_type": "code",
   "execution_count": 24,
   "metadata": {},
   "outputs": [],
   "source": [
    "def fib(n):\n",
    "    if n == 0:\n",
    "        return 0\n",
    "    if n == 1:\n",
    "        return 1\n",
    "    return fib(n-1) + fib(n-2)"
   ]
  },
  {
   "cell_type": "code",
   "execution_count": 25,
   "metadata": {},
   "outputs": [
    {
     "data": {
      "text/plain": [
       "(1, 1, 2, 3, 5, 8)"
      ]
     },
     "execution_count": 25,
     "metadata": {},
     "output_type": "execute_result"
    }
   ],
   "source": [
    "fib(1), fib(2), fib(3), fib(4), fib(5), fib(6)"
   ]
  },
  {
   "cell_type": "code",
   "execution_count": 36,
   "metadata": {},
   "outputs": [
    {
     "data": {
      "text/plain": [
       "832040"
      ]
     },
     "execution_count": 36,
     "metadata": {},
     "output_type": "execute_result"
    }
   ],
   "source": [
    "fib(30)"
   ]
  },
  {
   "cell_type": "markdown",
   "metadata": {},
   "source": [
    "#### Top-down dynamic programming (Memoization)"
   ]
  },
  {
   "cell_type": "code",
   "execution_count": 105,
   "metadata": {},
   "outputs": [],
   "source": [
    "# memoization\n",
    "def fib_mem(n, memo):\n",
    "    if n < 2:\n",
    "        return n\n",
    "    \n",
    "    if n in memo:\n",
    "        return memo[n]\n",
    "    \n",
    "    ret = fib_mem(n-1, memo) + fib_mem(n-2, memo)\n",
    "    memo[n] = ret\n",
    "    \n",
    "    return ret"
   ]
  },
  {
   "cell_type": "code",
   "execution_count": 108,
   "metadata": {},
   "outputs": [
    {
     "data": {
      "text/plain": [
       "9969216677189303386214405760200"
      ]
     },
     "execution_count": 108,
     "metadata": {},
     "output_type": "execute_result"
    }
   ],
   "source": [
    "fib_mem(150, {})"
   ]
  },
  {
   "cell_type": "markdown",
   "metadata": {},
   "source": [
    "#### Bottom-up dynamic programming"
   ]
  },
  {
   "cell_type": "code",
   "execution_count": 94,
   "metadata": {},
   "outputs": [],
   "source": [
    "# cache low level members of the tree\n",
    "# 1 1 2 3 5 8\n",
    "\n",
    "\n",
    "def fib_bu(n):\n",
    "    if n < 2:\n",
    "        return n\n",
    "    \n",
    "    a = 0\n",
    "    b = 1\n",
    "    for i in range(2, n):\n",
    "        c = a + b\n",
    "        a = b\n",
    "        b = c\n",
    "    return a + b"
   ]
  },
  {
   "cell_type": "code",
   "execution_count": 101,
   "metadata": {},
   "outputs": [
    {
     "data": {
      "text/plain": [
       "9969216677189303386214405760200"
      ]
     },
     "execution_count": 101,
     "metadata": {},
     "output_type": "execute_result"
    }
   ],
   "source": [
    "fib_bu(150)"
   ]
  },
  {
   "cell_type": "markdown",
   "metadata": {},
   "source": [
    "# Questions"
   ]
  },
  {
   "cell_type": "markdown",
   "metadata": {},
   "source": [
    "#### 1. Triple Step\n",
    "A child is running up a staircase with n steps and can hop either 1 step, 2 steps, or 3 steps at a time. Implement a method to count how many possible ways the child can run up the stairs"
   ]
  },
  {
   "cell_type": "code",
   "execution_count": 111,
   "metadata": {},
   "outputs": [],
   "source": [
    "# implement a top-down tree. branching how many different ways steps can be taken.\n",
    "# last move can be 1, 2 or 3 steps. each branch yields other paths.\n",
    "#\n",
    "#          1 step .                2 steps              3 steps       \n",
    "#          (n-1 left)             (n-2 left)           (n-3 left)    \n",
    "#       1 .    2 .   3 .        1 .  2 .  3 .         1 .  2 .  3 . \n",
    "#     (n-2)   (n-3)  (n-4)     (n-3) (n-4) (n-5)    (n-4)(n-5)(n-6)\n",
    "# "
   ]
  },
  {
   "cell_type": "code",
   "execution_count": 136,
   "metadata": {},
   "outputs": [],
   "source": [
    "def steps(n, cache):\n",
    "    if n in cache:\n",
    "        return cache[n]\n",
    "    \n",
    "    if n == 0:\n",
    "        return 1\n",
    "    if n < 3:\n",
    "        return n\n",
    "\n",
    "    last_one = steps(n-1, cache)\n",
    "    last_two = steps(n-2, cache)\n",
    "    last_three = steps(n-3, cache)\n",
    "    ret = last_one + last_two + last_three\n",
    "\n",
    "    cache[n] = ret\n",
    "    return ret"
   ]
  },
  {
   "cell_type": "code",
   "execution_count": 143,
   "metadata": {},
   "outputs": [
    {
     "data": {
      "text/plain": [
       "1306186569702186634983475450062372018715120191391192207156664343051610913971927959744519676992404852130396504615663042713312314219527"
      ]
     },
     "execution_count": 143,
     "metadata": {},
     "output_type": "execute_result"
    }
   ],
   "source": [
    "steps(500, {})"
   ]
  },
  {
   "cell_type": "markdown",
   "metadata": {},
   "source": [
    "#### 2. Robot in a Grid\n",
    "Imagine a robot sitting on the upper left corner of grid with r rows and c columns. The robot can only move in two directions, right and down, but certain cells are \"off limits\" such that the robot cannot step on them. Design an algorithm to find a path for the robot from the top left to the bottom right."
   ]
  },
  {
   "cell_type": "code",
   "execution_count": 146,
   "metadata": {},
   "outputs": [],
   "source": [
    "# create tree\n",
    "# \n",
    "#    x-#-\n",
    "#    #---\n",
    "#    ---o"
   ]
  },
  {
   "cell_type": "code",
   "execution_count": 222,
   "metadata": {},
   "outputs": [],
   "source": [
    "def get_path(grid, i=0, j=0, path=[(0,0)]):\n",
    "    if i == len(grid[0]) - 1 and j == len(grid) - 1:\n",
    "        return path\n",
    "    \n",
    "    right_branch = []\n",
    "    down_branch = []\n",
    "        \n",
    "    if i < len(grid[0])-1 and grid[j][i+1] != '#':\n",
    "        right_branch = right_branch + get_path(grid, i=i+1, j=j, path=path + [(j, i+1)])\n",
    "    \n",
    "    if j < len(grid)-1 and grid[j+1][i] != '#':\n",
    "        down_branch = down_branch + get_path(grid, i=i, j=j+1, path=path + [(j+1, i)])\n",
    "    \n",
    "    return right_branch + down_branch"
   ]
  },
  {
   "cell_type": "code",
   "execution_count": 223,
   "metadata": {},
   "outputs": [
    {
     "data": {
      "text/plain": [
       "[(0, 0), (1, 0), (1, 1)]"
      ]
     },
     "execution_count": 223,
     "metadata": {},
     "output_type": "execute_result"
    }
   ],
   "source": [
    "grid = [['-','#'],\n",
    "        ['-','-']]\n",
    "\n",
    "get_path(grid)"
   ]
  },
  {
   "cell_type": "code",
   "execution_count": 224,
   "metadata": {},
   "outputs": [
    {
     "data": {
      "text/plain": [
       "[(0, 0), (0, 1), (1, 1)]"
      ]
     },
     "execution_count": 224,
     "metadata": {},
     "output_type": "execute_result"
    }
   ],
   "source": [
    "grid = [['-','-'],\n",
    "        ['#','-']]\n",
    "\n",
    "get_path(grid)"
   ]
  },
  {
   "cell_type": "code",
   "execution_count": 225,
   "metadata": {},
   "outputs": [
    {
     "data": {
      "text/plain": [
       "[(0, 0), (1, 0), (1, 1), (2, 1), (3, 1), (4, 1), (5, 1)]"
      ]
     },
     "execution_count": 225,
     "metadata": {},
     "output_type": "execute_result"
    }
   ],
   "source": [
    "grid2 = [['-','#'],\n",
    "         ['-','-'],\n",
    "         ['#','-'],\n",
    "         ['#','-'],\n",
    "         ['#','-'],\n",
    "         ['#','-']]\n",
    "\n",
    "get_path(grid2)"
   ]
  },
  {
   "cell_type": "markdown",
   "metadata": {},
   "source": [
    "#### 3. Magic Index: \n",
    "A magic index in an array A[ 0••• n -1] is defined to be an index such that A[ i] = i. Given a sorted array of distinct integers, \n",
    "write a method to find a magic index, if one exists, in array A."
   ]
  },
  {
   "cell_type": "code",
   "execution_count": 227,
   "metadata": {},
   "outputs": [],
   "source": [
    "# sorted array, distinct integers\n",
    "# i  0  1 .2  3  4 . 5\n",
    "#   [1, 2, 3, 5, 7, 10]  -> no magic index\n",
    "\n",
    "# i   0    1   2  3,  4   -> i = 3\n",
    "#   [-40, -10, 0, 3, 15]"
   ]
  },
  {
   "cell_type": "code",
   "execution_count": 232,
   "metadata": {},
   "outputs": [],
   "source": [
    "# Naive approach, brute-force\n",
    "# worst case : O(N)\n",
    "def magic_index(arr): \n",
    "    for i in range(len(arr)):\n",
    "        if arr[i] == i:\n",
    "            return i\n",
    "        elif arr[i] > i:\n",
    "            return None\n",
    "    return None"
   ]
  },
  {
   "cell_type": "code",
   "execution_count": 235,
   "metadata": {},
   "outputs": [
    {
     "data": {
      "text/plain": [
       "(0, None, 3)"
      ]
     },
     "execution_count": 235,
     "metadata": {},
     "output_type": "execute_result"
    }
   ],
   "source": [
    "magic_index([0,1]), magic_index([5,6]), magic_index([-40, -10, 0, 3, 15])"
   ]
  },
  {
   "cell_type": "code",
   "execution_count": 262,
   "metadata": {},
   "outputs": [],
   "source": [
    "# second approach, use binary search\n",
    "# [-10, -5, 2, 5] i=2             0 + 2 = 2\n",
    "\n",
    "def magic_index_bin(arr, start, end):\n",
    "    if end<start:\n",
    "        return -1\n",
    "    \n",
    "    mid_index = start + (end - start)//2\n",
    "    mid = arr[mid_index]\n",
    "    \n",
    "    if mid == mid_index:\n",
    "        return mid_index\n",
    "    elif mid < mid_index: # take right\n",
    "        return magic_index_bin(arr, mid_index+1, end)\n",
    "    else:                 # take left\n",
    "        return magic_index_bin(arr, start, mid_index-1)\n",
    "        "
   ]
  },
  {
   "cell_type": "code",
   "execution_count": 263,
   "metadata": {},
   "outputs": [
    {
     "data": {
      "text/plain": [
       "(0, 3)"
      ]
     },
     "execution_count": 263,
     "metadata": {},
     "output_type": "execute_result"
    }
   ],
   "source": [
    "magic_index_bin([0,1], 0, 1), magic_index_bin([-40, -10, 0, 3, 15], 0, 4)"
   ]
  },
  {
   "cell_type": "code",
   "execution_count": 264,
   "metadata": {},
   "outputs": [
    {
     "data": {
      "text/plain": [
       "-1"
      ]
     },
     "execution_count": 264,
     "metadata": {},
     "output_type": "execute_result"
    }
   ],
   "source": [
    "magic_index_bin([5,6,7], 0, 2)"
   ]
  },
  {
   "cell_type": "markdown",
   "metadata": {},
   "source": [
    "FOLLOW UP: What if the elements are not distinct? "
   ]
  },
  {
   "cell_type": "code",
   "execution_count": 268,
   "metadata": {},
   "outputs": [
    {
     "data": {
      "text/plain": [
       "False"
      ]
     },
     "execution_count": 268,
     "metadata": {},
     "output_type": "execute_result"
    }
   ],
   "source": [
    "magic_index_bin([-10, -10, 3, 3, 3], 0, 4) == 3 # fails"
   ]
  },
  {
   "cell_type": "code",
   "execution_count": 269,
   "metadata": {},
   "outputs": [],
   "source": [
    "######### ????"
   ]
  },
  {
   "cell_type": "markdown",
   "metadata": {},
   "source": [
    "#### 4. Power Set\n",
    "Write a method to return all subsets of a set."
   ]
  },
  {
   "cell_type": "code",
   "execution_count": 365,
   "metadata": {},
   "outputs": [],
   "source": [
    "# first approach: brute force\n",
    "# {a, b}  -> a + subs({b}) -> a, b, {a,b}, {}\n",
    "# time compl: \n",
    "#  total number of subsets for a given set is 2^N\n",
    "#  because any item in the set eigter in subset or not, total subsets count = {2 * 2 * 2 ... N} = 2^N\n",
    "#      n = 3 -> 1,2,3,123,23,13,12,{} 2^N = 8 \n",
    "#  total number of elements in all subsets:\n",
    "#     each element will be in half of the subsets. (3 is included in 4 subsets above\n",
    "#     because, an item is eigter contained or not, probability is 1/2, \n",
    "#     total items in all subsets = N * 2^N / 2 = N * 2^N-1\n",
    "# so we can't beat that, O(N * 2^N-1)\n",
    "# \n",
    "\n",
    "def subsets(d, level=0):\n",
    "    ret = [d.copy()]\n",
    "    \n",
    "    for k in d:\n",
    "        if level == 0:\n",
    "            ret.append(k)\n",
    "            \n",
    "        sub_d = d.copy()\n",
    "        sub_d.remove(k)\n",
    "        \n",
    "        if len(sub_d) > 1:\n",
    "            ret = ret + subsets(sub_d, level+1)\n",
    "        \n",
    "    return ret"
   ]
  },
  {
   "cell_type": "code",
   "execution_count": 367,
   "metadata": {},
   "outputs": [
    {
     "data": {
      "text/plain": [
       "[{1, 2, 3}, 1, {2, 3}, 2, {1, 3}, 3, {1, 2}]"
      ]
     },
     "execution_count": 367,
     "metadata": {},
     "output_type": "execute_result"
    }
   ],
   "source": [
    "subsets({1,2,3})"
   ]
  },
  {
   "cell_type": "code",
   "execution_count": 406,
   "metadata": {},
   "outputs": [],
   "source": [
    "# different approach: Base case and build\n",
    "\n",
    "# P(0) = {}\n",
    "# P(1) = {}, {a}\n",
    "# P(2) = {}, {a}, {b}, {a, b}\n",
    "# P(3) = {}, {a}, {b}, {c}, {a,b}, {a,c}, {b,c}, {a,b,c}\n",
    "# so what is difference?\n",
    "# P(3) - P(2) = {c}, {ac}, {bc}, {abc}\n",
    "# the difference is only the items which contain c. \n",
    "# we can clone P(2), and add c to all items.\n",
    "\n",
    "def subsets_base(d):\n",
    "    if len(d) == 1:\n",
    "        return [d.copy(), set()]\n",
    "    \n",
    "    dc = d.copy()          \n",
    "    extra_item = dc.pop()  \n",
    "    d_before = subsets_base(dc) \n",
    "    d_cp = copy.deepcopy(d_before) \n",
    "    \n",
    "    for t in d_before:\n",
    "        t.add(extra_item) \n",
    "        \n",
    "    return d_before + d_cp"
   ]
  },
  {
   "cell_type": "code",
   "execution_count": 407,
   "metadata": {},
   "outputs": [
    {
     "data": {
      "text/plain": [
       "[{1, 2}, {1}, {2}, set()]"
      ]
     },
     "execution_count": 407,
     "metadata": {},
     "output_type": "execute_result"
    }
   ],
   "source": [
    "subsets_base({1,2})"
   ]
  },
  {
   "cell_type": "code",
   "execution_count": 408,
   "metadata": {},
   "outputs": [],
   "source": [
    "# different approach: bitwise operations"
   ]
  },
  {
   "cell_type": "code",
   "execution_count": 411,
   "metadata": {},
   "outputs": [
    {
     "name": "stdout",
     "output_type": "stream",
     "text": [
      "16384\n"
     ]
    }
   ],
   "source": [
    "## bitwise operations in python\n",
    "mm = 1 << 14 # 2^14\n",
    "print(mm)"
   ]
  },
  {
   "cell_type": "code",
   "execution_count": 466,
   "metadata": {},
   "outputs": [],
   "source": [
    "def subset_bit(d):\n",
    "    # number of combinations\n",
    "    # {1,2} => [{yes, yes}, {yes, no}, {no, yes}, {no, no}]  2^len(d) items\n",
    "    # .        [{1,1}, {1, 0}, {0, 1}, {0, 0}]\n",
    "    \n",
    "    sub_sets = []\n",
    "    num_combs = 1 << len(d)\n",
    "    for i in range(num_combs):\n",
    "        # int to set\n",
    "        # 0 -> {0,0}   1-> {0, 1}   2->{1, 0}    3-> {1,1}\n",
    "        sub_sets.append(int_to_set(i, d))\n",
    "    \n",
    "    return sub_sets"
   ]
  },
  {
   "cell_type": "code",
   "execution_count": 467,
   "metadata": {},
   "outputs": [],
   "source": [
    "def int_to_bitfield(num):\n",
    "    return [1 if digit == '1' else 0 for digit in bin(num)[2:]]"
   ]
  },
  {
   "cell_type": "code",
   "execution_count": 468,
   "metadata": {},
   "outputs": [
    {
     "data": {
      "text/plain": [
       "([0], [1], [1, 0], [1, 1])"
      ]
     },
     "execution_count": 468,
     "metadata": {},
     "output_type": "execute_result"
    }
   ],
   "source": [
    "int_to_bitfield(0), int_to_bitfield(1), int_to_bitfield(2), int_to_bitfield(3)"
   ]
  },
  {
   "cell_type": "code",
   "execution_count": 469,
   "metadata": {},
   "outputs": [],
   "source": [
    "def int_to_set(num, sset):\n",
    "    ret = set()\n",
    "    bits = int_to_bitfield(num)\n",
    "\n",
    "    if len(bits) < len(sset): # for 0, we have [0], should be [0,0]\n",
    "        c = len(sset) - len(bits)\n",
    "        for j in range(c):\n",
    "            bits.insert(0, 0)\n",
    "    \n",
    "    for index, k in enumerate(sset):\n",
    "        if bits[index] == 1:\n",
    "            ret.add(k)\n",
    "    return ret"
   ]
  },
  {
   "cell_type": "code",
   "execution_count": 471,
   "metadata": {},
   "outputs": [
    {
     "data": {
      "text/plain": [
       "[set(), {2}, {1}, {1, 2}]"
      ]
     },
     "execution_count": 471,
     "metadata": {},
     "output_type": "execute_result"
    }
   ],
   "source": [
    "subset_bit({1,2})"
   ]
  },
  {
   "cell_type": "code",
   "execution_count": 472,
   "metadata": {},
   "outputs": [
    {
     "data": {
      "text/plain": [
       "[set(),\n",
       " {'c'},\n",
       " {'b'},\n",
       " {'b', 'c'},\n",
       " {'a'},\n",
       " {'a', 'c'},\n",
       " {'a', 'b'},\n",
       " {'a', 'b', 'c'}]"
      ]
     },
     "execution_count": 472,
     "metadata": {},
     "output_type": "execute_result"
    }
   ],
   "source": [
    "subset_bit({'a', 'b', 'c'})"
   ]
  },
  {
   "cell_type": "markdown",
   "metadata": {},
   "source": [
    "#### 5 Recursive Multiply\n",
    "\n",
    "Write a recursive function to multiply two positive integers without using the * operator (or / operator). You can use addition, subtraction, and bit shifting, but you should minimize the number of those operations."
   ]
  },
  {
   "cell_type": "code",
   "execution_count": 493,
   "metadata": {},
   "outputs": [],
   "source": [
    "def rec_mul(x, y):\n",
    "    smaller = x if x<y else y\n",
    "    bigger = y if y>x else x\n",
    "    return rec_mul_helper(smaller, bigger)"
   ]
  },
  {
   "cell_type": "code",
   "execution_count": 510,
   "metadata": {},
   "outputs": [],
   "source": [
    "def rec_mul_helper(smaller, bigger):\n",
    "    if smaller == 0:\n",
    "        return 0\n",
    "    if smaller == 1:\n",
    "        return bigger\n",
    "    \n",
    "    s1 = smaller >> 1     # divide smaller by 2 -> left part\n",
    "    s2 = smaller - s1     # right part\n",
    "    side1 = rec_mul(s1, bigger)\n",
    "    side2 = side1\n",
    "    if smaller % 2 == 1:  # if smaller is even, double the left part, if not, compute right part from scratch\n",
    "        side2 = rec_mul(s2, bigger)\n",
    "\n",
    "    return side1 + side2  # return parts summed"
   ]
  },
  {
   "cell_type": "code",
   "execution_count": 511,
   "metadata": {},
   "outputs": [
    {
     "data": {
      "text/plain": [
       "(12, 42)"
      ]
     },
     "execution_count": 511,
     "metadata": {},
     "output_type": "execute_result"
    }
   ],
   "source": [
    "rec_mul(4,3), rec_mul(6,7)"
   ]
  },
  {
   "cell_type": "code",
   "execution_count": 570,
   "metadata": {},
   "outputs": [],
   "source": [
    "# can be improved by caching \n",
    "\n",
    "def rec_mul2(x,y):\n",
    "    bigger = x if x>y else y\n",
    "    smaller = y if y<x else x\n",
    "    return rec_mul_helper2(smaller, bigger, {})\n",
    "\n",
    "def rec_mul_helper2(smaller, bigger, cache):\n",
    "    if smaller in cache:\n",
    "        return cache[smaller]\n",
    "    if smaller == 0:\n",
    "        return 0\n",
    "    if smaller == 1:\n",
    "        cache[1] = bigger\n",
    "        return bigger\n",
    "    \n",
    "    s1 = smaller >> 1 # divide by 2\n",
    "    side1 = rec_mul_helper2(s1, bigger, cache)\n",
    "    cache[s1] = side1\n",
    "    side2 = side1\n",
    "    \n",
    "    if smaller % 2 == 1:\n",
    "        side2 = rec_mul_helper2(smaller-s1, bigger, cache)\n",
    "    print(cache)\n",
    "    return side1 + side2"
   ]
  },
  {
   "cell_type": "code",
   "execution_count": 571,
   "metadata": {},
   "outputs": [
    {
     "name": "stdout",
     "output_type": "stream",
     "text": [
      "{1: 23}\n",
      "{1: 23, 2: 46}\n",
      "{1: 23, 2: 46, 4: 92}\n",
      "{1: 23, 2: 46, 4: 92}\n",
      "{1: 23, 2: 46, 4: 92}\n",
      "{1: 23, 2: 46, 4: 92, 9: 207}\n",
      "{1: 23, 2: 46, 4: 92, 9: 207}\n",
      "{1: 23, 2: 46, 4: 92, 9: 207, 5: 115}\n",
      "{1: 23, 2: 46, 4: 92, 9: 207, 5: 115}\n"
     ]
    },
    {
     "data": {
      "text/plain": [
       "437"
      ]
     },
     "execution_count": 571,
     "metadata": {},
     "output_type": "execute_result"
    }
   ],
   "source": [
    "rec_mul2(19,23)"
   ]
  },
  {
   "cell_type": "markdown",
   "metadata": {},
   "source": [
    "#### 6. Towers of Hanoi\n",
    "In the classic problem of the Towers of Hanoi, \n",
    "you have 3 towers and N disks of different sizes which can slide onto any tower. \n",
    "The puzzle starts with disks sorted in ascending order of size from top to bottom\n",
    "(i.e., each disk sits on top of an even larger one). You have the following constraints:\n",
    "    \n",
    "- (1) Only one disk can be moved at a time.\n",
    "- (2) A disk is slid off the top of one tower onto another tower.\n",
    "- (3) A disk cannot be placed on top of a smaller disk.\n",
    "\n",
    "Write a program to move the disks from the first tower to the last using Stacks."
   ]
  },
  {
   "cell_type": "code",
   "execution_count": 574,
   "metadata": {},
   "outputs": [],
   "source": [
    "#  1 \n",
    "#  2\n",
    "#  3        \n",
    "#  -  -  -    "
   ]
  },
  {
   "cell_type": "code",
   "execution_count": 588,
   "metadata": {},
   "outputs": [],
   "source": [
    "from collections import deque"
   ]
  },
  {
   "cell_type": "code",
   "execution_count": 703,
   "metadata": {},
   "outputs": [],
   "source": [
    "# I'll pass towers as stacks x = [1,2,3] at the beginning\n",
    "# at the end we should have z = [1,2,3]\n",
    "# and intermediary steps\n",
    "\n",
    "def move(source:deque, dest:deque):\n",
    "    item = source.pop()\n",
    "    dest.append(item)\n",
    "    \n",
    "def hanoi(x, y=deque(), z=deque()):\n",
    "    count = len(x)\n",
    "    while True:\n",
    "        # first move to right\n",
    "        move(x, y)\n",
    "        move(x, z)\n",
    "        move(y, z)    \n",
    "\n",
    "        print(x,y,z)\n",
    "        if len(z) == count:\n",
    "            print('FINITO:',x,y,z)\n",
    "            return True\n",
    "\n",
    "        # second move\n",
    "        if len(x) > 0:\n",
    "            move(x, y)\n",
    "        else:\n",
    "            move(y, x)\n",
    "\n",
    "        # back-roll\n",
    "        move(z, y)\n",
    "        move(z, x)\n",
    "        move(y, x)\n",
    "       \n",
    "        if len(z) >0 and z[-1] < y[-1]:\n",
    "            move(z, y)\n",
    "        else:\n",
    "            move(y, z)"
   ]
  },
  {
   "cell_type": "code",
   "execution_count": 704,
   "metadata": {},
   "outputs": [
    {
     "name": "stdout",
     "output_type": "stream",
     "text": [
      "deque([5, 4, 3]) deque([]) deque([2, 1])\n",
      "deque([5, 4]) deque([]) deque([3, 2, 1])\n",
      "deque([5]) deque([4, 3]) deque([2, 1])\n",
      "deque([]) deque([4, 3]) deque([5, 2, 1])\n",
      "deque([3]) deque([]) deque([5, 4, 2, 1])\n",
      "deque([]) deque([]) deque([5, 4, 3, 2, 1])\n",
      "FINITO: deque([]) deque([]) deque([5, 4, 3, 2, 1])\n"
     ]
    },
    {
     "data": {
      "text/plain": [
       "True"
      ]
     },
     "execution_count": 704,
     "metadata": {},
     "output_type": "execute_result"
    }
   ],
   "source": [
    "hanoi(deque([5,4,3,2,1]))"
   ]
  },
  {
   "cell_type": "markdown",
   "metadata": {},
   "source": [
    "#### 7. Permutations without Dups\n",
    "Write a method to compute all permutations of a string of unique characters."
   ]
  },
  {
   "cell_type": "code",
   "execution_count": 803,
   "metadata": {},
   "outputs": [],
   "source": [
    "def perm_str(s):\n",
    "    if len(s) == 2:\n",
    "        return [s, s[1]+s[0]]\n",
    "\n",
    "    ret = []    \n",
    "    ec = s[0]\n",
    "    prev = perm_str(s[1:])\n",
    "\n",
    "    for i in prev:\n",
    "        ret.append(i + ec)\n",
    "        ret.append(ec + i)\n",
    "\n",
    "        for k in range(len(i)-1):\n",
    "            ret.append(i[:k+1] + ec + i[k+1:])\n",
    "\n",
    "    return ret"
   ]
  },
  {
   "cell_type": "code",
   "execution_count": 804,
   "metadata": {},
   "outputs": [
    {
     "data": {
      "text/plain": [
       "(['cdba',\n",
       "  'acdb',\n",
       "  'cadb',\n",
       "  'cdab',\n",
       "  'bcda',\n",
       "  'abcd',\n",
       "  'bacd',\n",
       "  'bcad',\n",
       "  'cbda',\n",
       "  'acbd',\n",
       "  'cabd',\n",
       "  'cbad',\n",
       "  'dcba',\n",
       "  'adcb',\n",
       "  'dacb',\n",
       "  'dcab',\n",
       "  'bdca',\n",
       "  'abdc',\n",
       "  'badc',\n",
       "  'bdac',\n",
       "  'dbca',\n",
       "  'adbc',\n",
       "  'dabc',\n",
       "  'dbac'],\n",
       " 24)"
      ]
     },
     "execution_count": 804,
     "metadata": {},
     "output_type": "execute_result"
    }
   ],
   "source": [
    "perm_str('abcd'), len(perm_str('abcd'))"
   ]
  },
  {
   "cell_type": "markdown",
   "metadata": {},
   "source": [
    "#### 8. Permutations with Dups\n",
    "Write a method to compute all permutations of a string whose characters are not necessarily unique. \n",
    "\n",
    "The list of permutations should not have duplicates."
   ]
  },
  {
   "cell_type": "code",
   "execution_count": 798,
   "metadata": {},
   "outputs": [
    {
     "data": {
      "text/plain": [
       "{'aab', 'aba', 'baa'}"
      ]
     },
     "execution_count": 798,
     "metadata": {},
     "output_type": "execute_result"
    }
   ],
   "source": [
    "# (very) naive implementation\n",
    "set(perm_str('aab')) # zaaa xD"
   ]
  },
  {
   "cell_type": "code",
   "execution_count": 820,
   "metadata": {},
   "outputs": [
    {
     "data": {
      "text/plain": [
       "{'aaaaaaaaaa'}"
      ]
     },
     "execution_count": 820,
     "metadata": {},
     "output_type": "execute_result"
    }
   ],
   "source": [
    "# this takes so much time\n",
    "# because of perm_str has O(N!) worst-case (all the time) complexity \n",
    "# O(N!) can't be beaten but for repeating character cases, can be improved\n",
    "set(perm_str('aaaaaaaaaa'))"
   ]
  },
  {
   "cell_type": "code",
   "execution_count": 821,
   "metadata": {},
   "outputs": [],
   "source": [
    "def build_freq_table(s):\n",
    "    d = {}\n",
    "    for k in s:\n",
    "        if k in d:\n",
    "            d[k] = d[k] + 1\n",
    "        else:\n",
    "            d[k] = 1\n",
    "    return d"
   ]
  },
  {
   "cell_type": "code",
   "execution_count": 831,
   "metadata": {},
   "outputs": [],
   "source": [
    "def perm_str2(s):\n",
    "    freq_map = build_freq_table(s)\n",
    "    ret = []\n",
    "    perm_str2_helper(freq_map, '', len(s), ret)\n",
    "    return ret\n",
    "\n",
    "def perm_str2_helper(freq_map, prefix, remaining, result):\n",
    "    if remaining == 0: # base case\n",
    "        result.append(prefix)\n",
    "        return\n",
    "    \n",
    "    for k in freq_map:\n",
    "        count = freq_map[k]\n",
    "        if count>0:\n",
    "            freq_map[k] = freq_map[k] - 1\n",
    "            perm_str2_helper(freq_map, prefix + k, remaining-1, result)\n",
    "            freq_map[k] = count"
   ]
  },
  {
   "cell_type": "code",
   "execution_count": 832,
   "metadata": {},
   "outputs": [
    {
     "data": {
      "text/plain": [
       "['aaaaaaaaaaaaaaaaaaaaaaaaaaaa']"
      ]
     },
     "execution_count": 832,
     "metadata": {},
     "output_type": "execute_result"
    }
   ],
   "source": [
    "# very performant\n",
    "perm_str2('aaaaaaaaaaaaaaaaaaaaaaaaaaaa')"
   ]
  },
  {
   "cell_type": "markdown",
   "metadata": {},
   "source": [
    "#### 9. Parens\n",
    "Implement an algorithm to print all valid (i.e., properly opened and closed) \n",
    "combinations of n pairs of parentheses.\n",
    "\n",
    "Input: 3\n",
    "\n",
    "Output: ```((())), (()()), (())(), ()(()), ()()()```"
   ]
  },
  {
   "cell_type": "code",
   "execution_count": 856,
   "metadata": {},
   "outputs": [],
   "source": [
    "# p(1) = ()\n",
    "# P(2) = ()(), (())\n",
    "\n",
    "def parens(n):\n",
    "    if n == 1:\n",
    "        return ['()']\n",
    "    if n == 2:\n",
    "        return ['()()', '(())']\n",
    "    \n",
    "    ret = []\n",
    "    prev = parens(n-1)\n",
    "    d = {}\n",
    "    \n",
    "    for prev_item in prev:\n",
    "        for k in range(1, len(prev_item)):\n",
    "            new_item = prev_item[0:k] + '()' + prev_item[k:]\n",
    "            if not new_item in d: # prevent duplicates with an hashtable\n",
    "                d[new_item] = True\n",
    "                ret.append(new_item)\n",
    "    return ret"
   ]
  },
  {
   "cell_type": "code",
   "execution_count": 857,
   "metadata": {},
   "outputs": [
    {
     "data": {
      "text/plain": [
       "['(())()', '()()()', '()(())', '(()())', '((()))']"
      ]
     },
     "execution_count": 857,
     "metadata": {},
     "output_type": "execute_result"
    }
   ],
   "source": [
    "parens(3)"
   ]
  },
  {
   "cell_type": "code",
   "execution_count": 890,
   "metadata": {},
   "outputs": [],
   "source": [
    "# recursive approach which yields to unique results\n",
    "\n",
    "def add_paren(results, left_rem, right_rem, string, index):\n",
    "    if left_rem < 0 or right_rem < left_rem:\n",
    "        return\n",
    "    \n",
    "    if left_rem == 0 and right_rem == 0:\n",
    "        results.append(''.join(string))\n",
    "    else:\n",
    "        string[index] = '('\n",
    "        add_paren(results, left_rem-1, right_rem, string, index+1)\n",
    "        \n",
    "        string[index] = ')'\n",
    "        add_paren(results, left_rem, right_rem-1, string, index+1)\n",
    "\n",
    "def parens2(n):\n",
    "    ret = []\n",
    "    string = [None] * n * 2\n",
    "    add_paren(ret, n, n, string, 0)\n",
    "    return ret"
   ]
  },
  {
   "cell_type": "code",
   "execution_count": 891,
   "metadata": {},
   "outputs": [
    {
     "data": {
      "text/plain": [
       "['((()))', '(()())', '(())()', '()(())', '()()()']"
      ]
     },
     "execution_count": 891,
     "metadata": {},
     "output_type": "execute_result"
    }
   ],
   "source": [
    "parens2(3)"
   ]
  },
  {
   "cell_type": "markdown",
   "metadata": {},
   "source": [
    "#### 10. Paint Fill\n",
    "Implement the \"paint fill\" function that one might see on many image editing programs. \n",
    "That is, given a screen (represented by a two-dimensional array of colors), a point, \n",
    "and a new color, fill in the surrounding area until the color changes from the original color."
   ]
  },
  {
   "cell_type": "code",
   "execution_count": 913,
   "metadata": {},
   "outputs": [],
   "source": [
    "# naive implementataion\n",
    "# pic = [[...]] NxN\n",
    "# point = x,y\n",
    "# color = number\n",
    "# we need to search surrounding area of that point.\n",
    "#               fill(x-1, y)    \n",
    "# fill(x,y) ->  fill(x+1, y)\n",
    "#               fill(x, y+1)\n",
    "#               fill(x, y-1)\n",
    "# \n",
    "\n",
    "def fill(pic, x, y, color, first_color=None):\n",
    "    if x<0 or y<0 or x>=len(pic) or y>=len(pic): # boundary exceeded\n",
    "        return\n",
    "    \n",
    "    if first_color != None and pic[x][y] != first_color: # color changed\n",
    "        return\n",
    "    \n",
    "    if first_color == None:\n",
    "        first_color = pic[x][y]\n",
    "    \n",
    "    pic[x][y] = color # fill that point\n",
    "    \n",
    "    fill(pic, x-1, y, color, first_color)\n",
    "    fill(pic, x+1, y, color, first_color)\n",
    "    fill(pic, x, y-1, color, first_color)\n",
    "    fill(pic, x, y+1, color, first_color)"
   ]
  },
  {
   "cell_type": "code",
   "execution_count": 914,
   "metadata": {},
   "outputs": [
    {
     "name": "stdout",
     "output_type": "stream",
     "text": [
      "[[0, 0, 0, 0], [0, 5, 5, 0], [0, 5, 5, 5], [0, 0, 0, 5]]\n"
     ]
    }
   ],
   "source": [
    "pic = [\n",
    "    [0,0,0,0],\n",
    "    [0,1,1,0],\n",
    "    [0,1,1,1],\n",
    "    [0,0,0,1]\n",
    "]\n",
    "\n",
    "fill(pic, 1, 1, 5)\n",
    "print(pic)"
   ]
  },
  {
   "cell_type": "code",
   "execution_count": 915,
   "metadata": {},
   "outputs": [
    {
     "name": "stdout",
     "output_type": "stream",
     "text": [
      "[[8, 8, 8, 8], [8, 1, 1, 8], [8, 1, 1, 8], [8, 8, 8, 8]]\n"
     ]
    }
   ],
   "source": [
    "pic = [\n",
    "    [0,0,0,0],\n",
    "    [0,1,1,0],\n",
    "    [0,1,1,0],\n",
    "    [0,0,0,0]\n",
    "]\n",
    "fill(pic, 0, 0, 8)\n",
    "print(pic)"
   ]
  },
  {
   "cell_type": "markdown",
   "metadata": {},
   "source": [
    "#### 11. Coins\n",
    "Given an infinite number of quarters (25 cents), dimes (1O cents), nickels (5 cents), and pennies (1 cent), write code to calculate the number of ways of representing n cents."
   ]
  },
  {
   "cell_type": "code",
   "execution_count": null,
   "metadata": {},
   "outputs": [],
   "source": [
    "# p(1) = 1\n",
    "# p(5) = 5x1 or 5\n",
    "# p(10) = 10x1 or 5x2 or 1"
   ]
  }
 ],
 "metadata": {
  "kernelspec": {
   "display_name": "Python 3",
   "language": "python",
   "name": "python3"
  },
  "language_info": {
   "codemirror_mode": {
    "name": "ipython",
    "version": 3
   },
   "file_extension": ".py",
   "mimetype": "text/x-python",
   "name": "python",
   "nbconvert_exporter": "python",
   "pygments_lexer": "ipython3",
   "version": "3.7.2"
  }
 },
 "nbformat": 4,
 "nbformat_minor": 2
}
