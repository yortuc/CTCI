{
 "cells": [
  {
   "cell_type": "markdown",
   "metadata": {},
   "source": [
    "Example 1:\n",
    "\n",
    "```\n",
    "Input: [[1],[2],[3],[]]\n",
    "Output: true\n",
    "Explanation:  \n",
    "We start in room 0, and pick up key 1.\n",
    "We then go to room 1, and pick up key 2.\n",
    "We then go to room 2, and pick up key 3.\n",
    "We then go to room 3.  Since we were able to go to every room, we return true.\n",
    "```\n",
    "\n",
    "\n",
    "Example 2:\n",
    "```\n",
    "Input: [[1,3],[3,0,1],[2],[0]]\n",
    "Output: false\n",
    "Explanation: We can't enter the room with number 2.\n",
    "```"
   ]
  },
  {
   "cell_type": "code",
   "execution_count": 11,
   "metadata": {},
   "outputs": [],
   "source": [
    "from collections import deque\n",
    "\n",
    "def rooms(arr):\n",
    "    stack = deque([0])\n",
    "    not_visited = set([i for i in range(len(arr))])\n",
    "    hist = set()\n",
    "    \n",
    "    while stack:\n",
    "        lenq = len(stack)\n",
    "        for _ in range(lenq):\n",
    "            itm = stack.pop()\n",
    "            if itm in not_visited:\n",
    "                not_visited.remove(itm)\n",
    "            if len(not_visited) == 0:\n",
    "                return True\n",
    "            # get neighbors\n",
    "            for r in arr[itm]:\n",
    "                if r not in hist:\n",
    "                    stack.append(r)\n",
    "                    hist.add(r)\n",
    "    return False"
   ]
  },
  {
   "cell_type": "code",
   "execution_count": 12,
   "metadata": {},
   "outputs": [
    {
     "data": {
      "text/plain": [
       "True"
      ]
     },
     "execution_count": 12,
     "metadata": {},
     "output_type": "execute_result"
    }
   ],
   "source": [
    "rooms([[1],[2],[3],[]])"
   ]
  },
  {
   "cell_type": "code",
   "execution_count": 13,
   "metadata": {},
   "outputs": [
    {
     "data": {
      "text/plain": [
       "False"
      ]
     },
     "execution_count": 13,
     "metadata": {},
     "output_type": "execute_result"
    }
   ],
   "source": [
    "rooms([[1,3],[3,0,1],[2],[0]])"
   ]
  },
  {
   "cell_type": "code",
   "execution_count": null,
   "metadata": {},
   "outputs": [],
   "source": []
  }
 ],
 "metadata": {
  "kernelspec": {
   "display_name": "Python 3",
   "language": "python",
   "name": "python3"
  },
  "language_info": {
   "codemirror_mode": {
    "name": "ipython",
    "version": 3
   },
   "file_extension": ".py",
   "mimetype": "text/x-python",
   "name": "python",
   "nbconvert_exporter": "python",
   "pygments_lexer": "ipython3",
   "version": "3.7.2"
  }
 },
 "nbformat": 4,
 "nbformat_minor": 2
}
