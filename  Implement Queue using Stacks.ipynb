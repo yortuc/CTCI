{
 "cells": [
  {
   "cell_type": "code",
   "execution_count": 12,
   "metadata": {},
   "outputs": [],
   "source": [
    "# create a main stack,\n",
    "#   push items into main stack\n",
    "#   in case of pop, \n",
    "#      create stack s1, push all items to s1 from main_stack, pop from that \n",
    "#      more items pushed into main stack, create a new stack s2\n",
    "#      for popping, pop from smalles indexed helper stack util it's finished, then remove it\n",
    "\n",
    "class MyQueue:\n",
    "\n",
    "    def __init__(self):\n",
    "        \"\"\"\n",
    "        Initialize your data structure here.\n",
    "        \"\"\"\n",
    "        self.s1 = deque()\n",
    "        self.s2 = deque()\n",
    "        \n",
    "\n",
    "    def push(self, x: int) -> None:\n",
    "        \"\"\"\n",
    "        Push element x to the back of queue.\n",
    "        \"\"\"\n",
    "        self.s1.append(x)\n",
    "            \n",
    "\n",
    "    def pop(self) -> int:\n",
    "        \"\"\"\n",
    "        Removes the element from in front of queue and returns that element.\n",
    "        \"\"\"\n",
    "        if len(self.s2)==0:\n",
    "            while self.s1:\n",
    "                self.s2.append(self.s1.pop())\n",
    "        return self.s2.pop()\n",
    "\n",
    "    def peek(self) -> int:\n",
    "        \"\"\"\n",
    "        Get the front element.\n",
    "        \"\"\"\n",
    "        if self.empty():\n",
    "            return -1\n",
    "        \n",
    "        if len(self.s2)>0:\n",
    "            return self.s2[-1]\n",
    "        else:\n",
    "            return self.s1[0]\n",
    "\n",
    "    def empty(self) -> bool:\n",
    "        \"\"\"\n",
    "        Returns whether the queue is empty.\n",
    "        \"\"\"\n",
    "        return (len(self.s1) + len(self.s2)) == 0\n",
    "        "
   ]
  },
  {
   "cell_type": "code",
   "execution_count": 14,
   "metadata": {},
   "outputs": [
    {
     "name": "stdout",
     "output_type": "stream",
     "text": [
      "5\n",
      "-1\n",
      "True\n"
     ]
    }
   ],
   "source": [
    "# Your MyQueue object will be instantiated and called as such:\n",
    "obj = MyQueue()\n",
    "obj.push(5)\n",
    "print(obj.pop())\n",
    "print(obj.peek())\n",
    "print(obj.empty())"
   ]
  },
  {
   "cell_type": "code",
   "execution_count": 17,
   "metadata": {},
   "outputs": [
    {
     "name": "stdout",
     "output_type": "stream",
     "text": [
      "1\n",
      "False\n",
      "1\n",
      "2\n",
      "3\n",
      "4\n"
     ]
    }
   ],
   "source": [
    "obj = MyQueue()\n",
    "obj.push(1)\n",
    "obj.push(2)\n",
    "obj.push(3)\n",
    "print(obj.peek())\n",
    "print(obj.empty())\n",
    "print(obj.pop())\n",
    "obj.push(4)\n",
    "print(obj.pop())\n",
    "print(obj.pop())\n",
    "print(obj.pop())\n"
   ]
  },
  {
   "cell_type": "code",
   "execution_count": null,
   "metadata": {},
   "outputs": [],
   "source": []
  }
 ],
 "metadata": {
  "kernelspec": {
   "display_name": "Python 3",
   "language": "python",
   "name": "python3"
  },
  "language_info": {
   "codemirror_mode": {
    "name": "ipython",
    "version": 3
   },
   "file_extension": ".py",
   "mimetype": "text/x-python",
   "name": "python",
   "nbconvert_exporter": "python",
   "pygments_lexer": "ipython3",
   "version": "3.7.2"
  }
 },
 "nbformat": 4,
 "nbformat_minor": 2
}
