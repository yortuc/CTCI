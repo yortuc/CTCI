{
 "cells": [
  {
   "cell_type": "markdown",
   "metadata": {},
   "source": [
    "Given a string containing just the characters `'(', ')', '{', '}', '[' and ']'`, determine if the input string is valid.\n",
    "\n",
    "An input string is valid if:\n",
    "\n",
    "Open brackets must be closed by the same type of brackets.\n",
    "Open brackets must be closed in the correct order.\n",
    "Note that an empty string is also considered valid."
   ]
  },
  {
   "cell_type": "code",
   "execution_count": 25,
   "metadata": {},
   "outputs": [],
   "source": [
    "# {[()]}\n",
    "# push paran into stack if it's a start\n",
    "# if it's a end, at the top of the stack there must be corresponging start, if not, return False\n",
    "#     if True, remove it from stack\n",
    "# \n",
    "# if at the end, something left in stack, return False\n",
    "# \n",
    "\n",
    "from collections import deque\n",
    "\n",
    "def isvalid_parans(s):\n",
    "    if s == '':\n",
    "        return True\n",
    "    \n",
    "    starts = ['{', '(', '[']\n",
    "    ends = ['}', ')', ']']\n",
    "    parans = deque()\n",
    "    \n",
    "    for i in list(s):\n",
    "        if i in starts:\n",
    "            parans.append(i)\n",
    "        if i in ends:\n",
    "            i_index = ends.index(i)\n",
    "            if len(parans)>0:\n",
    "                last_item = parans[-1]\n",
    "            else:\n",
    "                return False\n",
    "            \n",
    "            if last_item in starts:\n",
    "                last_item_index = starts.index(last_item)\n",
    "                if last_item_index == i_index:\n",
    "                    parans.pop()\n",
    "                else:\n",
    "                    return False\n",
    "            else: \n",
    "                return False\n",
    "            \n",
    "    return len(parans)==0"
   ]
  },
  {
   "cell_type": "code",
   "execution_count": 26,
   "metadata": {},
   "outputs": [
    {
     "data": {
      "text/plain": [
       "False"
      ]
     },
     "execution_count": 26,
     "metadata": {},
     "output_type": "execute_result"
    }
   ],
   "source": [
    "isvalid_parans('[(){}]]')"
   ]
  },
  {
   "cell_type": "code",
   "execution_count": null,
   "metadata": {},
   "outputs": [],
   "source": []
  }
 ],
 "metadata": {
  "kernelspec": {
   "display_name": "Python 3",
   "language": "python",
   "name": "python3"
  },
  "language_info": {
   "codemirror_mode": {
    "name": "ipython",
    "version": 3
   },
   "file_extension": ".py",
   "mimetype": "text/x-python",
   "name": "python",
   "nbconvert_exporter": "python",
   "pygments_lexer": "ipython3",
   "version": "3.7.2"
  }
 },
 "nbformat": 4,
 "nbformat_minor": 2
}
