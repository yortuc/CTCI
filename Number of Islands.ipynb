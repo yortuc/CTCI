{
 "cells": [
  {
   "cell_type": "markdown",
   "metadata": {},
   "source": [
    "# Number of Islands"
   ]
  },
  {
   "cell_type": "markdown",
   "metadata": {},
   "source": [
    "Given a 2d grid map of '1's (land) and '0's (water), count the number of islands. An island is surrounded by water and is formed by connecting adjacent lands horizontally or vertically. You may assume all four edges of the grid are all surrounded by water.\n",
    "\n",
    "**Example 1:**\n",
    "\n",
    "*Input:*\n",
    "```\n",
    "11110\n",
    "11010\n",
    "11000\n",
    "00000\n",
    "```\n",
    "*Output:* 1\n",
    "\n",
    "**Example 2:**\n",
    "\n",
    "*Input:*\n",
    "```\n",
    "11000\n",
    "11000\n",
    "00100\n",
    "00011\n",
    "```\n",
    "*Output:* 3"
   ]
  },
  {
   "cell_type": "code",
   "execution_count": 27,
   "metadata": {},
   "outputs": [],
   "source": [
    "# start with cell j,i\n",
    "# if land, get neighbors, push to que which are land\n",
    "# in a time when all cells in queue have a water neighbor this queue is an island.\n",
    "from collections import deque \n",
    "\n",
    "class Cell:\n",
    "    def __init__(self, j, i):\n",
    "        self.j = j\n",
    "        self.i = i\n",
    "\n",
    "def process_cell(grid, q, hist):\n",
    "    while len(q)>0:\n",
    "        lenq = len(q)\n",
    "        for _ in range(lenq):\n",
    "            itm = q.popleft()\n",
    "            \n",
    "            # process neighbors\n",
    "            if itm.i > 0 and grid[itm.j][itm.i-1] == 1 and (itm.j, itm.i-1) not in hist:              # left\n",
    "                q.append(Cell(itm.j,itm.i-1))\n",
    "                hist.add((itm.j,itm.i-1))\n",
    "            if itm.i < len(grid[0])-1 and grid[itm.j][itm.i+1] == 1 and (itm.j, itm.i+1) not in hist: # right\n",
    "                q.append(Cell(itm.j, itm.i+1))\n",
    "                hist.add((itm.j, itm.i+1))\n",
    "            if itm.j < len(grid)-1 and grid[itm.j+1][itm.i] == 1 and (itm.j+1, itm.i) not in hist:    # bottom\n",
    "                q.append(Cell(itm.j+1, itm.i))\n",
    "                hist.add((itm.j+1, itm.i))\n",
    "            if itm.j > 0 and grid[itm.j-1][itm.i] == 1 and (itm.j-1, itm.i) not in hist:              # up\n",
    "                q.append(Cell(itm.j-1, itm.i))\n",
    "                hist.add((itm.j-1, itm.i))\n",
    "            \n",
    "        island = True\n",
    "        for c in q:\n",
    "            island = island and check_neighbors(c, q)\n",
    "\n",
    "        if island:\n",
    "            return 1\n",
    "    return 0"
   ]
  },
  {
   "cell_type": "code",
   "execution_count": 28,
   "metadata": {},
   "outputs": [],
   "source": [
    "def check_neighbors(itm, q):\n",
    "    lw = False # left is water\n",
    "    if (itm.i > 0 and grid[itm.j][itm.i-1] == 0) or (itm.i == 0) or ((itm.j, itm.i) in q):\n",
    "        lw = True\n",
    "    rw = False # right is water\n",
    "    if (itm.i < len(grid[0])-1 and grid[itm.j][itm.i+1] == 0) or (itm.i == len(grid[0])-1) or ((itm.j, itm.i+1) in q):\n",
    "        rw = True \n",
    "    bw = False # bottom is water\n",
    "    if (itm.j < len(grid)-1 and grid[itm.j+1][itm.i] == 0) or (itm.j == len(grid)-1) or ((itm.j+1,itm.i) in q):\n",
    "        bw = True\n",
    "    uw = False # up is water\n",
    "    if (itm.j > 0 and grid[itm.j-1][itm.i] == 0) or (itm.j == 0) or ((itm.j-1,itm.i) in q):\n",
    "        uw = True\n",
    "    return lw and rw and bw and uw"
   ]
  },
  {
   "cell_type": "code",
   "execution_count": 29,
   "metadata": {},
   "outputs": [],
   "source": [
    "from typing import List\n",
    "\n",
    "class Solution:\n",
    "    def numIslands(self, grid: List[List[str]]) -> int:\n",
    "        ret = 0\n",
    "        hist = set()\n",
    "        for j in range(len(grid)):\n",
    "            for i in range(len(grid[0])):\n",
    "                if grid[j][i] == 1 and (j,i) not in hist:\n",
    "                    ret = ret + process_cell(grid, deque([Cell(j, i)]), hist)\n",
    "        return ret"
   ]
  },
  {
   "cell_type": "code",
   "execution_count": 30,
   "metadata": {},
   "outputs": [
    {
     "data": {
      "text/plain": [
       "1"
      ]
     },
     "execution_count": 30,
     "metadata": {},
     "output_type": "execute_result"
    }
   ],
   "source": [
    "grid = [[1,1,1,1,0],\n",
    "        [1,1,0,1,0],\n",
    "        [1,1,0,0,0],\n",
    "        [0,0,0,0,0]]\n",
    "\n",
    "s = Solution()\n",
    "s.numIslands(grid)"
   ]
  },
  {
   "cell_type": "code",
   "execution_count": 31,
   "metadata": {},
   "outputs": [
    {
     "data": {
      "text/plain": [
       "1"
      ]
     },
     "execution_count": 31,
     "metadata": {},
     "output_type": "execute_result"
    }
   ],
   "source": [
    "grid = [[1,1,1],\n",
    "        [0,1,0],\n",
    "        [1,1,1]]\n",
    "\n",
    "s = Solution()\n",
    "s.numIslands(grid)"
   ]
  },
  {
   "cell_type": "code",
   "execution_count": 32,
   "metadata": {},
   "outputs": [
    {
     "data": {
      "text/plain": [
       "3"
      ]
     },
     "execution_count": 32,
     "metadata": {},
     "output_type": "execute_result"
    }
   ],
   "source": [
    "grid = [[1,1,0,0,0],\n",
    "        [1,1,0,0,0],\n",
    "        [0,0,1,0,0],\n",
    "        [0,0,0,1,1]]\n",
    "s = Solution()\n",
    "s.numIslands(grid)"
   ]
  },
  {
   "cell_type": "code",
   "execution_count": null,
   "metadata": {},
   "outputs": [],
   "source": []
  }
 ],
 "metadata": {
  "kernelspec": {
   "display_name": "Python 3",
   "language": "python",
   "name": "python3"
  },
  "language_info": {
   "codemirror_mode": {
    "name": "ipython",
    "version": 3
   },
   "file_extension": ".py",
   "mimetype": "text/x-python",
   "name": "python",
   "nbconvert_exporter": "python",
   "pygments_lexer": "ipython3",
   "version": "3.7.2"
  }
 },
 "nbformat": 4,
 "nbformat_minor": 2
}
