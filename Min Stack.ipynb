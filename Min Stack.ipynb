{
 "cells": [
  {
   "cell_type": "code",
   "execution_count": 27,
   "metadata": {},
   "outputs": [],
   "source": [
    "from collections import deque\n",
    "\n",
    "class MinStack:\n",
    "    def __init__(self):\n",
    "        self.q = deque()\n",
    "        self.mins = deque()\n",
    "        \n",
    "    def push(self, x: int) -> None:\n",
    "        self.q.append(x)\n",
    "        if len(self.mins) == 0:\n",
    "            self.mins.append(x)\n",
    "        else:\n",
    "            if x <= self.getMin():\n",
    "                self.mins.append(x)\n",
    "\n",
    "    def pop(self) -> None:\n",
    "        if len(self.q)>0:\n",
    "            itm = self.q.pop()\n",
    "            if len(self.mins)>0:\n",
    "                if itm == self.mins[-1]:\n",
    "                    self.mins.pop()\n",
    "\n",
    "    def top(self) -> int:\n",
    "        if len(self.q)>0:\n",
    "            return self.q[-1]\n",
    "        else:\n",
    "            return None\n",
    "\n",
    "    def getMin(self) -> int:\n",
    "        if len(self.mins)>0:\n",
    "            return self.mins[-1]\n",
    "        else:\n",
    "            return None"
   ]
  },
  {
   "cell_type": "code",
   "execution_count": 28,
   "metadata": {},
   "outputs": [
    {
     "name": "stdout",
     "output_type": "stream",
     "text": [
      "None\n",
      "None\n",
      "None\n",
      "-3\n",
      "None\n",
      "0\n",
      "-2\n"
     ]
    }
   ],
   "source": [
    "minStack = MinStack()\n",
    "print(minStack.push(-2))\n",
    "print(minStack.push(0))\n",
    "print(minStack.push(-3))\n",
    "print(minStack.getMin())   # --> Returns -3.\n",
    "print(minStack.pop())\n",
    "print(minStack.top())     # --> Returns 0.\n",
    "print(minStack.getMin())  # --> Returns -2."
   ]
  },
  {
   "cell_type": "code",
   "execution_count": 29,
   "metadata": {},
   "outputs": [
    {
     "name": "stdout",
     "output_type": "stream",
     "text": [
      "None\n",
      "None\n",
      "None\n",
      "0\n",
      "None\n",
      "0\n"
     ]
    }
   ],
   "source": [
    "# [\"MinStack\",\"push\",\"push\",\"push\",\"getMin\",\"pop\",\"getMin\"]\n",
    "# [[],[0],[1],[0],[],[],[]]\n",
    "\n",
    "minStack = MinStack()\n",
    "print(minStack.push(0))\n",
    "print(minStack.push(1))\n",
    "print(minStack.push(0))\n",
    "print(minStack.getMin())   \n",
    "print(minStack.pop())\n",
    "print(minStack.getMin())"
   ]
  }
 ],
 "metadata": {
  "kernelspec": {
   "display_name": "Python 3",
   "language": "python",
   "name": "python3"
  },
  "language_info": {
   "codemirror_mode": {
    "name": "ipython",
    "version": 3
   },
   "file_extension": ".py",
   "mimetype": "text/x-python",
   "name": "python",
   "nbconvert_exporter": "python",
   "pygments_lexer": "ipython3",
   "version": "3.7.2"
  }
 },
 "nbformat": 4,
 "nbformat_minor": 2
}
