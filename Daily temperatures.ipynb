{
 "cells": [
  {
   "cell_type": "code",
   "execution_count": 18,
   "metadata": {},
   "outputs": [],
   "source": [
    "# naive approach O(N^2) worst case\n",
    "\n",
    "def get_temps(temps):\n",
    "    ret = []\n",
    "    for i in range(len(temps)):\n",
    "        added = False\n",
    "        for j in range(i+1, len(temps)):\n",
    "             if temps[j] > temps[i]:\n",
    "                ret.append(j-i)\n",
    "                added = True\n",
    "                break\n",
    "                \n",
    "        if added == False and i < len(temps): # reached j end so add 0\n",
    "            ret.append(0)\n",
    "    return ret"
   ]
  },
  {
   "cell_type": "code",
   "execution_count": 19,
   "metadata": {},
   "outputs": [
    {
     "name": "stdout",
     "output_type": "stream",
     "text": [
      "[1, 1, 4, 2, 1, 1, 0, 0]\n",
      "[1, 1, 4, 2, 1, 1, 0, 0]\n"
     ]
    }
   ],
   "source": [
    "print(get_temps([73, 74, 75, 71, 69, 72, 76, 73]))\n",
    "print('[1, 1, 4, 2, 1, 1, 0, 0]')"
   ]
  },
  {
   "cell_type": "code",
   "execution_count": 24,
   "metadata": {},
   "outputs": [],
   "source": [
    "# push Ti into stack\n",
    "# if last_item is lower then Ti\n",
    "#    results.append(len(stack)-1)\n",
    "#    empty stack\n",
    "#    move next Ti+1\n",
    "from collections import deque"
   ]
  },
  {
   "cell_type": "code",
   "execution_count": 119,
   "metadata": {},
   "outputs": [],
   "source": [
    "def get_temps2(temps):\n",
    "    ret = [0] * len(temps)\n",
    "    stack = deque([temps[0]])\n",
    "    indexes = deque([0])\n",
    "\n",
    "    for i in range(1, len(temps)):\n",
    "        itm = temps[i]\n",
    "        lens = len(stack)\n",
    "        last_item = None\n",
    "        \n",
    "        for _ in range(lens):\n",
    "            if itm > stack[-1]:\n",
    "                last_item = stack.pop()\n",
    "                ind = indexes.pop()\n",
    "                ret[ind] = i - ind\n",
    "                print(stack)\n",
    "            else:\n",
    "                stack.append(itm)\n",
    "                indexes.append(i)\n",
    "                break\n",
    "        \n",
    "        if len(stack) == 0:\n",
    "            stack.append(itm)\n",
    "            indexes.append(i)\n",
    "    return ret"
   ]
  },
  {
   "cell_type": "code",
   "execution_count": 120,
   "metadata": {},
   "outputs": [
    {
     "name": "stdout",
     "output_type": "stream",
     "text": [
      "deque([12])\n",
      "deque([12])\n",
      "deque([12, 7, 2])\n",
      "deque([12, 7])\n",
      "deque([12])\n",
      "deque([])\n",
      "[6, 1, 1, 3, 2, 1, 0, 0]\n"
     ]
    }
   ],
   "source": [
    "print(get_temps2([12, 3, 4, 7, 2, 1, 16, 5]))"
   ]
  },
  {
   "cell_type": "code",
   "execution_count": 121,
   "metadata": {},
   "outputs": [
    {
     "name": "stdout",
     "output_type": "stream",
     "text": [
      "deque([])\n",
      "deque([])\n",
      "deque([75, 71])\n",
      "deque([75])\n",
      "deque([75])\n",
      "deque([])\n"
     ]
    },
    {
     "data": {
      "text/plain": [
       "[1, 1, 4, 2, 1, 1, 0, 0]"
      ]
     },
     "execution_count": 121,
     "metadata": {},
     "output_type": "execute_result"
    }
   ],
   "source": [
    "get_temps2([73,74,75,71,69,72,76,73])"
   ]
  },
  {
   "cell_type": "code",
   "execution_count": null,
   "metadata": {},
   "outputs": [],
   "source": [
    "# [1,1,4,2,1,1,0,0]"
   ]
  }
 ],
 "metadata": {
  "kernelspec": {
   "display_name": "Python 3",
   "language": "python",
   "name": "python3"
  },
  "language_info": {
   "codemirror_mode": {
    "name": "ipython",
    "version": 3
   },
   "file_extension": ".py",
   "mimetype": "text/x-python",
   "name": "python",
   "nbconvert_exporter": "python",
   "pygments_lexer": "ipython3",
   "version": "3.7.2"
  }
 },
 "nbformat": 4,
 "nbformat_minor": 2
}
