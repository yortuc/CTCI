{
 "cells": [
  {
   "cell_type": "code",
   "execution_count": 18,
   "metadata": {},
   "outputs": [],
   "source": [
    "class Node:\n",
    "    def __init__(self, val, left=None, right=None):\n",
    "        self.val = val\n",
    "        self.left = left\n",
    "        self.right = right\n",
    "\n",
    "root = Node('F',\n",
    "           Node('B', \n",
    "                Node('A'), \n",
    "                Node('D', \n",
    "                     Node('C'), Node('E'))), \n",
    "           Node('G', None, Node('I', Node('H'))))"
   ]
  },
  {
   "cell_type": "code",
   "execution_count": 19,
   "metadata": {},
   "outputs": [],
   "source": [
    "def preorder(node):\n",
    "    ret = node.val\n",
    "    if node.left:\n",
    "        ret = ret + ',' + preorder(node.left)\n",
    "    if node.right:\n",
    "        ret = ret + ',' + preorder(node.right)\n",
    "    return ret"
   ]
  },
  {
   "cell_type": "code",
   "execution_count": 20,
   "metadata": {},
   "outputs": [
    {
     "data": {
      "text/plain": [
       "'F,B,A,D,C,E,G,I,H'"
      ]
     },
     "execution_count": 20,
     "metadata": {},
     "output_type": "execute_result"
    }
   ],
   "source": [
    "preorder(root)"
   ]
  },
  {
   "cell_type": "code",
   "execution_count": 21,
   "metadata": {},
   "outputs": [],
   "source": [
    "def inorder(node):\n",
    "    ret = []\n",
    "    if node.left:\n",
    "        ret.append(inorder(node.left))\n",
    "    ret.append(node.val)\n",
    "    if node.right:\n",
    "        ret.append(inorder(node.right))\n",
    "    return ','.join(ret)"
   ]
  },
  {
   "cell_type": "code",
   "execution_count": 22,
   "metadata": {},
   "outputs": [
    {
     "data": {
      "text/plain": [
       "'A,B,C,D,E,F,G,H,I'"
      ]
     },
     "execution_count": 22,
     "metadata": {},
     "output_type": "execute_result"
    }
   ],
   "source": [
    "inorder(root)"
   ]
  },
  {
   "cell_type": "code",
   "execution_count": 23,
   "metadata": {},
   "outputs": [],
   "source": [
    "def postorder(node):\n",
    "    ret = []\n",
    "    if node.left:\n",
    "        ret.append(postorder(node.left))\n",
    "    if node.right:\n",
    "        ret.append(postorder(node.right))\n",
    "    ret.append(node.val)\n",
    "    return ','.join(ret)"
   ]
  },
  {
   "cell_type": "code",
   "execution_count": 24,
   "metadata": {},
   "outputs": [
    {
     "data": {
      "text/plain": [
       "'A,C,E,D,B,H,I,G,F'"
      ]
     },
     "execution_count": 24,
     "metadata": {},
     "output_type": "execute_result"
    }
   ],
   "source": [
    "postorder(root)"
   ]
  },
  {
   "cell_type": "code",
   "execution_count": 17,
   "metadata": {},
   "outputs": [],
   "source": [
    "# Iterative preorder"
   ]
  },
  {
   "cell_type": "code",
   "execution_count": 26,
   "metadata": {},
   "outputs": [],
   "source": [
    "#          ---F---\n",
    "#        /        \\\n",
    "#       B          G\n",
    "#     /  \\        /\n",
    "#    A    D      I\n",
    "#        / \\    /\n",
    "#       C   E  H\n",
    "# \n",
    "# F,B,A,D,C,E,G,I,H\n",
    "\n",
    "from collections import deque\n",
    "\n",
    "def preorder_it(root):\n",
    "    ret = []\n",
    "    stack = deque([root])\n",
    "    \n",
    "    while stack:\n",
    "        itm = stack.pop()        # f\n",
    "        ret.append(itm.val)      \n",
    "        \n",
    "        if itm.right:                 # [b]\n",
    "            stack.append(itm.right)\n",
    "        if itm.left:                # [b, g]\n",
    "            stack.append(itm.left)\n",
    "    return ret"
   ]
  },
  {
   "cell_type": "code",
   "execution_count": 30,
   "metadata": {},
   "outputs": [
    {
     "data": {
      "text/plain": [
       "['F', 'B', 'A', 'D', 'C', 'E', 'G', 'I', 'H']"
      ]
     },
     "execution_count": 30,
     "metadata": {},
     "output_type": "execute_result"
    }
   ],
   "source": [
    "preorder_it(root)"
   ]
  },
  {
   "cell_type": "code",
   "execution_count": 39,
   "metadata": {},
   "outputs": [],
   "source": [
    "def inorder_it(root):\n",
    "    ret = []\n",
    "    stack = deque([root])\n",
    "    left_visited = set()\n",
    "    \n",
    "    while stack:\n",
    "        top_item = stack[-1]\n",
    "        if top_item.left and top_item not in left_visited:\n",
    "            stack.append(top_item.left)\n",
    "            left_visited.add(top_item)\n",
    "        else:\n",
    "            itm = stack.pop()\n",
    "            ret.append(itm.val)\n",
    "            if itm.right:\n",
    "                stack.append(itm.right)\n",
    "    return ret"
   ]
  },
  {
   "cell_type": "code",
   "execution_count": 40,
   "metadata": {},
   "outputs": [
    {
     "data": {
      "text/plain": [
       "['A', 'B', 'C', 'D', 'E', 'F', 'G', 'H', 'I']"
      ]
     },
     "execution_count": 40,
     "metadata": {},
     "output_type": "execute_result"
    }
   ],
   "source": [
    "inorder_it(root)"
   ]
  },
  {
   "cell_type": "code",
   "execution_count": 72,
   "metadata": {},
   "outputs": [],
   "source": [
    "def postorder_it(root):\n",
    "    pass"
   ]
  },
  {
   "cell_type": "code",
   "execution_count": 74,
   "metadata": {},
   "outputs": [],
   "source": [
    "# level orde traversal"
   ]
  },
  {
   "cell_type": "code",
   "execution_count": 77,
   "metadata": {},
   "outputs": [],
   "source": [
    "def level_ot(root):\n",
    "    q = deque([root])\n",
    "    ret = []\n",
    "    \n",
    "    while q:\n",
    "        lenq = len(q)\n",
    "        cur_arr = []\n",
    "        for _ in range(lenq):\n",
    "            itm = q.popleft()\n",
    "            cur_arr.append(itm.val)\n",
    "            \n",
    "            #get neighbors\n",
    "            if itm.left:\n",
    "                q.append(itm.left)\n",
    "            if itm.right:\n",
    "                q.append(itm.right)\n",
    "        ret.append(cur_arr)\n",
    "    return ret"
   ]
  },
  {
   "cell_type": "code",
   "execution_count": 78,
   "metadata": {},
   "outputs": [
    {
     "data": {
      "text/plain": [
       "[['F'], ['B', 'G'], ['A', 'D', 'I'], ['C', 'E', 'H']]"
      ]
     },
     "execution_count": 78,
     "metadata": {},
     "output_type": "execute_result"
    }
   ],
   "source": [
    "level_ot(root)"
   ]
  },
  {
   "cell_type": "code",
   "execution_count": null,
   "metadata": {},
   "outputs": [],
   "source": []
  }
 ],
 "metadata": {
  "kernelspec": {
   "display_name": "Python 3",
   "language": "python",
   "name": "python3"
  },
  "language_info": {
   "codemirror_mode": {
    "name": "ipython",
    "version": 3
   },
   "file_extension": ".py",
   "mimetype": "text/x-python",
   "name": "python",
   "nbconvert_exporter": "python",
   "pygments_lexer": "ipython3",
   "version": "3.7.2"
  }
 },
 "nbformat": 4,
 "nbformat_minor": 2
}
