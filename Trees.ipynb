{
 "cells": [
  {
   "cell_type": "code",
   "execution_count": 249,
   "metadata": {},
   "outputs": [],
   "source": [
    "class Node:\n",
    "    def __init__(self, val, left=None, right=None):\n",
    "        self.val = val\n",
    "        self.left = left\n",
    "        self.right = right\n",
    "        self.next = None\n",
    "    def __str__(self):\n",
    "        return f'<{self.val} left: {self.left}, right: {self.right}>'\n",
    "\n",
    "root = Node('F',\n",
    "           Node('B', \n",
    "                Node('A'), \n",
    "                Node('D', \n",
    "                     Node('C'), Node('E'))), \n",
    "           Node('G', None, Node('I', Node('H'))))"
   ]
  },
  {
   "cell_type": "code",
   "execution_count": 205,
   "metadata": {},
   "outputs": [],
   "source": [
    "def preorder(node):\n",
    "    ret = str(node.val)\n",
    "    if node.left:\n",
    "        ret = ret + ',' + preorder(node.left)\n",
    "    if node.right:\n",
    "        ret = ret + ',' + preorder(node.right)\n",
    "    return ret"
   ]
  },
  {
   "cell_type": "code",
   "execution_count": 20,
   "metadata": {},
   "outputs": [
    {
     "data": {
      "text/plain": [
       "'F,B,A,D,C,E,G,I,H'"
      ]
     },
     "execution_count": 20,
     "metadata": {},
     "output_type": "execute_result"
    }
   ],
   "source": [
    "preorder(root)"
   ]
  },
  {
   "cell_type": "code",
   "execution_count": 200,
   "metadata": {},
   "outputs": [],
   "source": [
    "def inorder(node):\n",
    "    ret = []\n",
    "    if node.left:\n",
    "        ret.append(inorder(node.left))\n",
    "    ret.append(node.val)\n",
    "    if node.right:\n",
    "        ret.append(inorder(node.right))\n",
    "    return ','.join([str(s) for s in ret])"
   ]
  },
  {
   "cell_type": "code",
   "execution_count": 22,
   "metadata": {},
   "outputs": [
    {
     "data": {
      "text/plain": [
       "'A,B,C,D,E,F,G,H,I'"
      ]
     },
     "execution_count": 22,
     "metadata": {},
     "output_type": "execute_result"
    }
   ],
   "source": [
    "inorder(root)"
   ]
  },
  {
   "cell_type": "code",
   "execution_count": 23,
   "metadata": {},
   "outputs": [],
   "source": [
    "def postorder(node):\n",
    "    ret = []\n",
    "    if node.left:\n",
    "        ret.append(postorder(node.left))\n",
    "    if node.right:\n",
    "        ret.append(postorder(node.right))\n",
    "    ret.append(node.val)\n",
    "    return ','.join(ret)"
   ]
  },
  {
   "cell_type": "code",
   "execution_count": 24,
   "metadata": {},
   "outputs": [
    {
     "data": {
      "text/plain": [
       "'A,C,E,D,B,H,I,G,F'"
      ]
     },
     "execution_count": 24,
     "metadata": {},
     "output_type": "execute_result"
    }
   ],
   "source": [
    "postorder(root)"
   ]
  },
  {
   "cell_type": "code",
   "execution_count": 17,
   "metadata": {},
   "outputs": [],
   "source": [
    "# Iterative preorder"
   ]
  },
  {
   "cell_type": "code",
   "execution_count": 26,
   "metadata": {},
   "outputs": [],
   "source": [
    "#          ---F---\n",
    "#        /        \\\n",
    "#       B          G\n",
    "#     /  \\        /\n",
    "#    A    D      I\n",
    "#        / \\    /\n",
    "#       C   E  H\n",
    "# \n",
    "# F,B,A,D,C,E,G,I,H\n",
    "\n",
    "from collections import deque\n",
    "\n",
    "def preorder_it(root):\n",
    "    ret = []\n",
    "    stack = deque([root])\n",
    "    \n",
    "    while stack:\n",
    "        itm = stack.pop()        # f\n",
    "        ret.append(itm.val)      \n",
    "        \n",
    "        if itm.right:                 # [b]\n",
    "            stack.append(itm.right)\n",
    "        if itm.left:                # [b, g]\n",
    "            stack.append(itm.left)\n",
    "    return ret"
   ]
  },
  {
   "cell_type": "code",
   "execution_count": 30,
   "metadata": {},
   "outputs": [
    {
     "data": {
      "text/plain": [
       "['F', 'B', 'A', 'D', 'C', 'E', 'G', 'I', 'H']"
      ]
     },
     "execution_count": 30,
     "metadata": {},
     "output_type": "execute_result"
    }
   ],
   "source": [
    "preorder_it(root)"
   ]
  },
  {
   "cell_type": "code",
   "execution_count": 39,
   "metadata": {},
   "outputs": [],
   "source": [
    "def inorder_it(root):\n",
    "    ret = []\n",
    "    stack = deque([root])\n",
    "    left_visited = set()\n",
    "    \n",
    "    while stack:\n",
    "        top_item = stack[-1]\n",
    "        if top_item.left and top_item not in left_visited:\n",
    "            stack.append(top_item.left)\n",
    "            left_visited.add(top_item)\n",
    "        else:\n",
    "            itm = stack.pop()\n",
    "            ret.append(itm.val)\n",
    "            if itm.right:\n",
    "                stack.append(itm.right)\n",
    "    return ret"
   ]
  },
  {
   "cell_type": "code",
   "execution_count": 40,
   "metadata": {},
   "outputs": [
    {
     "data": {
      "text/plain": [
       "['A', 'B', 'C', 'D', 'E', 'F', 'G', 'H', 'I']"
      ]
     },
     "execution_count": 40,
     "metadata": {},
     "output_type": "execute_result"
    }
   ],
   "source": [
    "inorder_it(root)"
   ]
  },
  {
   "cell_type": "code",
   "execution_count": 72,
   "metadata": {},
   "outputs": [],
   "source": [
    "def postorder_it(root):\n",
    "    pass"
   ]
  },
  {
   "cell_type": "code",
   "execution_count": 74,
   "metadata": {},
   "outputs": [],
   "source": [
    "# level orde traversal"
   ]
  },
  {
   "cell_type": "code",
   "execution_count": 77,
   "metadata": {},
   "outputs": [],
   "source": [
    "def level_ot(root):\n",
    "    q = deque([root])\n",
    "    ret = []\n",
    "    \n",
    "    while q:\n",
    "        lenq = len(q)\n",
    "        cur_arr = []\n",
    "        for _ in range(lenq):\n",
    "            itm = q.popleft()\n",
    "            cur_arr.append(itm.val)\n",
    "            \n",
    "            #get neighbors\n",
    "            if itm.left:\n",
    "                q.append(itm.left)\n",
    "            if itm.right:\n",
    "                q.append(itm.right)\n",
    "        ret.append(cur_arr)\n",
    "    return ret"
   ]
  },
  {
   "cell_type": "code",
   "execution_count": 78,
   "metadata": {},
   "outputs": [
    {
     "data": {
      "text/plain": [
       "[['F'], ['B', 'G'], ['A', 'D', 'I'], ['C', 'E', 'H']]"
      ]
     },
     "execution_count": 78,
     "metadata": {},
     "output_type": "execute_result"
    }
   ],
   "source": [
    "level_ot(root)"
   ]
  },
  {
   "cell_type": "code",
   "execution_count": 123,
   "metadata": {},
   "outputs": [],
   "source": [
    "# top-down solutions\n",
    "ret = 0\n",
    "def get_depth(n, level=0):\n",
    "    # IMPORTANT! to be able to access global var inside a func, \n",
    "    # we need to import it into func with `global` keyword\n",
    "    global ret\n",
    "    if n is None:\n",
    "        ret = max(ret, level)\n",
    "        return\n",
    "    \n",
    "    get_depth(n.left,  level+1)\n",
    "    get_depth(n.right, level+1)\n",
    "    return ret"
   ]
  },
  {
   "cell_type": "code",
   "execution_count": 124,
   "metadata": {},
   "outputs": [
    {
     "data": {
      "text/plain": [
       "4"
      ]
     },
     "execution_count": 124,
     "metadata": {},
     "output_type": "execute_result"
    }
   ],
   "source": [
    "get_depth(root)"
   ]
  },
  {
   "cell_type": "code",
   "execution_count": 127,
   "metadata": {},
   "outputs": [],
   "source": [
    "# bottom-up solution\n",
    "def get_depth_bu(n, level=0):\n",
    "    if n is None:\n",
    "        return 0\n",
    "    left_max = get_depth_bu(n.left, level+1)\n",
    "    right_max = get_depth_bu(n.right, level+1)\n",
    "    return max(left_max, right_max) + 1"
   ]
  },
  {
   "cell_type": "code",
   "execution_count": 128,
   "metadata": {},
   "outputs": [
    {
     "data": {
      "text/plain": [
       "4"
      ]
     },
     "execution_count": 128,
     "metadata": {},
     "output_type": "execute_result"
    }
   ],
   "source": [
    "get_depth_bu(root)"
   ]
  },
  {
   "cell_type": "code",
   "execution_count": 176,
   "metadata": {},
   "outputs": [],
   "source": [
    "# is it a mirror?\n",
    "#  this is a mirror\n",
    "#        1\n",
    "#     /    \\\n",
    "#    2      2\n",
    "#  /  \\    / \\\n",
    "# 3    4  4   3\n",
    "\n",
    "# naive approach: level order traverse, check if the arrays are mirrored.\n",
    "\n",
    "def is_symmetric(root):\n",
    "    q = deque([root])\n",
    "    levels = []\n",
    "    \n",
    "    while q:\n",
    "        lenq = len(q)\n",
    "        cur_arr = []\n",
    "        for _ in range(lenq):\n",
    "            itm = q.popleft()\n",
    "            cur_arr.append(itm.val)\n",
    "            \n",
    "            if itm.left or itm.right:\n",
    "                if itm.left:\n",
    "                    q.append(itm.left)\n",
    "                else:\n",
    "                    q.append(Node(None))\n",
    "                if itm.right:\n",
    "                    q.append(itm.right)\n",
    "                else:\n",
    "                    q.append(Node(None))\n",
    "            elif itm.left is None and itm.right is None and itm.val is not None:\n",
    "                q.append(Node(None))\n",
    "                \n",
    "        levels.append(cur_arr)\n",
    "        \n",
    "        print(levels)\n",
    "        \n",
    "    for l in levels:\n",
    "        if len(l) == 1:\n",
    "            continue\n",
    "        len_level = len(l)\n",
    "        for n in range(len_level//2):\n",
    "            if l[n] != l[len_level-n-1]:\n",
    "                return False\n",
    "    return True"
   ]
  },
  {
   "cell_type": "code",
   "execution_count": 177,
   "metadata": {},
   "outputs": [
    {
     "name": "stdout",
     "output_type": "stream",
     "text": [
      "[['F']]\n",
      "[['F'], ['B', 'G']]\n",
      "[['F'], ['B', 'G'], ['A', 'D', None, 'I']]\n",
      "[['F'], ['B', 'G'], ['A', 'D', None, 'I'], [None, 'C', 'E', 'H', None]]\n",
      "[['F'], ['B', 'G'], ['A', 'D', None, 'I'], [None, 'C', 'E', 'H', None], [None, None, None]]\n"
     ]
    },
    {
     "data": {
      "text/plain": [
       "False"
      ]
     },
     "execution_count": 177,
     "metadata": {},
     "output_type": "execute_result"
    }
   ],
   "source": [
    "is_symmetric(root)"
   ]
  },
  {
   "cell_type": "code",
   "execution_count": 178,
   "metadata": {},
   "outputs": [
    {
     "name": "stdout",
     "output_type": "stream",
     "text": [
      "[[1]]\n",
      "[[1], [2, 2]]\n",
      "[[1], [2, 2], [3, 4, 4, 3]]\n",
      "[[1], [2, 2], [3, 4, 4, 3], [None, None, None, None]]\n"
     ]
    },
    {
     "data": {
      "text/plain": [
       "True"
      ]
     },
     "execution_count": 178,
     "metadata": {},
     "output_type": "execute_result"
    }
   ],
   "source": [
    "symmetric_root = Node(1, \n",
    "                      Node(2, \n",
    "                          Node(3),\n",
    "                          Node(4)),\n",
    "                      Node(2,\n",
    "                          Node(4),\n",
    "                          Node(3)))\n",
    "is_symmetric(symmetric_root)"
   ]
  },
  {
   "cell_type": "code",
   "execution_count": 179,
   "metadata": {},
   "outputs": [
    {
     "name": "stdout",
     "output_type": "stream",
     "text": [
      "[[1]]\n",
      "[[1], [2, 2]]\n",
      "[[1], [2, 2], [None, 3, None, 3]]\n",
      "[[1], [2, 2], [None, 3, None, 3], [None, None]]\n"
     ]
    },
    {
     "data": {
      "text/plain": [
       "False"
      ]
     },
     "execution_count": 179,
     "metadata": {},
     "output_type": "execute_result"
    }
   ],
   "source": [
    "asym_root = Node(1, \n",
    "                Node(2, None, Node(3)),\n",
    "                Node(2, None, Node(3)))\n",
    "is_symmetric(asym_root)"
   ]
  },
  {
   "cell_type": "code",
   "execution_count": 180,
   "metadata": {},
   "outputs": [],
   "source": [
    "# Failing for [2,3,3,4,5,5,4,null,null,8,9,null,null,9,8]\n",
    "# level order traversal shows they are smetrical, but no\n",
    "# fixed the problem: if add a None value node to leaf nodes also to fill it's space in levels array."
   ]
  },
  {
   "cell_type": "code",
   "execution_count": 185,
   "metadata": {},
   "outputs": [],
   "source": [
    "# root-to-leaf path sum\n",
    "def traverse(node, target):\n",
    "    if node.left is None and node.right is None:\n",
    "        # leaf node\n",
    "        if target - node.val == 0:\n",
    "            return True\n",
    "        else:\n",
    "            return False\n",
    "    \n",
    "    left = False\n",
    "    right = False\n",
    "    if node.left:\n",
    "        left = traverse(node.left, target-node.val)\n",
    "    if node.right:\n",
    "        right = traverse(node.right, target-node.val)\n",
    "    return left or right\n",
    "\n",
    "def path_sum(root, sm):\n",
    "    if root is None:\n",
    "        return False\n",
    "    return traverse(root, sm)"
   ]
  },
  {
   "cell_type": "code",
   "execution_count": 186,
   "metadata": {},
   "outputs": [
    {
     "data": {
      "text/plain": [
       "True"
      ]
     },
     "execution_count": 186,
     "metadata": {},
     "output_type": "execute_result"
    }
   ],
   "source": [
    "path_sum(asym_root, 6)"
   ]
  },
  {
   "cell_type": "code",
   "execution_count": 187,
   "metadata": {},
   "outputs": [
    {
     "data": {
      "text/plain": [
       "False"
      ]
     },
     "execution_count": 187,
     "metadata": {},
     "output_type": "execute_result"
    }
   ],
   "source": [
    "path_sum(asym_root, 7)"
   ]
  },
  {
   "cell_type": "code",
   "execution_count": 188,
   "metadata": {},
   "outputs": [],
   "source": [
    "# count the number of uni-value subtrees.\n",
    "def uni_val_st_count(root):\n",
    "    pass "
   ]
  },
  {
   "cell_type": "code",
   "execution_count": 247,
   "metadata": {},
   "outputs": [],
   "source": [
    "# construct a binary tree from inorder and preorder traversal\n",
    "#  (there is no duplicates in tree, values are unique)\n",
    "# \n",
    "#  preorder: 3, 9, 20, 15, 7\n",
    "#  inorder:  9, 3, 15, 20, 7\n",
    "# \n",
    "#     3\n",
    "#    / \\\n",
    "#   9  20\n",
    "#     /  \\\n",
    "#    15   7\n",
    "# \n",
    "\n",
    "# naive approach:\n",
    "# \n",
    "# root of tree, preorder[0] -> 3\n",
    "# left of tree is traverse inorder until root -> left = [9], right = [15,20,7]\n",
    "\n",
    "def con_tree(preorder, inorder):\n",
    "    if len(preorder) == 1:\n",
    "        return Node(preorder[0])\n",
    "    elif len(preorder) == 0:\n",
    "        return None\n",
    "    \n",
    "    root_val = preorder[0]       # 3               \n",
    "    root_left_inorder = []       # [9]\n",
    "    root_right_inorder = []      # [15, 20, 7]\n",
    "    root_left_preorder = []      # [9]\n",
    "    root_right_preorder = []     # [20, 15, 7]\n",
    "    \n",
    "    for i, val in enumerate(inorder):\n",
    "        if val == root_val:\n",
    "            root_left_inorder = inorder[0:i]    # [9]\n",
    "            root_left_preorder = preorder[1:len(root_left_inorder)+1]\n",
    "\n",
    "            root_right_inorder = inorder[i+1:]\n",
    "            root_right_preorder = preorder[i+1:len(root_right_inorder)+i+1:]\n",
    "            break\n",
    "            \n",
    "    print(root_left_inorder, root_right_inorder, \n",
    "          root_left_preorder, root_right_preorder)\n",
    "    \n",
    "    return Node(root_val,\n",
    "                con_tree(root_left_preorder, root_left_inorder),\n",
    "                con_tree(root_right_preorder, root_right_inorder))"
   ]
  },
  {
   "cell_type": "code",
   "execution_count": 248,
   "metadata": {},
   "outputs": [
    {
     "name": "stdout",
     "output_type": "stream",
     "text": [
      "[9] [15, 20, 7] [9] [20, 15, 7]\n",
      "[15] [7] [15] [7]\n",
      "<3 left: <9 left: None, right: None>, right: <20 left: <15 left: None, right: None>, right: <7 left: None, right: None>>>\n"
     ]
    }
   ],
   "source": [
    "#     3\n",
    "#    / \\\n",
    "#   9  20\n",
    "#     /  \\\n",
    "#    15   7\n",
    "\n",
    "t = con_tree([3, 9, 20, 15, 7], [9, 3, 15, 20, 7])\n",
    "print(t)"
   ]
  },
  {
   "cell_type": "code",
   "execution_count": 257,
   "metadata": {},
   "outputs": [],
   "source": [
    "# Populating Next Right Pointers in Each Node\n",
    "# \n",
    "#  naive approach is to level order traverse the tree.\n",
    "#  each level array, put nodes, not values.\n",
    "#  traverse each array and point nodes to the right. last one should point to null. (it's null by default anyway)\n",
    "# \n",
    "\n",
    "def point(root):\n",
    "    q = deque([root])\n",
    "    \n",
    "    while q:\n",
    "        lenq = len(q)\n",
    "        level = []\n",
    "        for _ in range(lenq):\n",
    "            itm = q.popleft()\n",
    "            level.append(itm)\n",
    "            \n",
    "            if itm.left:\n",
    "                q.append(itm.left)\n",
    "            if itm.right:\n",
    "                q.append(itm.right)\n",
    "            \n",
    "        for k in range(len(level)-1):\n",
    "            level[k].next = level[k+1]\n",
    "    return root"
   ]
  },
  {
   "cell_type": "code",
   "execution_count": 260,
   "metadata": {},
   "outputs": [
    {
     "name": "stdout",
     "output_type": "stream",
     "text": [
      "<3 left: None, right: None>\n"
     ]
    }
   ],
   "source": [
    "rr = Node(1, \n",
    "         Node(2),\n",
    "         Node(3))\n",
    "\n",
    "point(rr)\n",
    "\n",
    "print(rr.left.next)"
   ]
  },
  {
   "cell_type": "code",
   "execution_count": 374,
   "metadata": {},
   "outputs": [],
   "source": [
    "# Lowest Common Ancestor of a Binary Tree\n",
    "# \n",
    "# naive approach: find all ancestors of p and q\n",
    "# get common ones, return lowest\n",
    "# \n",
    "# HINT: It timed out. not performant enough. Needs optimization\n",
    "# 1. searcing p and q seperately. maybe can be combined\n",
    "# 2. searching the lca in tow paths can be combined with p and q search \n",
    "\n",
    "def node_path(root, target, path=[]):\n",
    "    if root == target:\n",
    "        return path\n",
    "\n",
    "    left_path = []\n",
    "    right_path = []\n",
    "\n",
    "    if root.left:\n",
    "        left_path = node_path(root.left, target, path + [root])\n",
    "    if root.right:\n",
    "        right_path = node_path(root.right, target, path + [root])\n",
    "    if root.left is None and root.right is None:\n",
    "        return []\n",
    "    return left_path + right_path\n",
    "\n",
    "def lca(root, p, q):\n",
    "    path_p = node_path(root, p, []) + [p]\n",
    "    path_q = node_path(root, q, []) + [q]\n",
    "    min_arr = path_p if len(path_p) < len(path_q) else path_q\n",
    "\n",
    "    for i in range(len(min_arr)):\n",
    "        if path_p[i] != path_q[i]:\n",
    "            return path_p[i-1]\n",
    "    return min_arr[-1]"
   ]
  },
  {
   "cell_type": "code",
   "execution_count": 375,
   "metadata": {},
   "outputs": [
    {
     "data": {
      "text/plain": [
       "3"
      ]
     },
     "execution_count": 375,
     "metadata": {},
     "output_type": "execute_result"
    }
   ],
   "source": [
    "# [3,5,1,6,2,0,8,null,null,7,4], p = 5, q = 1\n",
    "node4 = Node(4)\n",
    "node5 = Node(5, \n",
    "             Node(6),\n",
    "             Node(2, \n",
    "                 Node(7),\n",
    "                 node4))\n",
    "node1 = Node(1,\n",
    "             Node(0),\n",
    "             Node(8))\n",
    "lca_root = Node(3,\n",
    "               node5,\n",
    "               node1)\n",
    "lca(lca_root, node5, node1).val"
   ]
  },
  {
   "cell_type": "code",
   "execution_count": 376,
   "metadata": {},
   "outputs": [
    {
     "data": {
      "text/plain": [
       "5"
      ]
     },
     "execution_count": 376,
     "metadata": {},
     "output_type": "execute_result"
    }
   ],
   "source": [
    "# Input: root = [3,5,1,6,2,0,8,null,null,7,4], p = 5, q = 4\n",
    "lca(lca_root, node5, node4).val"
   ]
  },
  {
   "cell_type": "code",
   "execution_count": 414,
   "metadata": {},
   "outputs": [],
   "source": [
    "# serialize-deserialize a binary tree\n",
    "# \n",
    "# naive approach:\n",
    "#   using an array. start with root, left, right. left-right of left node, and so on...\n",
    "#   actually this is level order traversal\n",
    "\n",
    "def serialize(root):\n",
    "    q = deque([root])\n",
    "    ret = []\n",
    "    while q:\n",
    "        lenq = len(q)\n",
    "        cur=[]\n",
    "        for _ in range(lenq):\n",
    "            itm = q.popleft()\n",
    "            cur.append('null' if itm is None else str(itm.val))\n",
    "            if itm is not None:\n",
    "                q.append(itm.left)\n",
    "                q.append(itm.right)\n",
    "        \n",
    "        ret.append(','.join(cur))\n",
    "    return '|'.join(ret)"
   ]
  },
  {
   "cell_type": "code",
   "execution_count": 416,
   "metadata": {},
   "outputs": [
    {
     "data": {
      "text/plain": [
       "'1|2,3|null,null,4,5|null,null,null,null'"
      ]
     },
     "execution_count": 416,
     "metadata": {},
     "output_type": "execute_result"
    }
   ],
   "source": [
    "small_tree = Node(1,\n",
    "                 Node(2),\n",
    "                 Node(3, \n",
    "                     Node(4),\n",
    "                     Node(5)))\n",
    "serialize(small_tree)"
   ]
  },
  {
   "cell_type": "code",
   "execution_count": 438,
   "metadata": {},
   "outputs": [],
   "source": [
    "def deserialize(st):\n",
    "    levels = st.split('|')\n",
    "    root = Node(levels[0][0])\n",
    "    level = 1\n",
    "    \n",
    "    q = deque([root])\n",
    "    \n",
    "    while q:\n",
    "        lenq = len(q)\n",
    "        for _ in range(lenq):\n",
    "            itm = q.popleft()\n",
    "            itm.left = Node(levels[level][0])\n",
    "            itm.right = Node(levels[level][1])\n",
    "            \n",
    "            q.append(itm.left)\n",
    "            q.append(itm.right)\n",
    "            \n",
    "        level = level + 1\n"
   ]
  },
  {
   "cell_type": "code",
   "execution_count": 441,
   "metadata": {},
   "outputs": [
    {
     "name": "stdout",
     "output_type": "stream",
     "text": [
      "['2', '3']\n",
      "['null', 'null', '4', '5']\n",
      "['null', 'null', 'null', 'null']\n"
     ]
    },
    {
     "data": {
      "text/plain": [
       "'null'"
      ]
     },
     "execution_count": 441,
     "metadata": {},
     "output_type": "execute_result"
    }
   ],
   "source": [
    "deserialize('1|2,3|null,null,4,5|null,null,null,null').left.val"
   ]
  },
  {
   "cell_type": "code",
   "execution_count": null,
   "metadata": {},
   "outputs": [],
   "source": []
  }
 ],
 "metadata": {
  "kernelspec": {
   "display_name": "Python 3",
   "language": "python",
   "name": "python3"
  },
  "language_info": {
   "codemirror_mode": {
    "name": "ipython",
    "version": 3
   },
   "file_extension": ".py",
   "mimetype": "text/x-python",
   "name": "python",
   "nbconvert_exporter": "python",
   "pygments_lexer": "ipython3",
   "version": "3.7.2"
  }
 },
 "nbformat": 4,
 "nbformat_minor": 2
}
