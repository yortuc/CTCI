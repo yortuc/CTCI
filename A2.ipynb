{
 "cells": [
  {
   "cell_type": "markdown",
   "metadata": {},
   "source": [
    "Shortest Robot Path"
   ]
  },
  {
   "cell_type": "code",
   "execution_count": null,
   "metadata": {},
   "outputs": [],
   "source": [
    "# Cimpute the shortest path for robot to reach gate\n",
    "# free ways are 1. obstacle is 0 and gate is 9\n",
    "# robot always start at 0,0 pos and can move only x,y axes\n",
    "# if there is no path, return -1\n",
    "# \n",
    "# input = [\n",
    "#     [1, 0, 0],\n",
    "#     [1, 0, 0],\n",
    "#     [1, 9, 0]]\n",
    "# \n",
    "# output = 3"
   ]
  },
  {
   "cell_type": "code",
   "execution_count": 52,
   "metadata": {},
   "outputs": [],
   "source": [
    "def get_neighbors(lot,j,i):\n",
    "    def get(row, col):\n",
    "        if 0 <= row <= len(lot)-1 and 0 <= col <= len(lot[0])-1 and lot[row][col] > 0:\n",
    "            return (row, col)\n",
    "        else:\n",
    "            return None\n",
    "\n",
    "    neighbors = [             get(j-1,i),\n",
    "                 get(j, i-1),             get(j, i+1),\n",
    "                               get(j+1,i)]\n",
    "    \n",
    "    return [n for n in neighbors if n != None]"
   ]
  },
  {
   "cell_type": "code",
   "execution_count": 53,
   "metadata": {},
   "outputs": [
    {
     "data": {
      "text/plain": [
       "[(1, 0)]"
      ]
     },
     "execution_count": 53,
     "metadata": {},
     "output_type": "execute_result"
    }
   ],
   "source": [
    "get_neighbors(lot, 0, 0)"
   ]
  },
  {
   "cell_type": "code",
   "execution_count": 68,
   "metadata": {},
   "outputs": [],
   "source": [
    "from collections import deque\n",
    "\n",
    "def robot_path(lot):\n",
    "    steps = 0 \n",
    "    q = deque([(0,0)])\n",
    "    history = set()\n",
    "    while q:\n",
    "        lenq = len(q)\n",
    "        for _ in range(lenq):\n",
    "            (j, i) = q.pop()\n",
    "            if lot[j][i] == 9:\n",
    "                return steps\n",
    "            \n",
    "            for n in get_neighbors(lot, j, i):\n",
    "                if n not in history:\n",
    "                    q.append(n)\n",
    "                    history.add(n)\n",
    "        steps = steps + 1\n",
    "    return -1\n",
    "    "
   ]
  },
  {
   "cell_type": "code",
   "execution_count": 69,
   "metadata": {},
   "outputs": [
    {
     "data": {
      "text/plain": [
       "2"
      ]
     },
     "execution_count": 69,
     "metadata": {},
     "output_type": "execute_result"
    }
   ],
   "source": [
    "robot_path(lot = [\n",
    "    [1, 0, 0],\n",
    "    [1, 0, 0],\n",
    "    [1, 9, 0]\n",
    "])"
   ]
  },
  {
   "cell_type": "code",
   "execution_count": 70,
   "metadata": {},
   "outputs": [
    {
     "data": {
      "text/plain": [
       "-1"
      ]
     },
     "execution_count": 70,
     "metadata": {},
     "output_type": "execute_result"
    }
   ],
   "source": [
    "robot_path([\n",
    "    [1,1,1,0],\n",
    "    [0,0,0,1],\n",
    "    [0,1,0,1],\n",
    "    [1,1,9,1],\n",
    "    [0,0,1,1]\n",
    "])"
   ]
  },
  {
   "cell_type": "code",
   "execution_count": 71,
   "metadata": {},
   "outputs": [],
   "source": [
    "# Time complexity is BFS, so in worst case, all cells could be traversed : O(MxN)\n",
    "# Space complecity is max storage of queue, O(MxN)"
   ]
  }
 ],
 "metadata": {
  "kernelspec": {
   "display_name": "Python 3",
   "language": "python",
   "name": "python3"
  },
  "language_info": {
   "codemirror_mode": {
    "name": "ipython",
    "version": 3
   },
   "file_extension": ".py",
   "mimetype": "text/x-python",
   "name": "python",
   "nbconvert_exporter": "python",
   "pygments_lexer": "ipython3",
   "version": "3.7.2"
  }
 },
 "nbformat": 4,
 "nbformat_minor": 2
}
