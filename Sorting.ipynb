{
 "cells": [
  {
   "cell_type": "markdown",
   "metadata": {},
   "source": [
    "**Bubble Sort**\n",
    "\n",
    "Runtime: 0( n2 ) average and worst case. Memory: 0(1).\n",
    "\n",
    "Each itaretion, swap elements if the on the right is smaller then on the left. Finally, small elements will bubble up on the left side. "
   ]
  },
  {
   "cell_type": "code",
   "execution_count": 7,
   "metadata": {},
   "outputs": [],
   "source": [
    "def swap(a, i1, i2):\n",
    "    tmp = a[i1]\n",
    "    a[i1] = a[i2]\n",
    "    a[i2] = tmp\n",
    "        \n",
    "def buble_sort(arr):\n",
    "    for j in range(len(arr)-1):\n",
    "        for i in range(len(arr)-1):\n",
    "            if arr[i+1] < arr[i]:\n",
    "                swap(arr, i, i+1)\n",
    "    return arr"
   ]
  },
  {
   "cell_type": "code",
   "execution_count": 8,
   "metadata": {},
   "outputs": [
    {
     "data": {
      "text/plain": [
       "[1, 2, 3, 4, 5, 6, 7, 8, 9]"
      ]
     },
     "execution_count": 8,
     "metadata": {},
     "output_type": "execute_result"
    }
   ],
   "source": [
    "buble_sort([9,2,8,3,7,4,6,5,1])"
   ]
  },
  {
   "cell_type": "markdown",
   "metadata": {},
   "source": [
    "**SelectionSort** \n",
    "\n",
    "Runtime: 0(n2) average and worstcase. Memory:0(1).\n",
    "\n",
    "Selection sort is the child's algorithm: simple, but inefficient. Find the smallest element using a linear scan and move it to the front (swapping it with the front element). Then, find the second smallest and move it, again doing a linear scan. Continue doing this until all the elements are in place."
   ]
  },
  {
   "cell_type": "code",
   "execution_count": 62,
   "metadata": {},
   "outputs": [],
   "source": [
    "def selection_sort(arr):\n",
    "    def smallest(a, start_index):\n",
    "        min_item = float('Inf')\n",
    "        min_item_index = -1\n",
    "        for i in range(start_index, len(a)):\n",
    "            if a[i] < min_item:\n",
    "                min_item = a[i]\n",
    "                min_item_index = i\n",
    "        return min_item_index\n",
    "    \n",
    "    for i in range(len(arr)):\n",
    "        min_itm_index = smallest(arr, i)\n",
    "        swap(arr, min_itm_index, i)\n",
    "    return arr"
   ]
  },
  {
   "cell_type": "code",
   "execution_count": 63,
   "metadata": {},
   "outputs": [
    {
     "data": {
      "text/plain": [
       "[1, 2, 3, 4, 5, 6, 7, 8, 9]"
      ]
     },
     "execution_count": 63,
     "metadata": {},
     "output_type": "execute_result"
    }
   ],
   "source": [
    "selection_sort([9,2,8,3,7,4,6,5,1])"
   ]
  },
  {
   "cell_type": "markdown",
   "metadata": {},
   "source": [
    "**Merge sort**"
   ]
  },
  {
   "cell_type": "markdown",
   "metadata": {},
   "source": [
    "Runtime O(nlogn) average and worst case. O(n) memory. \n",
    "\n",
    "Divide the array into halves until one element remains in each array. Merge them back in sorted order. "
   ]
  },
  {
   "cell_type": "code",
   "execution_count": 76,
   "metadata": {},
   "outputs": [],
   "source": [
    "def merge_sort(arr):\n",
    "    def divide(a):\n",
    "        if len(a) == 1:\n",
    "            return a\n",
    "        mid_index = len(a)//2\n",
    "        left = divide(a[:mid_index])\n",
    "        right = divide(a[mid_index:])\n",
    "        return merge(left, right)\n",
    "\n",
    "    def merge(arr1, arr2):\n",
    "        if arr1 is None and arr2 is None:\n",
    "            return []\n",
    "        if arr1 is None:\n",
    "            return arr2\n",
    "        if arr2 is None:\n",
    "            return arr1\n",
    "        i = 0\n",
    "        j = 0\n",
    "        ret = []\n",
    "        while i<len(arr1) and j<len(arr2):\n",
    "            if arr1[i] < arr2[j]:\n",
    "                ret.append(arr1[i])\n",
    "                i = i + 1\n",
    "            else:\n",
    "                ret.append(arr2[j])\n",
    "                j = j + 1\n",
    "        ret = ret + arr1[i:]\n",
    "        ret = ret + arr2[j:]\n",
    "        return ret\n",
    "    \n",
    "    return divide(arr)"
   ]
  },
  {
   "cell_type": "code",
   "execution_count": 77,
   "metadata": {},
   "outputs": [
    {
     "data": {
      "text/plain": [
       "[1, 2, 7, 8, 9]"
      ]
     },
     "execution_count": 77,
     "metadata": {},
     "output_type": "execute_result"
    }
   ],
   "source": [
    "merge_sort([9,1,8,2, 7])"
   ]
  },
  {
   "cell_type": "markdown",
   "metadata": {},
   "source": [
    "**Quicksort**\n",
    "\n",
    "Runtime O(nlogn) average, O(n2) worst case. O(logn) memory."
   ]
  },
  {
   "cell_type": "code",
   "execution_count": 118,
   "metadata": {},
   "outputs": [],
   "source": [
    "def swap(a, i1, i2):\n",
    "    tmp = a[i1]\n",
    "    a[i1] = a[i2]\n",
    "    a[i2] = tmp\n",
    "        \n",
    "def partition(arr, left, right):\n",
    "    pivot_element = arr[right] # take the last elm of array as pivot\n",
    "    \n",
    "    i = left-1\n",
    "    j = left\n",
    "    for j in range(left, right-left+1):\n",
    "        if arr[j] < pivot_element:\n",
    "            i = i + 1\n",
    "            swap(arr, i, j)\n",
    "    swap(arr, i+1, -1)\n",
    "    \n",
    "    return i+1\n",
    "\n",
    "def quick_sort(arr, left, right):\n",
    "    if left<right:\n",
    "        index = partition(arr, 0, len(arr)-1)\n",
    "    \n",
    "        # quicksort left part\n",
    "        quick_sort(arr, left, index-1)\n",
    "        quick_sort(arr, index+1, right)\n",
    "    \n",
    "    return arr"
   ]
  },
  {
   "cell_type": "markdown",
   "metadata": {},
   "source": [
    "**Counting sort** \n",
    "\n",
    "- Runtime O(n + k) where n is the number of elements in array and k is the range. \n",
    "- Can be used for integers and characters\n",
    "- Not comparison based but bucketing based. \n",
    "- If the range is more then n^2, there is no benefit using it."
   ]
  },
  {
   "cell_type": "code",
   "execution_count": 186,
   "metadata": {},
   "outputs": [],
   "source": [
    "def counting_sort(arr, nums_range):\n",
    "    counts = [0] * (nums_range[1] - nums_range[0] + 1)\n",
    "    ret = [0] * (nums_range[1] - nums_range[0] + 1)\n",
    "    \n",
    "    for k in range(len(arr)): # O(N)\n",
    "        counts[arr[k]] = counts[arr[k]]+1\n",
    "    \n",
    "    for k in range(1, len(counts)): # O(N)\n",
    "        counts[k] += counts[k-1]\n",
    "    \n",
    "    for i in range(len(arr)): # O(N)\n",
    "        ret[counts[arr[i]]-1] = arr[i]\n",
    "        counts[arr[i]] -= 1\n",
    "    \n",
    "    for i in range(len(arr)):\n",
    "        arr[i] = ret[i]\n",
    "\n",
    "    return arr"
   ]
  },
  {
   "cell_type": "code",
   "execution_count": 187,
   "metadata": {},
   "outputs": [
    {
     "data": {
      "text/plain": [
       "[1, 1, 2, 2, 4, 5, 7]"
      ]
     },
     "execution_count": 187,
     "metadata": {},
     "output_type": "execute_result"
    }
   ],
   "source": [
    "counting_sort([1, 4, 1, 2, 7, 5, 2], (0,9))"
   ]
  },
  {
   "cell_type": "markdown",
   "metadata": {},
   "source": [
    "**Example problem:**"
   ]
  },
  {
   "cell_type": "markdown",
   "metadata": {},
   "source": [
    "Sort the characters of given string in linear time."
   ]
  },
  {
   "cell_type": "code",
   "execution_count": 201,
   "metadata": {},
   "outputs": [],
   "source": [
    "def sort_string_chars(string):\n",
    "    counts = [0] * 256    # hold character counts\n",
    "    output = [\"\"] * 256   # ordered final buckets\n",
    "    ret = []\n",
    "    \n",
    "    # count characters in buckets\n",
    "    for i in range(len(string)):\n",
    "        counts[ord(string[i])] += 1\n",
    "    \n",
    "    # calculate sums\n",
    "    for i in range(256):\n",
    "        counts[i] += counts[i-1]\n",
    "    \n",
    "    # push to counts -> ret\n",
    "    for i in range(len(string)):\n",
    "        output[counts[ord(string[i])]-1] = string[i]\n",
    "        counts[ord(string[i])] -= 1\n",
    "        \n",
    "    for i in range(len(string)):\n",
    "        ret.append(output[i])\n",
    "        \n",
    "    return ''.join(ret)"
   ]
  },
  {
   "cell_type": "code",
   "execution_count": 205,
   "metadata": {},
   "outputs": [
    {
     "data": {
      "text/plain": [
       "' abcloortuuuyyyz'"
      ]
     },
     "execution_count": 205,
     "metadata": {},
     "output_type": "execute_result"
    }
   ],
   "source": [
    "sort_string_chars('uzay yortucboylu')"
   ]
  },
  {
   "cell_type": "markdown",
   "metadata": {},
   "source": [
    "**Radix Sort**\n",
    "\n",
    "- Counting sort has O(n + k) complexity for items in range (0, k). \n",
    "- If the items are in range O(1, n^2), it's worse than comparison based sorting. \n",
    "- Can we sort items in range (0, n^2), in linear time? Yes, with radix sort.\n",
    "\n",
    "\n",
    "How does it work?\n",
    "```\n",
    "- Start from least significant digit, sort numbers with counting sort.\n",
    "- Move to more significant digit, sort again. \n",
    "- Iterate.\n",
    "```"
   ]
  },
  {
   "cell_type": "code",
   "execution_count": 329,
   "metadata": {},
   "outputs": [],
   "source": [
    "def counting_sort_modified(arr, digit_index):\n",
    "    counts = {str(key): [] for key in [t for t in range(10)]}\n",
    "    output = [0] * 10\n",
    "    ret = []\n",
    "    \n",
    "    for i in range(len(arr)):\n",
    "        s = str(arr[i])\n",
    "        if len(s) == digit_index+1:\n",
    "            dig = s[len(s)-digit_index-1]\n",
    "            counts[dig].append(arr[i])\n",
    "        \n",
    "    for i in range(10):\n",
    "        for k in range(len(counts[str(i)])):\n",
    "            ret.append(counts[str(i)][k])\n",
    "            \n",
    "    return ret\n",
    "\n",
    "def radix_sort(arr):\n",
    "    max_digits = len(str(max(arr)))\n",
    "    \n",
    "    ret = []\n",
    "    for i in range(max_digits):\n",
    "        ret = ret + counting_sort_modified(arr, i)\n",
    "        \n",
    "    return ret"
   ]
  },
  {
   "cell_type": "code",
   "execution_count": 330,
   "metadata": {},
   "outputs": [
    {
     "data": {
      "text/plain": [
       "[2, 24, 45, 66, 75, 90, 170, 802]"
      ]
     },
     "execution_count": 330,
     "metadata": {},
     "output_type": "execute_result"
    }
   ],
   "source": [
    "radix_sort([170, 45, 75, 90, 802, 24, 2, 66])"
   ]
  },
  {
   "cell_type": "code",
   "execution_count": null,
   "metadata": {},
   "outputs": [],
   "source": []
  }
 ],
 "metadata": {
  "kernelspec": {
   "display_name": "Python 3",
   "language": "python",
   "name": "python3"
  },
  "language_info": {
   "codemirror_mode": {
    "name": "ipython",
    "version": 3
   },
   "file_extension": ".py",
   "mimetype": "text/x-python",
   "name": "python",
   "nbconvert_exporter": "python",
   "pygments_lexer": "ipython3",
   "version": "3.7.2"
  }
 },
 "nbformat": 4,
 "nbformat_minor": 2
}
