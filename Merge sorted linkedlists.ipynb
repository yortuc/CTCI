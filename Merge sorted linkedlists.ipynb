{
 "cells": [
  {
   "cell_type": "code",
   "execution_count": 50,
   "metadata": {},
   "outputs": [],
   "source": [
    "# merge given k sorted linked lists\n",
    "# [ 1->4->5\n",
    "#   3->7\n",
    "#   6->10\n",
    "# ] \n",
    "# return 1->3->4->5->6->7->10"
   ]
  },
  {
   "cell_type": "code",
   "execution_count": 64,
   "metadata": {},
   "outputs": [],
   "source": [
    "class Node:\n",
    "    def __init__(self, val, next=None):\n",
    "        self.val = val\n",
    "        self.next = next\n",
    "    def __str__(self):\n",
    "        return f'{self.val} >> {self.next}'"
   ]
  },
  {
   "cell_type": "code",
   "execution_count": 65,
   "metadata": {},
   "outputs": [],
   "source": [
    "def get_min_item(arr):\n",
    "    if len(arr) == 0:\n",
    "        return None\n",
    "    vals = [t.val for t in arr]\n",
    "    min_item = min(vals)\n",
    "    min_index = vals.index(min_item)\n",
    "    ret = arr[min_index]\n",
    "    if ret.next is None:\n",
    "        arr.remove(arr[min_index])\n",
    "    else:\n",
    "        arr[min_index] = arr[min_index].next\n",
    "    return ret"
   ]
  },
  {
   "cell_type": "code",
   "execution_count": 70,
   "metadata": {},
   "outputs": [],
   "source": [
    "def merge_sorted_ll(arr):\n",
    "    head = Node(None)\n",
    "    cur = head\n",
    "    items_clean = [l for l in arr if l is not None]\n",
    "    min_item = get_min_item(items_clean)\n",
    "    while min_item is not None:\n",
    "        cur.next = min_item\n",
    "        cur = cur.next\n",
    "        min_item = get_min_item(items_clean)\n",
    "    cur.next = None\n",
    "    return head.next"
   ]
  },
  {
   "cell_type": "code",
   "execution_count": 71,
   "metadata": {},
   "outputs": [
    {
     "name": "stdout",
     "output_type": "stream",
     "text": [
      "1 >> None\n"
     ]
    }
   ],
   "source": [
    "arr = [\n",
    "    Node(1),\n",
    "    None\n",
    "]\n",
    "print(merge_sorted_ll(arr))"
   ]
  },
  {
   "cell_type": "code",
   "execution_count": null,
   "metadata": {},
   "outputs": [],
   "source": []
  },
  {
   "cell_type": "code",
   "execution_count": null,
   "metadata": {},
   "outputs": [],
   "source": []
  }
 ],
 "metadata": {
  "kernelspec": {
   "display_name": "Python 3",
   "language": "python",
   "name": "python3"
  },
  "language_info": {
   "codemirror_mode": {
    "name": "ipython",
    "version": 3
   },
   "file_extension": ".py",
   "mimetype": "text/x-python",
   "name": "python",
   "nbconvert_exporter": "python",
   "pygments_lexer": "ipython3",
   "version": "3.7.2"
  }
 },
 "nbformat": 4,
 "nbformat_minor": 2
}
