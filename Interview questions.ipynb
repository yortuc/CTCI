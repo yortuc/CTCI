{
 "cells": [
  {
   "cell_type": "markdown",
   "metadata": {},
   "source": [
    "**Add two numbers**"
   ]
  },
  {
   "cell_type": "code",
   "execution_count": 7,
   "metadata": {},
   "outputs": [],
   "source": [
    "# Input: (2 -> 4 -> 3) + (5 -> 6 -> 4)\n",
    "# Output: 7 -> 0 -> 8\n",
    "# Explanation: 342 + 465 = 807."
   ]
  },
  {
   "cell_type": "code",
   "execution_count": 34,
   "metadata": {},
   "outputs": [],
   "source": [
    "class Node:\n",
    "    def __init__(self, val, next=None):\n",
    "        self.val = val\n",
    "        self.next = next\n",
    "    def __str__(self):\n",
    "        return f'{self.val} >> {self.next}'"
   ]
  },
  {
   "cell_type": "code",
   "execution_count": 37,
   "metadata": {},
   "outputs": [],
   "source": [
    "def get_number(r):\n",
    "    cur = r\n",
    "    ret = []\n",
    "    num = 0\n",
    "    while cur.next is not None:\n",
    "        ret.append(cur.val)\n",
    "        cur = cur.next\n",
    "    ret.append(cur.val)\n",
    "\n",
    "    for i in range(len(ret)):\n",
    "        off = len(ret)-i-1\n",
    "        num = num + ret[off]*pow(10, off)\n",
    "    return num\n",
    "    \n",
    "def convert_ll(num):\n",
    "    str_num = str(num)\n",
    "    tail = None\n",
    "    head = None\n",
    "    for i in range(len(str_num)):\n",
    "        c = str_num[len(str_num)-1-i]\n",
    "        if tail is None:\n",
    "            tail = Node(int(c))\n",
    "            head = tail\n",
    "        else:\n",
    "            tail.next = Node(int(c))\n",
    "            tail = tail.next\n",
    "    return head\n",
    "    \n",
    "def add_ll(r1, r2):\n",
    "    return convert_ll(get_number(r1) + get_number(r2))"
   ]
  },
  {
   "cell_type": "code",
   "execution_count": 42,
   "metadata": {},
   "outputs": [
    {
     "name": "stdout",
     "output_type": "stream",
     "text": [
      "7 >> 0 >> 8 >> None\n"
     ]
    }
   ],
   "source": [
    "print(add_ll(Node(2, Node(4, Node(3))), Node(5, Node(6, Node(4)))))"
   ]
  },
  {
   "cell_type": "markdown",
   "metadata": {},
   "source": [
    "**Binary Tree Maximum Path Sum** (Not solved)"
   ]
  },
  {
   "cell_type": "code",
   "execution_count": 67,
   "metadata": {},
   "outputs": [],
   "source": [
    "# Input: [-10,9,20,null,null,15,7]\n",
    "# \n",
    "#    -10\n",
    "#    / \\\n",
    "#   9  20\n",
    "#     /  \\\n",
    "#    15   7\n",
    "# \n",
    "# Output: 15+20+7 = 42\n",
    "# \n",
    "# depth-first does not work. because wont capture 15-20-7 path.\n",
    "# get a node and calculate what's the max contrubution it can make with zero or more childs."
   ]
  },
  {
   "cell_type": "code",
   "execution_count": 98,
   "metadata": {},
   "outputs": [],
   "source": [
    "class TNode:\n",
    "    def __init__(self, val, left=None, right=None):\n",
    "        self.val = val\n",
    "        self.left = left\n",
    "        self.right = right\n",
    "    def __str__(self):\n",
    "        return f'<{self.val} L:{self.left} R:{self.right}>'"
   ]
  },
  {
   "cell_type": "code",
   "execution_count": 113,
   "metadata": {},
   "outputs": [],
   "source": [
    "def max_path(root, complete=False):\n",
    "    if not root.left and not root.right:\n",
    "        return root.val\n",
    "    left = 0\n",
    "    right = 0\n",
    "    c = [root.val]\n",
    "    if root.left is not None:\n",
    "        left_complete = max_path(root.left, True)\n",
    "        c.append(left_complete)\n",
    "        c.append(left + root.val)\n",
    "    if root.right is not None:\n",
    "        right = max_path(root.right)\n",
    "        c.append(right)\n",
    "        c.append(right + root.val)\n",
    "\n",
    "    c.append(left + right + root.val)\n",
    "    return max(c)"
   ]
  },
  {
   "cell_type": "code",
   "execution_count": 117,
   "metadata": {},
   "outputs": [
    {
     "data": {
      "text/plain": [
       "3"
      ]
     },
     "execution_count": 117,
     "metadata": {},
     "output_type": "execute_result"
    }
   ],
   "source": [
    "maks = 0\n",
    "inp = TNode(-10,\n",
    "           TNode(9),\n",
    "           TNode(20,\n",
    "                TNode(15),\n",
    "                TNode(7)))\n",
    "\n",
    "max_path(TNode(-2, \n",
    "               TNode(1),\n",
    "               TNode(3)))"
   ]
  },
  {
   "cell_type": "markdown",
   "metadata": {},
   "source": [
    "**LRU Cache** (Could not make it O(N))"
   ]
  },
  {
   "cell_type": "code",
   "execution_count": 325,
   "metadata": {},
   "outputs": [],
   "source": [
    "class LNode:\n",
    "    def __init__(self, key, val, prev=None, next=None):\n",
    "        self.val = val\n",
    "        self.key = key\n",
    "        self.prev = prev\n",
    "        self.next = next\n",
    "    def __str__(self):\n",
    "        return f'{self.prev} >> {self.val} >> {self.next}'"
   ]
  },
  {
   "cell_type": "code",
   "execution_count": 326,
   "metadata": {},
   "outputs": [],
   "source": [
    "# since it's fixed capacity Last used cache, queue makes sense to use.\n",
    "# put: using python deque remove, O(N)\n",
    "# get: O(N)\n",
    "from collections import deque\n",
    "\n",
    "class LRUCache:\n",
    "    def __init__(self, capacity: int):\n",
    "        self.cap = capacity\n",
    "        self.q = None\n",
    "        self.tail = None\n",
    "        self.table = {}\n",
    "\n",
    "    def get(self, key: int) -> int:\n",
    "        if key in self.table:\n",
    "            self._prioritize(key) # make priority high\n",
    "            return self.table[key].val\n",
    "        else:\n",
    "            return -1\n",
    "\n",
    "    def _prioritize(self, key):\n",
    "        node = self.table[key]\n",
    "        if node.next is not None:\n",
    "            tmp_next_next = node.next.next\n",
    "            node.next.next = node\n",
    "            if node.prev is not None:\n",
    "                node.prev.next = tmp_next_next\n",
    "\n",
    "    def _update_entry(self, key, value):\n",
    "        self.table[key].val = value \n",
    "        self._prioritize(key)\n",
    "        \n",
    "    def _invalidate_cache(self):\n",
    "        rem_key = self.q.key\n",
    "        self.q = self.q.next\n",
    "        del self.table[rem_key]\n",
    "        \n",
    "    def _add_item(self, key, value):\n",
    "        new_node = LNode(key, value)\n",
    "        if self.tail is None:\n",
    "            self.q = new_node\n",
    "            self.tail = new_node\n",
    "        else:\n",
    "            self.tail.next = new_node\n",
    "        self.table[key] = new_node\n",
    "            \n",
    "    def put(self, key: int, value: int) -> None:\n",
    "        if key in self.table:\n",
    "            self._update_entry(key, value)\n",
    "        else:\n",
    "            if len(self.table) == self.cap: # capacity is full, remove first one in queue\n",
    "                self._invalidate_cache()\n",
    "            self._add_item(key, value)"
   ]
  },
  {
   "cell_type": "code",
   "execution_count": 330,
   "metadata": {},
   "outputs": [
    {
     "name": "stdout",
     "output_type": "stream",
     "text": [
      "1\n",
      "-1\n",
      "2\n",
      "None\n"
     ]
    }
   ],
   "source": [
    "# [\"LRUCache\",\"put\",\"get\",\"put\",\"get\",\"get\"]\n",
    "# [[1],[2,1],[2],[3,2],[2],[3]]\n",
    "c = LRUCache(1)\n",
    "c.put(2,1)   # [1]\n",
    "print(c.get(2))\n",
    "c.put(3,2)\n",
    "print(c.get(2))\n",
    "print(c.get(3))\n",
    "print(c.q)"
   ]
  },
  {
   "cell_type": "markdown",
   "metadata": {},
   "source": [
    "**Spiral matrix (m x n)**"
   ]
  },
  {
   "cell_type": "code",
   "execution_count": 426,
   "metadata": {},
   "outputs": [],
   "source": [
    "# use direction vector and mxn iterations\n",
    "# default direction is right \n",
    "# mark visited cells as 'X', treat them as obstacle\n",
    "\n",
    "def sprial_matrix(arr):\n",
    "    directions = [(0, 1), (1, 0), (0, -1), (-1, 0)]\n",
    "    cur_dir = directions[0]\n",
    "    cur_dir_index = 0\n",
    "    cur_pos = (0, 0)\n",
    "    ret = []\n",
    "    \n",
    "    def turn_right():\n",
    "        nonlocal cur_dir_index, cur_dir\n",
    "        cur_dir_index = (cur_dir_index + 1) % 4\n",
    "        cur_dir = directions[cur_dir_index]\n",
    "    \n",
    "    def itm(pos):\n",
    "        return arr[pos[0]][pos[1]]\n",
    "\n",
    "    def mark_visited(pos):\n",
    "        arr[pos[0]][pos[1]] = 'X'\n",
    "        \n",
    "    for step in range(len(arr) * len(arr[0])):\n",
    "        ret.append(itm(cur_pos))\n",
    "        mark_visited(cur_pos)\n",
    "        \n",
    "        next_pos = (cur_pos[0] + cur_dir[0], cur_pos[1] + cur_dir[1])\n",
    "        j, i = next_pos\n",
    "\n",
    "        if j == len(arr) or j == -1 or i == len(arr[0]) or i == -1:\n",
    "            turn_right()\n",
    "            next_pos = (cur_pos[0] + cur_dir[0], cur_pos[1] + cur_dir[1])\n",
    "        else:\n",
    "            if itm(next_pos) == 'X':\n",
    "                turn_right()\n",
    "                next_pos = (cur_pos[0] + cur_dir[0], cur_pos[1] + cur_dir[1])\n",
    "        \n",
    "        cur_pos = next_pos\n",
    "    return ret"
   ]
  },
  {
   "cell_type": "code",
   "execution_count": 427,
   "metadata": {},
   "outputs": [
    {
     "data": {
      "text/plain": [
       "[1, 2, 3, 6, 9, 8, 7, 4, 5]"
      ]
     },
     "execution_count": 427,
     "metadata": {},
     "output_type": "execute_result"
    }
   ],
   "source": [
    "arr = [\n",
    " [ 1, 2, 3 ],\n",
    " [ 4, 5, 6 ],\n",
    " [ 7, 8, 9 ]]\n",
    "sprial_matrix(arr)"
   ]
  },
  {
   "cell_type": "code",
   "execution_count": 428,
   "metadata": {},
   "outputs": [
    {
     "data": {
      "text/plain": [
       "[1, 2, 3, 6, 9, 8, 7, 4, 5]"
      ]
     },
     "execution_count": 428,
     "metadata": {},
     "output_type": "execute_result"
    }
   ],
   "source": [
    "ar2 = [\n",
    "    [1,2,3,4],\n",
    "    [5,6,7,8],\n",
    "    [9,10,11,12]]\n",
    "ar3 = [[1,2,3],[4,5,6],[7,8,9]]\n",
    "sprial_matrix(ar3)"
   ]
  },
  {
   "cell_type": "markdown",
   "metadata": {},
   "source": [
    "**Word break**"
   ]
  },
  {
   "cell_type": "code",
   "execution_count": 453,
   "metadata": {},
   "outputs": [],
   "source": [
    "# word='leetcode', dict = ['leet', 'code'] return True\n",
    "# word='applepenapple', dict=['apple', 'pen'] return True\n",
    "# \n",
    "# naive approach would be iterate dictionary,\n",
    "# replace every entry with blank\n",
    "# if nothing left, return True\n",
    "# \n",
    "# works but too inefficient that timeouts\n",
    "\n",
    "def perms(arr):\n",
    "    if len(arr) == 1:\n",
    "        return [arr]\n",
    "    if len(arr) == 2:\n",
    "        return [[arr[0], arr[1]], [arr[1], arr[0]]]\n",
    "    ret = []\n",
    "    head = arr[0]\n",
    "    prev = perms(arr[1:])\n",
    "    for p in prev:\n",
    "        for i in range(len(p)):\n",
    "            ret.append(p[:i] + [head] + p[i:])\n",
    "    return ret\n",
    "    \n",
    "def word_break(word, dic):\n",
    "    ret = False\n",
    "    for pp in perms(dic):\n",
    "        cur_w = word\n",
    "        for d in pp:\n",
    "            cur_w = cur_w.replace(d, '^')  # becoming n^3\n",
    "        ret = ret or len([t for t in cur_w if t != '^']) == 0\n",
    "    return ret"
   ]
  },
  {
   "cell_type": "code",
   "execution_count": 454,
   "metadata": {},
   "outputs": [
    {
     "data": {
      "text/plain": [
       "True"
      ]
     },
     "execution_count": 454,
     "metadata": {},
     "output_type": "execute_result"
    }
   ],
   "source": [
    "word_break('cars', ['car', 'ca', 'rs'])"
   ]
  },
  {
   "cell_type": "code",
   "execution_count": 459,
   "metadata": {},
   "outputs": [],
   "source": [
    "# Backtracking approach\n",
    "# start with the string itself, iterate one char one\n",
    "# if anytime it's in dict, start new word. \n",
    "# at the end, if leftovers not in dict, backtrack to the first one and take 1 more char\n",
    "# \n",
    "# example: catsandog   [cats,dog,sand,and,cat]\n",
    "# cat,sand, og     og --> not in dictionary, go back to sand\n",
    "# cat,sandog .     sandog -> not in dictionary. go back to cat\n",
    "# cats,and,og .    og --> not in dictionary, back to and\n",
    "# cats,andog .     andog not in dictionary\n",
    "# catsandog .      -> not in dictionary\n",
    "# return False"
   ]
  },
  {
   "cell_type": "code",
   "execution_count": 717,
   "metadata": {},
   "outputs": [],
   "source": [
    "def word_break2(word, start, dic, memo={}):\n",
    "    if start == len(word):\n",
    "        return True\n",
    "    if start in memo:\n",
    "        return memo[start]\n",
    "\n",
    "    for i in range(start, len(word)):\n",
    "        if word[start:i+1] in dic:\n",
    "            if word_break2(word, i+1, dic, memo):\n",
    "                memo[start] = True\n",
    "                return True\n",
    "            \n",
    "    memo[start] = False\n",
    "    return False"
   ]
  },
  {
   "cell_type": "code",
   "execution_count": 718,
   "metadata": {},
   "outputs": [
    {
     "data": {
      "text/plain": [
       "True"
      ]
     },
     "execution_count": 718,
     "metadata": {},
     "output_type": "execute_result"
    }
   ],
   "source": [
    "word_break2('applepenapple', 0, set(['apple','pen']), {})"
   ]
  },
  {
   "cell_type": "code",
   "execution_count": 719,
   "metadata": {},
   "outputs": [
    {
     "data": {
      "text/plain": [
       "False"
      ]
     },
     "execution_count": 719,
     "metadata": {},
     "output_type": "execute_result"
    }
   ],
   "source": [
    "word_break2('catsandog', 0, set(['cats', 'dog','sand','and','cat']), {})"
   ]
  },
  {
   "cell_type": "code",
   "execution_count": 720,
   "metadata": {},
   "outputs": [
    {
     "data": {
      "text/plain": [
       "True"
      ]
     },
     "execution_count": 720,
     "metadata": {},
     "output_type": "execute_result"
    }
   ],
   "source": [
    "word_break2(\"aaaaaaa\", 0, [\"aaaa\",\"aaa\"], {})"
   ]
  },
  {
   "cell_type": "code",
   "execution_count": 721,
   "metadata": {},
   "outputs": [
    {
     "data": {
      "text/plain": [
       "False"
      ]
     },
     "execution_count": 721,
     "metadata": {},
     "output_type": "execute_result"
    }
   ],
   "source": [
    "word_break2(\"aaaaaaaaaaaaaaaaaaaaaaaaaaaaaaaaaaaaaaaaaaaaaaaaaaaaaaaaaaaaaaaaaaaaaaaaaaaaaaaaaaaaaaaaaaaaaaaaaaaaaaaaaaaaaaaaaaaaaaaaaaaaaaaaaaaaaaaaaaaaaaaaaaaaaab\",0, set([\"a\",\"aa\",\"aaa\",\"aaaa\",\"aaaaa\",\"aaaaaa\",\"aaaaaaa\",\"aaaaaaaa\",\"aaaaaaaaa\",\"aaaaaaaaaa\"]), {})\n"
   ]
  },
  {
   "cell_type": "markdown",
   "metadata": {},
   "source": [
    "**Game of Life** (https://www.youtube.com/watch?v=7rs1DAkdqy4)"
   ]
  },
  {
   "cell_type": "markdown",
   "metadata": {},
   "source": [
    "- Any live cell with fewer than two live neighbors dies, as if caused by under-population.\n",
    "- Any live cell with two or three live neighbors lives on to the next generation.\n",
    "- Any live cell with more than three live neighbors dies, as if by over-population..\n",
    "- Any dead cell with exactly three live neighbors becomes a live cell, as if by reproduction."
   ]
  },
  {
   "cell_type": "markdown",
   "metadata": {},
   "source": [
    "Write a function to compute the next state (after one update) of the board given its current state. The next state is created by applying the above rules simultaneously to every cell in the current state, where births and deaths occur simultaneously."
   ]
  },
  {
   "cell_type": "code",
   "execution_count": 793,
   "metadata": {},
   "outputs": [],
   "source": [
    "#       input\n",
    "# [\n",
    "#   [0,1,0],\n",
    "#   [0,0,1],\n",
    "#   [1,1,1],\n",
    "#   [0,0,0]\n",
    "# ]\n",
    "#       output\n",
    "# [\n",
    "#   [0,0,0],\n",
    "#   [1,0,1],\n",
    "#   [0,1,1],\n",
    "#   [0,1,0]\n",
    "# ]\n",
    "\n",
    "def get_neighbor_count(arr, j, i): # needs refactoring though\n",
    "    def get(row, col):\n",
    "        # if the pos (j,i) is outside of the borard, \n",
    "        # simply return zero. do not do crazy if-else checks.\n",
    "        if 0 <= row < len(arr) and 0 <= col < len(arr[0]):\n",
    "            return arr[row][col]\n",
    "        else:\n",
    "            return 0\n",
    "    \n",
    "    # do not check if j-1<0 or others. leave the responsibility to the function.\n",
    "    neighbors = [get(j-1, i-1), get(j-1, i), get(j-1, i+1),\n",
    "                 get(j, i-1),                get(j, i+1),\n",
    "                 get(j+1, i-1), get(j+1, i), get(j+1, i+1)]\n",
    "    \n",
    "    return sum(neighbors)\n",
    "\n",
    "def next_state(state):\n",
    "    n = len(state)\n",
    "    m = len(state[0])\n",
    "    new = [[0]*n for _ in range(m)]\n",
    "\n",
    "        \n",
    "    for j in range(len(state)):\n",
    "        for i in range(len(state[j])):\n",
    "            itm = state[j][i]\n",
    "            n = get_neighbor_count(state, j, i)\n",
    "            r = 0\n",
    "            if itm == 1:\n",
    "                if n<3:\n",
    "                    r = 0\n",
    "                if n>1 and n<4:\n",
    "                    r = 1\n",
    "                if n>3:\n",
    "                    r = 0\n",
    "            elif itm == 0:\n",
    "                if n == 3:\n",
    "                    r = 1\n",
    "            new[j][i] = r\n",
    "    # update board\n",
    "    for j in range(len(state)):\n",
    "        for i in range(len(state[0])):\n",
    "            state[j][i] = new[j][i]"
   ]
  },
  {
   "cell_type": "code",
   "execution_count": 797,
   "metadata": {},
   "outputs": [
    {
     "name": "stdout",
     "output_type": "stream",
     "text": [
      "[0, 0, 0]\n",
      "[1, 0, 1]\n",
      "[0, 1, 1]\n",
      "[0, 1, 0]\n"
     ]
    }
   ],
   "source": [
    "inp = [[0,1,0],\n",
    "       [0,0,1],\n",
    "       [1,1,1],\n",
    "       [0,0,0]]\n",
    "next_state(inp)\n",
    "\n",
    "print(inp[0])\n",
    "print(inp[1])\n",
    "print(inp[2])\n",
    "print(inp[3])"
   ]
  },
  {
   "cell_type": "code",
   "execution_count": 798,
   "metadata": {},
   "outputs": [],
   "source": [
    "# Do it in-place?\n",
    "# how to resize board?"
   ]
  },
  {
   "cell_type": "markdown",
   "metadata": {},
   "source": [
    "**Merge Intervals**"
   ]
  },
  {
   "cell_type": "code",
   "execution_count": 806,
   "metadata": {},
   "outputs": [],
   "source": [
    "# Input: [[1,3],[2,6],[8,10],[15,18]]\n",
    "# Output: [[1,6],[8,10],[15,18]]\n",
    "# Explanation: Since intervals [1,3] and [2,6] overlaps, merge them into [1,6].\n",
    "# \n",
    "# Input: [[1,4],[4,5]]\n",
    "# Output: [[1,5]]\n",
    "# Explanation: Intervals [1,4] and [4,5] are considered overlapping."
   ]
  },
  {
   "cell_type": "code",
   "execution_count": 965,
   "metadata": {},
   "outputs": [
    {
     "data": {
      "text/plain": [
       "defaultdict(list, {})"
      ]
     },
     "execution_count": 965,
     "metadata": {},
     "output_type": "execute_result"
    }
   ],
   "source": [
    "import collections\n",
    "graph = collections.defaultdict(list)\n",
    "graph"
   ]
  },
  {
   "cell_type": "code",
   "execution_count": 966,
   "metadata": {},
   "outputs": [],
   "source": [
    "from collections import deque\n",
    "\n",
    "def merge_intervals(arr):\n",
    "    pass"
   ]
  },
  {
   "cell_type": "markdown",
   "metadata": {},
   "source": [
    "**Summary of ranges**\n",
    "\n",
    "Given a sorted integer array without duplicates, return the summary of its ranges.\n",
    "\n",
    "```\n",
    "Example 1:\n",
    "\n",
    "Input:  [0,1,2,4,5,7]\n",
    "Output: [\"0->2\",\"4->5\",\"7\"]\n",
    "Explanation: 0,1,2 form a continuous range; 4,5 form a continuous range.\n",
    "```"
   ]
  },
  {
   "cell_type": "code",
   "execution_count": 968,
   "metadata": {},
   "outputs": [],
   "source": [
    "# since it's sorted, we can start traversing with a queue. \n",
    "# if next item is one greater, add to queue. whenever this breaks, push all into ret, start new queue, continue."
   ]
  },
  {
   "cell_type": "code",
   "execution_count": 1016,
   "metadata": {},
   "outputs": [],
   "source": [
    "from collections import deque\n",
    "\n",
    "def summary_range(arr):\n",
    "    if len(arr) == 0:\n",
    "        return []\n",
    "    # start with first item for all\n",
    "    qarr = deque(arr)\n",
    "    buff = []\n",
    "    ret = []\n",
    "    \n",
    "    while qarr:\n",
    "        itm = qarr.popleft()\n",
    "        if len(buff) == 0:\n",
    "            buff.append(itm)\n",
    "            continue\n",
    "            \n",
    "        if itm - 1 == buff[-1]: # continous\n",
    "            buff.append(itm)\n",
    "        else:\n",
    "            if len(buff) == 1:\n",
    "                ret.append(str(buff[0]))\n",
    "            else:\n",
    "                ret.append(f'{buff[0]}->{buff[-1]}')\n",
    "            buff = deque([itm])\n",
    "\n",
    "    if len(buff)==1:\n",
    "        ret.append(str(buff[0]))\n",
    "    elif len(buff) > 1:\n",
    "        ret.append(f'{buff[0]}->{buff[-1]}')\n",
    "            \n",
    "    return ret"
   ]
  },
  {
   "cell_type": "code",
   "execution_count": 1017,
   "metadata": {},
   "outputs": [
    {
     "data": {
      "text/plain": [
       "['0->2', '4->5', '7']"
      ]
     },
     "execution_count": 1017,
     "metadata": {},
     "output_type": "execute_result"
    }
   ],
   "source": [
    "summary_range([0,1,2,4,5,7])"
   ]
  },
  {
   "cell_type": "code",
   "execution_count": 1018,
   "metadata": {},
   "outputs": [
    {
     "data": {
      "text/plain": [
       "['0', '2->4', '6', '8->9']"
      ]
     },
     "execution_count": 1018,
     "metadata": {},
     "output_type": "execute_result"
    }
   ],
   "source": [
    "summary_range([0,2,3,4,6,8,9])"
   ]
  },
  {
   "cell_type": "markdown",
   "metadata": {},
   "source": [
    "**Longest Absolute File Path**"
   ]
  },
  {
   "cell_type": "code",
   "execution_count": 1021,
   "metadata": {},
   "outputs": [],
   "source": [
    "# dir\\n\\tsubdir1\\n\\tsubdir2\\n\\t\\tfile.ext"
   ]
  },
  {
   "cell_type": "code",
   "execution_count": 1030,
   "metadata": {},
   "outputs": [],
   "source": [
    "# first approach is to convert string into a tree structure\n",
    "# then compute path lengths with DFS\n",
    "# return max"
   ]
  },
  {
   "cell_type": "code",
   "execution_count": 1112,
   "metadata": {},
   "outputs": [],
   "source": [
    "def long_abs_path(s):\n",
    "    if s.find('.')<0:\n",
    "        return 0\n",
    "    tokens = s.split('\\n')\n",
    "    prefix = deque([tokens[0]])\n",
    "    max_path = ''\n",
    "    \n",
    "    for t in tokens:\n",
    "        t_tokens = t.split('\\t')\n",
    "        depth = len(t_tokens) - 1\n",
    "\n",
    "        if depth == len(prefix):\n",
    "            prefix.append(t_tokens[-1])\n",
    "        elif depth < len(prefix):\n",
    "            for _ in range(len(prefix)-depth):\n",
    "                prefix.pop()\n",
    "            prefix.append(t_tokens[-1])\n",
    "    \n",
    "        # check if path has a file\n",
    "        cur_path = '/'.join(prefix)\n",
    "        if cur_path.find('.')>0:\n",
    "            if len(cur_path)>len(max_path):\n",
    "                max_path = cur_path\n",
    "    return len(max_path)"
   ]
  },
  {
   "cell_type": "code",
   "execution_count": 1113,
   "metadata": {},
   "outputs": [
    {
     "data": {
      "text/plain": [
       "20"
      ]
     },
     "execution_count": 1113,
     "metadata": {},
     "output_type": "execute_result"
    }
   ],
   "source": [
    "long_abs_path('dir\\n\\tsubdir1\\n\\tsubdir2\\n\\t\\tfile.ext')"
   ]
  },
  {
   "cell_type": "code",
   "execution_count": 1114,
   "metadata": {},
   "outputs": [
    {
     "data": {
      "text/plain": [
       "0"
      ]
     },
     "execution_count": 1114,
     "metadata": {},
     "output_type": "execute_result"
    }
   ],
   "source": [
    "long_abs_path('a')"
   ]
  },
  {
   "cell_type": "code",
   "execution_count": 1115,
   "metadata": {},
   "outputs": [
    {
     "data": {
      "text/plain": [
       "14"
      ]
     },
     "execution_count": 1115,
     "metadata": {},
     "output_type": "execute_result"
    }
   ],
   "source": [
    "long_abs_path('a\\n\\tb1\\n\\t\\tf1.txt\\n\\taaaaa\\n\\t\\tf2.txt')"
   ]
  },
  {
   "cell_type": "code",
   "execution_count": 1116,
   "metadata": {},
   "outputs": [
    {
     "data": {
      "text/plain": [
       "528"
      ]
     },
     "execution_count": 1116,
     "metadata": {},
     "output_type": "execute_result"
    }
   ],
   "source": [
    "long_abs_path('sladjf\\n\\tlkjlkv\\n\\t\\tlkjlakjlert\\n\\t\\t\\tlaskjglaksjf\\n\\t\\t\\t\\tlakjgfljrtlj\\n\\t\\t\\t\\t\\tlskajflakjsvlj\\n\\t\\t\\t\\t\\t\\tlskgjflkjrtlrjt\\n\\t\\t\\t\\t\\t\\t\\tlkjglkjlvkjdlvkj\\n\\t\\t\\t\\t\\t\\t\\t\\tlfjkglkjfljdlv\\n\\t\\t\\t\\t\\t\\t\\t\\t\\tlkdfjglerjtkrjkljsd.lkvjlkajlfk\\n\\t\\t\\t\\t\\t\\t\\tlskfjlksjljslvjxjlvkzjljajoiwjejlskjslfj.slkjflskjldfkjoietruioskljfkljf\\n\\t\\t\\t\\t\\tlkasjfljsaljlxkcjzljvl.asljlksaj\\n\\t\\t\\t\\tasldjflksajf\\n\\t\\t\\t\\talskjflkasjlvkja\\n\\t\\t\\t\\twioeuoiwutrljsgfjlskfg\\n\\t\\t\\t\\taslkjvlksjvlkjsflgj\\n\\t\\t\\t\\t\\tlkvnlksfgk.salfkjaslfjskljfv\\n\\t\\t\\tlksdjflsajlkfj\\n\\t\\t\\tlasjflaskjlk\\n\\t\\tlsakjflkasjfkljas\\n\\t\\tlskjvljvlkjlsjfkgljfg\\n\\tsaljkglksajvlkjvkljlkjvksdj\\n\\tlsakjglksajkvjlkjdklvj\\n\\tlskjflksjglkdjbkljdbkjslkj\\n\\t\\tlkjglkfjkljsdflj\\n\\t\\t\\tlskjfglkjdfgkljsdflj\\n\\t\\t\\t\\tlkfjglksdjlkjbsdlkjbk\\n\\t\\t\\t\\t\\tlkfgjlejrtljkljsdflgjl\\n\\t\\t\\t\\t\\tsalgkfjlksfjgkljsgfjl\\n\\t\\t\\t\\t\\tsalkflajwoieu\\n\\t\\t\\t\\t\\t\\tlaskjfglsjfgljkkvjsdlkjbklds\\n\\t\\t\\t\\t\\t\\t\\tlasjglriotuojgkjsldfgjsklfgjl\\n\\t\\t\\t\\t\\t\\t\\t\\tlkajglkjskljsdljblkdfjblfjlbjs\\n\\t\\t\\t\\t\\t\\t\\t\\t\\tlkajgljroituksfglkjslkjgoi\\n\\t\\t\\t\\t\\t\\t\\t\\t\\t\\tlkjglkjkljkljdkbljsdfljgklfdj\\n\\t\\t\\t\\t\\t\\t\\t\\t\\t\\t\\tlkjlgkjljgslkdkldjblkj\\n\\t\\t\\t\\t\\t\\t\\t\\t\\t\\t\\t\\tlkjfglkjlkjbsdklj.slgfjalksjglkfjglf\\n\\t\\t\\t\\t\\t\\t\\t\\t\\t\\t\\t\\tlkasjrlkjwlrjljsl\\n\\t\\t\\t\\t\\t\\t\\t\\t\\t\\t\\t\\t\\tlksjgflkjfklgjljbljls\\n\\t\\t\\t\\t\\t\\t\\t\\t\\t\\t\\t\\t\\t\\tlkjsglkjlkjfkljdklbjkldf\\n\\t\\t\\t\\t\\t\\t\\t\\t\\t\\t\\t\\t\\t\\t\\tlkjglkjdlsfjdglsdjgjlxljjlrjsgjsjlk\\n\\t\\t\\t\\t\\t\\t\\t\\t\\t\\t\\t\\t\\t\\t\\t\\tlkjsgkllksjfgjljdslfkjlkasjdflkjxcljvlkjsgkljsfg\\n\\t\\t\\t\\t\\t\\t\\t\\t\\t\\t\\t\\t\\t\\t\\t\\t\\tlaskjlkjsakljglsdjfgksdjlkgjdlskjb\\n\\t\\t\\t\\t\\t\\t\\t\\t\\t\\t\\t\\t\\t\\t\\t\\t\\t\\tlkajsgfljfklgjlkdjgfklsdjklj\\n\\t\\t\\t\\t\\t\\t\\t\\t\\t\\t\\t\\t\\t\\t\\t\\t\\t\\t\\tlkjfglkjlkgjlkjl.aslkjflasjlajglkjaf\\n\\t\\t\\t\\t\\t\\t\\t\\t\\t\\t\\t\\t\\t\\t\\t\\t\\t\\t\\tlkjasflgjlskjglkfjgklgsdjflkbjsdklfjskldfjgklsfdjgklfdjgl\\n\\tlskadjlkjsldwwwwwfj\\n\\t\\tlkjflkasjlfjlkjajslfkjlasjkdlfjlaskjalvwwwwwwwwwwwwwwwkjlsjfglkjalsjgflkjaljlkdsjslbjsljksldjlsjdlkjljvblkjlkajfljgasljfkajgfljfjgldjblkjsdljgsldjg.skljf')"
   ]
  },
  {
   "cell_type": "markdown",
   "metadata": {},
   "source": [
    "**Letter Combinations of a Phone Number**"
   ]
  },
  {
   "cell_type": "code",
   "execution_count": null,
   "metadata": {},
   "outputs": [],
   "source": [
    "def tel_comb(digits):\n",
    "    "
   ]
  },
  {
   "cell_type": "markdown",
   "metadata": {},
   "source": [
    "Kth largest element in array"
   ]
  },
  {
   "cell_type": "code",
   "execution_count": null,
   "metadata": {},
   "outputs": [],
   "source": [
    "def kth_largest(arr, k):\n",
    "    q = deque([arr[0]])\n",
    "    \n",
    "    for itm[1:] in arr:\n",
    "        if len(q) < k+1: # add to buffer\n",
    "            "
   ]
  },
  {
   "cell_type": "markdown",
   "metadata": {},
   "source": [
    "Min Edit Distance"
   ]
  },
  {
   "cell_type": "code",
   "execution_count": null,
   "metadata": {},
   "outputs": [],
   "source": []
  }
 ],
 "metadata": {
  "kernelspec": {
   "display_name": "Python 3",
   "language": "python",
   "name": "python3"
  },
  "language_info": {
   "codemirror_mode": {
    "name": "ipython",
    "version": 3
   },
   "file_extension": ".py",
   "mimetype": "text/x-python",
   "name": "python",
   "nbconvert_exporter": "python",
   "pygments_lexer": "ipython3",
   "version": "3.7.2"
  }
 },
 "nbformat": 4,
 "nbformat_minor": 2
}
