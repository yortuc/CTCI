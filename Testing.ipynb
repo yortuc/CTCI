{
 "cells": [
  {
   "cell_type": "markdown",
   "metadata": {},
   "source": [
    "**Step 1: Define test cases**\n",
    "\n",
    "Test a function against: (for a sorting function as example)\n",
    "    1. Normal case\n",
    "    2. The extremes (empty array, 1elem array, too large array)\n",
    "    3. Nulls and Illegal input (is testing nth fibonacci number, how to handle negative input)\n",
    "    4. Strange input (an already sorted array? or reverse sorted array?)\n",
    "    \n",
    "**Step 2: Define expected output**\n",
    "\n",
    "**Step 3: Write test code**\n"
   ]
  },
  {
   "cell_type": "code",
   "execution_count": null,
   "metadata": {},
   "outputs": [],
   "source": []
  }
 ],
 "metadata": {
  "kernelspec": {
   "display_name": "Python 3",
   "language": "python",
   "name": "python3"
  },
  "language_info": {
   "codemirror_mode": {
    "name": "ipython",
    "version": 3
   },
   "file_extension": ".py",
   "mimetype": "text/x-python",
   "name": "python",
   "nbconvert_exporter": "python",
   "pygments_lexer": "ipython3",
   "version": "3.7.2"
  }
 },
 "nbformat": 4,
 "nbformat_minor": 2
}
