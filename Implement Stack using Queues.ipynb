{
 "cells": [
  {
   "cell_type": "code",
   "execution_count": 14,
   "metadata": {},
   "outputs": [],
   "source": [
    "# solution is with 2 queues.\n",
    "# push coming items into q1\n",
    "# whenever pop, push all items to except last one to q2, return q2\n",
    "# \n",
    "from collections import deque\n",
    "\n",
    "class MyStack:\n",
    "\n",
    "    def __init__(self):\n",
    "        \"\"\"\n",
    "        Initialize your data structure here.\n",
    "        \"\"\"\n",
    "        self.q1 = deque()\n",
    "        self.q2 = deque()\n",
    "\n",
    "    def push(self, x: int) -> None:\n",
    "        \"\"\"\n",
    "        Push element x onto stack.\n",
    "        \"\"\"\n",
    "        self.q1.append(x)\n",
    "        \n",
    "\n",
    "    def pop(self) -> int:\n",
    "        \"\"\"\n",
    "        Removes the element on top of the stack and returns that element.\n",
    "        \"\"\"\n",
    "        if self.empty():\n",
    "            return -1\n",
    "        \n",
    "        if len(self.q1)>0:    # q1 -> q2\n",
    "            while len(self.q1)>1:\n",
    "                self.q2.append(self.q1.popleft())\n",
    "            return self.q1.popleft()\n",
    "        elif len(self.q2)>0:   # q2 -> q1\n",
    "            while len(self.q2)>1:\n",
    "                self.q1.append(self.q2.popleft())\n",
    "            return self.q2.popleft()\n",
    "\n",
    "    def top(self) -> int:\n",
    "        \"\"\"\n",
    "        Get the top element.\n",
    "        \"\"\"\n",
    "        if self.empty():\n",
    "            return -1\n",
    "        \n",
    "        if len(self.q1)>0:\n",
    "            return self.q1[-1]\n",
    "        elif len(self.q2)>0:\n",
    "            return self.q2[-1]\n",
    "            \n",
    "        \n",
    "    def empty(self) -> bool:\n",
    "        \"\"\"\n",
    "        Returns whether the stack is empty.\n",
    "        \"\"\"\n",
    "        return (len(self.q1) + len(self.q2)) == 0"
   ]
  },
  {
   "cell_type": "code",
   "execution_count": 15,
   "metadata": {},
   "outputs": [
    {
     "name": "stdout",
     "output_type": "stream",
     "text": [
      "False\n",
      "top: 3\n",
      "3\n",
      "2\n",
      "1\n"
     ]
    }
   ],
   "source": [
    "obj = MyStack()\n",
    "obj.push(1)\n",
    "obj.push(2)\n",
    "obj.push(3)\n",
    "print(obj.empty())\n",
    "print('top:', obj.top())\n",
    "print(obj.pop())\n",
    "print(obj.pop())\n",
    "print(obj.pop())"
   ]
  },
  {
   "cell_type": "code",
   "execution_count": null,
   "metadata": {},
   "outputs": [],
   "source": []
  }
 ],
 "metadata": {
  "kernelspec": {
   "display_name": "Python 3",
   "language": "python",
   "name": "python3"
  },
  "language_info": {
   "codemirror_mode": {
    "name": "ipython",
    "version": 3
   },
   "file_extension": ".py",
   "mimetype": "text/x-python",
   "name": "python",
   "nbconvert_exporter": "python",
   "pygments_lexer": "ipython3",
   "version": "3.7.2"
  }
 },
 "nbformat": 4,
 "nbformat_minor": 2
}
