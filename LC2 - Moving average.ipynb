{
 "cells": [
  {
   "cell_type": "code",
   "execution_count": 33,
   "metadata": {},
   "outputs": [],
   "source": [
    "from collections import deque\n",
    "\n",
    "class MovingAverage:\n",
    "\n",
    "    def __init__(self, size: int):\n",
    "        self.q = deque()\n",
    "        self.size = size\n",
    "        self.prev = 0\n",
    "        \n",
    "    def next(self, val: int) -> float:   \n",
    "        popped = None\n",
    "        lq = len(self.q)\n",
    "        \n",
    "        if lq == self.size:\n",
    "            popped = self.q.popleft()\n",
    "            lq = lq - 1\n",
    "        \n",
    "        self.q.append(val)        \n",
    "        lq = lq + 1\n",
    "        \n",
    "        if popped:\n",
    "            ret = ((self.prev * self.size) - popped + val)/self.size\n",
    "            self.prev = ret\n",
    "            return ret\n",
    "        else:\n",
    "            sm = 0\n",
    "            for i in self.q:\n",
    "                sm = sm + i\n",
    "            self.prev = sm/lq\n",
    "            return self.prev"
   ]
  },
  {
   "cell_type": "code",
   "execution_count": 34,
   "metadata": {},
   "outputs": [
    {
     "name": "stdout",
     "output_type": "stream",
     "text": [
      "1.0\n",
      "1.5\n",
      "2.5\n",
      "3.5\n"
     ]
    }
   ],
   "source": [
    "obj = MovingAverage(2)\n",
    "print(obj.next(1))\n",
    "print(obj.next(2))\n",
    "print(obj.next(3))\n",
    "print(obj.next(4))"
   ]
  },
  {
   "cell_type": "code",
   "execution_count": null,
   "metadata": {},
   "outputs": [],
   "source": []
  }
 ],
 "metadata": {
  "kernelspec": {
   "display_name": "Python 3",
   "language": "python",
   "name": "python3"
  },
  "language_info": {
   "codemirror_mode": {
    "name": "ipython",
    "version": 3
   },
   "file_extension": ".py",
   "mimetype": "text/x-python",
   "name": "python",
   "nbconvert_exporter": "python",
   "pygments_lexer": "ipython3",
   "version": "3.7.2"
  }
 },
 "nbformat": 4,
 "nbformat_minor": 2
}
