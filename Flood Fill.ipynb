{
 "cells": [
  {
   "cell_type": "markdown",
   "metadata": {},
   "source": [
    "**Input**\n",
    "\n",
    "```\n",
    "image = [\n",
    "    [1,1,1],\n",
    "    [1,1,0],\n",
    "    [1,0,1]\n",
    "]\n",
    "\n",
    "sr = 1, sc = 1, newColor = 2\n",
    "\n",
    "output = [\n",
    "    [2,2,2],\n",
    "    [2,2,0],\n",
    "    [2,0,1]\n",
    "]\n",
    "```\n",
    "\n",
    "**Explanation**\n",
    "\n",
    "From the center of the image (with position (sr, sc) = (1, 1)), all pixels connected \n",
    "by a path of the same color as the starting pixel are colored with the new color.\n",
    "Note the bottom corner is not colored 2, because it is not 4-directionally connected\n",
    "to the starting pixel."
   ]
  },
  {
   "cell_type": "code",
   "execution_count": 36,
   "metadata": {},
   "outputs": [],
   "source": [
    "from collections import deque\n",
    "\n",
    "def fill(arr, i, j, color):\n",
    "    rep_color = arr[j][i]\n",
    "    q = deque([(j, i)])\n",
    "    \n",
    "    if rep_color == color:\n",
    "        return arr\n",
    "    \n",
    "    while q:\n",
    "        lenq = len(q)\n",
    "        for _ in range(lenq):\n",
    "            j, i = q.pop()\n",
    "                \n",
    "            if arr[j][i] == rep_color:\n",
    "                arr[j][i] = color\n",
    "            \n",
    "            #get neighbors\n",
    "            if i > 0 and arr[j][i-1] == rep_color:             # left\n",
    "                q.append((j, i-1))\n",
    "            if i < len(arr[0])-1 and arr[j][i+1] == rep_color: # right\n",
    "                q.append((j, i+1))\n",
    "            if j > 0 and arr[j-1][i] == rep_color:             # up\n",
    "                q.append((j-1, i))\n",
    "            if j < len(arr)-1 and arr[j+1][i] == rep_color:    # below\n",
    "                q.append((j+1, i))"
   ]
  },
  {
   "cell_type": "code",
   "execution_count": 37,
   "metadata": {},
   "outputs": [
    {
     "name": "stdout",
     "output_type": "stream",
     "text": [
      "[2, 2, 2]\n",
      "[2, 2, 0]\n",
      "[2, 0, 1]\n"
     ]
    }
   ],
   "source": [
    "arr = [[1,1,1],\n",
    "       [1,1,0],\n",
    "       [1,0,1]]\n",
    "\n",
    "fill(arr, 1, 1, 2)\n",
    "\n",
    "print(arr[0])\n",
    "print(arr[1])\n",
    "print(arr[2])"
   ]
  },
  {
   "cell_type": "code",
   "execution_count": 38,
   "metadata": {},
   "outputs": [
    {
     "name": "stdout",
     "output_type": "stream",
     "text": [
      "[0, 0, 0]\n",
      "[0, 1, 1]\n"
     ]
    }
   ],
   "source": [
    "arr = [[0,0,0],\n",
    "       [0,1,1]]\n",
    "\n",
    "fill(arr, 1, 1, 1)\n",
    "\n",
    "print(arr[0])\n",
    "print(arr[1])"
   ]
  },
  {
   "cell_type": "code",
   "execution_count": 39,
   "metadata": {},
   "outputs": [
    {
     "name": "stdout",
     "output_type": "stream",
     "text": [
      "[2, 2, 2]\n",
      "[2, 2, 2]\n"
     ]
    }
   ],
   "source": [
    "arr = [[0,0,0],\n",
    "       [0,0,0]]\n",
    "\n",
    "fill(arr, 0, 0, 2)\n",
    "\n",
    "print(arr[0])\n",
    "print(arr[0])"
   ]
  },
  {
   "cell_type": "code",
   "execution_count": null,
   "metadata": {},
   "outputs": [],
   "source": []
  }
 ],
 "metadata": {
  "kernelspec": {
   "display_name": "Python 3",
   "language": "python",
   "name": "python3"
  },
  "language_info": {
   "codemirror_mode": {
    "name": "ipython",
    "version": 3
   },
   "file_extension": ".py",
   "mimetype": "text/x-python",
   "name": "python",
   "nbconvert_exporter": "python",
   "pygments_lexer": "ipython3",
   "version": "3.7.2"
  }
 },
 "nbformat": 4,
 "nbformat_minor": 2
}
