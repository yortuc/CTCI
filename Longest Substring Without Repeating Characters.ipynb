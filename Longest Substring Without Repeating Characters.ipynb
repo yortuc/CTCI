{
 "cells": [
  {
   "cell_type": "code",
   "execution_count": 56,
   "metadata": {},
   "outputs": [],
   "source": [
    "def substr(s):\n",
    "    i=0\n",
    "    j=0\n",
    "    hist={}\n",
    "    maxlen = 0\n",
    "    \n",
    "    while i<len(s) and j<len(s):\n",
    "        cur = s[j]\n",
    "        if cur in hist:\n",
    "            i = hist[cur] + 1\n",
    "            for key in list(hist.keys()):\n",
    "                if hist[key]<i:\n",
    "                    del hist[key]\n",
    "            hist[cur] = j\n",
    "        else:\n",
    "            hist[cur] = j\n",
    "            maxlen = max(maxlen, j-i+1)\n",
    "        print(hist)\n",
    "        j = j + 1\n",
    "    return maxlen"
   ]
  },
  {
   "cell_type": "code",
   "execution_count": 58,
   "metadata": {},
   "outputs": [
    {
     "name": "stdout",
     "output_type": "stream",
     "text": [
      "{'t': 0}\n",
      "{'t': 0, 'm': 1}\n",
      "{'m': 2}\n",
      "{'m': 2, 'z': 3}\n",
      "{'m': 2, 'z': 3, 'u': 4}\n",
      "{'m': 2, 'z': 3, 'u': 4, 'x': 5}\n",
      "{'m': 2, 'z': 3, 'u': 4, 'x': 5, 't': 6}\n"
     ]
    },
    {
     "data": {
      "text/plain": [
       "5"
      ]
     },
     "execution_count": 58,
     "metadata": {},
     "output_type": "execute_result"
    }
   ],
   "source": [
    "substr('tmmzuxt')"
   ]
  },
  {
   "cell_type": "code",
   "execution_count": null,
   "metadata": {},
   "outputs": [],
   "source": []
  }
 ],
 "metadata": {
  "kernelspec": {
   "display_name": "Python 3",
   "language": "python",
   "name": "python3"
  },
  "language_info": {
   "codemirror_mode": {
    "name": "ipython",
    "version": 3
   },
   "file_extension": ".py",
   "mimetype": "text/x-python",
   "name": "python",
   "nbconvert_exporter": "python",
   "pygments_lexer": "ipython3",
   "version": "3.7.2"
  }
 },
 "nbformat": 4,
 "nbformat_minor": 2
}
