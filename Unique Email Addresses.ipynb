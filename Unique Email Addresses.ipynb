{
 "cells": [
  {
   "cell_type": "markdown",
   "metadata": {},
   "source": [
    "1. \"alice.z@leetcode.com\" and \"alicez@leetcode.com\" are the same\n",
    "2. If you add a plus ('+') in the local name, everything after the first plus sign will be ignored. \n",
    "\n",
    "Example 1:\n",
    "```\n",
    "Input: [\"test.email+alex@leetcode.com\",\"test.e.mail+bob.cathy@leetcode.com\",\"testemail+david@lee.tcode.com\"]\n",
    "Output: 2\n",
    "Explanation: \"testemail@leetcode.com\" and \"testemail@lee.tcode.com\" actually receive mails\n",
    "```"
   ]
  },
  {
   "cell_type": "code",
   "execution_count": 27,
   "metadata": {},
   "outputs": [],
   "source": [
    "def numUniqueEmails(emails):\n",
    "    hist = set()\n",
    "    \n",
    "    for email in emails:\n",
    "        local, domain = email.split('@')\n",
    "        local = local.replace('.', '')\n",
    "        plus_index = local.find('+')\n",
    "        if plus_index > 0:\n",
    "            local = local[0:plus_index]\n",
    "        print(local)\n",
    "        hist.add(local + '@' + domain)\n",
    "    \n",
    "    return len(hist)"
   ]
  },
  {
   "cell_type": "code",
   "execution_count": 28,
   "metadata": {},
   "outputs": [
    {
     "name": "stdout",
     "output_type": "stream",
     "text": [
      "testemail\n",
      "testemail\n",
      "testemail\n"
     ]
    },
    {
     "data": {
      "text/plain": [
       "2"
      ]
     },
     "execution_count": 28,
     "metadata": {},
     "output_type": "execute_result"
    }
   ],
   "source": [
    "numUniqueEmails([\"test.email+alex@leetcode.com\",\"test.e.mail+bob.cathy@leetcode.com\",\"testemail+david@lee.tcode.com\"])"
   ]
  },
  {
   "cell_type": "code",
   "execution_count": 29,
   "metadata": {},
   "outputs": [
    {
     "name": "stdout",
     "output_type": "stream",
     "text": [
      "a\n",
      "b\n",
      "c\n"
     ]
    },
    {
     "data": {
      "text/plain": [
       "3"
      ]
     },
     "execution_count": 29,
     "metadata": {},
     "output_type": "execute_result"
    }
   ],
   "source": [
    "numUniqueEmails([\"a@leetcode.com\",\"b@leetcode.com\",\"c@leetcode.com\"])"
   ]
  },
  {
   "cell_type": "code",
   "execution_count": 30,
   "metadata": {},
   "outputs": [
    {
     "name": "stdout",
     "output_type": "stream",
     "text": [
      "testemail\n",
      "testemailleet\n"
     ]
    },
    {
     "data": {
      "text/plain": [
       "2"
      ]
     },
     "execution_count": 30,
     "metadata": {},
     "output_type": "execute_result"
    }
   ],
   "source": [
    "numUniqueEmails([\"test.email+alex@leetcode.com\",\"test.email.leet+alex@code.com\"])"
   ]
  },
  {
   "cell_type": "code",
   "execution_count": null,
   "metadata": {},
   "outputs": [],
   "source": []
  }
 ],
 "metadata": {
  "kernelspec": {
   "display_name": "Python 3",
   "language": "python",
   "name": "python3"
  },
  "language_info": {
   "codemirror_mode": {
    "name": "ipython",
    "version": 3
   },
   "file_extension": ".py",
   "mimetype": "text/x-python",
   "name": "python",
   "nbconvert_exporter": "python",
   "pygments_lexer": "ipython3",
   "version": "3.7.2"
  }
 },
 "nbformat": 4,
 "nbformat_minor": 2
}
