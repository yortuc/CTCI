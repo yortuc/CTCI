{
 "cells": [
  {
   "cell_type": "code",
   "execution_count": 54,
   "metadata": {},
   "outputs": [],
   "source": [
    "# Word Game\n",
    "# Find if it's possible to go from one word to another by changing one character at each step. \n",
    "# Assume that you have a dictionary that checks if the word exists or not.\n",
    "# Asked by Amazon Alexa phone interview"
   ]
  },
  {
   "cell_type": "code",
   "execution_count": 40,
   "metadata": {},
   "outputs": [],
   "source": [
    "d = {'oda', 'ada', 'ata', 'ati'}\n",
    "import string"
   ]
  },
  {
   "cell_type": "code",
   "execution_count": 49,
   "metadata": {},
   "outputs": [],
   "source": [
    "def step(s, target, hist):\n",
    "    if s == target:\n",
    "        return True\n",
    "    \n",
    "    cands = set()\n",
    "    dead_end = True\n",
    "    for i in range(len(s)):\n",
    "        for k in string.ascii_lowercase:\n",
    "            v = s[:i] + k + s[i+1:]\n",
    "            if v in d and v not in hist:\n",
    "                dead_end = False\n",
    "                cands.add(v)\n",
    "\n",
    "    print(hist, cands)\n",
    "    if dead_end:\n",
    "        print('dead end')\n",
    "        return False\n",
    "    \n",
    "    ret = False\n",
    "    for c in cands:\n",
    "        hist_a = hist.copy()\n",
    "        hist_a.add(c)\n",
    "        ret = ret or step(c, target, hist_a)\n",
    "    return ret"
   ]
  },
  {
   "cell_type": "code",
   "execution_count": 50,
   "metadata": {},
   "outputs": [
    {
     "name": "stdout",
     "output_type": "stream",
     "text": [
      "{'oda'} {'ada'}\n",
      "{'ada', 'oda'} {'ata'}\n",
      "{'ata', 'ada', 'oda'} {'ati'}\n"
     ]
    },
    {
     "data": {
      "text/plain": [
       "True"
      ]
     },
     "execution_count": 50,
     "metadata": {},
     "output_type": "execute_result"
    }
   ],
   "source": [
    "# oda -> ada -> ata, ati\n",
    "step('oda', 'ati', {'oda'})"
   ]
  },
  {
   "cell_type": "code",
   "execution_count": 53,
   "metadata": {},
   "outputs": [
    {
     "name": "stdout",
     "output_type": "stream",
     "text": [
      "{'oda'} {'ada'}\n",
      "{'ada', 'oda'} {'ata'}\n",
      "{'ata', 'ada', 'oda'} {'ati'}\n",
      "{'ata', 'ati', 'ada', 'oda'} set()\n",
      "dead end\n"
     ]
    },
    {
     "data": {
      "text/plain": [
       "False"
      ]
     },
     "execution_count": 53,
     "metadata": {},
     "output_type": "execute_result"
    }
   ],
   "source": [
    "step('oda', 'uti', {'oda'})"
   ]
  }
 ],
 "metadata": {
  "kernelspec": {
   "display_name": "Python 3",
   "language": "python",
   "name": "python3"
  },
  "language_info": {
   "codemirror_mode": {
    "name": "ipython",
    "version": 3
   },
   "file_extension": ".py",
   "mimetype": "text/x-python",
   "name": "python",
   "nbconvert_exporter": "python",
   "pygments_lexer": "ipython3",
   "version": "3.7.2"
  }
 },
 "nbformat": 4,
 "nbformat_minor": 2
}
