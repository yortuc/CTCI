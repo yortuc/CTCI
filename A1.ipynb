{
 "cells": [
  {
   "cell_type": "code",
   "execution_count": 34,
   "metadata": {},
   "outputs": [],
   "source": [
    "class Box:\n",
    "    def __init__(self, text):\n",
    "        self.text = text\n",
    "        codes = text.split(' ')\n",
    "        self.id = codes[0]\n",
    "        self.version = codes[1:]\n",
    "        self.version_text = ' '.join(codes[1:])\n",
    "        \n",
    "        try:\n",
    "            version_num = int(self.version[0])\n",
    "            self.generation = 1\n",
    "        except:\n",
    "            self.generation = 0"
   ]
  },
  {
   "cell_type": "code",
   "execution_count": 35,
   "metadata": {},
   "outputs": [],
   "source": [
    "def compare_boxes(a, b):\n",
    "    if a.generation < b.generation:\n",
    "        return -1\n",
    "    elif a.generation > b.generation:\n",
    "        return 1\n",
    "    else:\n",
    "        return ''.join(a.version) > ''.join(b.version)"
   ]
  },
  {
   "cell_type": "code",
   "execution_count": 36,
   "metadata": {},
   "outputs": [],
   "source": [
    "input = [\n",
    "    'ykc 82 01',\n",
    "    'eo first qpx',\n",
    "    '09z cat hamster',\n",
    "    '06f 12 25 6',\n",
    "    'az0 first qpx',\n",
    "    '236 cat dog rabbit snake'\n",
    "]\n",
    "boxes = [Box(t) for t in input]"
   ]
  },
  {
   "cell_type": "code",
   "execution_count": 37,
   "metadata": {},
   "outputs": [
    {
     "data": {
      "text/plain": [
       "['82 01',\n",
       " 'first qpx',\n",
       " 'cat hamster',\n",
       " '12 25 6',\n",
       " 'first qpx',\n",
       " 'cat dog rabbit snake']"
      ]
     },
     "execution_count": 37,
     "metadata": {},
     "output_type": "execute_result"
    }
   ],
   "source": [
    "[t.version_text for t in boxes]"
   ]
  },
  {
   "cell_type": "code",
   "execution_count": null,
   "metadata": {},
   "outputs": [],
   "source": [
    "class Box:\n",
    "    def __init__(self, text):\n",
    "        self.text = text\n",
    "        codes = text.split(' ')\n",
    "        self.id = codes[0]\n",
    "        self.version = codes[1:]\n",
    "        self.version_text = ' '.join(codes[1:])\n",
    "        \n",
    "        try:\n",
    "            version_num = int(self.version[0])\n",
    "            self.generation = 1\n",
    "        except:\n",
    "            self.generation = 0\n",
    "\n",
    "def compare_boxes(a, b):\n",
    "    if a.generation < b.generation:\n",
    "        return -1\n",
    "    elif a.generation > b.generation:\n",
    "        return 1\n",
    "    else:\n",
    "        if a.version_text > b.version_text:\n",
    "            return 1\n",
    "        elif a.generation == 0 and a.version_text == b.version_text:\n",
    "            # tie in older generation \n",
    "            return 1 if a.id > b.id else 2\n",
    "        else:\n",
    "            return -1\n",
    "\n",
    "def orderedJunctionBoxes(numberOfBoxes, boxList):\n",
    "    sorted_list = sorted([Box(t) for t in boxList], cmp=compare_boxes)\n",
    "    return [t.text for t in sorted_list]"
   ]
  }
 ],
 "metadata": {
  "kernelspec": {
   "display_name": "Python 3",
   "language": "python",
   "name": "python3"
  },
  "language_info": {
   "codemirror_mode": {
    "name": "ipython",
    "version": 3
   },
   "file_extension": ".py",
   "mimetype": "text/x-python",
   "name": "python",
   "nbconvert_exporter": "python",
   "pygments_lexer": "ipython3",
   "version": "3.7.2"
  }
 },
 "nbformat": 4,
 "nbformat_minor": 2
}
