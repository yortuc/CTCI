{
 "cells": [
  {
   "cell_type": "markdown",
   "metadata": {},
   "source": [
    "# CS9: Problem-Solving for the CS Technical Interview"
   ]
  },
  {
   "cell_type": "markdown",
   "metadata": {},
   "source": [
    "---"
   ]
  },
  {
   "cell_type": "markdown",
   "metadata": {},
   "source": [
    "### 1. Anagrams"
   ]
  },
  {
   "cell_type": "markdown",
   "metadata": {},
   "source": [
    "Two strings are said to be anagrams of one another if you can turn the first string into\n",
    "the second by rearranging its letters. For example, `table` and `bleat` are anagrams, as\n",
    "are `tear` and `rate`. Your job is to write a function that takes in two strings as input and\n",
    "determines whether they're anagrams of one another."
   ]
  },
  {
   "cell_type": "code",
   "execution_count": 10,
   "metadata": {},
   "outputs": [],
   "source": [
    "# naive approach, check charecter freq and compare: O(N)\n",
    "def is_anagram(w1, w2):\n",
    "    if len(w1) != len(w2):\n",
    "        return False\n",
    "    \n",
    "    def char_freq(w):\n",
    "        ret = set()\n",
    "        for c in w:   \n",
    "            ret.add(c)\n",
    "        return ret\n",
    "    \n",
    "    w1_cf = char_freq(w1) # O(N)\n",
    "    w2_cf = char_freq(w2) # O(M)\n",
    "    \n",
    "    return len(w1_cf) == len(w2_cf)"
   ]
  },
  {
   "cell_type": "code",
   "execution_count": 22,
   "metadata": {},
   "outputs": [
    {
     "name": "stdout",
     "output_type": "stream",
     "text": [
      "True\n",
      "False\n",
      "True\n"
     ]
    }
   ],
   "source": [
    "print(is_anagram('rate', 'tear'))\n",
    "print(is_anagram('rate', 'teear'))\n",
    "print(is_anagram('zuzu', 'zuzu'))"
   ]
  },
  {
   "cell_type": "code",
   "execution_count": 23,
   "metadata": {},
   "outputs": [],
   "source": [
    "# sort and compare O(NlogN)\n",
    "def is_anagram2(w1, w2):\n",
    "    if len(w1) != len(w2):\n",
    "        return False\n",
    "    return sorted(w1) == sorted(w2)"
   ]
  },
  {
   "cell_type": "code",
   "execution_count": 24,
   "metadata": {},
   "outputs": [
    {
     "name": "stdout",
     "output_type": "stream",
     "text": [
      "True\n",
      "False\n"
     ]
    }
   ],
   "source": [
    "print(is_anagram2('tear','rate'))\n",
    "print(is_anagram('rate', 'teear'))"
   ]
  },
  {
   "cell_type": "markdown",
   "metadata": {},
   "source": [
    "### 2. The Two Sum Problem"
   ]
  },
  {
   "cell_type": "markdown",
   "metadata": {},
   "source": [
    "You are given an array of n integers and a number k. Determine whether there is a pair\n",
    "of elements in the array that sums to exactly k. For example, given the array [1, 3, 7] and\n",
    "k = 8, the answer is “yes,” but given k = 6 the answer is “no.”"
   ]
  },
  {
   "cell_type": "code",
   "execution_count": 39,
   "metadata": {},
   "outputs": [],
   "source": [
    "# each item, keep the track of which number requrired to make k, if you come accross this number, return True \n",
    "# O(N) solution\n",
    "def is_sum(arr, k):\n",
    "    history = set()     # [1,2,3,4,5]  8: 7\n",
    "    for n in arr:\n",
    "        if n in history:\n",
    "            return True\n",
    "        else:\n",
    "            history.add(k - n)\n",
    "    return False"
   ]
  },
  {
   "cell_type": "code",
   "execution_count": 43,
   "metadata": {},
   "outputs": [
    {
     "name": "stdout",
     "output_type": "stream",
     "text": [
      "True\n",
      "False\n",
      "True\n",
      "True\n"
     ]
    }
   ],
   "source": [
    "print(is_sum([1,2,3,4,5], 8))\n",
    "print(is_sum([1,2,3,4,5], 10))\n",
    "print(is_sum([-1, -2, 3], 1))\n",
    "print(is_sum([3,3], 6))"
   ]
  },
  {
   "cell_type": "code",
   "execution_count": 44,
   "metadata": {},
   "outputs": [],
   "source": [
    "# what if array is so long that does not fit into mem?\n",
    "# if array is already sorted, how can it be improved?"
   ]
  },
  {
   "cell_type": "code",
   "execution_count": 46,
   "metadata": {},
   "outputs": [],
   "source": [
    "# sort the array and use two finger search\n",
    "# sorting is O(NlogN) and two point search is O(N)\n",
    "def is_sum2(arr, k):\n",
    "    arr.sort() # O(NlogN)\n",
    "    i = 0\n",
    "    j = len(arr)-1\n",
    "    while j>i:\n",
    "        smm = arr[i] + arr[j]\n",
    "        if smm == k:\n",
    "            return True\n",
    "        elif smm < k:\n",
    "            i = i + 1\n",
    "        elif smm > k:\n",
    "            j = j - 1\n",
    "    return False"
   ]
  },
  {
   "cell_type": "code",
   "execution_count": 47,
   "metadata": {},
   "outputs": [
    {
     "name": "stdout",
     "output_type": "stream",
     "text": [
      "True\n",
      "False\n",
      "True\n",
      "True\n"
     ]
    }
   ],
   "source": [
    "print(is_sum([1,2,3,4,5], 8))\n",
    "print(is_sum([1,2,3,4,5], 10))\n",
    "print(is_sum([-1, -2, 3], 1))\n",
    "print(is_sum([3,3], 6))"
   ]
  },
  {
   "cell_type": "markdown",
   "metadata": {},
   "source": [
    "### 3. Linked List Shuffling"
   ]
  },
  {
   "cell_type": "code",
   "execution_count": 49,
   "metadata": {},
   "outputs": [],
   "source": [
    "#  1 2 3 4 5 6 7 8 9 10 \n",
    "# -->  1 2 3 4 5        6 7 8 9 10  \n",
    "# -->  6 1 7 2 8 3 9 4 10 5\n",
    "# Your job is to write a function that accepts as input a pointer to a linked list with an even number of elements, \n",
    "# then rearranges the elements in that list so that they're perfectly shuffled."
   ]
  },
  {
   "cell_type": "code",
   "execution_count": 79,
   "metadata": {},
   "outputs": [],
   "source": [
    "class Node:\n",
    "    def __init__(self, val, next=None):\n",
    "        self.val = val\n",
    "        self.next = next\n",
    "    def __str__(self):\n",
    "        return f'{self.val} >> {self.next}'"
   ]
  },
  {
   "cell_type": "code",
   "execution_count": 128,
   "metadata": {},
   "outputs": [],
   "source": [
    "# first approach:\n",
    "# go until the end of linkedlist, put indexed hashtable {0: LL1, 1: LL2 ...}\n",
    "# build the required LL again. Space O(N), Time: O(N)\n",
    "\n",
    "def p_shuffle(root):\n",
    "    nodes = []\n",
    "    cur = root\n",
    "    index = 0\n",
    "    while cur is not None:\n",
    "        nodes.append(cur)\n",
    "        cur = cur.next\n",
    "        \n",
    "    mid_index = len(nodes)//2\n",
    "    left = nodes[:mid_index]\n",
    "    right = nodes[mid_index:]\n",
    "    \n",
    "    head = Node(None)   # create a starting point, empty Node\n",
    "    cur = head \n",
    "    for i in range(mid_index):\n",
    "        cur.next = right[i]      # add one from right, one from left to starting point\n",
    "        cur.next.next = left[i]\n",
    "        cur = cur.next.next\n",
    "    cur.next = None\n",
    "    return head.next   # don't return empty start node"
   ]
  },
  {
   "cell_type": "code",
   "execution_count": 134,
   "metadata": {},
   "outputs": [
    {
     "name": "stdout",
     "output_type": "stream",
     "text": [
      "input :  1 >> 2 >> 3 >> 4 >> 5 >> 6 >> 7 >> 8 >> 9 >> 10 >> None\n",
      "output:  6 >> 1 >> 7 >> 2 >> 8 >> 3 >> 9 >> 4 >> 10 >> 5 >> None\n"
     ]
    }
   ],
   "source": [
    "r = Node(1, Node(2, Node(3, Node(4, Node(5, Node(6, Node(7, Node(8, Node(9, Node(10))))))))))\n",
    "print('input : ',r)\n",
    "print('output: ', p_shuffle(r))"
   ]
  },
  {
   "cell_type": "code",
   "execution_count": 138,
   "metadata": {},
   "outputs": [
    {
     "name": "stdout",
     "output_type": "stream",
     "text": [
      "None\n"
     ]
    }
   ],
   "source": [
    "print(p_shuffle(Node(None)))"
   ]
  },
  {
   "cell_type": "code",
   "execution_count": 192,
   "metadata": {},
   "outputs": [
    {
     "name": "stdout",
     "output_type": "stream",
     "text": [
      "input :  1 >> 2 >> 3 >> 4 >> 5 >> 6 >> 7 >> 8 >> 9 >> 10 >> None\n",
      "1 >> 2 >> 3 >> 4 >> 5 >> None\n",
      "6 >> 7 >> 8 >> 9 >> 10 >> None\n",
      "output:  None\n"
     ]
    }
   ],
   "source": [
    "r2 = Node(1, Node(2, Node(3, Node(4, Node(5, Node(6, Node(7, Node(8, Node(9, Node(10))))))))))\n",
    "print('input : ',r2)\n",
    "print('output: ', p_shuffle2(r2))"
   ]
  },
  {
   "cell_type": "markdown",
   "metadata": {},
   "source": [
    "### 4. Subarray Sums"
   ]
  },
  {
   "cell_type": "code",
   "execution_count": 194,
   "metadata": {},
   "outputs": [],
   "source": [
    "#  the array [1, 3, 7] has seven subarrays:\n",
    "#  [ ]    [1]   [3]   [7]   [1, 3]   [3, 7]   [1, 3, 7]\n",
    "# write a\n",
    "# function that takes as input an array and outputs the sum of all of its subarrays. \n",
    "# For example, given [1, 3, 7], you'd output 36, because\n",
    "# [ ] + [1] + [3] + [7] + [1, 3] + [3, 7] + [1, 3, 7] =>\n",
    "# 0 + 1 + 3 + 7 + 4 + 10 + 11 = 36"
   ]
  },
  {
   "cell_type": "code",
   "execution_count": 205,
   "metadata": {},
   "outputs": [],
   "source": [
    "# firs generate the sub-array list.\n",
    "# empty array is a sub-array\n",
    "# each element is a sub-array\n",
    "# each consequtive subsequence is sub-array, for 1: 1, 1-3, 1-3-7, 0->N, O(N2)\n",
    "\n",
    "def get_sub_arrays(arr):\n",
    "    ret = []\n",
    "    for i in range(len(arr)):\n",
    "        for j in range(i+1, len(arr)+1):\n",
    "            ret.append(arr[i:j])\n",
    "    return ret\n",
    "\n",
    "def sum_sumb_arrays(arr): # O(N2)\n",
    "    sub_arrays = get_sub_arrays(arr) # O(N2)\n",
    "    ret = 0\n",
    "    for sa in sub_arrays:    # O(N)\n",
    "        ret = ret + sum(sa)\n",
    "    return ret"
   ]
  },
  {
   "cell_type": "code",
   "execution_count": 206,
   "metadata": {},
   "outputs": [
    {
     "data": {
      "text/plain": [
       "36"
      ]
     },
     "execution_count": 206,
     "metadata": {},
     "output_type": "execute_result"
    }
   ],
   "source": [
    "sum_sumb_arrays([1,3,7])"
   ]
  },
  {
   "cell_type": "code",
   "execution_count": null,
   "metadata": {},
   "outputs": [],
   "source": []
  }
 ],
 "metadata": {
  "kernelspec": {
   "display_name": "Python 3",
   "language": "python",
   "name": "python3"
  },
  "language_info": {
   "codemirror_mode": {
    "name": "ipython",
    "version": 3
   },
   "file_extension": ".py",
   "mimetype": "text/x-python",
   "name": "python",
   "nbconvert_exporter": "python",
   "pygments_lexer": "ipython3",
   "version": "3.7.2"
  }
 },
 "nbformat": 4,
 "nbformat_minor": 2
}
