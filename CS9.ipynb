{
 "cells": [
  {
   "cell_type": "markdown",
   "metadata": {},
   "source": [
    "# CS9: Problem-Solving for the CS Technical Interview"
   ]
  },
  {
   "cell_type": "markdown",
   "metadata": {},
   "source": [
    "https://web.stanford.edu/class/cs9/\n",
    "\n",
    "---"
   ]
  },
  {
   "cell_type": "markdown",
   "metadata": {},
   "source": [
    "### 1. Anagrams"
   ]
  },
  {
   "cell_type": "markdown",
   "metadata": {},
   "source": [
    "Two strings are said to be anagrams of one another if you can turn the first string into\n",
    "the second by rearranging its letters. For example, `table` and `bleat` are anagrams, as\n",
    "are `tear` and `rate`. Your job is to write a function that takes in two strings as input and\n",
    "determines whether they're anagrams of one another."
   ]
  },
  {
   "cell_type": "code",
   "execution_count": 10,
   "metadata": {},
   "outputs": [],
   "source": [
    "# naive approach, check charecter freq and compare: O(N)\n",
    "def is_anagram(w1, w2):\n",
    "    if len(w1) != len(w2):\n",
    "        return False\n",
    "    \n",
    "    def char_freq(w):\n",
    "        ret = set()\n",
    "        for c in w:   \n",
    "            ret.add(c)\n",
    "        return ret\n",
    "    \n",
    "    w1_cf = char_freq(w1) # O(N)\n",
    "    w2_cf = char_freq(w2) # O(M)\n",
    "    \n",
    "    return len(w1_cf) == len(w2_cf)"
   ]
  },
  {
   "cell_type": "code",
   "execution_count": 22,
   "metadata": {},
   "outputs": [
    {
     "name": "stdout",
     "output_type": "stream",
     "text": [
      "True\n",
      "False\n",
      "True\n"
     ]
    }
   ],
   "source": [
    "print(is_anagram('rate', 'tear'))\n",
    "print(is_anagram('rate', 'teear'))\n",
    "print(is_anagram('zuzu', 'zuzu'))"
   ]
  },
  {
   "cell_type": "code",
   "execution_count": 23,
   "metadata": {},
   "outputs": [],
   "source": [
    "# sort and compare O(NlogN)\n",
    "def is_anagram2(w1, w2):\n",
    "    if len(w1) != len(w2):\n",
    "        return False\n",
    "    return sorted(w1) == sorted(w2)"
   ]
  },
  {
   "cell_type": "code",
   "execution_count": 24,
   "metadata": {},
   "outputs": [
    {
     "name": "stdout",
     "output_type": "stream",
     "text": [
      "True\n",
      "False\n"
     ]
    }
   ],
   "source": [
    "print(is_anagram2('tear','rate'))\n",
    "print(is_anagram('rate', 'teear'))"
   ]
  },
  {
   "cell_type": "markdown",
   "metadata": {},
   "source": [
    "### 2. The Two Sum Problem"
   ]
  },
  {
   "cell_type": "markdown",
   "metadata": {},
   "source": [
    "You are given an array of n integers and a number k. Determine whether there is a pair\n",
    "of elements in the array that sums to exactly k. For example, given the array [1, 3, 7] and\n",
    "k = 8, the answer is “yes,” but given k = 6 the answer is “no.”"
   ]
  },
  {
   "cell_type": "code",
   "execution_count": 39,
   "metadata": {},
   "outputs": [],
   "source": [
    "# each item, keep the track of which number requrired to make k, if you come accross this number, return True \n",
    "# O(N) solution\n",
    "def is_sum(arr, k):\n",
    "    history = set()     # [1,2,3,4,5]  8: 7\n",
    "    for n in arr:\n",
    "        if n in history:\n",
    "            return True\n",
    "        else:\n",
    "            history.add(k - n)\n",
    "    return False"
   ]
  },
  {
   "cell_type": "code",
   "execution_count": 43,
   "metadata": {},
   "outputs": [
    {
     "name": "stdout",
     "output_type": "stream",
     "text": [
      "True\n",
      "False\n",
      "True\n",
      "True\n"
     ]
    }
   ],
   "source": [
    "print(is_sum([1,2,3,4,5], 8))\n",
    "print(is_sum([1,2,3,4,5], 10))\n",
    "print(is_sum([-1, -2, 3], 1))\n",
    "print(is_sum([3,3], 6))"
   ]
  },
  {
   "cell_type": "code",
   "execution_count": 44,
   "metadata": {},
   "outputs": [],
   "source": [
    "# what if array is so long that does not fit into mem?\n",
    "# if array is already sorted, how can it be improved?"
   ]
  },
  {
   "cell_type": "code",
   "execution_count": 46,
   "metadata": {},
   "outputs": [],
   "source": [
    "# sort the array and use two finger search\n",
    "# sorting is O(NlogN) and two point search is O(N)\n",
    "def is_sum2(arr, k):\n",
    "    arr.sort() # O(NlogN)\n",
    "    i = 0\n",
    "    j = len(arr)-1\n",
    "    while j>i:\n",
    "        smm = arr[i] + arr[j]\n",
    "        if smm == k:\n",
    "            return True\n",
    "        elif smm < k:\n",
    "            i = i + 1\n",
    "        elif smm > k:\n",
    "            j = j - 1\n",
    "    return False"
   ]
  },
  {
   "cell_type": "code",
   "execution_count": 47,
   "metadata": {},
   "outputs": [
    {
     "name": "stdout",
     "output_type": "stream",
     "text": [
      "True\n",
      "False\n",
      "True\n",
      "True\n"
     ]
    }
   ],
   "source": [
    "print(is_sum([1,2,3,4,5], 8))\n",
    "print(is_sum([1,2,3,4,5], 10))\n",
    "print(is_sum([-1, -2, 3], 1))\n",
    "print(is_sum([3,3], 6))"
   ]
  },
  {
   "cell_type": "markdown",
   "metadata": {},
   "source": [
    "### 3. Linked List Shuffling"
   ]
  },
  {
   "cell_type": "code",
   "execution_count": 49,
   "metadata": {},
   "outputs": [],
   "source": [
    "#  1 2 3 4 5 6 7 8 9 10 \n",
    "# -->  1 2 3 4 5        6 7 8 9 10  \n",
    "# -->  6 1 7 2 8 3 9 4 10 5\n",
    "# Your job is to write a function that accepts as input a pointer to a linked list with an even number of elements, \n",
    "# then rearranges the elements in that list so that they're perfectly shuffled."
   ]
  },
  {
   "cell_type": "code",
   "execution_count": 79,
   "metadata": {},
   "outputs": [],
   "source": [
    "class Node:\n",
    "    def __init__(self, val, next=None):\n",
    "        self.val = val\n",
    "        self.next = next\n",
    "    def __str__(self):\n",
    "        return f'{self.val} >> {self.next}'"
   ]
  },
  {
   "cell_type": "code",
   "execution_count": 128,
   "metadata": {},
   "outputs": [],
   "source": [
    "# first approach:\n",
    "# go until the end of linkedlist, put indexed hashtable {0: LL1, 1: LL2 ...}\n",
    "# build the required LL again. Space O(N), Time: O(N)\n",
    "\n",
    "def p_shuffle(root):\n",
    "    nodes = []\n",
    "    cur = root\n",
    "    index = 0\n",
    "    while cur is not None:\n",
    "        nodes.append(cur)\n",
    "        cur = cur.next\n",
    "        \n",
    "    mid_index = len(nodes)//2\n",
    "    left = nodes[:mid_index]\n",
    "    right = nodes[mid_index:]\n",
    "    \n",
    "    head = Node(None)   # create a starting point, empty Node\n",
    "    cur = head \n",
    "    for i in range(mid_index):\n",
    "        cur.next = right[i]      # add one from right, one from left to starting point\n",
    "        cur.next.next = left[i]\n",
    "        cur = cur.next.next\n",
    "    cur.next = None\n",
    "    return head.next   # don't return empty start node"
   ]
  },
  {
   "cell_type": "code",
   "execution_count": 134,
   "metadata": {},
   "outputs": [
    {
     "name": "stdout",
     "output_type": "stream",
     "text": [
      "input :  1 >> 2 >> 3 >> 4 >> 5 >> 6 >> 7 >> 8 >> 9 >> 10 >> None\n",
      "output:  6 >> 1 >> 7 >> 2 >> 8 >> 3 >> 9 >> 4 >> 10 >> 5 >> None\n"
     ]
    }
   ],
   "source": [
    "r = Node(1, Node(2, Node(3, Node(4, Node(5, Node(6, Node(7, Node(8, Node(9, Node(10))))))))))\n",
    "print('input : ',r)\n",
    "print('output: ', p_shuffle(r))"
   ]
  },
  {
   "cell_type": "code",
   "execution_count": 138,
   "metadata": {},
   "outputs": [
    {
     "name": "stdout",
     "output_type": "stream",
     "text": [
      "None\n"
     ]
    }
   ],
   "source": [
    "print(p_shuffle(Node(None)))"
   ]
  },
  {
   "cell_type": "code",
   "execution_count": 232,
   "metadata": {},
   "outputs": [
    {
     "name": "stdout",
     "output_type": "stream",
     "text": [
      "input :  1 >> 2 >> 3 >> 4 >> 5 >> 6 >> 7 >> 8 >> 9 >> 10 >> None\n",
      "output:  6 >> 1 >> 7 >> 2 >> 8 >> 3 >> 9 >> 4 >> 10 >> 5 >> None\n"
     ]
    }
   ],
   "source": [
    "r2 = Node(1, Node(2, Node(3, Node(4, Node(5, Node(6, Node(7, Node(8, Node(9, Node(10))))))))))\n",
    "print('input : ',r2)\n",
    "print('output: ', p_shuffle(r2))"
   ]
  },
  {
   "cell_type": "code",
   "execution_count": 293,
   "metadata": {},
   "outputs": [],
   "source": [
    "# other approach, without using array.\n",
    "# Space O(1), Time O(N) \n",
    "\n",
    "def shuffle_ll(r1, r2):\n",
    "    tail = None\n",
    "    head = None\n",
    "    while r2 is not None:\n",
    "        if tail is None:\n",
    "            head = r2\n",
    "            tail = r2\n",
    "            r2 = r2.next\n",
    "            lr = 0\n",
    "            \n",
    "        if lr % 2 == 1:\n",
    "            tail.next = r2\n",
    "            r2 = r2.next\n",
    "        else:\n",
    "            tail.next = r1\n",
    "            r1 = r1.next\n",
    "        tail = tail.next\n",
    "        lr += 1\n",
    "    r1.next = None\n",
    "    tail.next = r1\n",
    "    return head\n",
    "\n",
    "def divide_ll(root):\n",
    "    slow = root\n",
    "    fast = root\n",
    "    while fast.next.next is not None:\n",
    "        fast = fast.next.next\n",
    "        slow = slow.next\n",
    "    return slow.next\n",
    "\n",
    "def p_shuffle3(root):\n",
    "    right = divide_ll(root)\n",
    "    return shuffle_ll(root, right)"
   ]
  },
  {
   "cell_type": "code",
   "execution_count": 294,
   "metadata": {},
   "outputs": [
    {
     "name": "stdout",
     "output_type": "stream",
     "text": [
      "input :  1 >> 2 >> 3 >> 4 >> 5 >> 6 >> 7 >> 8 >> 9 >> 10 >> None\n",
      "output:  6 >> 1 >> 7 >> 2 >> 8 >> 3 >> 9 >> 4 >> 10 >> 5 >> None\n"
     ]
    }
   ],
   "source": [
    "r3 = Node(1, Node(2, Node(3, Node(4, Node(5, Node(6, Node(7, Node(8, Node(9, Node(10))))))))))\n",
    "print('input : ', r3)\n",
    "print('output: ', p_shuffle3(r3))"
   ]
  },
  {
   "cell_type": "markdown",
   "metadata": {},
   "source": [
    "### 4. Subarray Sums"
   ]
  },
  {
   "cell_type": "code",
   "execution_count": 280,
   "metadata": {},
   "outputs": [],
   "source": [
    "#  the array [1, 3, 7] has seven subarrays:\n",
    "#  [ ]    [1]   [3]   [7]   [1, 3]   [3, 7]   [1, 3, 7]\n",
    "# write a\n",
    "# function that takes as input an array and outputs the sum of all of its subarrays. \n",
    "# For example, given [1, 3, 7], you'd output 36, because\n",
    "# [ ] + [1] + [3] + [7] + [1, 3] + [3, 7] + [1, 3, 7] =>\n",
    "# 0 + 1 + 3 + 7 + 4 + 10 + 11 = 36"
   ]
  },
  {
   "cell_type": "code",
   "execution_count": 281,
   "metadata": {},
   "outputs": [],
   "source": [
    "# firs generate the sub-array list.\n",
    "# empty array is a sub-array\n",
    "# each element is a sub-array\n",
    "# each consequtive subsequence is sub-array, for 1: 1, 1-3, 1-3-7, 0->N, O(N2)\n",
    "# then sum all sub-arrays in lopp which is O(N2) also\n",
    "\n",
    "def get_sub_arrays(arr):\n",
    "    ret = []\n",
    "    for i in range(len(arr)):\n",
    "        for j in range(i+1, len(arr)+1):\n",
    "            ret.append(arr[i:j])\n",
    "    return ret\n",
    "\n",
    "def sum_sumb_arrays(arr): # O(N2)\n",
    "    sub_arrays = get_sub_arrays(arr) # O(N2)\n",
    "    ret = 0\n",
    "    for sa in sub_arrays:    # O(N2)\n",
    "        for x in sa:\n",
    "            ret += x\n",
    "    return ret"
   ]
  },
  {
   "cell_type": "code",
   "execution_count": 282,
   "metadata": {},
   "outputs": [
    {
     "data": {
      "text/plain": [
       "36"
      ]
     },
     "execution_count": 282,
     "metadata": {},
     "output_type": "execute_result"
    }
   ],
   "source": [
    "sum_sumb_arrays([1,3,7])"
   ]
  },
  {
   "cell_type": "code",
   "execution_count": 283,
   "metadata": {},
   "outputs": [],
   "source": [
    "# second approach is taking a look at the count of each number\n",
    "# Time O(N), Space O(1)\n",
    "\n",
    "# [1, 2, 3, 4]                         \n",
    "# [1] [1, 2] [1, 2, 3] [1, 2, 3, 4]    arr[0]*len-0, arr[1]*len-1, arr[2]*len-2, arr[3]*len-3\n",
    "# [2] [2, 3] [2, 3, 4]                 arr[1]*len-1, arr[2]*len-2, arr[3]*len-3\n",
    "# [3] [3, 4]                           arr[2]*len-2, arr[3]*len-3\n",
    "# [4]                                  arr[3]*len-3\n",
    "# 1: 5, 2:7, 3:7, 4: 5\n",
    "\n",
    "# i \n",
    "# 3: arr[i] * (len-i) * (i+1)\n",
    "# 2: (arr[i]*2) * (i+1)   + arr[i]\n",
    "# 1: (arr[i]*3) * (i+1)   + arr[i]\n",
    "# 0: (arr[i]*4) * (i+1)   + arr[i]\n",
    "\n",
    "def sum_sub_array2(arr):\n",
    "    ret = 0\n",
    "    lar = len(arr)\n",
    "    for i in range(lar):\n",
    "        ret += arr[i] * (i+1) * (lar-i)\n",
    "    return ret"
   ]
  },
  {
   "cell_type": "code",
   "execution_count": 284,
   "metadata": {},
   "outputs": [
    {
     "data": {
      "text/plain": [
       "36"
      ]
     },
     "execution_count": 284,
     "metadata": {},
     "output_type": "execute_result"
    }
   ],
   "source": [
    "sum_sub_array2([1,3,7])"
   ]
  },
  {
   "cell_type": "markdown",
   "metadata": {},
   "source": [
    "### 5. Balanced parentheses"
   ]
  },
  {
   "cell_type": "markdown",
   "metadata": {},
   "source": [
    "Generate all strings of n pairs of balanced parentheses. \n",
    "\n",
    "For example, if `n = 3`, you'd generate the strings `((())), (()()), (())(), ()(()), ()()()`."
   ]
  },
  {
   "cell_type": "code",
   "execution_count": 301,
   "metadata": {},
   "outputs": [],
   "source": [
    "# bottom-up approach, brute-force recursive. \n",
    "# Time ? Space O(N) ? -> set usage?\n",
    "# f1 = ()\n",
    "# f2 = ()(), (())\n",
    "\n",
    "def b_parans(n):\n",
    "    if n == 1:\n",
    "        return ['()']\n",
    "    if n == 2:\n",
    "        return ['()()', '(())']\n",
    "    \n",
    "    prev = b_parans(n-1)\n",
    "    ret = set()\n",
    "    for p in prev:\n",
    "        ret.add(f'({p})')\n",
    "        for t in range(len(p)):\n",
    "            ret.add(p[:t] + '()' + p[t:])\n",
    "    return ret"
   ]
  },
  {
   "cell_type": "code",
   "execution_count": 302,
   "metadata": {},
   "outputs": [
    {
     "data": {
      "text/plain": [
       "{'((()))', '(()())', '(())()', '()(())', '()()()'}"
      ]
     },
     "execution_count": 302,
     "metadata": {},
     "output_type": "execute_result"
    }
   ],
   "source": [
    "b_parans(3)"
   ]
  },
  {
   "cell_type": "markdown",
   "metadata": {},
   "source": [
    "### 6. Highest cost path in pyramid"
   ]
  },
  {
   "cell_type": "code",
   "execution_count": 375,
   "metadata": {},
   "outputs": [],
   "source": [
    "#0             137\n",
    "#1          42    -15\n",
    "#2       -4    13    45\n",
    "#3 .  21    14    -92    33\n",
    "# naive approach: start 137, go left, go right recursively\n",
    "# how are the numbers given? tree structure, array?\n",
    "# arr = [[137], [42, -15], [-4, 13, 45] ...]\n",
    "# smm = arr[level][j] + arr[level+1][j] + arr[level+1][j+1]\n",
    "# if j == len(arr)-1 stop.\n",
    "# \n",
    "\n",
    "def get_paths(arr, h, j, i):\n",
    "    if len(arr) == len(h):\n",
    "        paths.append(h)\n",
    "        return\n",
    "    \n",
    "    for i in range(len(arr[level])):\n",
    "        get_paths(arr, h+[arr[level][i]], level+1)\n",
    "        \n",
    "paths = []\n",
    "\n",
    "def get_sum(arr):\n",
    "    global paths\n",
    "    paths = []\n",
    "    maks_sum = 0\n",
    "    get_paths(arr)\n",
    "    maks_path = None\n",
    "    for p in paths:\n",
    "        smm = sum(p)\n",
    "        if smm > maks_sum:\n",
    "            maks_sum = smm\n",
    "            maks_path = p\n",
    "    return maks_path, maks_sum"
   ]
  },
  {
   "cell_type": "code",
   "execution_count": 376,
   "metadata": {},
   "outputs": [
    {
     "data": {
      "text/plain": [
       "[[1, 2, 4], [1, 2, 5], [1, 2, 6], [1, 3, 4], [1, 3, 5], [1, 3, 6]]"
      ]
     },
     "execution_count": 376,
     "metadata": {},
     "output_type": "execute_result"
    }
   ],
   "source": [
    "#      1\n",
    "#    2 . 3\n",
    "#  4 .  5   6\n",
    "get_paths([[1], [2, 3], [4,5,6]])\n",
    "paths"
   ]
  },
  {
   "cell_type": "code",
   "execution_count": 370,
   "metadata": {},
   "outputs": [
    {
     "data": {
      "text/plain": [
       "([137, 42, 45, 33], 257)"
      ]
     },
     "execution_count": 370,
     "metadata": {},
     "output_type": "execute_result"
    }
   ],
   "source": [
    "get_sum([[137], [42, -15], [-4, 13, 45], [21, 14, -92, 33]])"
   ]
  },
  {
   "cell_type": "code",
   "execution_count": 316,
   "metadata": {},
   "outputs": [
    {
     "data": {
      "text/plain": [
       "15"
      ]
     },
     "execution_count": 316,
     "metadata": {},
     "output_type": "execute_result"
    }
   ],
   "source": []
  },
  {
   "cell_type": "code",
   "execution_count": null,
   "metadata": {},
   "outputs": [],
   "source": []
  }
 ],
 "metadata": {
  "kernelspec": {
   "display_name": "Python 3",
   "language": "python",
   "name": "python3"
  },
  "language_info": {
   "codemirror_mode": {
    "name": "ipython",
    "version": 3
   },
   "file_extension": ".py",
   "mimetype": "text/x-python",
   "name": "python",
   "nbconvert_exporter": "python",
   "pygments_lexer": "ipython3",
   "version": "3.7.2"
  }
 },
 "nbformat": 4,
 "nbformat_minor": 2
}
