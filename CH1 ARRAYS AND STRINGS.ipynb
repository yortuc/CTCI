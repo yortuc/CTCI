{
 "cells": [
  {
   "cell_type": "markdown",
   "metadata": {},
   "source": [
    "# CH1: ARRAYS AND STRINGS"
   ]
  },
  {
   "cell_type": "markdown",
   "metadata": {},
   "source": [
    "\n",
    "Using a BBST instead of LL for hashtable implementation\n",
    "https://softwareengineering.stackexchange.com/questions/280762/is-it-possible-to-speed-up-a-hash-table-by-using-binary-search-trees-for-separat\n"
   ]
  },
  {
   "cell_type": "code",
   "execution_count": 5,
   "metadata": {},
   "outputs": [],
   "source": [
    "family = {\n",
    "    'evren': 34,\n",
    "    'ezgi': 28,\n",
    "    'uzay': 1.7\n",
    "}"
   ]
  },
  {
   "cell_type": "code",
   "execution_count": 8,
   "metadata": {},
   "outputs": [],
   "source": [
    "family['nevzat'] = 67"
   ]
  },
  {
   "cell_type": "code",
   "execution_count": 12,
   "metadata": {},
   "outputs": [
    {
     "data": {
      "text/plain": [
       "['evren', 'ezgi', 'uzay', 'nevzat']"
      ]
     },
     "execution_count": 12,
     "metadata": {},
     "output_type": "execute_result"
    }
   ],
   "source": [
    "list(family.keys())"
   ]
  },
  {
   "cell_type": "markdown",
   "metadata": {},
   "source": [
    "## Hashtable Implementation"
   ]
  },
  {
   "cell_type": "code",
   "execution_count": 68,
   "metadata": {},
   "outputs": [],
   "source": [
    "class HashTable():\n",
    "    def __init__(self, size):\n",
    "        self.size = size\n",
    "        self.arr = [None] * self.size\n",
    "    \n",
    "    def __hash_function(self, key):\n",
    "        return key % self.size\n",
    "    \n",
    "    def set(self, key, value):\n",
    "        hash_value = self.__hash_function(key)\n",
    "        if self.arr[hash_value] is not None:\n",
    "            self.arr[hash_value].append({ 'key': key, 'value': value })\n",
    "        else:\n",
    "            self.arr[hash_value] = [{ 'key':key, 'value': value}]\n",
    "            \n",
    "    def get(self, key):\n",
    "        hash_value = self.__hash_function(key)\n",
    "        find_key = [x for x in self.arr[hash_value] if x['key'] == key]\n",
    "        return find_key[0]['value'] if len(find_key) == 1 else None\n",
    "        \n",
    "    def print(self):\n",
    "        for item in self.arr:\n",
    "            print(item)\n"
   ]
  },
  {
   "cell_type": "code",
   "execution_count": 69,
   "metadata": {},
   "outputs": [],
   "source": [
    "ht = HashTable(10)"
   ]
  },
  {
   "cell_type": "code",
   "execution_count": 70,
   "metadata": {},
   "outputs": [],
   "source": [
    "ht.set(34, 'evren')\n",
    "ht.set(28, 'ezgi')\n",
    "ht.set(2, 'uzay')\n",
    "ht.set(66, 'muazzez')\n",
    "ht.set(4, 'leblebi') # collision"
   ]
  },
  {
   "cell_type": "code",
   "execution_count": 71,
   "metadata": {},
   "outputs": [
    {
     "name": "stdout",
     "output_type": "stream",
     "text": [
      "None\n",
      "None\n",
      "[{'key': 2, 'value': 'uzay'}]\n",
      "None\n",
      "[{'key': 34, 'value': 'evren'}, {'key': 4, 'value': 'leblebi'}]\n",
      "None\n",
      "[{'key': 66, 'value': 'muazzez'}]\n",
      "None\n",
      "[{'key': 28, 'value': 'ezgi'}]\n",
      "None\n"
     ]
    }
   ],
   "source": [
    "ht.print()"
   ]
  },
  {
   "cell_type": "code",
   "execution_count": 72,
   "metadata": {},
   "outputs": [
    {
     "data": {
      "text/plain": [
       "'evren'"
      ]
     },
     "execution_count": 72,
     "metadata": {},
     "output_type": "execute_result"
    }
   ],
   "source": [
    "ht.get(34)"
   ]
  },
  {
   "cell_type": "markdown",
   "metadata": {},
   "source": [
    "## ArrayList Implementation"
   ]
  },
  {
   "cell_type": "code",
   "execution_count": 83,
   "metadata": {},
   "outputs": [],
   "source": [
    "class ArrayList():\n",
    "    def __init__(self):\n",
    "        self.size = 3\n",
    "        self.arr = [None] * self.size\n",
    "        self.current_position = 0\n",
    "    \n",
    "    def add(self, item):\n",
    "        self.arr[self.current_position] = item\n",
    "        self.current_position = self.current_position + 1\n",
    "        \n",
    "        if self.current_position == self.size:\n",
    "            self.arr = self.arr[:] + [None] * self.size\n",
    "            self.size = self.size * 2\n",
    "    \n",
    "    def print(self):\n",
    "        print('arr: {} \\nsize: {} \\ncur pos: {}'.format(self.arr, self.size, self.current_position))"
   ]
  },
  {
   "cell_type": "code",
   "execution_count": 84,
   "metadata": {},
   "outputs": [
    {
     "name": "stdout",
     "output_type": "stream",
     "text": [
      "arr: ['evren', 'ezgi', None] \n",
      "size: 3 \n",
      "cur pos: 2\n"
     ]
    }
   ],
   "source": [
    "al = ArrayList()\n",
    "al.add('evren')\n",
    "al.add('ezgi')\n",
    "al.print()"
   ]
  },
  {
   "cell_type": "code",
   "execution_count": 85,
   "metadata": {},
   "outputs": [
    {
     "name": "stdout",
     "output_type": "stream",
     "text": [
      "arr: ['evren', 'ezgi', 'uzay', None, None, None] \n",
      "size: 6 \n",
      "cur pos: 3\n"
     ]
    }
   ],
   "source": [
    "# double the size O(N)\n",
    "al.add('uzay')\n",
    "al.print()"
   ]
  },
  {
   "cell_type": "markdown",
   "metadata": {},
   "source": [
    "## StringBuilder Implementation"
   ]
  },
  {
   "cell_type": "code",
   "execution_count": 90,
   "metadata": {},
   "outputs": [],
   "source": [
    "# TODO"
   ]
  },
  {
   "cell_type": "markdown",
   "metadata": {},
   "source": [
    "## Questions"
   ]
  },
  {
   "cell_type": "markdown",
   "metadata": {},
   "source": [
    "#### 1. Is Unique: Implement an algorithm to determine if a string has all unique characters. \n",
    "What if you cannot use additional data structures?    "
   ]
  },
  {
   "cell_type": "code",
   "execution_count": 94,
   "metadata": {},
   "outputs": [],
   "source": [
    "# first idea: hashtable can be used O(N)\n",
    "\n",
    "def has_unique_chars(word):\n",
    "    ht = {}\n",
    "    for c in word:\n",
    "        if c in ht:\n",
    "            return False\n",
    "        else:\n",
    "            ht[c] = True\n",
    "    return True"
   ]
  },
  {
   "cell_type": "code",
   "execution_count": 97,
   "metadata": {},
   "outputs": [
    {
     "data": {
      "text/plain": [
       "(False, False, True)"
      ]
     },
     "execution_count": 97,
     "metadata": {},
     "output_type": "execute_result"
    }
   ],
   "source": [
    "has_unique_chars('44'), has_unique_chars('117'), has_unique_chars('132') "
   ]
  },
  {
   "cell_type": "code",
   "execution_count": 100,
   "metadata": {},
   "outputs": [],
   "source": [
    "# what if we can't use additional data structures (like hash table)?\n",
    "# using replace? \n",
    "#    if we replace any character with two characters, \n",
    "#    total word length should not increase more than 1 if all chars are unique\n",
    "\n",
    "def has_unique_chars(word):\n",
    "    for c in word:\n",
    "        if len(word.replace(c, 'XX')) > len(word)+1:\n",
    "            return False\n",
    "    return True"
   ]
  },
  {
   "cell_type": "code",
   "execution_count": null,
   "metadata": {},
   "outputs": [],
   "source": [
    "# sort the string and check linearly O(nlogn)"
   ]
  },
  {
   "cell_type": "code",
   "execution_count": 101,
   "metadata": {},
   "outputs": [
    {
     "data": {
      "text/plain": [
       "(False, False, True)"
      ]
     },
     "execution_count": 101,
     "metadata": {},
     "output_type": "execute_result"
    }
   ],
   "source": [
    "has_unique_chars('44'), has_unique_chars('117'), has_unique_chars('132') "
   ]
  },
  {
   "cell_type": "markdown",
   "metadata": {},
   "source": [
    "#### 2. Check Permutation: Given two strings,write a method to decide if one is a permutation of the other."
   ]
  },
  {
   "cell_type": "code",
   "execution_count": 129,
   "metadata": {},
   "outputs": [],
   "source": [
    "# we can create arrays with characters of string, sort them, compare them\n",
    "# there is sort, O(nlogn) overall complexity for is_perm\n",
    "\n",
    "def is_perm(str1, str2):\n",
    "    arr1 = list(str1)\n",
    "    arr2 = list(str2)\n",
    "    \n",
    "    arr1.sort()\n",
    "    arr2.sort()\n",
    "    \n",
    "    if arr1 == arr2:\n",
    "        return True\n",
    "    else:\n",
    "        return False"
   ]
  },
  {
   "cell_type": "code",
   "execution_count": 130,
   "metadata": {},
   "outputs": [
    {
     "data": {
      "text/plain": [
       "(False, True)"
      ]
     },
     "execution_count": 130,
     "metadata": {},
     "output_type": "execute_result"
    }
   ],
   "source": [
    "is_perm('123', '423'), is_perm('123', '312'), "
   ]
  },
  {
   "cell_type": "markdown",
   "metadata": {},
   "source": [
    "#### 3. URLify: Write a method to replace all spaces in a string with '%20'. \n",
    "You may assume that the string has sufficient space at the end to hold the additional characters,\n",
    "and that you are given the \"true\" length of the string. \n",
    "\n",
    "(Note: If implementing in Java,please use a character array so that you can perform this operation in place.)\n",
    "\n",
    "EXAMPLE\n",
    "Input: \"Mr John Smith \", 13 \n",
    "Output: \"Mr%20John%20Smith\" "
   ]
  },
  {
   "cell_type": "code",
   "execution_count": 164,
   "metadata": {},
   "outputs": [],
   "source": [
    "def urlify(string, length):\n",
    "    arr = list(string)\n",
    "    \n",
    "    for i in range(length):\n",
    "        if arr[i] == ' ':\n",
    "            # shift rest to right\n",
    "            arr = arr[0:i] + list('%20') + arr[i:length-3]\n",
    "    \n",
    "    return ''.join(arr)"
   ]
  },
  {
   "cell_type": "code",
   "execution_count": 165,
   "metadata": {},
   "outputs": [
    {
     "data": {
      "text/plain": [
       "'Mr%20%20%20%20'"
      ]
     },
     "execution_count": 165,
     "metadata": {},
     "output_type": "execute_result"
    }
   ],
   "source": [
    "urlify('Mr John Smith       ', 13)"
   ]
  },
  {
   "cell_type": "markdown",
   "metadata": {},
   "source": [
    "#### 4. Palindrome Permutation: Given a string, write a function to check if it is a permutation of a palin­ drome. \n",
    "A palindrome is a word or phrase that is the same forwards and backwards. \n",
    "A permutation is a rearrangement of letters. The palindrome does not need to be limited to just dictionary words.\n",
    "\n",
    "EXAMPLE\n",
    "Input: Tact Coa\n",
    "Output: True (permutations: \"taco cat\", \"atco eta\", etc.)"
   ]
  },
  {
   "cell_type": "code",
   "execution_count": 41,
   "metadata": {},
   "outputs": [],
   "source": [
    "# first idea is to use dictionary and store freq of chars\n",
    "# number of every char should be power of 2\n",
    "# if number is 1, there can be only one \n",
    "# drop spaces\n",
    "# total time compl O(N)\n",
    "# total space compl O(N)\n",
    "\n",
    "def is_palindrome(word):\n",
    "    dictinary = {}\n",
    "    for c in word:         # O(N)\n",
    "        if c == ' ':\n",
    "            continue\n",
    "            \n",
    "        if c in dictinary:\n",
    "            dictinary[c] = dictinary[c] + 1\n",
    "        else:\n",
    "            dictinary[c] = 1\n",
    "        \n",
    "    chars_one_occurence = [c for c in dictinary if dictinary[c] == 1] # O(N)\n",
    "    \n",
    "    if len(chars_one_occurence) > 1:\n",
    "        return False\n",
    "\n",
    "    return True"
   ]
  },
  {
   "cell_type": "code",
   "execution_count": 42,
   "metadata": {},
   "outputs": [
    {
     "data": {
      "text/plain": [
       "True"
      ]
     },
     "execution_count": 42,
     "metadata": {},
     "output_type": "execute_result"
    }
   ],
   "source": [
    "is_palindrome('tact coa')"
   ]
  },
  {
   "cell_type": "code",
   "execution_count": 43,
   "metadata": {},
   "outputs": [
    {
     "data": {
      "text/plain": [
       "(False, True, True)"
      ]
     },
     "execution_count": 43,
     "metadata": {},
     "output_type": "execute_result"
    }
   ],
   "source": [
    "is_palindrome('addo'), is_palindrome('addax') , is_palindrome('ey edip adanada pide ye')"
   ]
  },
  {
   "cell_type": "markdown",
   "metadata": {},
   "source": [
    "#### 5. One Away: There are three types of edits that can be performed on strings:\n",
    "insert a character, remove a character, or replace a character. Given two strings, \n",
    "write a function to check if they are one edit (or zero edits) away."
   ]
  },
  {
   "cell_type": "code",
   "execution_count": 53,
   "metadata": {},
   "outputs": [],
   "source": [
    "# first idea is to create cursors for both strings. and compare one by one. if one string is longer then \n",
    "# other (max 1 char), in case of unmatch, increase only this index. and continue. \n",
    "# in case of any other unmatch, return False.\n",
    "# overall time compl O(N)\n",
    "\n",
    "def is_one_edit(str1, str2):\n",
    "    len_dif = len(str1)-len(str2)\n",
    "    \n",
    "    if abs(len_dif) > 1: \n",
    "        return False\n",
    "    \n",
    "    if len_dif == 0:\n",
    "        # there should be olny one different character\n",
    "        # comparison O(N)\n",
    "        unmatch = False\n",
    "        for i in range(len(str1)):\n",
    "            if str1[i] != str2[i]:\n",
    "                if unmatch == True:\n",
    "                    return False\n",
    "                else:\n",
    "                    unmatch = True\n",
    "        return True\n",
    "    else:\n",
    "        i = 0\n",
    "        j = 0\n",
    "        \n",
    "        unmatch = False\n",
    "        while(i<len(str1) and j<len(str2)): # O(N)\n",
    "            if str1[i] != str2[j]:\n",
    "                if unmatch == True:\n",
    "                    return False\n",
    "                else:\n",
    "                    unmatch = True\n",
    "                    # increase index of longer one\n",
    "                    if len_dif > 0:\n",
    "                        i = i + 1\n",
    "                    else:\n",
    "                        j = j + 1\n",
    "            i = i + 1\n",
    "            j = j + 1\n",
    "        return True"
   ]
  },
  {
   "cell_type": "code",
   "execution_count": 57,
   "metadata": {},
   "outputs": [
    {
     "data": {
      "text/plain": [
       "(True, True, False)"
      ]
     },
     "execution_count": 57,
     "metadata": {},
     "output_type": "execute_result"
    }
   ],
   "source": [
    "is_one_edit('pale', 'ple'), is_one_edit('pla', 'ple'), is_one_edit('pale', 'bake')"
   ]
  },
  {
   "cell_type": "markdown",
   "metadata": {},
   "source": [
    "#### 6. String Compression: Implement a method to perform basic string compression using the counts of repeated characters. For example, the string aabcccccaaa would become a2blc5a3. If the \"compressed\" string would not become smaller than the original string, your method should return\n",
    "the original string. You can assume the string has only uppercase and lowercase letters (a - z)."
   ]
  },
  {
   "cell_type": "code",
   "execution_count": 67,
   "metadata": {},
   "outputs": [],
   "source": [
    "def str_comp(string):\n",
    "    last_char = string[0\n",
    "                      ]\n",
    "    number = 0\n",
    "    cur_char = None\n",
    "    ret_str = ''\n",
    "    \n",
    "    for i in range(1, len(string)): \n",
    "        cur_char = string[i]\n",
    "        if last_char != cur_char:\n",
    "            # !!!! string concat : O(N2)\n",
    "            # recommended way is to use StringBuilder \n",
    "            ret_str = ret_str + last_char + str(number)   \n",
    "            number = 1\n",
    "            last_char = cur_char\n",
    "        else:\n",
    "            number = number + 1\n",
    "    \n",
    "    ret_str = ret_str + last_char + str(number)\n",
    "    \n",
    "    return ret_str if len(ret_str) < len(string) else string"
   ]
  },
  {
   "cell_type": "code",
   "execution_count": 68,
   "metadata": {},
   "outputs": [
    {
     "data": {
      "text/plain": [
       "'a2b1c5a3'"
      ]
     },
     "execution_count": 68,
     "metadata": {},
     "output_type": "execute_result"
    }
   ],
   "source": [
    "str_comp('aaabcccccaaa')"
   ]
  },
  {
   "cell_type": "markdown",
   "metadata": {},
   "source": [
    "#### 7. Rotate Matrix: Given an image represented by an NxN matrix, where each pixel in the image is 4 bytes,\n",
    "write a method to rotate the image by 90 degrees. Can you do this in place?"
   ]
  },
  {
   "cell_type": "code",
   "execution_count": 132,
   "metadata": {},
   "outputs": [],
   "source": [
    "# the pattern I came up with is \n",
    "# i, j -> n-j-1, i\n",
    "# O(N2)\n",
    "\n",
    "def rotate(pic):\n",
    "    n = len(pic)\n",
    "    ret = []\n",
    "    \n",
    "    for i in range(n): # rows\n",
    "        ret.append([None] * n)\n",
    "        for j in range(n):\n",
    "            ret[i][j] = pic[n-j-1][i]\n",
    "    \n",
    "    return ret"
   ]
  },
  {
   "cell_type": "code",
   "execution_count": 134,
   "metadata": {},
   "outputs": [
    {
     "data": {
      "text/plain": [
       "[[3, 1], [4, 2]]"
      ]
     },
     "execution_count": 134,
     "metadata": {},
     "output_type": "execute_result"
    }
   ],
   "source": [
    "rotate([[1,2], \n",
    "        [3,4]])"
   ]
  },
  {
   "cell_type": "code",
   "execution_count": 135,
   "metadata": {},
   "outputs": [
    {
     "data": {
      "text/plain": [
       "[[7, 4, 1], [8, 5, 2], [9, 6, 3]]"
      ]
     },
     "execution_count": 135,
     "metadata": {},
     "output_type": "execute_result"
    }
   ],
   "source": [
    "rotate([[1,2,3], \n",
    "        [4,5,6],\n",
    "        [7,8,9]])"
   ]
  },
  {
   "cell_type": "code",
   "execution_count": 155,
   "metadata": {},
   "outputs": [],
   "source": [
    "# in-place?\n",
    "# rotate rings N elements => 90deg\n",
    "# \n",
    "# ring count:\n",
    "#     ring_count = math.floor(n/2)\n",
    "# \n",
    "# ring rotate:\n",
    "#    if i=0 \n",
    "#       j < n  => i = i + 1 -> swap_horizontal\n",
    "#       j == n => j = j +1  -> swap_vertical\n",
    "#    if i=n\n",
    "#       j > 0  => i = i - 1 -> swap_horizontal\n",
    "#       j == 0 => j = j - 1 -> swap_vertical\n",
    "# \n",
    "\n",
    "def swap_horizontal(arr, row_index, col_start, col_end, increment):\n",
    "    for i in range(col_end, col_start, -increment):\n",
    "        print(i)\n",
    "#         tmp = arr[row_index][i + increment]\n",
    "#         arr[row_index][i + increment] = arr[row_index][i]\n",
    "#         arr[row_index][i] = tmp\n",
    "    \n",
    "    return arr\n",
    "\n",
    "def rotate_inplace(pic):\n",
    "    n = len(pic)\n",
    "    "
   ]
  },
  {
   "cell_type": "code",
   "execution_count": 156,
   "metadata": {},
   "outputs": [],
   "source": [
    "arr = [[1,2,3], \n",
    "       [4,5,6], \n",
    "       [7,8,9]]\n"
   ]
  },
  {
   "cell_type": "code",
   "execution_count": 157,
   "metadata": {},
   "outputs": [
    {
     "name": "stdout",
     "output_type": "stream",
     "text": [
      "2\n",
      "1\n"
     ]
    },
    {
     "data": {
      "text/plain": [
       "[[1, 2, 3], [4, 5, 6], [7, 8, 9]]"
      ]
     },
     "execution_count": 157,
     "metadata": {},
     "output_type": "execute_result"
    }
   ],
   "source": [
    "swap_horizontal(arr, 0, 0, 2, 1)"
   ]
  },
  {
   "cell_type": "markdown",
   "metadata": {},
   "source": [
    "8. #### Zero Matrix: Write an algorithm such that if an element in an MxN matrix is 0, \n",
    "its entire row and column are set to 0.\n"
   ]
  },
  {
   "cell_type": "code",
   "execution_count": 229,
   "metadata": {},
   "outputs": [],
   "source": [
    "# first naive implementation is, scan every item in matrix, if zero found\n",
    "#  save the location (i,j) in an array\n",
    "#  after finding all zeros, apply required changes\n",
    "#  O(N2)\n",
    "\n",
    "def set_zero(arr):\n",
    "    m = len(arr[0])\n",
    "    n = len(arr)\n",
    "    \n",
    "    zeros = []\n",
    "    \n",
    "    # find the locations of zeros\n",
    "    # if we set rows and cols zero here, \n",
    "    # it will interfere with finding actual zeros in the matrix\n",
    "    for j in range(n):\n",
    "        for i in range(m):\n",
    "            if arr[j][i] == 0:\n",
    "                zeros.append((j, i))\n",
    "    \n",
    "    # do the processing one by one      \n",
    "    for z in zeros:\n",
    "        arr[z[0]] = [0] * m\n",
    "        for t in range(n):\n",
    "            arr[t][z[1]] = 0\n",
    "\n",
    "    return arr"
   ]
  },
  {
   "cell_type": "code",
   "execution_count": 230,
   "metadata": {},
   "outputs": [
    {
     "data": {
      "text/plain": [
       "[[1, 0, 3], [0, 0, 0], [6, 0, 8]]"
      ]
     },
     "execution_count": 230,
     "metadata": {},
     "output_type": "execute_result"
    }
   ],
   "source": [
    "set_zero([[1,2,3], \n",
    "          [4,0,5],\n",
    "          [6,7,8]])"
   ]
  },
  {
   "cell_type": "markdown",
   "metadata": {},
   "source": [
    "#### 9. String Rotation:Assumeyou have a method isSubstringwhich checks \n",
    "if one word is a substring of another. Given two strings,\n",
    "sl and s2, write code to check if s2 is a rotation of sl using only\n",
    "one call to isSubstring (e.g.,\"waterbottle\" is a rotation of\"erbottlewat\").\n"
   ]
  },
  {
   "cell_type": "code",
   "execution_count": 248,
   "metadata": {},
   "outputs": [],
   "source": [
    "# sort two strings and check if one is a substring of another\n",
    "# O(NLogN) sorting\n",
    "# in comparison??\n",
    "\n",
    "def is_substring(s1, s2):\n",
    "    return s1 in s2\n",
    "\n",
    "def is_roteted(s1, s2):\n",
    "    arr1 = list(s1)\n",
    "    arr2 = list(s2)\n",
    "    \n",
    "    arr1.sort()\n",
    "    arr2.sort()\n",
    "    \n",
    "    return is_substring(''.join(arr1), ''.join(arr2))"
   ]
  },
  {
   "cell_type": "code",
   "execution_count": 249,
   "metadata": {},
   "outputs": [
    {
     "data": {
      "text/plain": [
       "True"
      ]
     },
     "execution_count": 249,
     "metadata": {},
     "output_type": "execute_result"
    }
   ],
   "source": [
    "is_roteted('waterbottle', 'erbottlewat')"
   ]
  },
  {
   "cell_type": "code",
   "execution_count": 250,
   "metadata": {},
   "outputs": [
    {
     "data": {
      "text/plain": [
       "True"
      ]
     },
     "execution_count": 250,
     "metadata": {},
     "output_type": "execute_result"
    }
   ],
   "source": [
    "is_roteted('evrenezgi', 'zgievrene')"
   ]
  },
  {
   "cell_type": "code",
   "execution_count": 255,
   "metadata": {},
   "outputs": [],
   "source": [
    "def searchMatrix(matrix, target):\n",
    "    \"\"\"\n",
    "    :type matrix: List[List[int]]\n",
    "    :type target: int\n",
    "    :rtype: bool\n",
    "    \"\"\"\n",
    "    if len(matrix) == 0:\n",
    "        return False\n",
    "\n",
    "    for row in matrix: # O(N)\n",
    "        if row[-1] == target:\n",
    "            return True\n",
    "        elif target > row[0] and target < row[-1]:\n",
    "            if target in row:\n",
    "                return True\n",
    "        elif target > row[-1]:\n",
    "            continue\n",
    "    return False    "
   ]
  },
  {
   "cell_type": "code",
   "execution_count": 256,
   "metadata": {},
   "outputs": [
    {
     "data": {
      "text/plain": [
       "True"
      ]
     },
     "execution_count": 256,
     "metadata": {},
     "output_type": "execute_result"
    }
   ],
   "source": [
    "searchMatrix([\n",
    "  [1,   4,  7, 11, 15],\n",
    "  [2,   5,  8, 12, 19],\n",
    "  [3,   6,  9, 16, 22],\n",
    "  [10, 13, 14, 17, 24],\n",
    "  [18, 21, 23, 26, 30]\n",
    "], 12)"
   ]
  },
  {
   "cell_type": "code",
   "execution_count": null,
   "metadata": {},
   "outputs": [],
   "source": []
  }
 ],
 "metadata": {
  "kernelspec": {
   "display_name": "Python 3",
   "language": "python",
   "name": "python3"
  },
  "language_info": {
   "codemirror_mode": {
    "name": "ipython",
    "version": 3
   },
   "file_extension": ".py",
   "mimetype": "text/x-python",
   "name": "python",
   "nbconvert_exporter": "python",
   "pygments_lexer": "ipython3",
   "version": "3.7.2"
  }
 },
 "nbformat": 4,
 "nbformat_minor": 2
}
