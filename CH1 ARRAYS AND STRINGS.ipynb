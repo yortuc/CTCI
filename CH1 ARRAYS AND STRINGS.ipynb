{
 "cells": [
  {
   "cell_type": "markdown",
   "metadata": {},
   "source": [
    "# CH1: ARRAYS AND STRINGS"
   ]
  },
  {
   "cell_type": "markdown",
   "metadata": {},
   "source": [
    "\n",
    "Using a BBST instead of LL for hashtable implementation\n",
    "https://softwareengineering.stackexchange.com/questions/280762/is-it-possible-to-speed-up-a-hash-table-by-using-binary-search-trees-for-separat\n"
   ]
  },
  {
   "cell_type": "code",
   "execution_count": 5,
   "metadata": {},
   "outputs": [],
   "source": [
    "family = {\n",
    "    'evren': 34,\n",
    "    'ezgi': 28,\n",
    "    'uzay': 1.7\n",
    "}"
   ]
  },
  {
   "cell_type": "code",
   "execution_count": 8,
   "metadata": {},
   "outputs": [],
   "source": [
    "family['nevzat'] = 67"
   ]
  },
  {
   "cell_type": "code",
   "execution_count": 12,
   "metadata": {},
   "outputs": [
    {
     "data": {
      "text/plain": [
       "['evren', 'ezgi', 'uzay', 'nevzat']"
      ]
     },
     "execution_count": 12,
     "metadata": {},
     "output_type": "execute_result"
    }
   ],
   "source": [
    "list(family.keys())"
   ]
  },
  {
   "cell_type": "markdown",
   "metadata": {},
   "source": [
    "## Hashtable Implementation"
   ]
  },
  {
   "cell_type": "code",
   "execution_count": 68,
   "metadata": {},
   "outputs": [],
   "source": [
    "class HashTable():\n",
    "    def __init__(self, size):\n",
    "        self.size = size\n",
    "        self.arr = [None] * self.size\n",
    "    \n",
    "    def __hash_function(self, key):\n",
    "        return key % self.size\n",
    "    \n",
    "    def set(self, key, value):\n",
    "        hash_value = self.__hash_function(key)\n",
    "        if self.arr[hash_value] is not None:\n",
    "            self.arr[hash_value].append({ 'key': key, 'value': value })\n",
    "        else:\n",
    "            self.arr[hash_value] = [{ 'key':key, 'value': value}]\n",
    "            \n",
    "    def get(self, key):\n",
    "        hash_value = self.__hash_function(key)\n",
    "        find_key = [x for x in self.arr[hash_value] if x['key'] == key]\n",
    "        return find_key[0]['value'] if len(find_key) == 1 else None\n",
    "        \n",
    "    def print(self):\n",
    "        for item in self.arr:\n",
    "            print(item)\n"
   ]
  },
  {
   "cell_type": "code",
   "execution_count": 69,
   "metadata": {},
   "outputs": [],
   "source": [
    "ht = HashTable(10)"
   ]
  },
  {
   "cell_type": "code",
   "execution_count": 70,
   "metadata": {},
   "outputs": [],
   "source": [
    "ht.set(34, 'evren')\n",
    "ht.set(28, 'ezgi')\n",
    "ht.set(2, 'uzay')\n",
    "ht.set(66, 'muazzez')\n",
    "ht.set(4, 'leblebi') # collision"
   ]
  },
  {
   "cell_type": "code",
   "execution_count": 71,
   "metadata": {},
   "outputs": [
    {
     "name": "stdout",
     "output_type": "stream",
     "text": [
      "None\n",
      "None\n",
      "[{'key': 2, 'value': 'uzay'}]\n",
      "None\n",
      "[{'key': 34, 'value': 'evren'}, {'key': 4, 'value': 'leblebi'}]\n",
      "None\n",
      "[{'key': 66, 'value': 'muazzez'}]\n",
      "None\n",
      "[{'key': 28, 'value': 'ezgi'}]\n",
      "None\n"
     ]
    }
   ],
   "source": [
    "ht.print()"
   ]
  },
  {
   "cell_type": "code",
   "execution_count": 72,
   "metadata": {},
   "outputs": [
    {
     "data": {
      "text/plain": [
       "'evren'"
      ]
     },
     "execution_count": 72,
     "metadata": {},
     "output_type": "execute_result"
    }
   ],
   "source": [
    "ht.get(34)"
   ]
  },
  {
   "cell_type": "markdown",
   "metadata": {},
   "source": [
    "## ArrayList Implementation"
   ]
  },
  {
   "cell_type": "code",
   "execution_count": 83,
   "metadata": {},
   "outputs": [],
   "source": [
    "class ArrayList():\n",
    "    def __init__(self):\n",
    "        self.size = 3\n",
    "        self.arr = [None] * self.size\n",
    "        self.current_position = 0\n",
    "    \n",
    "    def add(self, item):\n",
    "        self.arr[self.current_position] = item\n",
    "        self.current_position = self.current_position + 1\n",
    "        \n",
    "        if self.current_position == self.size:\n",
    "            self.arr = self.arr[:] + [None] * self.size\n",
    "            self.size = self.size * 2\n",
    "    \n",
    "    def print(self):\n",
    "        print('arr: {} \\nsize: {} \\ncur pos: {}'.format(self.arr, self.size, self.current_position))"
   ]
  },
  {
   "cell_type": "code",
   "execution_count": 84,
   "metadata": {},
   "outputs": [
    {
     "name": "stdout",
     "output_type": "stream",
     "text": [
      "arr: ['evren', 'ezgi', None] \n",
      "size: 3 \n",
      "cur pos: 2\n"
     ]
    }
   ],
   "source": [
    "al = ArrayList()\n",
    "al.add('evren')\n",
    "al.add('ezgi')\n",
    "al.print()"
   ]
  },
  {
   "cell_type": "code",
   "execution_count": 85,
   "metadata": {},
   "outputs": [
    {
     "name": "stdout",
     "output_type": "stream",
     "text": [
      "arr: ['evren', 'ezgi', 'uzay', None, None, None] \n",
      "size: 6 \n",
      "cur pos: 3\n"
     ]
    }
   ],
   "source": [
    "# double the size O(N)\n",
    "al.add('uzay')\n",
    "al.print()"
   ]
  },
  {
   "cell_type": "markdown",
   "metadata": {},
   "source": [
    "## StringBuilder Implementation"
   ]
  },
  {
   "cell_type": "code",
   "execution_count": 90,
   "metadata": {},
   "outputs": [],
   "source": [
    "# TODO"
   ]
  },
  {
   "cell_type": "markdown",
   "metadata": {},
   "source": [
    "## Questions"
   ]
  },
  {
   "cell_type": "markdown",
   "metadata": {},
   "source": [
    "#### 1. Is Unique: Implement an algorithm to determine if a string has all unique characters. \n",
    "What if you cannot use additional data structures?    "
   ]
  },
  {
   "cell_type": "code",
   "execution_count": 94,
   "metadata": {},
   "outputs": [],
   "source": [
    "# first idea: hashtable can be used O(N)\n",
    "\n",
    "def has_unique_chars(word):\n",
    "    ht = {}\n",
    "    for c in word:\n",
    "        if c in ht:\n",
    "            return False\n",
    "        else:\n",
    "            ht[c] = True\n",
    "    return True"
   ]
  },
  {
   "cell_type": "code",
   "execution_count": 97,
   "metadata": {},
   "outputs": [
    {
     "data": {
      "text/plain": [
       "(False, False, True)"
      ]
     },
     "execution_count": 97,
     "metadata": {},
     "output_type": "execute_result"
    }
   ],
   "source": [
    "has_unique_chars('44'), has_unique_chars('117'), has_unique_chars('132') "
   ]
  },
  {
   "cell_type": "code",
   "execution_count": 100,
   "metadata": {},
   "outputs": [],
   "source": [
    "# what if we can't use additional data structures (like hash table)?\n",
    "# using replace? \n",
    "#    if we replace any character with two characters, \n",
    "#    total word length should not increase more than 1 if all chars are unique\n",
    "\n",
    "def has_unique_chars(word):\n",
    "    for c in word:\n",
    "        if len(word.replace(c, 'XX')) > len(word)+1:\n",
    "            return False\n",
    "    return True"
   ]
  },
  {
   "cell_type": "code",
   "execution_count": null,
   "metadata": {},
   "outputs": [],
   "source": [
    "# sort the string and check linearly O(nlogn)"
   ]
  },
  {
   "cell_type": "code",
   "execution_count": 101,
   "metadata": {},
   "outputs": [
    {
     "data": {
      "text/plain": [
       "(False, False, True)"
      ]
     },
     "execution_count": 101,
     "metadata": {},
     "output_type": "execute_result"
    }
   ],
   "source": [
    "has_unique_chars('44'), has_unique_chars('117'), has_unique_chars('132') "
   ]
  },
  {
   "cell_type": "markdown",
   "metadata": {},
   "source": [
    "#### 2. Check Permutation: Given two strings,write a method to decide if one is a permutation of the other."
   ]
  },
  {
   "cell_type": "code",
   "execution_count": 129,
   "metadata": {},
   "outputs": [],
   "source": [
    "# we can create arrays with characters of string, sort them, compare them\n",
    "# there is sort, O(nlogn) overall complexity for is_perm\n",
    "\n",
    "def is_perm(str1, str2):\n",
    "    arr1 = list(str1)\n",
    "    arr2 = list(str2)\n",
    "    \n",
    "    arr1.sort()\n",
    "    arr2.sort()\n",
    "    \n",
    "    if arr1 == arr2:\n",
    "        return True\n",
    "    else:\n",
    "        return False"
   ]
  },
  {
   "cell_type": "code",
   "execution_count": 130,
   "metadata": {},
   "outputs": [
    {
     "data": {
      "text/plain": [
       "(False, True)"
      ]
     },
     "execution_count": 130,
     "metadata": {},
     "output_type": "execute_result"
    }
   ],
   "source": [
    "is_perm('123', '423'), is_perm('123', '312'), "
   ]
  },
  {
   "cell_type": "markdown",
   "metadata": {},
   "source": [
    "#### 3. URLify: Write a method to replace all spaces in a string with '%20'. \n",
    "You may assume that the string has sufficient space at the end to hold the additional characters,\n",
    "and that you are given the \"true\" length of the string. \n",
    "\n",
    "(Note: If implementing in Java,please use a character array so that you can perform this operation in place.)\n",
    "\n",
    "EXAMPLE\n",
    "Input: \"Mr John Smith \", 13 \n",
    "Output: \"Mr%20John%20Smith\" "
   ]
  },
  {
   "cell_type": "code",
   "execution_count": 164,
   "metadata": {},
   "outputs": [],
   "source": [
    "def urlify(string, length):\n",
    "    arr = list(string)\n",
    "    \n",
    "    for i in range(length):\n",
    "        if arr[i] == ' ':\n",
    "            # shift rest to right\n",
    "            arr = arr[0:i] + list('%20') + arr[i:length-3]\n",
    "    \n",
    "    return ''.join(arr)"
   ]
  },
  {
   "cell_type": "code",
   "execution_count": 165,
   "metadata": {},
   "outputs": [
    {
     "data": {
      "text/plain": [
       "'Mr%20%20%20%20'"
      ]
     },
     "execution_count": 165,
     "metadata": {},
     "output_type": "execute_result"
    }
   ],
   "source": [
    "urlify('Mr John Smith       ', 13)"
   ]
  },
  {
   "cell_type": "code",
   "execution_count": null,
   "metadata": {},
   "outputs": [],
   "source": []
  }
 ],
 "metadata": {
  "kernelspec": {
   "display_name": "Python 3",
   "language": "python",
   "name": "python3"
  },
  "language_info": {
   "codemirror_mode": {
    "name": "ipython",
    "version": 3
   },
   "file_extension": ".py",
   "mimetype": "text/x-python",
   "name": "python",
   "nbconvert_exporter": "python",
   "pygments_lexer": "ipython3",
   "version": "3.7.2"
  }
 },
 "nbformat": 4,
 "nbformat_minor": 2
}
