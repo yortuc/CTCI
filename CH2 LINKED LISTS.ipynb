{
 "cells": [
  {
   "cell_type": "markdown",
   "metadata": {},
   "source": [
    "1. Remove Dups! Write code to remove duplicates from an unsorted linked list.\n",
    "\n",
    "FOLLOW UP\n",
    "    How would you solve this problem if a temporary buffer is not allowed? Hints: #9, #40"
   ]
  },
  {
   "cell_type": "code",
   "execution_count": 13,
   "metadata": {},
   "outputs": [],
   "source": [
    "class Node:\n",
    "    def __init__(self, val, next=None):\n",
    "        self.val = val\n",
    "        self.next = next\n",
    "        \n",
    "    def to_arr(self):\n",
    "        arr = []\n",
    "        curr = self\n",
    "        while curr != None:\n",
    "            arr.append(curr.val)\n",
    "            curr = curr.next\n",
    "        return arr"
   ]
  },
  {
   "cell_type": "code",
   "execution_count": 14,
   "metadata": {},
   "outputs": [
    {
     "data": {
      "text/plain": [
       "[1, 2, 3]"
      ]
     },
     "execution_count": 14,
     "metadata": {},
     "output_type": "execute_result"
    }
   ],
   "source": [
    "Node(1, Node(2, Node(3))).to_arr()\n"
   ]
  },
  {
   "cell_type": "code",
   "execution_count": 19,
   "metadata": {},
   "outputs": [],
   "source": [
    "# first implementation is using a hashset O(N)\n",
    "\n",
    "def remove_dups(ll):\n",
    "    curr = ll\n",
    "    prev = None\n",
    "    d = {}\n",
    "    \n",
    "    while(curr != None):\n",
    "        if curr.val in d:\n",
    "            prev.next = curr.next\n",
    "        \n",
    "        d[curr.val] = True\n",
    "        prev = curr\n",
    "        curr = curr.next\n",
    "    \n",
    "    return ll"
   ]
  },
  {
   "cell_type": "code",
   "execution_count": 20,
   "metadata": {},
   "outputs": [
    {
     "data": {
      "text/plain": [
       "[1, 2]"
      ]
     },
     "execution_count": 20,
     "metadata": {},
     "output_type": "execute_result"
    }
   ],
   "source": [
    "remove_dups(Node(1, Node(2, Node(2)))).to_arr()"
   ]
  },
  {
   "cell_type": "code",
   "execution_count": 21,
   "metadata": {},
   "outputs": [
    {
     "data": {
      "text/plain": [
       "[1, 2, 3]"
      ]
     },
     "execution_count": 21,
     "metadata": {},
     "output_type": "execute_result"
    }
   ],
   "source": [
    "remove_dups(Node(1, Node(2, Node(2, Node(3, Node(2)))))).to_arr()"
   ]
  },
  {
   "cell_type": "code",
   "execution_count": 22,
   "metadata": {},
   "outputs": [],
   "source": [
    "# if temporary buffer is not available, we need to iterate twice O(N2)\n",
    "\n",
    "def remove_dups2(ll):\n",
    "    curr = ll\n",
    "    \n",
    "    while curr != None:        \n",
    "        curr2 = curr.next\n",
    "        prev = curr\n",
    "        \n",
    "        while curr2 != None:\n",
    "            if curr2.val == curr.val:\n",
    "                prev.next = curr2.next\n",
    "                \n",
    "            curr2 = curr2.next\n",
    "            prev = curr2\n",
    "        \n",
    "        curr = curr.next\n",
    "    \n",
    "    return ll"
   ]
  },
  {
   "cell_type": "code",
   "execution_count": 23,
   "metadata": {},
   "outputs": [
    {
     "data": {
      "text/plain": [
       "[1, 2]"
      ]
     },
     "execution_count": 23,
     "metadata": {},
     "output_type": "execute_result"
    }
   ],
   "source": [
    "remove_dups(Node(1, Node(2, Node(2)))).to_arr()"
   ]
  },
  {
   "cell_type": "code",
   "execution_count": 24,
   "metadata": {},
   "outputs": [
    {
     "data": {
      "text/plain": [
       "[1, 2, 3]"
      ]
     },
     "execution_count": 24,
     "metadata": {},
     "output_type": "execute_result"
    }
   ],
   "source": [
    "remove_dups(Node(1, Node(2, Node(2, Node(3, Node(2)))))).to_arr()"
   ]
  },
  {
   "cell_type": "markdown",
   "metadata": {},
   "source": [
    "2. Return Kth to Last: Implement an algorithm to find the kth to last element of a singly linked list."
   ]
  },
  {
   "cell_type": "code",
   "execution_count": 37,
   "metadata": {},
   "outputs": [],
   "source": [
    "# find the last element index O(N)\n",
    "# traverse the linked list from start to last_index-k times\n",
    "# overall compl O(N)\n",
    "\n",
    "def kth_last_element(ll, k):\n",
    "    # find the last element O(N)\n",
    "    last_elem_index = 0\n",
    "    curr = ll\n",
    "    while curr != None:\n",
    "        last_elem_index = last_elem_index + 1\n",
    "        curr = curr.next\n",
    "    \n",
    "    # traverse the linked list (last_elem_index - k) times\n",
    "    curr = ll\n",
    "    for i in range(last_elem_index - k):\n",
    "        curr = curr.next\n",
    "    \n",
    "    return curr"
   ]
  },
  {
   "cell_type": "code",
   "execution_count": 39,
   "metadata": {},
   "outputs": [
    {
     "data": {
      "text/plain": [
       "'uzay'"
      ]
     },
     "execution_count": 39,
     "metadata": {},
     "output_type": "execute_result"
    }
   ],
   "source": [
    "kth_last_element(Node('evren', Node('ezgi', Node('uzay', Node('deniz', Node('muazzez', Node('Nevzat')))))), 4).val"
   ]
  },
  {
   "cell_type": "code",
   "execution_count": 43,
   "metadata": {},
   "outputs": [
    {
     "data": {
      "text/plain": [
       "'deniz'"
      ]
     },
     "execution_count": 43,
     "metadata": {},
     "output_type": "execute_result"
    }
   ],
   "source": [
    "kth_last_element(Node('evren', Node('ezgi', Node('uzay', Node('deniz', Node('muazzez', Node('Nevzat')))))), 3).val"
   ]
  },
  {
   "cell_type": "markdown",
   "metadata": {},
   "source": [
    "3. Delete Middle Node: Implement an algorithm to delete a node in the middle \n",
    "(i.e., any node but the first and last node, not necessarily the exact middle) \n",
    "of a singly linked list, given only access to that node.\n",
    "\n",
    "#### EXAMPLE\n",
    "##### input:\n",
    "the node c from the linked list a->b->c->d->e->f\n",
    "##### Result:\n",
    "nothing is returned, but the new linked list looks like a->b->d->e- >f"
   ]
  },
  {
   "cell_type": "code",
   "execution_count": 44,
   "metadata": {},
   "outputs": [],
   "source": [
    "def delete_node(node):\n",
    "#     1 -> 9 -> 12 -> 13        1 -> 12 -> 13\n",
    "    node.val = node.next.val\n",
    "    node.next = node.next.next\n",
    "    "
   ]
  },
  {
   "cell_type": "code",
   "execution_count": 49,
   "metadata": {},
   "outputs": [
    {
     "name": "stdout",
     "output_type": "stream",
     "text": [
      "before delete: [1, 2, 3]\n",
      "after delete: [1, 3]\n"
     ]
    }
   ],
   "source": [
    "first = Node(3)\n",
    "second = Node(2, first)\n",
    "root = Node(1, second)\n",
    "print('before delete:', root.to_arr())\n",
    "delete_node(second)\n",
    "print('after delete:', root.to_arr())"
   ]
  },
  {
   "cell_type": "markdown",
   "metadata": {},
   "source": [
    "4. Partition: Write code to partition a linked list around a value x, \n",
    "such that all nodes less than x come before all nodes greater than or equal to x. \n",
    "If x is contained within the list, the values of x only need to be after the elements \n",
    "less than x (see below). The partition element x can appear anywhere in the \"right partition\";\n",
    "it does not need to appear between the left and right partitions.\n",
    "\n",
    "###### EXAMPLE\n",
    "*Input:* 3 -> 5 -> 8 -> 5 -> 10 -> 2 -> 1 [partition=5] \n",
    "\n",
    "*Output:* 3 -> 1 -> 2 -> 10 -> 5 -> 5 -> 8"
   ]
  },
  {
   "cell_type": "code",
   "execution_count": 51,
   "metadata": {},
   "outputs": [],
   "source": [
    "# traverse the ll, if the val is less than k, put it left  ?\n",
    "\n",
    "def partition(ll, k):\n",
    "    pass"
   ]
  },
  {
   "cell_type": "markdown",
   "metadata": {},
   "source": [
    "5. Sum Lists: You have two numbers represented by a linked list, where each node contains a single digit.\n",
    "The digits are stored in reverse order, such that the 1's digit is at the head of the list. Write a function that adds the two numbers and returns the sum as a linked list.\n",
    "\n",
    "EXAMPLE\n",
    "\n",
    "Input:(7-> 1 -> 6) + (5 -> 9 -> 2).Thatis,617 + 295. Output:2 -> 1 -> 9.Thatis,912.\n",
    "\n",
    "\n",
    "FOLLOW UP\n",
    "\n",
    "Suppose the digits are stored in forward order. Repeat the above problem. EXAMPLE\n",
    "lnput:(6 -> 1 -> 7) + (2 -> 9 -> 5).That is,617 + 295. Output:9 -> 1 -> 2.Thatis,912."
   ]
  },
  {
   "cell_type": "code",
   "execution_count": 171,
   "metadata": {},
   "outputs": [],
   "source": [
    "# first idea: convert linked list to number, add numbers, convert back to linked list O(N)\n",
    "# second idea: start adding items from both linked lists, if greater than 10, add one to the next one O(N)\n",
    "\n",
    "def sum_lists(ll1, ll2):\n",
    "    c1 = ll1\n",
    "    c2 = ll2\n",
    "    ret = []\n",
    "    res = 0\n",
    "    \n",
    "    while c1 != None and c2 != None:\n",
    "        ss = c1.val + c2.val\n",
    "        ss = ss + res\n",
    "        if ss >= 10:\n",
    "            res = 1\n",
    "            ss = ss - 10\n",
    "        else:\n",
    "            res = 0\n",
    "    \n",
    "        ret.append(ss)\n",
    "        \n",
    "        c1 = c1.next\n",
    "        c2 = c2.next\n",
    "        \n",
    "    \n",
    "    print(res, ret)\n",
    "    \n",
    "    if res > 0: \n",
    "        if ret[-1] + 1 > 10:\n",
    "            ret[-1] = (ret[-1] + 1) - 10\n",
    "            ret.append(1)\n",
    "        else:\n",
    "            ret[-1] = ret[-1] + 1\n",
    "            \n",
    "    ret_node = None    \n",
    "    cur = None\n",
    "    \n",
    "    for k in ret:\n",
    "        if cur == None:\n",
    "            cur = Node(k)\n",
    "            ret_node = cur\n",
    "        else:\n",
    "            cur.next = Node(k)\n",
    "            cur = cur.next\n",
    "        \n",
    "    return ret_node"
   ]
  },
  {
   "cell_type": "code",
   "execution_count": 172,
   "metadata": {},
   "outputs": [
    {
     "name": "stdout",
     "output_type": "stream",
     "text": [
      "0 [2, 3]\n"
     ]
    },
    {
     "data": {
      "text/plain": [
       "[2, 3]"
      ]
     },
     "execution_count": 172,
     "metadata": {},
     "output_type": "execute_result"
    }
   ],
   "source": [
    "sum_lists(Node(1, Node(2)), Node(1, Node(1))).to_arr()"
   ]
  },
  {
   "cell_type": "code",
   "execution_count": 173,
   "metadata": {},
   "outputs": [
    {
     "name": "stdout",
     "output_type": "stream",
     "text": [
      "0 [2, 1, 9]\n"
     ]
    },
    {
     "data": {
      "text/plain": [
       "[2, 1, 9]"
      ]
     },
     "execution_count": 173,
     "metadata": {},
     "output_type": "execute_result"
    }
   ],
   "source": [
    "sum_lists(Node(7, Node(1, Node(6))), Node(5, Node(9, Node(2)))).to_arr()"
   ]
  },
  {
   "cell_type": "code",
   "execution_count": 174,
   "metadata": {},
   "outputs": [
    {
     "name": "stdout",
     "output_type": "stream",
     "text": [
      "1 [2, 1, 0]\n"
     ]
    },
    {
     "data": {
      "text/plain": [
       "[2, 1, 1]"
      ]
     },
     "execution_count": 174,
     "metadata": {},
     "output_type": "execute_result"
    }
   ],
   "source": [
    "sum_lists(Node(7, Node(1, Node(6))), Node(5, Node(9, Node(3)))).to_arr()"
   ]
  },
  {
   "cell_type": "markdown",
   "metadata": {},
   "source": [
    "Loop Detection: Given a circular linked list, implement an algorithm that returns the node at the\n",
    "beginning of the loop.\n",
    "DEFINITION\n",
    "Circular linked list: A (corrupt) linked list in which a \n",
    "node's next pointer points to an earlier node, so as to make a loop in the linked list.\n",
    "\n",
    "EXAMPLE\n",
    "\n",
    "Input: A -> B -> C -> D -> E -> C[thesameCasearlier]\n",
    "Output: C"
   ]
  },
  {
   "cell_type": "code",
   "execution_count": 176,
   "metadata": {},
   "outputs": [],
   "source": [
    "def has_loop(ll):\n",
    "    cur = ll\n",
    "    d = {}\n",
    "    while cur != None:\n",
    "        if cur in d:\n",
    "            return cur\n",
    "        else:\n",
    "            d[cur] = True\n",
    "            cur = cur.next\n",
    "    \n",
    "    return False"
   ]
  },
  {
   "cell_type": "code",
   "execution_count": 177,
   "metadata": {},
   "outputs": [],
   "source": [
    "node_a = Node('A')\n",
    "node_b = Node('B')\n",
    "node_c = Node('C')\n",
    "node_d = Node('D')\n",
    "node_e = Node('E')\n",
    "\n",
    "node_a.next = node_b\n",
    "node_b.next = node_c\n",
    "node_c.next = node_d\n",
    "node_d.next = node_e\n",
    "node_e.next = node_c"
   ]
  },
  {
   "cell_type": "code",
   "execution_count": 180,
   "metadata": {},
   "outputs": [
    {
     "data": {
      "text/plain": [
       "'C'"
      ]
     },
     "execution_count": 180,
     "metadata": {},
     "output_type": "execute_result"
    }
   ],
   "source": [
    "has_loop(node_a).val"
   ]
  },
  {
   "cell_type": "code",
   "execution_count": null,
   "metadata": {},
   "outputs": [],
   "source": []
  }
 ],
 "metadata": {
  "kernelspec": {
   "display_name": "Python 3",
   "language": "python",
   "name": "python3"
  },
  "language_info": {
   "codemirror_mode": {
    "name": "ipython",
    "version": 3
   },
   "file_extension": ".py",
   "mimetype": "text/x-python",
   "name": "python",
   "nbconvert_exporter": "python",
   "pygments_lexer": "ipython3",
   "version": "3.7.2"
  }
 },
 "nbformat": 4,
 "nbformat_minor": 2
}
