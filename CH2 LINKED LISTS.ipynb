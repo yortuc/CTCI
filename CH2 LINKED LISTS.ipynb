{
 "cells": [
  {
   "cell_type": "markdown",
   "metadata": {},
   "source": [
    "1. Remove Dups! Write code to remove duplicates from an unsorted linked list.\n",
    "\n",
    "FOLLOW UP\n",
    "    How would you solve this problem if a temporary buffer is not allowed? Hints: #9, #40"
   ]
  },
  {
   "cell_type": "code",
   "execution_count": 13,
   "metadata": {},
   "outputs": [],
   "source": [
    "class Node:\n",
    "    def __init__(self, val, next=None):\n",
    "        self.val = val\n",
    "        self.next = next\n",
    "        \n",
    "    def to_arr(self):\n",
    "        arr = []\n",
    "        curr = self\n",
    "        while curr != None:\n",
    "            arr.append(curr.val)\n",
    "            curr = curr.next\n",
    "        return arr"
   ]
  },
  {
   "cell_type": "code",
   "execution_count": 14,
   "metadata": {},
   "outputs": [
    {
     "data": {
      "text/plain": [
       "[1, 2, 3]"
      ]
     },
     "execution_count": 14,
     "metadata": {},
     "output_type": "execute_result"
    }
   ],
   "source": [
    "Node(1, Node(2, Node(3))).to_arr()\n"
   ]
  },
  {
   "cell_type": "code",
   "execution_count": 19,
   "metadata": {},
   "outputs": [],
   "source": [
    "# first implementation is using a hashset O(N)\n",
    "\n",
    "def remove_dups(ll):\n",
    "    curr = ll\n",
    "    prev = None\n",
    "    d = {}\n",
    "    \n",
    "    while(curr != None):\n",
    "        if curr.val in d:\n",
    "            prev.next = curr.next\n",
    "        \n",
    "        d[curr.val] = True\n",
    "        prev = curr\n",
    "        curr = curr.next\n",
    "    \n",
    "    return ll"
   ]
  },
  {
   "cell_type": "code",
   "execution_count": 20,
   "metadata": {},
   "outputs": [
    {
     "data": {
      "text/plain": [
       "[1, 2]"
      ]
     },
     "execution_count": 20,
     "metadata": {},
     "output_type": "execute_result"
    }
   ],
   "source": [
    "remove_dups(Node(1, Node(2, Node(2)))).to_arr()"
   ]
  },
  {
   "cell_type": "code",
   "execution_count": 21,
   "metadata": {},
   "outputs": [
    {
     "data": {
      "text/plain": [
       "[1, 2, 3]"
      ]
     },
     "execution_count": 21,
     "metadata": {},
     "output_type": "execute_result"
    }
   ],
   "source": [
    "remove_dups(Node(1, Node(2, Node(2, Node(3, Node(2)))))).to_arr()"
   ]
  },
  {
   "cell_type": "code",
   "execution_count": 22,
   "metadata": {},
   "outputs": [],
   "source": [
    "# if temporary buffer is not available, we need to iterate twice O(N2)\n",
    "\n",
    "def remove_dups2(ll):\n",
    "    curr = ll\n",
    "    \n",
    "    while curr != None:        \n",
    "        curr2 = curr.next\n",
    "        prev = curr\n",
    "        \n",
    "        while curr2 != None:\n",
    "            if curr2.val == curr.val:\n",
    "                prev.next = curr2.next\n",
    "                \n",
    "            curr2 = curr2.next\n",
    "            prev = curr2\n",
    "        \n",
    "        curr = curr.next\n",
    "    \n",
    "    return ll"
   ]
  },
  {
   "cell_type": "code",
   "execution_count": 23,
   "metadata": {},
   "outputs": [
    {
     "data": {
      "text/plain": [
       "[1, 2]"
      ]
     },
     "execution_count": 23,
     "metadata": {},
     "output_type": "execute_result"
    }
   ],
   "source": [
    "remove_dups(Node(1, Node(2, Node(2)))).to_arr()"
   ]
  },
  {
   "cell_type": "code",
   "execution_count": 24,
   "metadata": {},
   "outputs": [
    {
     "data": {
      "text/plain": [
       "[1, 2, 3]"
      ]
     },
     "execution_count": 24,
     "metadata": {},
     "output_type": "execute_result"
    }
   ],
   "source": [
    "remove_dups(Node(1, Node(2, Node(2, Node(3, Node(2)))))).to_arr()"
   ]
  },
  {
   "cell_type": "code",
   "execution_count": null,
   "metadata": {},
   "outputs": [],
   "source": []
  }
 ],
 "metadata": {
  "kernelspec": {
   "display_name": "Python 3",
   "language": "python",
   "name": "python3"
  },
  "language_info": {
   "codemirror_mode": {
    "name": "ipython",
    "version": 3
   },
   "file_extension": ".py",
   "mimetype": "text/x-python",
   "name": "python",
   "nbconvert_exporter": "python",
   "pygments_lexer": "ipython3",
   "version": "3.7.2"
  }
 },
 "nbformat": 4,
 "nbformat_minor": 2
}
