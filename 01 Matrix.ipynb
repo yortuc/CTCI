{
 "cells": [
  {
   "cell_type": "markdown",
   "metadata": {},
   "source": [
    "Given a matrix consists of 0 and 1, find the distance of the nearest 0 for each cell.\n",
    "The distance between two adjacent cells is 1.\n",
    "\n",
    "\n",
    "**Example**\n",
    "\n",
    "```\n",
    "Input:\n",
    "[[0,0,0],\n",
    " [0,1,0],\n",
    " [1,1,1]]\n",
    "\n",
    "Output:\n",
    "[[0,0,0],\n",
    " [0,1,0],\n",
    " [1,2,1]]\n",
    "```"
   ]
  },
  {
   "cell_type": "code",
   "execution_count": 32,
   "metadata": {},
   "outputs": [],
   "source": [
    "from collections import deque\n",
    "\n",
    "def min_dist_to_zero(arr, j, i, steps, hist):\n",
    "    stack = deque([(j, i)])\n",
    "    \n",
    "    while stack:\n",
    "        lenq = len(stack)\n",
    "        for _ in range(lenq):\n",
    "            j,i = stack.popleft()\n",
    "            if arr[j][i] == 0:\n",
    "                return steps\n",
    "            \n",
    "            # get neighbors\n",
    "            if i > 0 and (j, i-1) not in hist:\n",
    "                stack.append((j, i-1))\n",
    "                hist.add((j, i-1))\n",
    "            if i < len(arr[0])-1 and (j, i+1) not in hist:\n",
    "                stack.append((j, i+1))\n",
    "                hist.add((j, i+1))\n",
    "            if j > 0 and (j-1, i) not in hist:\n",
    "                stack.append((j-1, i))\n",
    "                hist.add((j-1, i))\n",
    "            if j < len(arr)-1 and (j+1, i) not in hist:\n",
    "                stack.append((j+1, i))\n",
    "                hist.add((j+1,i))\n",
    "        steps = steps + 1\n",
    "\n",
    "    return -1"
   ]
  },
  {
   "cell_type": "code",
   "execution_count": 34,
   "metadata": {},
   "outputs": [],
   "source": [
    "def mat01(arr):\n",
    "    for j in range(len(arr)):\n",
    "        for i in range(len(arr[0])):\n",
    "            if arr[j][i] > 0:\n",
    "                arr[j][i] = min_dist_to_zero(arr, j, i, 0, set())\n",
    "    return arr"
   ]
  },
  {
   "cell_type": "code",
   "execution_count": 37,
   "metadata": {},
   "outputs": [
    {
     "name": "stdout",
     "output_type": "stream",
     "text": [
      "[1, 0, 0]\n",
      "[2, 1, 0]\n",
      "[3, 2, 1]\n"
     ]
    }
   ],
   "source": [
    "arr = [[1,0,0],\n",
    "       [1,1,0],\n",
    "       [1,1,1]]\n",
    "\n",
    "ret = mat01(arr)\n",
    "\n",
    "print(ret[0])\n",
    "print(ret[1])\n",
    "print(ret[2])"
   ]
  },
  {
   "cell_type": "code",
   "execution_count": null,
   "metadata": {},
   "outputs": [],
   "source": []
  }
 ],
 "metadata": {
  "kernelspec": {
   "display_name": "Python 3",
   "language": "python",
   "name": "python3"
  },
  "language_info": {
   "codemirror_mode": {
    "name": "ipython",
    "version": 3
   },
   "file_extension": ".py",
   "mimetype": "text/x-python",
   "name": "python",
   "nbconvert_exporter": "python",
   "pygments_lexer": "ipython3",
   "version": "3.7.2"
  }
 },
 "nbformat": 4,
 "nbformat_minor": 2
}
