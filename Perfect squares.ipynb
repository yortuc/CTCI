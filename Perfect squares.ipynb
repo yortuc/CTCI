{
 "cells": [
  {
   "cell_type": "markdown",
   "metadata": {},
   "source": [
    "# Perfect squares"
   ]
  },
  {
   "cell_type": "markdown",
   "metadata": {},
   "source": [
    "Given a positive integer n, find the least number of perfect square numbers (`for example, 1, 4, 9, 16, ...`) which sum to n."
   ]
  },
  {
   "cell_type": "markdown",
   "metadata": {},
   "source": [
    "**Example 1:**\n",
    "\n",
    "Input: n = 12\n",
    "Output: 3 \n",
    "Explanation: 12 = 4 + 4 + 4.\n",
    "\n",
    "\n",
    "**Example 2:**\n",
    "\n",
    "Input: n = 13\n",
    "Output: 2\n",
    "Explanation: 13 = 4 + 9."
   ]
  },
  {
   "cell_type": "code",
   "execution_count": 1,
   "metadata": {},
   "outputs": [],
   "source": [
    "# start with 1, add to queue, continue with target-1\n",
    "# each step, take square of step \n",
    "# check if target - step_squared == 0\n",
    "# continue with target - step_square\n",
    "# if target < 0 return -1\n",
    "from collections import deque"
   ]
  },
  {
   "cell_type": "code",
   "execution_count": null,
   "metadata": {},
   "outputs": [],
   "source": [
    "def step(target, q, steps, h):\n",
    "    while len(q)>0:\n",
    "        lenq = len(q)\n",
    "        for _ in range(lenq):\n",
    "            itm = q.popleft()\n",
    "            if itm == 0:\n",
    "                return steps\n",
    "                        \n",
    "            # process neighbors\n",
    "            if itm in h:\n",
    "                while h[itm]:\n",
    "                    q.append(h[itm].pop())\n",
    "            else:\n",
    "                h[itm] = set()\n",
    "                r = 1 # 5\n",
    "                while r*r <= itm:\n",
    "                    pp = itm - r*r\n",
    "                    q.append(pp)\n",
    "                    h[itm].add(pp)\n",
    "                    r = r + 1\n",
    "        steps=steps+1\n",
    "    return -1"
   ]
  },
  {
   "cell_type": "code",
   "execution_count": null,
   "metadata": {},
   "outputs": [],
   "source": [
    "step(12, deque([12]), 0, {})"
   ]
  },
  {
   "cell_type": "code",
   "execution_count": null,
   "metadata": {
    "scrolled": false
   },
   "outputs": [],
   "source": [
    "step(7168, deque([7168]), 0, {})"
   ]
  },
  {
   "cell_type": "code",
   "execution_count": 2,
   "metadata": {},
   "outputs": [],
   "source": [
    "# ps(12) = 1^2 + ps(11)\n",
    "#          2^2 + ps(8)\n",
    "#          3^2 + ps(2)\n",
    "# \n",
    "# ps(n) = j^2 + ps(n - j^2) for 1<=j<=sqrt(n)\n",
    "# \n",
    "# ps(0) = 0\n",
    "# ps(1) = 1\n",
    "# ps(2) = 2\n",
    "# ps(3) = 3\n",
    "# ps(4) = 1\n",
    "# ps(5) = 2 --> ps(5) = 1^2 + ps(4)\n",
    "#                       2^2 + ps(1) \n",
    "\n",
    "def is_square(n):\n",
    "    sq = int(math.sqrt(n))\n",
    "    return sq*sq == n\n",
    "\n",
    "def step2(n):\n",
    "    if n<3:\n",
    "        return n\n",
    "    if is_square(n):\n",
    "        return 1\n",
    "    \n",
    "    dp = [500] * n\n",
    "    dp[0] = 0\n",
    "    dp[1] = 1\n",
    "    \n",
    "    for i in range(n):\n",
    "        dp[i] = "
   ]
  },
  {
   "cell_type": "code",
   "execution_count": 4,
   "metadata": {},
   "outputs": [
    {
     "data": {
      "text/plain": [
       "3"
      ]
     },
     "execution_count": 4,
     "metadata": {},
     "output_type": "execute_result"
    }
   ],
   "source": []
  },
  {
   "cell_type": "code",
   "execution_count": null,
   "metadata": {},
   "outputs": [],
   "source": []
  }
 ],
 "metadata": {
  "kernelspec": {
   "display_name": "Python 3",
   "language": "python",
   "name": "python3"
  },
  "language_info": {
   "codemirror_mode": {
    "name": "ipython",
    "version": 3
   },
   "file_extension": ".py",
   "mimetype": "text/x-python",
   "name": "python",
   "nbconvert_exporter": "python",
   "pygments_lexer": "ipython3",
   "version": "3.7.2"
  }
 },
 "nbformat": 4,
 "nbformat_minor": 2
}
